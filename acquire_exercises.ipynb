{
 "cells": [
  {
   "cell_type": "code",
   "execution_count": 1,
   "id": "575e1b5a-a5f7-4c18-830f-417d472c1f4e",
   "metadata": {},
   "outputs": [],
   "source": [
    "from requests import get\n",
    "from bs4 import BeautifulSoup\n",
    "\n",
    "import pandas as pd\n",
    "import re\n",
    "\n",
    "import os\n",
    "import json\n",
    "import env\n",
    "from sqlalchemy import text, create_engine"
   ]
  },
  {
   "cell_type": "markdown",
   "id": "d8074de9-cfd0-4025-9697-aaeb1d9015e3",
   "metadata": {},
   "source": [
    "# Exercises\n",
    "Goal: acquire.py with two functions: get_blog_articles and get_news_articles"
   ]
  },
  {
   "cell_type": "markdown",
   "id": "18f779b2-28e3-4ea6-b788-c6f6e8d41608",
   "metadata": {},
   "source": [
    "## 1. Codeup Blog Articles\n",
    "- visit Codeup's Blog and record urls for 5 distinct blog posts. For each post, scrape at least the post's title and content. get_blog_articles should return a list of dictionaires with each dict representing one article. Shape of each dict should look like this\n",
    "\n",
    "{ 'title': 'the title of the article',\n",
    "  'content': 'the full text content of the article'\n",
    "}\n",
    "\n",
    "Plus any additional properties you think might be useful\n",
    "Bonus: scrape the text of all the articles linked on Codeup's blog page"
   ]
  },
  {
   "cell_type": "markdown",
   "id": "9a53dc4d-9972-4ae4-8199-5c3b8ee09962",
   "metadata": {},
   "source": [
    "## Steps\n",
    "\n",
    "    1. Import the get() function from the requests module, BeautifulSoup from bs4, and pandas.\n",
    "    2. Assign the address of the web page to a variable named url.\n",
    "    3. Request the server the content of the web page by using get(), and store the server’s response in the variable response.\n",
    "    4. Print the response text to ensure you have an html page.\n",
    "    5. Take a look at the actual web page contents and inspect the source to understand the structure a bit.\n",
    "    6. Use BeautifulSoup to parse the HTML into a variable ('soup').\n",
    "    7. Identify the key tags you need to extract the data you are looking for.\n",
    "    8. Create a dataframe of the data desired.\n",
    "    9. Run some summary stats and inspect the data to ensure you have what you wanted.\n",
    "    10. Edit the data structure as needed, especially so that one column has all the text you want included in this analysis.\n",
    "    11. Create a corpus of the column with the text you want to analyze.\n",
    "    12. Store that corpus for use in a future notebook.\n"
   ]
  },
  {
   "cell_type": "code",
   "execution_count": 2,
   "id": "43a0a8c5-7c3f-45ba-8b8f-42980e4e3bfc",
   "metadata": {},
   "outputs": [],
   "source": [
    "# creater variables with 5 urls from codeup's blog\n",
    "url1 = 'https://codeup.com/featured/apida-heritage-month/'\n",
    "url2 = 'https://codeup.com/featured/women-in-tech-panelist-spotlight/'\n",
    "url3 = 'https://codeup.com/featured/women-in-tech-rachel-robbins-mayhill/'\n",
    "url4 = 'https://codeup.com/codeup-news/women-in-tech-panelist-spotlight-sarah-mellor/'\n",
    "url5 = 'https://codeup.com/events/women-in-tech-madeleine/'\n",
    "url_list = [url1, url2, url3, url4, url5]"
   ]
  },
  {
   "cell_type": "code",
   "execution_count": 3,
   "id": "6240245d-3680-4bb8-92e4-23bcb77b17fc",
   "metadata": {},
   "outputs": [],
   "source": [
    "# set my user-agent (this is the one from my computer/browser)\n",
    "headers = {'User-Agent': 'Mozilla/5.0 (Macintosh; Intel Mac OS X 10.15; rv:109.0) Gecko/20100101 Firefox/113.0'}"
   ]
  },
  {
   "cell_type": "code",
   "execution_count": 4,
   "id": "79861d75-5cd6-4428-825f-0aa45e5d3088",
   "metadata": {},
   "outputs": [],
   "source": [
    "# get a response\n",
    "response = get(url1, headers=headers)"
   ]
  },
  {
   "cell_type": "code",
   "execution_count": 5,
   "id": "21bd1576-99ea-4b73-9ed6-5ebeae441833",
   "metadata": {},
   "outputs": [
    {
     "data": {
      "text/plain": [
       "<Response [200]>"
      ]
     },
     "execution_count": 5,
     "metadata": {},
     "output_type": "execute_result"
    }
   ],
   "source": [
    "response"
   ]
  },
  {
   "cell_type": "code",
   "execution_count": 6,
   "id": "2d41cd6d-c11e-461c-98fb-ee3094273653",
   "metadata": {},
   "outputs": [
    {
     "data": {
      "text/plain": [
       "'<!DOCTYPE html>\\n<html lang=\"en-US\">\\n<head>\\n\\t<meta charset=\"UTF-8\" />\\n<meta http-equiv=\"X-UA-Compatib'"
      ]
     },
     "execution_count": 6,
     "metadata": {},
     "output_type": "execute_result"
    }
   ],
   "source": [
    "# check for a good response (one that looks like an html page's text)\n",
    "response.text[:100]"
   ]
  },
  {
   "cell_type": "code",
   "execution_count": 7,
   "id": "8fce2bf8-1443-4af6-9248-ec65472d3ae4",
   "metadata": {},
   "outputs": [],
   "source": [
    "# make a soup variable holding the reponse content\n",
    "soup = BeautifulSoup(response.content, 'html.parser')"
   ]
  },
  {
   "cell_type": "markdown",
   "id": "e5a0efea-ed8b-453f-8ecc-b7356552ec42",
   "metadata": {},
   "source": [
    "## Beautiful Soup Methods and Properties\n",
    "\n",
    "    * soup.title.string gets the page's title (the same text in the browser tab for a page, this is the <title> element\n",
    "    * soup.prettify() is useful to print in case you want to see the HTML\n",
    "    * soup.find_all(\"a\") find all the anchor tags, or whatever argument is specified.\n",
    "    * soup.find(\"h1\") finds the first matching element\n",
    "    * soup.get_text() gets the text from within a matching piece of soup/HTML\n",
    "    * The soup.select() method takes in a CSS selector as a string and returns all matching elements. super useful\n"
   ]
  },
  {
   "cell_type": "code",
   "execution_count": 8,
   "id": "a95b8a8f-3be7-4bb9-b656-f5e947b341f5",
   "metadata": {},
   "outputs": [
    {
     "data": {
      "text/plain": [
       "<title>Spotlight on APIDA Voices: Celebrating Heritage and Inspiring Change ft. Arbeena Thapa</title>"
      ]
     },
     "execution_count": 8,
     "metadata": {},
     "output_type": "execute_result"
    }
   ],
   "source": [
    "soup.find('title')"
   ]
  },
  {
   "cell_type": "code",
   "execution_count": 9,
   "id": "9cd2e815-6809-48a1-85a4-2038d4d4b1f4",
   "metadata": {},
   "outputs": [
    {
     "data": {
      "text/plain": [
       "'Spotlight on APIDA Voices: Celebrating Heritage and Inspiring Change ft. Arbeena Thapa'"
      ]
     },
     "execution_count": 9,
     "metadata": {},
     "output_type": "execute_result"
    }
   ],
   "source": [
    "soup.find('title').get_text()"
   ]
  },
  {
   "cell_type": "code",
   "execution_count": 10,
   "id": "76adea61-048d-4635-b2d6-b10d05eb03e4",
   "metadata": {},
   "outputs": [],
   "source": [
    "# use the soup object and assign the text from the article to a variable\n",
    "### after some searching, 'div' and id='main-content' are the things that help extract the text of the article\n",
    "article = soup.find('div', id='main-content')"
   ]
  },
  {
   "cell_type": "code",
   "execution_count": 11,
   "id": "69eae86a-97b1-409c-bff2-3a3759d16834",
   "metadata": {},
   "outputs": [
    {
     "data": {
      "text/plain": [
       "'\\n\\n\\n\\n\\n\\nSpotlight on APIDA Voices: Celebrating Heritage and Inspiring Change ft. Arbeena Thapa\\nMay 24,'"
      ]
     },
     "execution_count": 11,
     "metadata": {},
     "output_type": "execute_result"
    }
   ],
   "source": [
    "article.text[:100]"
   ]
  },
  {
   "cell_type": "code",
   "execution_count": 12,
   "id": "12a410bb-dbc9-4fa1-a9cd-36c3c532e908",
   "metadata": {},
   "outputs": [],
   "source": [
    "dict_el = {'title': soup.find('title').get_text(), 'content': article.text}"
   ]
  },
  {
   "cell_type": "code",
   "execution_count": 13,
   "id": "3a8b8ef2-c57f-406f-810b-28a99f653aa4",
   "metadata": {},
   "outputs": [],
   "source": [
    "def get_title_content(url):\n",
    "    \"\"\"\n",
    "    This function will\n",
    "    - accept a string, url, which is thet web address for a single codeup blog article\n",
    "    - return a dictionary with two elements:\n",
    "        - 'title' : the title of the blog\n",
    "        - 'content' : the text content of the article\n",
    "    \"\"\"\n",
    "    # set my user-agent (this is the one from my computer/browser)\n",
    "    headers = {'User-Agent': 'Mozilla/5.0 (Macintosh; Intel Mac OS X 10.15; rv:109.0) Gecko/20100101 Firefox/113.0'}\n",
    "    # get a response\n",
    "    response = get(url, headers=headers)\n",
    "    # make a soup variable holding the reponse content\n",
    "    soup = BeautifulSoup(response.content, 'html.parser')\n",
    "    # get the title\n",
    "    title = soup.find('title').get_text()\n",
    "    # use the soup object and assign the text from the article to a variable\n",
    "    article = soup.find('div', id='main-content').text\n",
    "    # clean up what came back by removing all the \\n characters and some extra stuff at the end\n",
    "    article = article.replace('\\n', ' ')\n",
    "    regexp = r'(.+)Our ProgramsC'\n",
    "    article = re.findall(regexp, article)\n",
    "    article = article[0].strip()\n",
    "    # assign results to a dictionary\n",
    "    results_dict = {'title': title, 'content': article}\n",
    "    return results_dict"
   ]
  },
  {
   "cell_type": "code",
   "execution_count": 14,
   "id": "dee023ee-e3be-4ab7-bdcc-8198b97a633f",
   "metadata": {
    "tags": []
   },
   "outputs": [
    {
     "data": {
      "text/plain": [
       "{'title': 'Spotlight on APIDA Voices: Celebrating Heritage and Inspiring Change ft. Arbeena Thapa',\n",
       " 'content': 'Spotlight on APIDA Voices: Celebrating Heritage and Inspiring Change ft. Arbeena Thapa May 24, 2023 | Featured   May is traditionally known as Asian American and Pacific Islander (AAPI) Heritage Month. This month we celebrate the history and contributions made possible by our AAPI friends, family, and community. We also examine our level of support and seek opportunities to better understand the AAPI community.  In an effort to address real concerns and experiences, we sat down with Arbeena Thapa, one of Codeup’s Financial Aid and Enrollment Managers. Arbeena identifies as Nepali American and Desi. Arbeena’s parents immigrated to Texas in 1988 for better employment and educational opportunities. Arbeena’s older sister was five when they made the move to the US. Arbeena was born later, becoming the first in her family to be a US citizen. At Codeup we take our efforts at inclusivity very seriously. After speaking with Arbeena, we were taught that the term AAPI excludes Desi-American individuals. Hence, we will now use the term Asian Pacific Islander Desi American (APIDA). Here is how the rest of our conversation with Arbeena went! How do you celebrate or connect with your heritage and cultural traditions? “I celebrate Nepal’s version of Christmas or Dashain. This is a nine-day celebration also known as Dussehra. I grew up as Hindu and I identify as Hindu, this is a very large part of my heritage. “ “Other ways I connect with my culture include sharing food! Momos are South Asian Dumplings and they’re my favorite to make and share.” “On my Asian American side, I am an advocate of immigrant justice and erasure within APIDA social or political movements. I participate in events to embrace my identity such as immigrant justice advocacy because I come from a mixed-status family. I’ve always been in a community with undocumented Asian immigrants. .” What are some of the challenges you have faced as an APIDA individual, personally or professionally? “I often struggle with being gendered as compliant or a pushover. Professionally, I am often stereotyped as meek, so I’ve been overlooked for leadership roles. We are seen as perpetually foreign; people tend to other us in that way, yet put us on a pedestal for what a model minority looks like. This has made me hesitant to share my heritage in the past because these assumptions get mapped onto me. ” Can you describe some common barriers of entry that APIDA individuals, specifically women may face when trying to enter or advance in the workplace? “Being overlooked for leadership. In the past, I have not been viewed as a leader. People sometimes have preconceived stereotypes of Asian women not being able to be bold, or being vocal can be mistaken for being too emotional. “ How do you believe microaggressions impact APIDA individuals in the workplace? Can you provide examples of such microaggressions? “Erasure is big. To me, only saying ‘Merry Christmas’ isn’t inclusive to other religions. People are often resistant to saying ‘Happy Holidays,’ but saying Merry Christmas excludes, and does not appreciate my heritage. “ “Often microaggressions are not micro at all. They typically are not aggressive racialized violence, but the term ‘micro’ minimizes impact.” “Some that I’ve heard are ‘What kind of Asian are you?’ or ‘Where are you from?’ This automatically makes me the ‘other’ and not seen as American. Even within the APIDA community, South Asians are overlooked as “Asian”.” How important is representation, specifically APIDA representation, in organizational leadership positions? “I want to say that it is important to have someone who looks like you in leadership roles, and it is, but those leaders may not share the same beliefs as you. Certain privileges such as wealth, resources, or lack of interaction with lower-socioeconomic-status Asian Americans may cause a difference in community politics. I do not think the bamboo ceiling is acceptable, but the company you work for plays a big part in your politics and belief alignment.” How do you feel about code-switching, and have you ever felt it necessary to code-switch? “I like sharing South Asian terms or connecting with others that have similar heritage and culture. A workplace that is welcoming to going into this sort of breakout is refreshing and makes space for us. However, having to code-switch could also mean a workplace that is not conducive and welcoming of other cultures. “ Finally, in your opinion, what long-term strategies can create lasting change in the workplace and ensure support, equality, and inclusion for APIDA individuals? “Prior to a career in financial aid, I did a lot of research related to the post-9/11 immigration of the South Asian diaspora. This background made me heavily rely on grassroots organizing. Hire the people that want to innovate, hire the changemakers, hire the button-pushers. Reduce reliance on whiteness as change. This will become natural for the organization and become organizational change. Change comes from us on the ground.” A huge thank you to Arbeena Thapa for sharing her experiences, and being vulnerable with us. Your words were inspiring and the opportunity to understand your perspective more has been valuable. We hope we can become better support for the APIDA community as we learn and grow on our journey of cultivating inclusive growth.'}"
      ]
     },
     "execution_count": 14,
     "metadata": {},
     "output_type": "execute_result"
    }
   ],
   "source": [
    "get_title_content(url1)"
   ]
  },
  {
   "cell_type": "code",
   "execution_count": 15,
   "id": "5ede4cde-2d38-4b03-95a3-9ef3b9674c6f",
   "metadata": {},
   "outputs": [],
   "source": [
    "#### trying to not grab the last part of the article\n",
    "headers = {'User-Agent': 'Mozilla/5.0 (Macintosh; Intel Mac OS X 10.15; rv:109.0) Gecko/20100101 Firefox/113.0'}\n",
    "# get a response\n",
    "response = get(url1, headers=headers)\n",
    "# make a soup variable holding the reponse content\n",
    "soup = BeautifulSoup(response.content, 'html.parser')\n",
    "# get the title\n",
    "title = soup.find('title').get_text()\n",
    "# use the soup object and assign the text from the article to a variable\n",
    "article = soup.find('div', id='main-content')"
   ]
  },
  {
   "cell_type": "code",
   "execution_count": 16,
   "id": "a5951b50-7695-466a-848d-9ff67da43eec",
   "metadata": {},
   "outputs": [],
   "source": [
    "# soup.get_text()"
   ]
  },
  {
   "cell_type": "code",
   "execution_count": 17,
   "id": "f2e124d0-85a7-43c4-a64d-543d4233dc14",
   "metadata": {},
   "outputs": [],
   "source": [
    "test1 = article.text.strip()\n",
    "test2 = test1.replace('\\n', ' ')"
   ]
  },
  {
   "cell_type": "code",
   "execution_count": 18,
   "id": "383ae3fd-34cd-4a16-a7a1-907f50307dc4",
   "metadata": {
    "tags": []
   },
   "outputs": [
    {
     "data": {
      "text/plain": [
       "'Spotlight on APIDA Voices: Celebrating Heritage and Inspiring Change ft. Arbeena Thapa May 24, 2023 | Featured   May is traditionally known as Asian American and Pacific Islander (AAPI) Heritage Month. This month we celebrate the history and contributions made possible by our AAPI friends, family, and community. We also examine our level of support and seek opportunities to better understand the AAPI community.  In an effort to address real concerns and experiences, we sat down with Arbeena Thapa, one of Codeup’s Financial Aid and Enrollment Managers. Arbeena identifies as Nepali American and Desi. Arbeena’s parents immigrated to Texas in 1988 for better employment and educational opportunities. Arbeena’s older sister was five when they made the move to the US. Arbeena was born later, becoming the first in her family to be a US citizen. At Codeup we take our efforts at inclusivity very seriously. After speaking with Arbeena, we were taught that the term AAPI excludes Desi-American individuals. Hence, we will now use the term Asian Pacific Islander Desi American (APIDA). Here is how the rest of our conversation with Arbeena went! How do you celebrate or connect with your heritage and cultural traditions? “I celebrate Nepal’s version of Christmas or Dashain. This is a nine-day celebration also known as Dussehra. I grew up as Hindu and I identify as Hindu, this is a very large part of my heritage. “ “Other ways I connect with my culture include sharing food! Momos are South Asian Dumplings and they’re my favorite to make and share.” “On my Asian American side, I am an advocate of immigrant justice and erasure within APIDA social or political movements. I participate in events to embrace my identity such as immigrant justice advocacy because I come from a mixed-status family. I’ve always been in a community with undocumented Asian immigrants. .” What are some of the challenges you have faced as an APIDA individual, personally or professionally? “I often struggle with being gendered as compliant or a pushover. Professionally, I am often stereotyped as meek, so I’ve been overlooked for leadership roles. We are seen as perpetually foreign; people tend to other us in that way, yet put us on a pedestal for what a model minority looks like. This has made me hesitant to share my heritage in the past because these assumptions get mapped onto me. ” Can you describe some common barriers of entry that APIDA individuals, specifically women may face when trying to enter or advance in the workplace? “Being overlooked for leadership. In the past, I have not been viewed as a leader. People sometimes have preconceived stereotypes of Asian women not being able to be bold, or being vocal can be mistaken for being too emotional. “ How do you believe microaggressions impact APIDA individuals in the workplace? Can you provide examples of such microaggressions? “Erasure is big. To me, only saying ‘Merry Christmas’ isn’t inclusive to other religions. People are often resistant to saying ‘Happy Holidays,’ but saying Merry Christmas excludes, and does not appreciate my heritage. “ “Often microaggressions are not micro at all. They typically are not aggressive racialized violence, but the term ‘micro’ minimizes impact.” “Some that I’ve heard are ‘What kind of Asian are you?’ or ‘Where are you from?’ This automatically makes me the ‘other’ and not seen as American. Even within the APIDA community, South Asians are overlooked as “Asian”.” How important is representation, specifically APIDA representation, in organizational leadership positions? “I want to say that it is important to have someone who looks like you in leadership roles, and it is, but those leaders may not share the same beliefs as you. Certain privileges such as wealth, resources, or lack of interaction with lower-socioeconomic-status Asian Americans may cause a difference in community politics. I do not think the bamboo ceiling is acceptable, but the company you work for plays a big part in your politics and belief alignment.” How do you feel about code-switching, and have you ever felt it necessary to code-switch? “I like sharing South Asian terms or connecting with others that have similar heritage and culture. A workplace that is welcoming to going into this sort of breakout is refreshing and makes space for us. However, having to code-switch could also mean a workplace that is not conducive and welcoming of other cultures. “ Finally, in your opinion, what long-term strategies can create lasting change in the workplace and ensure support, equality, and inclusion for APIDA individuals? “Prior to a career in financial aid, I did a lot of research related to the post-9/11 immigration of the South Asian diaspora. This background made me heavily rely on grassroots organizing. Hire the people that want to innovate, hire the changemakers, hire the button-pushers. Reduce reliance on whiteness as change. This will become natural for the organization and become organizational change. Change comes from us on the ground.” A huge thank you to Arbeena Thapa for sharing her experiences, and being vulnerable with us. Your words were inspiring and the opportunity to understand your perspective more has been valuable. We hope we can become better support for the APIDA community as we learn and grow on our journey of cultivating inclusive growth.'"
      ]
     },
     "execution_count": 18,
     "metadata": {},
     "output_type": "execute_result"
    }
   ],
   "source": [
    "# further work is needed to lop off leading whitespace and trailing stuff that isn't really part of the article\n",
    "# I started to work it here, but I need to move on. Will come back. Maybe.\n",
    "regexp = r'(.+)Our ProgramsC'\n",
    "new = re.findall(regexp, test2)\n",
    "new[0].strip()"
   ]
  },
  {
   "cell_type": "code",
   "execution_count": 19,
   "id": "81efe3a2-deb8-4378-9c78-42f6ffec967f",
   "metadata": {},
   "outputs": [],
   "source": [
    "def get_blog_articles(url_list):\n",
    "    \"\"\"\n",
    "    This function will\n",
    "    - accept a list of urls that are web addresses for codeup blog articles\n",
    "    - return a list of dictionaries of the form\n",
    "        {'title': title of blog, 'content': text of content of blog article}\n",
    "    \"\"\"\n",
    "    results_list = []\n",
    "    for url in url_list:\n",
    "        # get dictionary of results for each url\n",
    "        results_dict = get_title_content(url)\n",
    "        results_list.append(results_dict)\n",
    "        \n",
    "    return results_list"
   ]
  },
  {
   "cell_type": "code",
   "execution_count": 20,
   "id": "0fdaa2ba-b442-4bec-b8f2-d69bb50949d9",
   "metadata": {},
   "outputs": [],
   "source": [
    "results_list = get_blog_articles(url_list)"
   ]
  },
  {
   "cell_type": "code",
   "execution_count": 21,
   "id": "3f3c164e-1f2b-46ee-b460-c901a1559866",
   "metadata": {
    "scrolled": true,
    "tags": []
   },
   "outputs": [
    {
     "data": {
      "text/plain": [
       "[{'title': 'Spotlight on APIDA Voices: Celebrating Heritage and Inspiring Change ft. Arbeena Thapa',\n",
       "  'content': 'Spotlight on APIDA Voices: Celebrating Heritage and Inspiring Change ft. Arbeena Thapa May 24, 2023 | Featured   May is traditionally known as Asian American and Pacific Islander (AAPI) Heritage Month. This month we celebrate the history and contributions made possible by our AAPI friends, family, and community. We also examine our level of support and seek opportunities to better understand the AAPI community.  In an effort to address real concerns and experiences, we sat down with Arbeena Thapa, one of Codeup’s Financial Aid and Enrollment Managers. Arbeena identifies as Nepali American and Desi. Arbeena’s parents immigrated to Texas in 1988 for better employment and educational opportunities. Arbeena’s older sister was five when they made the move to the US. Arbeena was born later, becoming the first in her family to be a US citizen. At Codeup we take our efforts at inclusivity very seriously. After speaking with Arbeena, we were taught that the term AAPI excludes Desi-American individuals. Hence, we will now use the term Asian Pacific Islander Desi American (APIDA). Here is how the rest of our conversation with Arbeena went! How do you celebrate or connect with your heritage and cultural traditions? “I celebrate Nepal’s version of Christmas or Dashain. This is a nine-day celebration also known as Dussehra. I grew up as Hindu and I identify as Hindu, this is a very large part of my heritage. “ “Other ways I connect with my culture include sharing food! Momos are South Asian Dumplings and they’re my favorite to make and share.” “On my Asian American side, I am an advocate of immigrant justice and erasure within APIDA social or political movements. I participate in events to embrace my identity such as immigrant justice advocacy because I come from a mixed-status family. I’ve always been in a community with undocumented Asian immigrants. .” What are some of the challenges you have faced as an APIDA individual, personally or professionally? “I often struggle with being gendered as compliant or a pushover. Professionally, I am often stereotyped as meek, so I’ve been overlooked for leadership roles. We are seen as perpetually foreign; people tend to other us in that way, yet put us on a pedestal for what a model minority looks like. This has made me hesitant to share my heritage in the past because these assumptions get mapped onto me. ” Can you describe some common barriers of entry that APIDA individuals, specifically women may face when trying to enter or advance in the workplace? “Being overlooked for leadership. In the past, I have not been viewed as a leader. People sometimes have preconceived stereotypes of Asian women not being able to be bold, or being vocal can be mistaken for being too emotional. “ How do you believe microaggressions impact APIDA individuals in the workplace? Can you provide examples of such microaggressions? “Erasure is big. To me, only saying ‘Merry Christmas’ isn’t inclusive to other religions. People are often resistant to saying ‘Happy Holidays,’ but saying Merry Christmas excludes, and does not appreciate my heritage. “ “Often microaggressions are not micro at all. They typically are not aggressive racialized violence, but the term ‘micro’ minimizes impact.” “Some that I’ve heard are ‘What kind of Asian are you?’ or ‘Where are you from?’ This automatically makes me the ‘other’ and not seen as American. Even within the APIDA community, South Asians are overlooked as “Asian”.” How important is representation, specifically APIDA representation, in organizational leadership positions? “I want to say that it is important to have someone who looks like you in leadership roles, and it is, but those leaders may not share the same beliefs as you. Certain privileges such as wealth, resources, or lack of interaction with lower-socioeconomic-status Asian Americans may cause a difference in community politics. I do not think the bamboo ceiling is acceptable, but the company you work for plays a big part in your politics and belief alignment.” How do you feel about code-switching, and have you ever felt it necessary to code-switch? “I like sharing South Asian terms or connecting with others that have similar heritage and culture. A workplace that is welcoming to going into this sort of breakout is refreshing and makes space for us. However, having to code-switch could also mean a workplace that is not conducive and welcoming of other cultures. “ Finally, in your opinion, what long-term strategies can create lasting change in the workplace and ensure support, equality, and inclusion for APIDA individuals? “Prior to a career in financial aid, I did a lot of research related to the post-9/11 immigration of the South Asian diaspora. This background made me heavily rely on grassroots organizing. Hire the people that want to innovate, hire the changemakers, hire the button-pushers. Reduce reliance on whiteness as change. This will become natural for the organization and become organizational change. Change comes from us on the ground.” A huge thank you to Arbeena Thapa for sharing her experiences, and being vulnerable with us. Your words were inspiring and the opportunity to understand your perspective more has been valuable. We hope we can become better support for the APIDA community as we learn and grow on our journey of cultivating inclusive growth.'},\n",
       " {'title': 'Women in tech: Panelist Spotlight – Magdalena Rahn -',\n",
       "  'content': 'Women in tech: Panelist Spotlight – Magdalena Rahn Mar 28, 2023 | Events, Featured   Women in tech: Panelist Spotlight – Magdalena Rahn Codeup is hosting a Women in Tech Panel in honor of Women’s History Month on March 29th, 2023! To further celebrate, we’d like to spotlight each of our panelists leading up to the discussion to learn a bit about their respective experiences as women in the tech industry!  Meet Magdalena! Magdalena Rahn is a current Codeup student in a Data Science cohort in San Antonio, Texas. She has a professional background in cross-cultural communications, international business development, the wine industry and journalism. After serving in the US Navy, she decided to complement her professional skill set by attending the Data Science program at Codeup; she is set to graduate in March 2023. Magdalena is fluent in French, Bulgarian, Chinese-Mandarin, Spanish and Italian. We asked Magdalena how Codeup impacted her career, and she replied “Codeup has provided a solid foundation in analytical processes, programming and data science methods, and it’s been an encouragement to have such supportive instructors and wonderful classmates.” Don’t forget to tune in on March 29th to sit in on an insightful conversation with Magdalena.'},\n",
       " {'title': 'Women in tech: Panelist Spotlight - Rachel Robbins-Mayhill',\n",
       "  'content': 'Women in tech: Panelist Spotlight – Rachel Robbins-Mayhill Mar 20, 2023 | Events, Featured   Women in tech: Panelist Spotlight – Rachel Robbins-Mayhill Codeup is hosting a Women in Tech Panel in honor of Women’s History Month on March 29th, 2023! To further celebrate, we’d like to spotlight each of our panelists leading up to the discussion to learn a bit about their respective experiences as women in the tech industry! Meet Rachel!  Rachel Robbins-Mayhill is a Decision Science Analyst I in San Antonio, Texas. Rachel has had a varied career that includes counseling, teaching, training, community development, and military operations. Her focus has always been on assessing needs, identifying solutions, and educating individuals and groups on aligning needs and solutions in different contexts. Rachel’s passion for data science stems from her belief that data is a powerful tool for communicating patterns that can lead to hope and growth in the future. In June 2022, Rachel graduated from Codeup’s Innis cohort, where she honed her skills in data science. Shortly after, she started working as a Data Science Technical Writer with Apex Systems as a Contractor for USAA in July 2022. Her unconventional role allowed her to understand where her skills could be best utilized to support USAA in a non-contract role. Rachel recently joined USAA’s Data Science Delivery team as a Decision Science Analyst I in February 2023. The team is focused on delivering machine learning models for fraud prevention, and Rachel’s particular role centers around providing strategic process solutions for the team in collaboration with Operational and Model Risk components. In addition to her career, Rachel is currently pursuing a master’s degree in Applied Data Science from Syracuse University, further expanding her knowledge and skills in the field. Rachel is passionate about collaborating with individuals who share her belief in the potential of others and strive to achieve growth through logical, informed action. She welcomes LinkedIn connections and is excited about supporting the network of CodeUp alumni! We asked Rachel how Codeup impacted her career, and she replied “Codeup delivered a comprehensive education in all facets of the data science pipeline, laying a strong foundation for me to build upon. Through repeated hands-on practice, I developed a reliable process that was immediately applicable in my job. Collaborative group projects were instrumental in helping me hone my skills in project management, allowing me to navigate complex data science projects with comfortability. Thanks to this invaluable experience, I was able to make significant strides in my career within just six months of graduating from Codeup.” Don’t forget to tune in on March 29th to sit in on an insightful conversation.'},\n",
       " {'title': 'Women in Tech: Panelist Spotlight - Sarah Mellor - Codeup',\n",
       "  'content': 'Women in Tech: Panelist Spotlight – Sarah Mellor Mar 13, 2023 | Codeup News, Featured   Women in tech: Panelist Spotlight – Sarah Mellor\\xa0 Codeup is hosting a Women in Tech Panel in honor of Women’s History Month on March 29th, 2023! To further celebrate, we’d like to spotlight each of our panelists leading up to the discussion to learn a bit about their respective experiences as women in the tech industry! Meet Sarah! Sarah Mellor currently works as the Director of People Operations. She joined Codeup four and a half years ago as an Admissions Manager. She went on to build out and lead the Marketing and Admissions team, while picking up People Ops tasks and projects here and there until moving over to lead the People Ops team two years ago. Prior to Codeup, she worked at education-focused non-profits in Washington, DC and Boulder, Colorado. She graduated from Wake Forest University. We asked Sarah how Codeup has impacted her career, and her response was “I have absolutely loved having the privilege to grow alongside Codeup. In my time here across multiple different roles and departments, I’ve seen a lot of change. The consistent things have always been the high quality of passionate and hardworking people I get to work with; the impactful mission we get to work on; and the inspiring students who trust us with their career change.” Don’t forget to tune in on March 29th to sit in on an insightful conversation.'},\n",
       " {'title': 'Women in Tech: Panelist Spotlight - Madeleine Capper - Codeup',\n",
       "  'content': 'Women in Tech: Panelist Spotlight – Madeleine Capper Mar 6, 2023 | Events, Featured   Women in tech: Panelist Spotlight – Madeleine Capper Codeup is hosting a Women in Tech Panel in honor of Women’s History Month on March 29th, 2023! To further celebrate, we’d like to spotlight each of our panelists leading up to the discussion to learn a bit about their respective experiences as women in the tech industry! Meet Madeleine! Madeleine Capper is a Data Scientist in San Antonio, Texas. A long-standing San Antonio resident, she studied mathematics at the University of Texas San Antonio and has worked as a Data Scientist for Booz Allen Hamilton. Madeleine currently teaches Data Science at Codeup, where she works daily with burgeoning data professionals to help them actualize their career aspirations through technical education. Madeleine attended Codeup as a student in early 2019 as a pupil in the very first Codeup Data Science cohort. The program proved immediately effective and she was the first student to obtain a data career out of the program. After working at Booz Allen Hamilton, Madeleine’s passion for education in conjunction with her appreciation for Codeup’s capacity for transformative life change brought her back to the institution in an instructional capacity, where she has been teaching for two years. Don’t forget to tune in on March 29th to sit in on an insightful conversation.'}]"
      ]
     },
     "execution_count": 21,
     "metadata": {},
     "output_type": "execute_result"
    }
   ],
   "source": [
    "results_list"
   ]
  },
  {
   "cell_type": "markdown",
   "id": "a9c990f9-afa7-4e87-b809-4eebf7379f6c",
   "metadata": {},
   "source": [
    "## 2. News Articles\n",
    "We will now be scraping text data from inshorts, a website that provides a brief overview of many different topics.\n",
    "\n",
    "Write a function that scrapes the news articles for the following topics:\n",
    "\n",
    "    Business\n",
    "    Sports\n",
    "    Technology\n",
    "    Entertainment\n",
    "\n",
    "The end product of this should be a function named get_news_articles that returns a list of dictionaries, where each dictionary has this shape:\n",
    "\n",
    "{\n",
    "    'title': 'The article title',\n",
    "    'content': 'The article content',\n",
    "    'category': 'business' # for example\n",
    "}\n",
    "\n",
    "Hints:\n",
    "\n",
    "    Start by inspecting the website in your browser. Figure out which elements will be useful.\n",
    "    Start by creating a function that handles a single article and produces a dictionary like the one above.\n",
    "    Next create a function that will find all the articles on a single page and call the function you created in the last step for every article on the page.\n",
    "    Now create a function that will use the previous two functions to scrape the articles from all the pages that you need, and do any additional processing that needs to be done.\n"
   ]
  },
  {
   "cell_type": "code",
   "execution_count": null,
   "id": "12ccf873-d561-4730-89f2-8fd00439b5fa",
   "metadata": {},
   "outputs": [],
   "source": []
  },
  {
   "cell_type": "markdown",
   "id": "7f50656e-9acb-408a-b833-c2319ec99d4e",
   "metadata": {},
   "source": [
    "## Steps\n",
    "\n",
    "    1. Import the get() function from the requests module, BeautifulSoup from bs4, and pandas.\n",
    "    2. Assign the address of the web page to a variable named url.\n",
    "    3. Request the server the content of the web page by using get(), and store the server’s response in the variable response.\n",
    "    4. Print the response text to ensure you have an html page.\n",
    "    5. Take a look at the actual web page contents and inspect the source to understand the structure a bit.\n",
    "    6. Use BeautifulSoup to parse the HTML into a variable ('soup').\n",
    "    7. Identify the key tags you need to extract the data you are looking for.\n",
    "    8. Create a dataframe of the data desired.\n",
    "    9. Run some summary stats and inspect the data to ensure you have what you wanted.\n",
    "    10. Edit the data structure as needed, especially so that one column has all the text you want included in this analysis.\n",
    "    11. Create a corpus of the column with the text you want to analyze.\n",
    "    12. Store that corpus for use in a future notebook.\n"
   ]
  },
  {
   "cell_type": "code",
   "execution_count": null,
   "id": "e809aabb-ae54-463c-aeed-61638590e161",
   "metadata": {},
   "outputs": [],
   "source": []
  },
  {
   "cell_type": "code",
   "execution_count": 22,
   "id": "60a117fb-d581-4ce6-9a0c-eb23c9675dac",
   "metadata": {},
   "outputs": [],
   "source": [
    "def get_news_articles(fresh=False):\n",
    "    \"\"\"\n",
    "    This function will\n",
    "    - read in news articles from a locally cached file, news_articles.json if it exists;\n",
    "    - if the cached file does not exist, or if fresh=True, this function will:\n",
    "        - webscrape short news articles from inshorts.com\n",
    "        - business, sports, technology, entertainment sections only\n",
    "        - return a list of dictionaries of the form\n",
    "            {'category': type of news (sports, tech, etc.)\n",
    "            ,'title': title of article\n",
    "            ,'content': contents of article}\n",
    "    \"\"\"\n",
    "    # see if cached file exists\n",
    "    cache_file_name = 'news_articles.json'\n",
    "    if os.path.isfile(cache_file_name) and (not fresh):\n",
    "        results_dict_list = json.load(open(cache_file_name))\n",
    "        print ('cached file found and read')\n",
    "        return results_dict_list\n",
    "    else:\n",
    "        # initialize results variable, a list of dictionaries\n",
    "        results_dict_list = []\n",
    "        # set user-agent\n",
    "        headers = {'User-Agent': 'Mozilla/5.0 (Macintosh; Intel Mac OS X 10.15; rv:109.0) Gecko/20100101 Firefox/113.0'}\n",
    "        # set url for inshorts\n",
    "        url = 'https://inshorts.com/en/read/'\n",
    "        # make list of sections\n",
    "        news_section_list = ['business', 'sports', 'technology', 'entertainment']\n",
    "        # now for each news_section, scrape from url + news_section\n",
    "        for section in news_section_list:\n",
    "            # get a response\n",
    "            response = get(url+section, headers=headers)\n",
    "            # make a soup variable holding the reponse content\n",
    "            soup = BeautifulSoup(response.content, 'html.parser')\n",
    "            # separate titles and contents out\n",
    "            titles = soup.find_all('div', class_='news-card-title')\n",
    "            contents = soup.find_all('div', class_='news-card-content')\n",
    "            # for each element in title/contents, add it to our results\n",
    "            for title, content in zip(titles, contents):\n",
    "                t = title.span.text\n",
    "                c = content.div.text\n",
    "                results_dict_list.append({'category':section, 'title':t, 'content':c})\n",
    "        # write fresh results to cached file\n",
    "        with open(cache_file_name, 'w') as cache:\n",
    "            json.dump(results_dict_list, cache)\n",
    "        print('web scraped and written to cached file')\n",
    "        \n",
    "        return results_dict_list\n",
    "    "
   ]
  },
  {
   "cell_type": "code",
   "execution_count": 23,
   "id": "018a2e84-4b1b-4de7-b201-f78eb7bf2688",
   "metadata": {
    "tags": []
   },
   "outputs": [
    {
     "name": "stdout",
     "output_type": "stream",
     "text": [
      "cached file found and read\n"
     ]
    },
    {
     "data": {
      "text/plain": [
       "[{'category': 'business',\n",
       "  'title': 'Sensex, Nifty end at fresh closing highs',\n",
       "  'content': 'Benchmark indices Sensex and Nifty ended at record closing highs on Wednesday. Sensex ended 195 points higher at 63,523 while the Nifty ended at 18,856.85, up 40 points. The gains were led by stocks like HDFC, Reliance Industries and TCS. During the intraday trade, Sensex rose to its fresh record high level of 63,588. '},\n",
       " {'category': 'business',\n",
       "  'title': \"TIME releases list of the world's 100 most influential companies\",\n",
       "  'content': 'TIME magazine has released its annual list of the world\\'s 100 most influential companies, which features OpenAI, SpaceX, Chess.com, Google DeepMind and Kim Kardashian\\'s SKIMS among others. The National Payments Corporation of India (NPCI) and e-commerce platform Meesho also featured on the list. \"NPCI launched UPI...which accounted for 52% of India\\'s digital transactions in FY22,\" TIME said.'}]"
      ]
     },
     "execution_count": 23,
     "metadata": {},
     "output_type": "execute_result"
    }
   ],
   "source": [
    "results_dict_list = get_news_articles()\n",
    "results_dict_list[:2]"
   ]
  },
  {
   "cell_type": "code",
   "execution_count": 24,
   "id": "d29cadd8-1c66-4929-b75b-6ecb5caab35f",
   "metadata": {},
   "outputs": [],
   "source": [
    "with open('news_articles.json', 'w') as cache:\n",
    "    json.dump(results_dict_list, cache)\n"
   ]
  },
  {
   "cell_type": "code",
   "execution_count": 25,
   "id": "ec4a8d36-4c05-46a4-a8d2-a0fac3594f28",
   "metadata": {},
   "outputs": [],
   "source": [
    "temp_dict_list = json.load(open('news_articles.json'))"
   ]
  },
  {
   "cell_type": "code",
   "execution_count": 26,
   "id": "395d0bfb-c665-4ddf-949a-e6ccaae14a30",
   "metadata": {},
   "outputs": [
    {
     "data": {
      "text/plain": [
       "[{'category': 'business',\n",
       "  'title': 'Sensex, Nifty end at fresh closing highs',\n",
       "  'content': 'Benchmark indices Sensex and Nifty ended at record closing highs on Wednesday. Sensex ended 195 points higher at 63,523 while the Nifty ended at 18,856.85, up 40 points. The gains were led by stocks like HDFC, Reliance Industries and TCS. During the intraday trade, Sensex rose to its fresh record high level of 63,588. '},\n",
       " {'category': 'business',\n",
       "  'title': \"TIME releases list of the world's 100 most influential companies\",\n",
       "  'content': 'TIME magazine has released its annual list of the world\\'s 100 most influential companies, which features OpenAI, SpaceX, Chess.com, Google DeepMind and Kim Kardashian\\'s SKIMS among others. The National Payments Corporation of India (NPCI) and e-commerce platform Meesho also featured on the list. \"NPCI launched UPI...which accounted for 52% of India\\'s digital transactions in FY22,\" TIME said.'}]"
      ]
     },
     "execution_count": 26,
     "metadata": {},
     "output_type": "execute_result"
    }
   ],
   "source": [
    "temp_dict_list[:2]"
   ]
  },
  {
   "cell_type": "code",
   "execution_count": 27,
   "id": "6ff68188-d979-4cda-923d-af141c006f37",
   "metadata": {},
   "outputs": [
    {
     "name": "stdout",
     "output_type": "stream",
     "text": [
      "2\n",
      "6\n",
      "12\n"
     ]
    }
   ],
   "source": [
    "list1 = [1,2,3]\n",
    "list2 = [2,3,4]\n",
    "\n",
    "for i, j in zip(list1, list2):\n",
    "    print(i*j)"
   ]
  },
  {
   "cell_type": "code",
   "execution_count": 28,
   "id": "6b7f7ec2-57e3-4176-96b4-c02e5f214528",
   "metadata": {
    "collapsed": true,
    "jupyter": {
     "outputs_hidden": true
    },
    "tags": []
   },
   "outputs": [
    {
     "data": {
      "text/plain": [
       "<!DOCTYPE html>\n",
       "\n",
       "<html lang=\"en-US\">\n",
       "<head>\n",
       "<meta charset=\"utf-8\"/>\n",
       "<meta content=\"IE=edge\" http-equiv=\"X-UA-Compatible\"/>\n",
       "<link href=\"https://codeup.com/xmlrpc.php\" rel=\"pingback\"/>\n",
       "<script type=\"text/javascript\">\n",
       "\t\tdocument.documentElement.className = 'js';\n",
       "\t</script>\n",
       "<link crossorigin=\"\" href=\"https://fonts.gstatic.com\" rel=\"preconnect\"/><script id=\"diviarea-loader\">window.DiviPopupData=window.DiviAreaConfig={\"zIndex\":1000000,\"animateSpeed\":400,\"triggerClassPrefix\":\"show-popup-\",\"idAttrib\":\"data-popup\",\"modalIndicatorClass\":\"is-modal\",\"blockingIndicatorClass\":\"is-blocking\",\"defaultShowCloseButton\":true,\"withCloseClass\":\"with-close\",\"noCloseClass\":\"no-close\",\"triggerCloseClass\":\"close\",\"singletonClass\":\"single\",\"darkModeClass\":\"dark\",\"noShadowClass\":\"no-shadow\",\"altCloseClass\":\"close-alt\",\"popupSelector\":\".et_pb_section.popup\",\"initializeOnEvent\":\"et_pb_after_init_modules\",\"popupWrapperClass\":\"area-outer-wrap\",\"fullHeightClass\":\"full-height\",\"openPopupClass\":\"da-overlay-visible\",\"overlayClass\":\"da-overlay\",\"exitIndicatorClass\":\"on-exit\",\"hoverTriggerClass\":\"on-hover\",\"clickTriggerClass\":\"on-click\",\"onExitDelay\":2000,\"notMobileClass\":\"not-mobile\",\"notTabletClass\":\"not-tablet\",\"notDesktopClass\":\"not-desktop\",\"baseContext\":\"body\",\"activePopupClass\":\"is-open\",\"closeButtonClass\":\"da-close\",\"withLoaderClass\":\"with-loader\",\"debug\":false,\"ajaxUrl\":\"https:\\/\\/codeup.com\\/wp-admin\\/admin-ajax.php\",\"sys\":[]};var divimode_loader=function(){\"use strict\";!function(t){t.DiviArea=t.DiviPopup={loaded:!1};var n=t.DiviArea,i=n.Hooks={},o={};function r(t,n,i){var r,e,c;if(\"string\"==typeof t)if(o[t]){if(n)if((r=o[t])&&i)for(c=r.length;c--;)(e=r[c]).callback===n&&e.context===i&&(r[c]=!1);else for(c=r.length;c--;)r[c].callback===n&&(r[c]=!1)}else o[t]=[]}function e(t,n,i,r){if(\"string\"==typeof t){var e={callback:n,priority:i,context:r},c=o[t];c?(c.push(e),c=function(t){var n,i,o,r,e=t.length;for(r=1;r<e;r++)for(n=t[r],i=r;i>0;i--)(o=t[i-1]).priority>n.priority&&(t[i]=o,t[i-1]=n);return t}(c)):c=[e],o[t]=c}}function c(t,n,i){\"string\"==typeof n&&(n=[n]);var r,e,c=[];for(r=0;r<n.length;r++)Array.prototype.push.apply(c,o[n[r]]);for(e=0;e<c.length;e++){var a=void 0;c[e]&&\"function\"==typeof c[e].callback&&(\"filter\"===t?void 0!==(a=c[e].callback.apply(c[e].context,i))&&(i[0]=a):c[e].callback.apply(c[e].context,i))}if(\"filter\"===t)return i[0]}i.silent=function(){return i},n.removeFilter=i.removeFilter=function(t,n){r(t,n)},n.removeAction=i.removeAction=function(t,n){r(t,n)},n.applyFilters=i.applyFilters=function(t){for(var n=[],i=arguments.length-1;i-- >0;)n[i]=arguments[i+1];return c(\"filter\",t,n)},n.doAction=i.doAction=function(t){for(var n=[],i=arguments.length-1;i-- >0;)n[i]=arguments[i+1];c(\"action\",t,n)},n.addFilter=i.addFilter=function(n,i,o,r){e(n,i,parseInt(o||10,10),r||t)},n.addAction=i.addAction=function(n,i,o,r){e(n,i,parseInt(o||10,10),r||t)},n.addActionOnce=i.addActionOnce=function(n,i,o,c){e(n,i,parseInt(o||10,10),c||t),e(n,(function(){r(n,i)}),1+parseInt(o||10,10),c||t)}}(window);return{}}();\n",
       "</script><style id=\"et-builder-googlefonts-cached-inline\">/* Original: https://fonts.googleapis.com/css?family=Bebas+Neue:regular|Poppins:100,100italic,200,200italic,300,300italic,regular,italic,500,500italic,600,600italic,700,700italic,800,800italic,900,900italic|Nunito:200,200italic,300,300italic,regular,italic,600,600italic,700,700italic,800,800italic,900,900italic&#038;subset=latin,latin-ext,devanagari,cyrillic,cyrillic-ext,vietnamese&#038;display=swap *//* User Agent: Mozilla/5.0 (Unknown; Linux x86_64) AppleWebKit/538.1 (KHTML, like Gecko) Safari/538.1 Daum/4.1 */@font-face {font-family: 'Bebas Neue';font-style: normal;font-weight: 400;font-display: swap;src: url(https://fonts.gstatic.com/s/bebasneue/v10/JTUSjIg69CK48gW7PXoo9Wdhzg.ttf) format('truetype');}@font-face {font-family: 'Nunito';font-style: italic;font-weight: 200;font-display: swap;src: url(https://fonts.gstatic.com/s/nunito/v25/XRXK3I6Li01BKofIMPyPbj8d7IEAGXNiLXAHg6bf.ttf) format('truetype');}@font-face {font-family: 'Nunito';font-style: italic;font-weight: 300;font-display: swap;src: url(https://fonts.gstatic.com/s/nunito/v25/XRXK3I6Li01BKofIMPyPbj8d7IEAGXNi83AHg6bf.ttf) format('truetype');}@font-face {font-family: 'Nunito';font-style: italic;font-weight: 400;font-display: swap;src: url(https://fonts.gstatic.com/s/nunito/v25/XRXK3I6Li01BKofIMPyPbj8d7IEAGXNirXAHg6bf.ttf) format('truetype');}@font-face {font-family: 'Nunito';font-style: italic;font-weight: 600;font-display: swap;src: url(https://fonts.gstatic.com/s/nunito/v25/XRXK3I6Li01BKofIMPyPbj8d7IEAGXNic3cHg6bf.ttf) format('truetype');}@font-face {font-family: 'Nunito';font-style: italic;font-weight: 700;font-display: swap;src: url(https://fonts.gstatic.com/s/nunito/v25/XRXK3I6Li01BKofIMPyPbj8d7IEAGXNiSncHg6bf.ttf) format('truetype');}@font-face {font-family: 'Nunito';font-style: italic;font-weight: 800;font-display: swap;src: url(https://fonts.gstatic.com/s/nunito/v25/XRXK3I6Li01BKofIMPyPbj8d7IEAGXNiLXcHg6bf.ttf) format('truetype');}@font-face {font-family: 'Nunito';font-style: italic;font-weight: 900;font-display: swap;src: url(https://fonts.gstatic.com/s/nunito/v25/XRXK3I6Li01BKofIMPyPbj8d7IEAGXNiBHcHg6bf.ttf) format('truetype');}@font-face {font-family: 'Nunito';font-style: normal;font-weight: 200;font-display: swap;src: url(https://fonts.gstatic.com/s/nunito/v25/XRXI3I6Li01BKofiOc5wtlZ2di8HDDshdTo3ig.ttf) format('truetype');}@font-face {font-family: 'Nunito';font-style: normal;font-weight: 300;font-display: swap;src: url(https://fonts.gstatic.com/s/nunito/v25/XRXI3I6Li01BKofiOc5wtlZ2di8HDOUhdTo3ig.ttf) format('truetype');}@font-face {font-family: 'Nunito';font-style: normal;font-weight: 400;font-display: swap;src: url(https://fonts.gstatic.com/s/nunito/v25/XRXI3I6Li01BKofiOc5wtlZ2di8HDLshdTo3ig.ttf) format('truetype');}@font-face {font-family: 'Nunito';font-style: normal;font-weight: 600;font-display: swap;src: url(https://fonts.gstatic.com/s/nunito/v25/XRXI3I6Li01BKofiOc5wtlZ2di8HDGUmdTo3ig.ttf) format('truetype');}@font-face {font-family: 'Nunito';font-style: normal;font-weight: 700;font-display: swap;src: url(https://fonts.gstatic.com/s/nunito/v25/XRXI3I6Li01BKofiOc5wtlZ2di8HDFwmdTo3ig.ttf) format('truetype');}@font-face {font-family: 'Nunito';font-style: normal;font-weight: 800;font-display: swap;src: url(https://fonts.gstatic.com/s/nunito/v25/XRXI3I6Li01BKofiOc5wtlZ2di8HDDsmdTo3ig.ttf) format('truetype');}@font-face {font-family: 'Nunito';font-style: normal;font-weight: 900;font-display: swap;src: url(https://fonts.gstatic.com/s/nunito/v25/XRXI3I6Li01BKofiOc5wtlZ2di8HDBImdTo3ig.ttf) format('truetype');}@font-face {font-family: 'Poppins';font-style: italic;font-weight: 100;font-display: swap;src: url(https://fonts.gstatic.com/s/poppins/v20/pxiAyp8kv8JHgFVrJJLmE0tMMPc.ttf) format('truetype');}@font-face {font-family: 'Poppins';font-style: italic;font-weight: 200;font-display: swap;src: url(https://fonts.gstatic.com/s/poppins/v20/pxiDyp8kv8JHgFVrJJLmv1pVGdeL.ttf) format('truetype');}@font-face {font-family: 'Poppins';font-style: italic;font-weight: 300;font-display: swap;src: url(https://fonts.gstatic.com/s/poppins/v20/pxiDyp8kv8JHgFVrJJLm21lVGdeL.ttf) format('truetype');}@font-face {font-family: 'Poppins';font-style: italic;font-weight: 400;font-display: swap;src: url(https://fonts.gstatic.com/s/poppins/v20/pxiGyp8kv8JHgFVrJJLufntF.ttf) format('truetype');}@font-face {font-family: 'Poppins';font-style: italic;font-weight: 500;font-display: swap;src: url(https://fonts.gstatic.com/s/poppins/v20/pxiDyp8kv8JHgFVrJJLmg1hVGdeL.ttf) format('truetype');}@font-face {font-family: 'Poppins';font-style: italic;font-weight: 600;font-display: swap;src: url(https://fonts.gstatic.com/s/poppins/v20/pxiDyp8kv8JHgFVrJJLmr19VGdeL.ttf) format('truetype');}@font-face {font-family: 'Poppins';font-style: italic;font-weight: 700;font-display: swap;src: url(https://fonts.gstatic.com/s/poppins/v20/pxiDyp8kv8JHgFVrJJLmy15VGdeL.ttf) format('truetype');}@font-face {font-family: 'Poppins';font-style: italic;font-weight: 800;font-display: swap;src: url(https://fonts.gstatic.com/s/poppins/v20/pxiDyp8kv8JHgFVrJJLm111VGdeL.ttf) format('truetype');}@font-face {font-family: 'Poppins';font-style: italic;font-weight: 900;font-display: swap;src: url(https://fonts.gstatic.com/s/poppins/v20/pxiDyp8kv8JHgFVrJJLm81xVGdeL.ttf) format('truetype');}@font-face {font-family: 'Poppins';font-style: normal;font-weight: 100;font-display: swap;src: url(https://fonts.gstatic.com/s/poppins/v20/pxiGyp8kv8JHgFVrLPTufntF.ttf) format('truetype');}@font-face {font-family: 'Poppins';font-style: normal;font-weight: 200;font-display: swap;src: url(https://fonts.gstatic.com/s/poppins/v20/pxiByp8kv8JHgFVrLFj_Z1JlEA.ttf) format('truetype');}@font-face {font-family: 'Poppins';font-style: normal;font-weight: 300;font-display: swap;src: url(https://fonts.gstatic.com/s/poppins/v20/pxiByp8kv8JHgFVrLDz8Z1JlEA.ttf) format('truetype');}@font-face {font-family: 'Poppins';font-style: normal;font-weight: 400;font-display: swap;src: url(https://fonts.gstatic.com/s/poppins/v20/pxiEyp8kv8JHgFVrJJnedw.ttf) format('truetype');}@font-face {font-family: 'Poppins';font-style: normal;font-weight: 500;font-display: swap;src: url(https://fonts.gstatic.com/s/poppins/v20/pxiByp8kv8JHgFVrLGT9Z1JlEA.ttf) format('truetype');}@font-face {font-family: 'Poppins';font-style: normal;font-weight: 600;font-display: swap;src: url(https://fonts.gstatic.com/s/poppins/v20/pxiByp8kv8JHgFVrLEj6Z1JlEA.ttf) format('truetype');}@font-face {font-family: 'Poppins';font-style: normal;font-weight: 700;font-display: swap;src: url(https://fonts.gstatic.com/s/poppins/v20/pxiByp8kv8JHgFVrLCz7Z1JlEA.ttf) format('truetype');}@font-face {font-family: 'Poppins';font-style: normal;font-weight: 800;font-display: swap;src: url(https://fonts.gstatic.com/s/poppins/v20/pxiByp8kv8JHgFVrLDD4Z1JlEA.ttf) format('truetype');}@font-face {font-family: 'Poppins';font-style: normal;font-weight: 900;font-display: swap;src: url(https://fonts.gstatic.com/s/poppins/v20/pxiByp8kv8JHgFVrLBT5Z1JlEA.ttf) format('truetype');}/* User Agent: Mozilla/5.0 (Windows NT 6.1; WOW64; rv:27.0) Gecko/20100101 Firefox/27.0 */@font-face {font-family: 'Bebas Neue';font-style: normal;font-weight: 400;font-display: swap;src: url(https://fonts.gstatic.com/s/bebasneue/v10/JTUSjIg69CK48gW7PXoo9WdhzQ.woff) format('woff');}@font-face {font-family: 'Nunito';font-style: italic;font-weight: 200;font-display: swap;src: url(https://fonts.gstatic.com/s/nunito/v25/XRXK3I6Li01BKofIMPyPbj8d7IEAGXNiLXAHg6bc.woff) format('woff');}@font-face {font-family: 'Nunito';font-style: italic;font-weight: 300;font-display: swap;src: url(https://fonts.gstatic.com/s/nunito/v25/XRXK3I6Li01BKofIMPyPbj8d7IEAGXNi83AHg6bc.woff) format('woff');}@font-face {font-family: 'Nunito';font-style: italic;font-weight: 400;font-display: swap;src: url(https://fonts.gstatic.com/s/nunito/v25/XRXK3I6Li01BKofIMPyPbj8d7IEAGXNirXAHg6bc.woff) format('woff');}@font-face {font-family: 'Nunito';font-style: italic;font-weight: 600;font-display: swap;src: url(https://fonts.gstatic.com/s/nunito/v25/XRXK3I6Li01BKofIMPyPbj8d7IEAGXNic3cHg6bc.woff) format('woff');}@font-face {font-family: 'Nunito';font-style: italic;font-weight: 700;font-display: swap;src: url(https://fonts.gstatic.com/s/nunito/v25/XRXK3I6Li01BKofIMPyPbj8d7IEAGXNiSncHg6bc.woff) format('woff');}@font-face {font-family: 'Nunito';font-style: italic;font-weight: 800;font-display: swap;src: url(https://fonts.gstatic.com/s/nunito/v25/XRXK3I6Li01BKofIMPyPbj8d7IEAGXNiLXcHg6bc.woff) format('woff');}@font-face {font-family: 'Nunito';font-style: italic;font-weight: 900;font-display: swap;src: url(https://fonts.gstatic.com/s/nunito/v25/XRXK3I6Li01BKofIMPyPbj8d7IEAGXNiBHcHg6bc.woff) format('woff');}@font-face {font-family: 'Nunito';font-style: normal;font-weight: 200;font-display: swap;src: url(https://fonts.gstatic.com/s/nunito/v25/XRXI3I6Li01BKofiOc5wtlZ2di8HDDshdTo3iQ.woff) format('woff');}@font-face {font-family: 'Nunito';font-style: normal;font-weight: 300;font-display: swap;src: url(https://fonts.gstatic.com/s/nunito/v25/XRXI3I6Li01BKofiOc5wtlZ2di8HDOUhdTo3iQ.woff) format('woff');}@font-face {font-family: 'Nunito';font-style: normal;font-weight: 400;font-display: swap;src: url(https://fonts.gstatic.com/s/nunito/v25/XRXI3I6Li01BKofiOc5wtlZ2di8HDLshdTo3iQ.woff) format('woff');}@font-face {font-family: 'Nunito';font-style: normal;font-weight: 600;font-display: swap;src: url(https://fonts.gstatic.com/s/nunito/v25/XRXI3I6Li01BKofiOc5wtlZ2di8HDGUmdTo3iQ.woff) format('woff');}@font-face {font-family: 'Nunito';font-style: normal;font-weight: 700;font-display: swap;src: url(https://fonts.gstatic.com/s/nunito/v25/XRXI3I6Li01BKofiOc5wtlZ2di8HDFwmdTo3iQ.woff) format('woff');}@font-face {font-family: 'Nunito';font-style: normal;font-weight: 800;font-display: swap;src: url(https://fonts.gstatic.com/s/nunito/v25/XRXI3I6Li01BKofiOc5wtlZ2di8HDDsmdTo3iQ.woff) format('woff');}@font-face {font-family: 'Nunito';font-style: normal;font-weight: 900;font-display: swap;src: url(https://fonts.gstatic.com/s/nunito/v25/XRXI3I6Li01BKofiOc5wtlZ2di8HDBImdTo3iQ.woff) format('woff');}@font-face {font-family: 'Poppins';font-style: italic;font-weight: 100;font-display: swap;src: url(https://fonts.gstatic.com/s/poppins/v20/pxiAyp8kv8JHgFVrJJLmE0tMMPQ.woff) format('woff');}@font-face {font-family: 'Poppins';font-style: italic;font-weight: 200;font-display: swap;src: url(https://fonts.gstatic.com/s/poppins/v20/pxiDyp8kv8JHgFVrJJLmv1pVGdeI.woff) format('woff');}@font-face {font-family: 'Poppins';font-style: italic;font-weight: 300;font-display: swap;src: url(https://fonts.gstatic.com/s/poppins/v20/pxiDyp8kv8JHgFVrJJLm21lVGdeI.woff) format('woff');}@font-face {font-family: 'Poppins';font-style: italic;font-weight: 400;font-display: swap;src: url(https://fonts.gstatic.com/s/poppins/v20/pxiGyp8kv8JHgFVrJJLufntG.woff) format('woff');}@font-face {font-family: 'Poppins';font-style: italic;font-weight: 500;font-display: swap;src: url(https://fonts.gstatic.com/s/poppins/v20/pxiDyp8kv8JHgFVrJJLmg1hVGdeI.woff) format('woff');}@font-face {font-family: 'Poppins';font-style: italic;font-weight: 600;font-display: swap;src: url(https://fonts.gstatic.com/s/poppins/v20/pxiDyp8kv8JHgFVrJJLmr19VGdeI.woff) format('woff');}@font-face {font-family: 'Poppins';font-style: italic;font-weight: 700;font-display: swap;src: url(https://fonts.gstatic.com/s/poppins/v20/pxiDyp8kv8JHgFVrJJLmy15VGdeI.woff) format('woff');}@font-face {font-family: 'Poppins';font-style: italic;font-weight: 800;font-display: swap;src: url(https://fonts.gstatic.com/s/poppins/v20/pxiDyp8kv8JHgFVrJJLm111VGdeI.woff) format('woff');}@font-face {font-family: 'Poppins';font-style: italic;font-weight: 900;font-display: swap;src: url(https://fonts.gstatic.com/s/poppins/v20/pxiDyp8kv8JHgFVrJJLm81xVGdeI.woff) format('woff');}@font-face {font-family: 'Poppins';font-style: normal;font-weight: 100;font-display: swap;src: url(https://fonts.gstatic.com/s/poppins/v20/pxiGyp8kv8JHgFVrLPTufntG.woff) format('woff');}@font-face {font-family: 'Poppins';font-style: normal;font-weight: 200;font-display: swap;src: url(https://fonts.gstatic.com/s/poppins/v20/pxiByp8kv8JHgFVrLFj_Z1JlEw.woff) format('woff');}@font-face {font-family: 'Poppins';font-style: normal;font-weight: 300;font-display: swap;src: url(https://fonts.gstatic.com/s/poppins/v20/pxiByp8kv8JHgFVrLDz8Z1JlEw.woff) format('woff');}@font-face {font-family: 'Poppins';font-style: normal;font-weight: 400;font-display: swap;src: url(https://fonts.gstatic.com/s/poppins/v20/pxiEyp8kv8JHgFVrJJnedA.woff) format('woff');}@font-face {font-family: 'Poppins';font-style: normal;font-weight: 500;font-display: swap;src: url(https://fonts.gstatic.com/s/poppins/v20/pxiByp8kv8JHgFVrLGT9Z1JlEw.woff) format('woff');}@font-face {font-family: 'Poppins';font-style: normal;font-weight: 600;font-display: swap;src: url(https://fonts.gstatic.com/s/poppins/v20/pxiByp8kv8JHgFVrLEj6Z1JlEw.woff) format('woff');}@font-face {font-family: 'Poppins';font-style: normal;font-weight: 700;font-display: swap;src: url(https://fonts.gstatic.com/s/poppins/v20/pxiByp8kv8JHgFVrLCz7Z1JlEw.woff) format('woff');}@font-face {font-family: 'Poppins';font-style: normal;font-weight: 800;font-display: swap;src: url(https://fonts.gstatic.com/s/poppins/v20/pxiByp8kv8JHgFVrLDD4Z1JlEw.woff) format('woff');}@font-face {font-family: 'Poppins';font-style: normal;font-weight: 900;font-display: swap;src: url(https://fonts.gstatic.com/s/poppins/v20/pxiByp8kv8JHgFVrLBT5Z1JlEw.woff) format('woff');}/* User Agent: Mozilla/5.0 (Windows NT 6.3; rv:39.0) Gecko/20100101 Firefox/39.0 */@font-face {font-family: 'Bebas Neue';font-style: normal;font-weight: 400;font-display: swap;src: url(https://fonts.gstatic.com/s/bebasneue/v10/JTUSjIg69CK48gW7PXoo9Wdhyw.woff2) format('woff2');}@font-face {font-family: 'Nunito';font-style: italic;font-weight: 200;font-display: swap;src: url(https://fonts.gstatic.com/s/nunito/v25/XRXK3I6Li01BKofIMPyPbj8d7IEAGXNiLXAHg6ba.woff2) format('woff2');}@font-face {font-family: 'Nunito';font-style: italic;font-weight: 300;font-display: swap;src: url(https://fonts.gstatic.com/s/nunito/v25/XRXK3I6Li01BKofIMPyPbj8d7IEAGXNi83AHg6ba.woff2) format('woff2');}@font-face {font-family: 'Nunito';font-style: italic;font-weight: 400;font-display: swap;src: url(https://fonts.gstatic.com/s/nunito/v25/XRXK3I6Li01BKofIMPyPbj8d7IEAGXNirXAHg6ba.woff2) format('woff2');}@font-face {font-family: 'Nunito';font-style: italic;font-weight: 600;font-display: swap;src: url(https://fonts.gstatic.com/s/nunito/v25/XRXK3I6Li01BKofIMPyPbj8d7IEAGXNic3cHg6ba.woff2) format('woff2');}@font-face {font-family: 'Nunito';font-style: italic;font-weight: 700;font-display: swap;src: url(https://fonts.gstatic.com/s/nunito/v25/XRXK3I6Li01BKofIMPyPbj8d7IEAGXNiSncHg6ba.woff2) format('woff2');}@font-face {font-family: 'Nunito';font-style: italic;font-weight: 800;font-display: swap;src: url(https://fonts.gstatic.com/s/nunito/v25/XRXK3I6Li01BKofIMPyPbj8d7IEAGXNiLXcHg6ba.woff2) format('woff2');}@font-face {font-family: 'Nunito';font-style: italic;font-weight: 900;font-display: swap;src: url(https://fonts.gstatic.com/s/nunito/v25/XRXK3I6Li01BKofIMPyPbj8d7IEAGXNiBHcHg6ba.woff2) format('woff2');}@font-face {font-family: 'Nunito';font-style: normal;font-weight: 200;font-display: swap;src: url(https://fonts.gstatic.com/s/nunito/v25/XRXI3I6Li01BKofiOc5wtlZ2di8HDDshdTo3jw.woff2) format('woff2');}@font-face {font-family: 'Nunito';font-style: normal;font-weight: 300;font-display: swap;src: url(https://fonts.gstatic.com/s/nunito/v25/XRXI3I6Li01BKofiOc5wtlZ2di8HDOUhdTo3jw.woff2) format('woff2');}@font-face {font-family: 'Nunito';font-style: normal;font-weight: 400;font-display: swap;src: url(https://fonts.gstatic.com/s/nunito/v25/XRXI3I6Li01BKofiOc5wtlZ2di8HDLshdTo3jw.woff2) format('woff2');}@font-face {font-family: 'Nunito';font-style: normal;font-weight: 600;font-display: swap;src: url(https://fonts.gstatic.com/s/nunito/v25/XRXI3I6Li01BKofiOc5wtlZ2di8HDGUmdTo3jw.woff2) format('woff2');}@font-face {font-family: 'Nunito';font-style: normal;font-weight: 700;font-display: swap;src: url(https://fonts.gstatic.com/s/nunito/v25/XRXI3I6Li01BKofiOc5wtlZ2di8HDFwmdTo3jw.woff2) format('woff2');}@font-face {font-family: 'Nunito';font-style: normal;font-weight: 800;font-display: swap;src: url(https://fonts.gstatic.com/s/nunito/v25/XRXI3I6Li01BKofiOc5wtlZ2di8HDDsmdTo3jw.woff2) format('woff2');}@font-face {font-family: 'Nunito';font-style: normal;font-weight: 900;font-display: swap;src: url(https://fonts.gstatic.com/s/nunito/v25/XRXI3I6Li01BKofiOc5wtlZ2di8HDBImdTo3jw.woff2) format('woff2');}@font-face {font-family: 'Poppins';font-style: italic;font-weight: 100;font-display: swap;src: url(https://fonts.gstatic.com/s/poppins/v20/pxiAyp8kv8JHgFVrJJLmE0tMMPI.woff2) format('woff2');}@font-face {font-family: 'Poppins';font-style: italic;font-weight: 200;font-display: swap;src: url(https://fonts.gstatic.com/s/poppins/v20/pxiDyp8kv8JHgFVrJJLmv1pVGdeO.woff2) format('woff2');}@font-face {font-family: 'Poppins';font-style: italic;font-weight: 300;font-display: swap;src: url(https://fonts.gstatic.com/s/poppins/v20/pxiDyp8kv8JHgFVrJJLm21lVGdeO.woff2) format('woff2');}@font-face {font-family: 'Poppins';font-style: italic;font-weight: 400;font-display: swap;src: url(https://fonts.gstatic.com/s/poppins/v20/pxiGyp8kv8JHgFVrJJLufntA.woff2) format('woff2');}@font-face {font-family: 'Poppins';font-style: italic;font-weight: 500;font-display: swap;src: url(https://fonts.gstatic.com/s/poppins/v20/pxiDyp8kv8JHgFVrJJLmg1hVGdeO.woff2) format('woff2');}@font-face {font-family: 'Poppins';font-style: italic;font-weight: 600;font-display: swap;src: url(https://fonts.gstatic.com/s/poppins/v20/pxiDyp8kv8JHgFVrJJLmr19VGdeO.woff2) format('woff2');}@font-face {font-family: 'Poppins';font-style: italic;font-weight: 700;font-display: swap;src: url(https://fonts.gstatic.com/s/poppins/v20/pxiDyp8kv8JHgFVrJJLmy15VGdeO.woff2) format('woff2');}@font-face {font-family: 'Poppins';font-style: italic;font-weight: 800;font-display: swap;src: url(https://fonts.gstatic.com/s/poppins/v20/pxiDyp8kv8JHgFVrJJLm111VGdeO.woff2) format('woff2');}@font-face {font-family: 'Poppins';font-style: italic;font-weight: 900;font-display: swap;src: url(https://fonts.gstatic.com/s/poppins/v20/pxiDyp8kv8JHgFVrJJLm81xVGdeO.woff2) format('woff2');}@font-face {font-family: 'Poppins';font-style: normal;font-weight: 100;font-display: swap;src: url(https://fonts.gstatic.com/s/poppins/v20/pxiGyp8kv8JHgFVrLPTufntA.woff2) format('woff2');}@font-face {font-family: 'Poppins';font-style: normal;font-weight: 200;font-display: swap;src: url(https://fonts.gstatic.com/s/poppins/v20/pxiByp8kv8JHgFVrLFj_Z1JlFQ.woff2) format('woff2');}@font-face {font-family: 'Poppins';font-style: normal;font-weight: 300;font-display: swap;src: url(https://fonts.gstatic.com/s/poppins/v20/pxiByp8kv8JHgFVrLDz8Z1JlFQ.woff2) format('woff2');}@font-face {font-family: 'Poppins';font-style: normal;font-weight: 400;font-display: swap;src: url(https://fonts.gstatic.com/s/poppins/v20/pxiEyp8kv8JHgFVrJJnecg.woff2) format('woff2');}@font-face {font-family: 'Poppins';font-style: normal;font-weight: 500;font-display: swap;src: url(https://fonts.gstatic.com/s/poppins/v20/pxiByp8kv8JHgFVrLGT9Z1JlFQ.woff2) format('woff2');}@font-face {font-family: 'Poppins';font-style: normal;font-weight: 600;font-display: swap;src: url(https://fonts.gstatic.com/s/poppins/v20/pxiByp8kv8JHgFVrLEj6Z1JlFQ.woff2) format('woff2');}@font-face {font-family: 'Poppins';font-style: normal;font-weight: 700;font-display: swap;src: url(https://fonts.gstatic.com/s/poppins/v20/pxiByp8kv8JHgFVrLCz7Z1JlFQ.woff2) format('woff2');}@font-face {font-family: 'Poppins';font-style: normal;font-weight: 800;font-display: swap;src: url(https://fonts.gstatic.com/s/poppins/v20/pxiByp8kv8JHgFVrLDD4Z1JlFQ.woff2) format('woff2');}@font-face {font-family: 'Poppins';font-style: normal;font-weight: 900;font-display: swap;src: url(https://fonts.gstatic.com/s/poppins/v20/pxiByp8kv8JHgFVrLBT5Z1JlFQ.woff2) format('woff2');}</style><meta content=\"index, follow, max-image-preview:large, max-snippet:-1, max-video-preview:-1\" name=\"robots\">\n",
       "<script type=\"text/javascript\">\n",
       "\t\t\tlet jqueryParams=[],jQuery=function(r){return jqueryParams=[...jqueryParams,r],jQuery},$=function(r){return jqueryParams=[...jqueryParams,r],$};window.jQuery=jQuery,window.$=jQuery;let customHeadScripts=!1;jQuery.fn=jQuery.prototype={},$.fn=jQuery.prototype={},jQuery.noConflict=function(r){if(window.jQuery)return jQuery=window.jQuery,$=window.jQuery,customHeadScripts=!0,jQuery.noConflict},jQuery.ready=function(r){jqueryParams=[...jqueryParams,r]},$.ready=function(r){jqueryParams=[...jqueryParams,r]},jQuery.load=function(r){jqueryParams=[...jqueryParams,r]},$.load=function(r){jqueryParams=[...jqueryParams,r]},jQuery.fn.ready=function(r){jqueryParams=[...jqueryParams,r]},$.fn.ready=function(r){jqueryParams=[...jqueryParams,r]};</script>\n",
       "<!-- This site is optimized with the Yoast SEO plugin v20.2.1 - https://yoast.com/wordpress/plugins/seo/ -->\n",
       "<title>Spotlight on APIDA Voices: Celebrating Heritage and Inspiring Change ft. Arbeena Thapa</title>\n",
       "<meta content=\"May is traditionally known as Asian American and Pacific Islander (AAPI) Heritage Month. Learn more about APIDA culture with us!\" name=\"description\"/>\n",
       "<link href=\"https://codeup.com/featured/apida-heritage-month/\" rel=\"canonical\"/>\n",
       "<meta content=\"en_US\" property=\"og:locale\"/>\n",
       "<meta content=\"article\" property=\"og:type\"/>\n",
       "<meta content=\"Spotlight on APIDA Voices: Celebrating Heritage and Inspiring Change ft. Arbeena Thapa\" property=\"og:title\"/>\n",
       "<meta content=\"May is traditionally known as Asian American and Pacific Islander (AAPI) Heritage Month. Learn more about APIDA culture with us!\" property=\"og:description\"/>\n",
       "<meta content=\"https://codeup.com/featured/apida-heritage-month/\" property=\"og:url\"/>\n",
       "<meta content=\"Codeup\" property=\"og:site_name\"/>\n",
       "<meta content=\"https://www.facebook.com/GoCodeup/\" property=\"article:publisher\"/>\n",
       "<meta content=\"2023-05-24T18:36:21+00:00\" property=\"article:published_time\"/>\n",
       "<meta content=\"2023-05-24T19:16:07+00:00\" property=\"article:modified_time\"/>\n",
       "<meta content=\"https://tribucodeup.wpenginepowered.com/wp-content/uploads/2023/05/aapi23-1.png\" property=\"og:image\"/>\n",
       "<meta content=\"1920\" property=\"og:image:width\"/>\n",
       "<meta content=\"1080\" property=\"og:image:height\"/>\n",
       "<meta content=\"image/png\" property=\"og:image:type\"/>\n",
       "<meta content=\"Kyler\" name=\"author\"/>\n",
       "<meta content=\"summary_large_image\" name=\"twitter:card\"/>\n",
       "<meta content=\"@gocodeup\" name=\"twitter:creator\"/>\n",
       "<meta content=\"@gocodeup\" name=\"twitter:site\"/>\n",
       "<meta content=\"Written by\" name=\"twitter:label1\"/>\n",
       "<meta content=\"Kyler\" name=\"twitter:data1\"/>\n",
       "<meta content=\"Est. reading time\" name=\"twitter:label2\"/>\n",
       "<meta content=\"4 minutes\" name=\"twitter:data2\"/>\n",
       "<script class=\"yoast-schema-graph\" type=\"application/ld+json\">{\"@context\":\"https://schema.org\",\"@graph\":[{\"@type\":\"Article\",\"@id\":\"https://codeup.com/featured/apida-heritage-month/#article\",\"isPartOf\":{\"@id\":\"https://codeup.com/featured/apida-heritage-month/\"},\"author\":{\"name\":\"Kyler\",\"@id\":\"https://codeup.com/#/schema/person/65dfd2a1df48b85e9748604d85444f74\"},\"headline\":\"Spotlight on APIDA Voices: Celebrating Heritage and Inspiring Change ft. Arbeena Thapa\",\"datePublished\":\"2023-05-24T18:36:21+00:00\",\"dateModified\":\"2023-05-24T19:16:07+00:00\",\"mainEntityOfPage\":{\"@id\":\"https://codeup.com/featured/apida-heritage-month/\"},\"wordCount\":867,\"publisher\":{\"@id\":\"https://codeup.com/#organization\"},\"image\":{\"@id\":\"https://codeup.com/featured/apida-heritage-month/#primaryimage\"},\"thumbnailUrl\":\"https://tribucodeup.wpenginepowered.com/wp-content/uploads/2023/05/aapi23-1.png\",\"articleSection\":[\"Featured\"],\"inLanguage\":\"en-US\"},{\"@type\":\"WebPage\",\"@id\":\"https://codeup.com/featured/apida-heritage-month/\",\"url\":\"https://codeup.com/featured/apida-heritage-month/\",\"name\":\"Spotlight on APIDA Voices: Celebrating Heritage and Inspiring Change ft. Arbeena Thapa\",\"isPartOf\":{\"@id\":\"https://codeup.com/#website\"},\"primaryImageOfPage\":{\"@id\":\"https://codeup.com/featured/apida-heritage-month/#primaryimage\"},\"image\":{\"@id\":\"https://codeup.com/featured/apida-heritage-month/#primaryimage\"},\"thumbnailUrl\":\"https://tribucodeup.wpenginepowered.com/wp-content/uploads/2023/05/aapi23-1.png\",\"datePublished\":\"2023-05-24T18:36:21+00:00\",\"dateModified\":\"2023-05-24T19:16:07+00:00\",\"description\":\"May is traditionally known as Asian American and Pacific Islander (AAPI) Heritage Month. Learn more about APIDA culture with us!\",\"breadcrumb\":{\"@id\":\"https://codeup.com/featured/apida-heritage-month/#breadcrumb\"},\"inLanguage\":\"en-US\",\"potentialAction\":[{\"@type\":\"ReadAction\",\"target\":[\"https://codeup.com/featured/apida-heritage-month/\"]}]},{\"@type\":\"ImageObject\",\"inLanguage\":\"en-US\",\"@id\":\"https://codeup.com/featured/apida-heritage-month/#primaryimage\",\"url\":\"https://tribucodeup.wpenginepowered.com/wp-content/uploads/2023/05/aapi23-1.png\",\"contentUrl\":\"https://tribucodeup.wpenginepowered.com/wp-content/uploads/2023/05/aapi23-1.png\",\"width\":1920,\"height\":1080,\"caption\":\"apida heritage\"},{\"@type\":\"BreadcrumbList\",\"@id\":\"https://codeup.com/featured/apida-heritage-month/#breadcrumb\",\"itemListElement\":[{\"@type\":\"ListItem\",\"position\":1,\"name\":\"Home\",\"item\":\"https://codeup.com/\"},{\"@type\":\"ListItem\",\"position\":2,\"name\":\"Blog\",\"item\":\"https://codeup.com/blog/\"},{\"@type\":\"ListItem\",\"position\":3,\"name\":\"Spotlight on APIDA Voices: Celebrating Heritage and Inspiring Change ft. Arbeena Thapa\"}]},{\"@type\":\"WebSite\",\"@id\":\"https://codeup.com/#website\",\"url\":\"https://codeup.com/\",\"name\":\"Codeup\",\"description\":\"Tech Bootcamp\",\"publisher\":{\"@id\":\"https://codeup.com/#organization\"},\"potentialAction\":[{\"@type\":\"SearchAction\",\"target\":{\"@type\":\"EntryPoint\",\"urlTemplate\":\"https://codeup.com/?s={search_term_string}\"},\"query-input\":\"required name=search_term_string\"}],\"inLanguage\":\"en-US\"},{\"@type\":\"Organization\",\"@id\":\"https://codeup.com/#organization\",\"name\":\"Codeup\",\"url\":\"https://codeup.com/\",\"logo\":{\"@type\":\"ImageObject\",\"inLanguage\":\"en-US\",\"@id\":\"https://codeup.com/#/schema/logo/image/\",\"url\":\"https://tribucodeup.wpenginepowered.com/wp-content/uploads/2021/06/codeup_logo.png\",\"contentUrl\":\"https://tribucodeup.wpenginepowered.com/wp-content/uploads/2021/06/codeup_logo.png\",\"width\":226,\"height\":86,\"caption\":\"Codeup\"},\"image\":{\"@id\":\"https://codeup.com/#/schema/logo/image/\"},\"sameAs\":[\"https://www.facebook.com/GoCodeup/\",\"https://twitter.com/gocodeup\",\"https://www.instagram.com/gocodeup/\",\"https://www.linkedin.com/school/codeup/\"]},{\"@type\":\"Person\",\"@id\":\"https://codeup.com/#/schema/person/65dfd2a1df48b85e9748604d85444f74\",\"name\":\"Kyler\",\"image\":{\"@type\":\"ImageObject\",\"inLanguage\":\"en-US\",\"@id\":\"https://codeup.com/#/schema/person/image/\",\"url\":\"https://secure.gravatar.com/avatar/29bd0c0bdaf67dbaf65326bcf4220414?s=96&d=mm&r=g\",\"contentUrl\":\"https://secure.gravatar.com/avatar/29bd0c0bdaf67dbaf65326bcf4220414?s=96&d=mm&r=g\",\"caption\":\"Kyler\"}}]}</script>\n",
       "<!-- / Yoast SEO plugin. -->\n",
       "<link href=\"//js.hs-scripts.com\" rel=\"dns-prefetch\"/>\n",
       "<link href=\"https://codeup.com/feed/\" rel=\"alternate\" title=\"Codeup » Feed\" type=\"application/rss+xml\"/>\n",
       "<link href=\"https://codeup.com/comments/feed/\" rel=\"alternate\" title=\"Codeup » Comments Feed\" type=\"application/rss+xml\"/>\n",
       "<link href=\"https://codeup.com/events/?ical=1\" rel=\"alternate\" title=\"Codeup » iCal Feed\" type=\"text/calendar\"/>\n",
       "<link href=\"https://codeup.com/featured/apida-heritage-month/feed/\" rel=\"alternate\" title=\"Codeup » Spotlight on APIDA Voices: Celebrating Heritage and Inspiring Change ft. Arbeena Thapa Comments Feed\" type=\"application/rss+xml\"/>\n",
       "<meta content=\"Codeup v.1.0.0\" name=\"generator\"/><link href=\"https://tribucodeup.wpenginepowered.com/wp-content/plugins/divi-mobile/styles/burger-menu-styles.min.css?ver=1.7\" id=\"divi-mobile-burger-styles-css\" media=\"all\" rel=\"stylesheet\" type=\"text/css\"/>\n",
       "<link href=\"https://tribucodeup.wpenginepowered.com/wp-content/plugins/divi-mobile/styles/frontend-general.min.css?ver=1.7\" id=\"divi-mobile-general-css\" media=\"all\" rel=\"stylesheet\" type=\"text/css\"/>\n",
       "<link href=\"https://tribucodeup.wpenginepowered.com/wp-content/plugins/events-calendar-pro/src/resources/css/tribe-events-pro-mini-calendar-block.min.css?ver=6.0.9.2\" id=\"tribe-events-pro-mini-calendar-block-styles-css\" media=\"all\" rel=\"stylesheet\" type=\"text/css\"/>\n",
       "<link href=\"https://tribucodeup.wpenginepowered.com/wp-includes/css/dist/block-library/style.min.css?ver=6.2.2\" id=\"wp-block-library-css\" media=\"all\" rel=\"stylesheet\" type=\"text/css\"/>\n",
       "<style id=\"wp-block-library-theme-inline-css\" type=\"text/css\">\n",
       ".wp-block-audio figcaption{color:#555;font-size:13px;text-align:center}.is-dark-theme .wp-block-audio figcaption{color:hsla(0,0%,100%,.65)}.wp-block-audio{margin:0 0 1em}.wp-block-code{border:1px solid #ccc;border-radius:4px;font-family:Menlo,Consolas,monaco,monospace;padding:.8em 1em}.wp-block-embed figcaption{color:#555;font-size:13px;text-align:center}.is-dark-theme .wp-block-embed figcaption{color:hsla(0,0%,100%,.65)}.wp-block-embed{margin:0 0 1em}.blocks-gallery-caption{color:#555;font-size:13px;text-align:center}.is-dark-theme .blocks-gallery-caption{color:hsla(0,0%,100%,.65)}.wp-block-image figcaption{color:#555;font-size:13px;text-align:center}.is-dark-theme .wp-block-image figcaption{color:hsla(0,0%,100%,.65)}.wp-block-image{margin:0 0 1em}.wp-block-pullquote{border-bottom:4px solid;border-top:4px solid;color:currentColor;margin-bottom:1.75em}.wp-block-pullquote cite,.wp-block-pullquote footer,.wp-block-pullquote__citation{color:currentColor;font-size:.8125em;font-style:normal;text-transform:uppercase}.wp-block-quote{border-left:.25em solid;margin:0 0 1.75em;padding-left:1em}.wp-block-quote cite,.wp-block-quote footer{color:currentColor;font-size:.8125em;font-style:normal;position:relative}.wp-block-quote.has-text-align-right{border-left:none;border-right:.25em solid;padding-left:0;padding-right:1em}.wp-block-quote.has-text-align-center{border:none;padding-left:0}.wp-block-quote.is-large,.wp-block-quote.is-style-large,.wp-block-quote.is-style-plain{border:none}.wp-block-search .wp-block-search__label{font-weight:700}.wp-block-search__button{border:1px solid #ccc;padding:.375em .625em}:where(.wp-block-group.has-background){padding:1.25em 2.375em}.wp-block-separator.has-css-opacity{opacity:.4}.wp-block-separator{border:none;border-bottom:2px solid;margin-left:auto;margin-right:auto}.wp-block-separator.has-alpha-channel-opacity{opacity:1}.wp-block-separator:not(.is-style-wide):not(.is-style-dots){width:100px}.wp-block-separator.has-background:not(.is-style-dots){border-bottom:none;height:1px}.wp-block-separator.has-background:not(.is-style-wide):not(.is-style-dots){height:2px}.wp-block-table{margin:0 0 1em}.wp-block-table td,.wp-block-table th{word-break:normal}.wp-block-table figcaption{color:#555;font-size:13px;text-align:center}.is-dark-theme .wp-block-table figcaption{color:hsla(0,0%,100%,.65)}.wp-block-video figcaption{color:#555;font-size:13px;text-align:center}.is-dark-theme .wp-block-video figcaption{color:hsla(0,0%,100%,.65)}.wp-block-video{margin:0 0 1em}.wp-block-template-part.has-background{margin-bottom:0;margin-top:0;padding:1.25em 2.375em}\n",
       "</style>\n",
       "<style id=\"global-styles-inline-css\" type=\"text/css\">\n",
       "body{--wp--preset--color--black: #000000;--wp--preset--color--cyan-bluish-gray: #abb8c3;--wp--preset--color--white: #ffffff;--wp--preset--color--pale-pink: #f78da7;--wp--preset--color--vivid-red: #cf2e2e;--wp--preset--color--luminous-vivid-orange: #ff6900;--wp--preset--color--luminous-vivid-amber: #fcb900;--wp--preset--color--light-green-cyan: #7bdcb5;--wp--preset--color--vivid-green-cyan: #00d084;--wp--preset--color--pale-cyan-blue: #8ed1fc;--wp--preset--color--vivid-cyan-blue: #0693e3;--wp--preset--color--vivid-purple: #9b51e0;--wp--preset--gradient--vivid-cyan-blue-to-vivid-purple: linear-gradient(135deg,rgba(6,147,227,1) 0%,rgb(155,81,224) 100%);--wp--preset--gradient--light-green-cyan-to-vivid-green-cyan: linear-gradient(135deg,rgb(122,220,180) 0%,rgb(0,208,130) 100%);--wp--preset--gradient--luminous-vivid-amber-to-luminous-vivid-orange: linear-gradient(135deg,rgba(252,185,0,1) 0%,rgba(255,105,0,1) 100%);--wp--preset--gradient--luminous-vivid-orange-to-vivid-red: linear-gradient(135deg,rgba(255,105,0,1) 0%,rgb(207,46,46) 100%);--wp--preset--gradient--very-light-gray-to-cyan-bluish-gray: linear-gradient(135deg,rgb(238,238,238) 0%,rgb(169,184,195) 100%);--wp--preset--gradient--cool-to-warm-spectrum: linear-gradient(135deg,rgb(74,234,220) 0%,rgb(151,120,209) 20%,rgb(207,42,186) 40%,rgb(238,44,130) 60%,rgb(251,105,98) 80%,rgb(254,248,76) 100%);--wp--preset--gradient--blush-light-purple: linear-gradient(135deg,rgb(255,206,236) 0%,rgb(152,150,240) 100%);--wp--preset--gradient--blush-bordeaux: linear-gradient(135deg,rgb(254,205,165) 0%,rgb(254,45,45) 50%,rgb(107,0,62) 100%);--wp--preset--gradient--luminous-dusk: linear-gradient(135deg,rgb(255,203,112) 0%,rgb(199,81,192) 50%,rgb(65,88,208) 100%);--wp--preset--gradient--pale-ocean: linear-gradient(135deg,rgb(255,245,203) 0%,rgb(182,227,212) 50%,rgb(51,167,181) 100%);--wp--preset--gradient--electric-grass: linear-gradient(135deg,rgb(202,248,128) 0%,rgb(113,206,126) 100%);--wp--preset--gradient--midnight: linear-gradient(135deg,rgb(2,3,129) 0%,rgb(40,116,252) 100%);--wp--preset--duotone--dark-grayscale: url('#wp-duotone-dark-grayscale');--wp--preset--duotone--grayscale: url('#wp-duotone-grayscale');--wp--preset--duotone--purple-yellow: url('#wp-duotone-purple-yellow');--wp--preset--duotone--blue-red: url('#wp-duotone-blue-red');--wp--preset--duotone--midnight: url('#wp-duotone-midnight');--wp--preset--duotone--magenta-yellow: url('#wp-duotone-magenta-yellow');--wp--preset--duotone--purple-green: url('#wp-duotone-purple-green');--wp--preset--duotone--blue-orange: url('#wp-duotone-blue-orange');--wp--preset--font-size--small: 13px;--wp--preset--font-size--medium: 20px;--wp--preset--font-size--large: 36px;--wp--preset--font-size--x-large: 42px;--wp--preset--spacing--20: 0.44rem;--wp--preset--spacing--30: 0.67rem;--wp--preset--spacing--40: 1rem;--wp--preset--spacing--50: 1.5rem;--wp--preset--spacing--60: 2.25rem;--wp--preset--spacing--70: 3.38rem;--wp--preset--spacing--80: 5.06rem;--wp--preset--shadow--natural: 6px 6px 9px rgba(0, 0, 0, 0.2);--wp--preset--shadow--deep: 12px 12px 50px rgba(0, 0, 0, 0.4);--wp--preset--shadow--sharp: 6px 6px 0px rgba(0, 0, 0, 0.2);--wp--preset--shadow--outlined: 6px 6px 0px -3px rgba(255, 255, 255, 1), 6px 6px rgba(0, 0, 0, 1);--wp--preset--shadow--crisp: 6px 6px 0px rgba(0, 0, 0, 1);}body { margin: 0;--wp--style--global--content-size: 823px;--wp--style--global--wide-size: 1080px; }.wp-site-blocks > .alignleft { float: left; margin-right: 2em; }.wp-site-blocks > .alignright { float: right; margin-left: 2em; }.wp-site-blocks > .aligncenter { justify-content: center; margin-left: auto; margin-right: auto; }:where(.is-layout-flex){gap: 0.5em;}body .is-layout-flow > .alignleft{float: left;margin-inline-start: 0;margin-inline-end: 2em;}body .is-layout-flow > .alignright{float: right;margin-inline-start: 2em;margin-inline-end: 0;}body .is-layout-flow > .aligncenter{margin-left: auto !important;margin-right: auto !important;}body .is-layout-constrained > .alignleft{float: left;margin-inline-start: 0;margin-inline-end: 2em;}body .is-layout-constrained > .alignright{float: right;margin-inline-start: 2em;margin-inline-end: 0;}body .is-layout-constrained > .aligncenter{margin-left: auto !important;margin-right: auto !important;}body .is-layout-constrained > :where(:not(.alignleft):not(.alignright):not(.alignfull)){max-width: var(--wp--style--global--content-size);margin-left: auto !important;margin-right: auto !important;}body .is-layout-constrained > .alignwide{max-width: var(--wp--style--global--wide-size);}body .is-layout-flex{display: flex;}body .is-layout-flex{flex-wrap: wrap;align-items: center;}body .is-layout-flex > *{margin: 0;}body{padding-top: 0px;padding-right: 0px;padding-bottom: 0px;padding-left: 0px;}a:where(:not(.wp-element-button)){text-decoration: underline;}.wp-element-button, .wp-block-button__link{background-color: #32373c;border-width: 0;color: #fff;font-family: inherit;font-size: inherit;line-height: inherit;padding: calc(0.667em + 2px) calc(1.333em + 2px);text-decoration: none;}.has-black-color{color: var(--wp--preset--color--black) !important;}.has-cyan-bluish-gray-color{color: var(--wp--preset--color--cyan-bluish-gray) !important;}.has-white-color{color: var(--wp--preset--color--white) !important;}.has-pale-pink-color{color: var(--wp--preset--color--pale-pink) !important;}.has-vivid-red-color{color: var(--wp--preset--color--vivid-red) !important;}.has-luminous-vivid-orange-color{color: var(--wp--preset--color--luminous-vivid-orange) !important;}.has-luminous-vivid-amber-color{color: var(--wp--preset--color--luminous-vivid-amber) !important;}.has-light-green-cyan-color{color: var(--wp--preset--color--light-green-cyan) !important;}.has-vivid-green-cyan-color{color: var(--wp--preset--color--vivid-green-cyan) !important;}.has-pale-cyan-blue-color{color: var(--wp--preset--color--pale-cyan-blue) !important;}.has-vivid-cyan-blue-color{color: var(--wp--preset--color--vivid-cyan-blue) !important;}.has-vivid-purple-color{color: var(--wp--preset--color--vivid-purple) !important;}.has-black-background-color{background-color: var(--wp--preset--color--black) !important;}.has-cyan-bluish-gray-background-color{background-color: var(--wp--preset--color--cyan-bluish-gray) !important;}.has-white-background-color{background-color: var(--wp--preset--color--white) !important;}.has-pale-pink-background-color{background-color: var(--wp--preset--color--pale-pink) !important;}.has-vivid-red-background-color{background-color: var(--wp--preset--color--vivid-red) !important;}.has-luminous-vivid-orange-background-color{background-color: var(--wp--preset--color--luminous-vivid-orange) !important;}.has-luminous-vivid-amber-background-color{background-color: var(--wp--preset--color--luminous-vivid-amber) !important;}.has-light-green-cyan-background-color{background-color: var(--wp--preset--color--light-green-cyan) !important;}.has-vivid-green-cyan-background-color{background-color: var(--wp--preset--color--vivid-green-cyan) !important;}.has-pale-cyan-blue-background-color{background-color: var(--wp--preset--color--pale-cyan-blue) !important;}.has-vivid-cyan-blue-background-color{background-color: var(--wp--preset--color--vivid-cyan-blue) !important;}.has-vivid-purple-background-color{background-color: var(--wp--preset--color--vivid-purple) !important;}.has-black-border-color{border-color: var(--wp--preset--color--black) !important;}.has-cyan-bluish-gray-border-color{border-color: var(--wp--preset--color--cyan-bluish-gray) !important;}.has-white-border-color{border-color: var(--wp--preset--color--white) !important;}.has-pale-pink-border-color{border-color: var(--wp--preset--color--pale-pink) !important;}.has-vivid-red-border-color{border-color: var(--wp--preset--color--vivid-red) !important;}.has-luminous-vivid-orange-border-color{border-color: var(--wp--preset--color--luminous-vivid-orange) !important;}.has-luminous-vivid-amber-border-color{border-color: var(--wp--preset--color--luminous-vivid-amber) !important;}.has-light-green-cyan-border-color{border-color: var(--wp--preset--color--light-green-cyan) !important;}.has-vivid-green-cyan-border-color{border-color: var(--wp--preset--color--vivid-green-cyan) !important;}.has-pale-cyan-blue-border-color{border-color: var(--wp--preset--color--pale-cyan-blue) !important;}.has-vivid-cyan-blue-border-color{border-color: var(--wp--preset--color--vivid-cyan-blue) !important;}.has-vivid-purple-border-color{border-color: var(--wp--preset--color--vivid-purple) !important;}.has-vivid-cyan-blue-to-vivid-purple-gradient-background{background: var(--wp--preset--gradient--vivid-cyan-blue-to-vivid-purple) !important;}.has-light-green-cyan-to-vivid-green-cyan-gradient-background{background: var(--wp--preset--gradient--light-green-cyan-to-vivid-green-cyan) !important;}.has-luminous-vivid-amber-to-luminous-vivid-orange-gradient-background{background: var(--wp--preset--gradient--luminous-vivid-amber-to-luminous-vivid-orange) !important;}.has-luminous-vivid-orange-to-vivid-red-gradient-background{background: var(--wp--preset--gradient--luminous-vivid-orange-to-vivid-red) !important;}.has-very-light-gray-to-cyan-bluish-gray-gradient-background{background: var(--wp--preset--gradient--very-light-gray-to-cyan-bluish-gray) !important;}.has-cool-to-warm-spectrum-gradient-background{background: var(--wp--preset--gradient--cool-to-warm-spectrum) !important;}.has-blush-light-purple-gradient-background{background: var(--wp--preset--gradient--blush-light-purple) !important;}.has-blush-bordeaux-gradient-background{background: var(--wp--preset--gradient--blush-bordeaux) !important;}.has-luminous-dusk-gradient-background{background: var(--wp--preset--gradient--luminous-dusk) !important;}.has-pale-ocean-gradient-background{background: var(--wp--preset--gradient--pale-ocean) !important;}.has-electric-grass-gradient-background{background: var(--wp--preset--gradient--electric-grass) !important;}.has-midnight-gradient-background{background: var(--wp--preset--gradient--midnight) !important;}.has-small-font-size{font-size: var(--wp--preset--font-size--small) !important;}.has-medium-font-size{font-size: var(--wp--preset--font-size--medium) !important;}.has-large-font-size{font-size: var(--wp--preset--font-size--large) !important;}.has-x-large-font-size{font-size: var(--wp--preset--font-size--x-large) !important;}\n",
       ".wp-block-navigation a:where(:not(.wp-element-button)){color: inherit;}\n",
       ":where(.wp-block-columns.is-layout-flex){gap: 2em;}\n",
       ".wp-block-pullquote{font-size: 1.5em;line-height: 1.6;}\n",
       "</style>\n",
       "<link href=\"https://tribucodeup.wpenginepowered.com/wp-content/plugins/cookie-law-info/legacy/public/css/cookie-law-info-public.css?ver=3.0.8\" id=\"cookie-law-info-css\" media=\"all\" rel=\"stylesheet\" type=\"text/css\"/>\n",
       "<link href=\"https://tribucodeup.wpenginepowered.com/wp-content/plugins/cookie-law-info/legacy/public/css/cookie-law-info-gdpr.css?ver=3.0.8\" id=\"cookie-law-info-gdpr-css\" media=\"all\" rel=\"stylesheet\" type=\"text/css\"/>\n",
       "<link href=\"https://tribucodeup.wpenginepowered.com/wp-content/plugins/divi-mobile/styles/off-canvas/menu_sideslide.css?ver=1.7\" id=\"divi-mobile-offcanvas-slide-in-css\" media=\"all\" rel=\"stylesheet\" type=\"text/css\"/>\n",
       "<link href=\"https://tribucodeup.wpenginepowered.com/wp-content/plugins/divi-mobile/css/divi-mobile-stop-stacking.min.css?ver=6.2.2\" id=\"divi-mobile-stop-stacking-css\" media=\"all\" rel=\"stylesheet\" type=\"text/css\"/>\n",
       "<link href=\"https://tribucodeup.wpenginepowered.com/wp-content/plugins/popups-for-divi/styles/front.min.css?ver=3.0.5\" id=\"css-divi-area-css\" media=\"all\" rel=\"stylesheet\" type=\"text/css\"/>\n",
       "<style id=\"css-divi-area-inline-css\" type=\"text/css\">\n",
       ".et_pb_section.popup{display:none}\n",
       "</style>\n",
       "<style id=\"divi-style-parent-inline-inline-css\" type=\"text/css\">\n",
       "/*!\n",
       "Theme Name: Divi\n",
       "Theme URI: http://www.elegantthemes.com/gallery/divi/\n",
       "Version: 4.18.0\n",
       "Description: Smart. Flexible. Beautiful. Divi is the most powerful theme in our collection.\n",
       "Author: Elegant Themes\n",
       "Author URI: http://www.elegantthemes.com\n",
       "License: GNU General Public License v2\n",
       "License URI: http://www.gnu.org/licenses/gpl-2.0.html\n",
       "*/\n",
       "\n",
       "a,abbr,acronym,address,applet,b,big,blockquote,body,center,cite,code,dd,del,dfn,div,dl,dt,em,fieldset,font,form,h1,h2,h3,h4,h5,h6,html,i,iframe,img,ins,kbd,label,legend,li,object,ol,p,pre,q,s,samp,small,span,strike,strong,sub,sup,tt,u,ul,var{margin:0;padding:0;border:0;outline:0;font-size:100%;-ms-text-size-adjust:100%;-webkit-text-size-adjust:100%;vertical-align:baseline;background:transparent}body{line-height:1}ol,ul{list-style:none}blockquote,q{quotes:none}blockquote:after,blockquote:before,q:after,q:before{content:\"\";content:none}blockquote{margin:20px 0 30px;border-left:5px solid;padding-left:20px}:focus{outline:0}del{text-decoration:line-through}pre{overflow:auto;padding:10px}figure{margin:0}table{border-collapse:collapse;border-spacing:0}article,aside,footer,header,hgroup,nav,section{display:block}body{font-family:Open Sans,Arial,sans-serif;font-size:14px;color:#666;background-color:#fff;line-height:1.7em;font-weight:500;-webkit-font-smoothing:antialiased;-moz-osx-font-smoothing:grayscale}body.page-template-page-template-blank-php #page-container{padding-top:0!important}body.et_cover_background{background-size:cover!important;background-position:top!important;background-repeat:no-repeat!important;background-attachment:fixed}a{color:#2ea3f2}a,a:hover{text-decoration:none}p{padding-bottom:1em}p:not(.has-background):last-of-type{padding-bottom:0}p.et_normal_padding{padding-bottom:1em}strong{font-weight:700}cite,em,i{font-style:italic}code,pre{font-family:Courier New,monospace;margin-bottom:10px}ins{text-decoration:none}sub,sup{height:0;line-height:1;position:relative;vertical-align:baseline}sup{bottom:.8em}sub{top:.3em}dl{margin:0 0 1.5em}dl dt{font-weight:700}dd{margin-left:1.5em}blockquote p{padding-bottom:0}embed,iframe,object,video{max-width:100%}h1,h2,h3,h4,h5,h6{color:#333;padding-bottom:10px;line-height:1em;font-weight:500}h1 a,h2 a,h3 a,h4 a,h5 a,h6 a{color:inherit}h1{font-size:30px}h2{font-size:26px}h3{font-size:22px}h4{font-size:18px}h5{font-size:16px}h6{font-size:14px}input{-webkit-appearance:none}input[type=checkbox]{-webkit-appearance:checkbox}input[type=radio]{-webkit-appearance:radio}input.text,input.title,input[type=email],input[type=password],input[type=tel],input[type=text],select,textarea{background-color:#fff;border:1px solid #bbb;padding:2px;color:#4e4e4e}input.text:focus,input.title:focus,input[type=text]:focus,select:focus,textarea:focus{border-color:#2d3940;color:#3e3e3e}input.text,input.title,input[type=text],select,textarea{margin:0}textarea{padding:4px}button,input,select,textarea{font-family:inherit}img{max-width:100%;height:auto}.clear{clear:both}br.clear{margin:0;padding:0}.pagination{clear:both}#et_search_icon:hover,.et-social-icon a:hover,.et_password_protected_form .et_submit_button,.form-submit .et_pb_buttontton.alt.disabled,.nav-single a,.posted_in a{color:#2ea3f2}.et-search-form,blockquote{border-color:#2ea3f2}#main-content{background-color:#fff}.container{width:80%;max-width:1080px;margin:auto;position:relative}body:not(.et-tb) #main-content .container,body:not(.et-tb-has-header) #main-content .container{padding-top:58px}.et_full_width_page #main-content .container:before{display:none}.main_title{margin-bottom:20px}.et_password_protected_form .et_submit_button:hover,.form-submit .et_pb_button:hover{background:rgba(0,0,0,.05)}.et_button_icon_visible .et_pb_button{padding-right:2em;padding-left:.7em}.et_button_icon_visible .et_pb_button:after{opacity:1;margin-left:0}.et_button_left .et_pb_button:hover:after{left:.15em}.et_button_left .et_pb_button:after{margin-left:0;left:1em}.et_button_icon_visible.et_button_left .et_pb_button,.et_button_left .et_pb_button:hover,.et_button_left .et_pb_module .et_pb_button:hover{padding-left:2em;padding-right:.7em}.et_button_icon_visible.et_button_left .et_pb_button:after,.et_button_left .et_pb_button:hover:after{left:.15em}.et_password_protected_form .et_submit_button:hover,.form-submit .et_pb_button:hover{padding:.3em 1em}.et_button_no_icon .et_pb_button:after{display:none}.et_button_no_icon.et_button_icon_visible.et_button_left .et_pb_button,.et_button_no_icon.et_button_left .et_pb_button:hover,.et_button_no_icon .et_pb_button,.et_button_no_icon .et_pb_button:hover{padding:.3em 1em!important}.et_button_custom_icon .et_pb_button:after{line-height:1.7em}.et_button_custom_icon.et_button_icon_visible .et_pb_button:after,.et_button_custom_icon .et_pb_button:hover:after{margin-left:.3em}#left-area .post_format-post-format-gallery .wp-block-gallery:first-of-type{padding:0;margin-bottom:-16px}.entry-content table:not(.variations){border:1px solid #eee;margin:0 0 15px;text-align:left;width:100%}.entry-content thead th,.entry-content tr th{color:#555;font-weight:700;padding:9px 24px}.entry-content tr td{border-top:1px solid #eee;padding:6px 24px}#left-area ul,.entry-content ul,.et-l--body ul,.et-l--footer ul,.et-l--header ul{list-style-type:disc;padding:0 0 23px 1em;line-height:26px}#left-area ol,.entry-content ol,.et-l--body ol,.et-l--footer ol,.et-l--header ol{list-style-type:decimal;list-style-position:inside;padding:0 0 23px;line-height:26px}#left-area ul li ul,.entry-content ul li ol{padding:2px 0 2px 20px}#left-area ol li ul,.entry-content ol li ol,.et-l--body ol li ol,.et-l--footer ol li ol,.et-l--header ol li ol{padding:2px 0 2px 35px}#left-area ul.wp-block-gallery{display:-webkit-box;display:-ms-flexbox;display:flex;-ms-flex-wrap:wrap;flex-wrap:wrap;list-style-type:none;padding:0}#left-area ul.products{padding:0!important;line-height:1.7!important;list-style:none!important}.gallery-item a{display:block}.gallery-caption,.gallery-item a{width:90%}#wpadminbar{z-index:100001}#left-area .post-meta{font-size:14px;padding-bottom:15px}#left-area .post-meta a{text-decoration:none;color:#666}#left-area .et_featured_image{padding-bottom:7px}.single .post{padding-bottom:25px}body.single .et_audio_content{margin-bottom:-6px}.nav-single a{text-decoration:none;color:#2ea3f2;font-size:14px;font-weight:400}.nav-previous{float:left}.nav-next{float:right}.et_password_protected_form p input{background-color:#eee;border:none!important;width:100%!important;border-radius:0!important;font-size:14px;color:#999!important;padding:16px!important;-webkit-box-sizing:border-box;box-sizing:border-box}.et_password_protected_form label{display:none}.et_password_protected_form .et_submit_button{font-family:inherit;display:block;float:right;margin:8px auto 0;cursor:pointer}.post-password-required p.nocomments.container{max-width:100%}.post-password-required p.nocomments.container:before{display:none}.aligncenter,div.post .new-post .aligncenter{display:block;margin-left:auto;margin-right:auto}.wp-caption{border:1px solid #ddd;text-align:center;background-color:#f3f3f3;margin-bottom:10px;max-width:96%;padding:8px}.wp-caption.alignleft{margin:0 30px 20px 0}.wp-caption.alignright{margin:0 0 20px 30px}.wp-caption img{margin:0;padding:0;border:0}.wp-caption p.wp-caption-text{font-size:12px;padding:0 4px 5px;margin:0}.alignright{float:right}.alignleft{float:left}img.alignleft{display:inline;float:left;margin-right:15px}img.alignright{display:inline;float:right;margin-left:15px}.page.et_pb_pagebuilder_layout #main-content{background-color:transparent}body #main-content .et_builder_inner_content>h1,body #main-content .et_builder_inner_content>h2,body #main-content .et_builder_inner_content>h3,body #main-content .et_builder_inner_content>h4,body #main-content .et_builder_inner_content>h5,body #main-content .et_builder_inner_content>h6{line-height:1.4em}body #main-content .et_builder_inner_content>p{line-height:1.7em}.wp-block-pullquote{margin:20px 0 30px}.wp-block-pullquote.has-background blockquote{border-left:none}.wp-block-group.has-background{padding:1.5em 1.5em .5em}@media (min-width:981px){#left-area{width:79.125%;padding-bottom:23px}#main-content .container:before{content:\"\";position:absolute;top:0;height:100%;width:1px;background-color:#e2e2e2}.et_full_width_page #left-area,.et_no_sidebar #left-area{float:none;width:100%!important}.et_full_width_page #left-area{padding-bottom:0}.et_no_sidebar #main-content .container:before{display:none}}@media (max-width:980px){#page-container{padding-top:80px}.et-tb #page-container,.et-tb-has-header #page-container{padding-top:0!important}#left-area,#sidebar{width:100%!important}#main-content .container:before{display:none!important}.et_full_width_page .et_gallery_item:nth-child(4n+1){clear:none}}@media print{#page-container{padding-top:0!important}}#wp-admin-bar-et-use-visual-builder a:before{font-family:ETmodules!important;content:\"\\e625\";font-size:30px!important;width:28px;margin-top:-3px;color:#974df3!important}#wp-admin-bar-et-use-visual-builder:hover a:before{color:#fff!important}#wp-admin-bar-et-use-visual-builder:hover a,#wp-admin-bar-et-use-visual-builder a:hover{transition:background-color .5s ease;-webkit-transition:background-color .5s ease;-moz-transition:background-color .5s ease;background-color:#7e3bd0!important;color:#fff!important}* html .clearfix,:first-child+html .clearfix{zoom:1}.iphone .et_pb_section_video_bg video::-webkit-media-controls-start-playback-button{display:none!important;-webkit-appearance:none}.et_mobile_device .et_pb_section_parallax .et_pb_parallax_css{background-attachment:scroll}.et-social-facebook a.icon:before{content:\"\\e093\"}.et-social-twitter a.icon:before{content:\"\\e094\"}.et-social-google-plus a.icon:before{content:\"\\e096\"}.et-social-instagram a.icon:before{content:\"\\e09a\"}.et-social-rss a.icon:before{content:\"\\e09e\"}.ai1ec-single-event:after{content:\" \";display:table;clear:both}.evcal_event_details .evcal_evdata_cell .eventon_details_shading_bot.eventon_details_shading_bot{z-index:3}.wp-block-divi-layout{margin-bottom:1em}*{-webkit-box-sizing:border-box;box-sizing:border-box}#et-info-email:before,#et-info-phone:before,#et_search_icon:before,.comment-reply-link:after,.et-cart-info span:before,.et-pb-arrow-next:before,.et-pb-arrow-prev:before,.et-social-icon a:before,.et_audio_container .mejs-playpause-button button:before,.et_audio_container .mejs-volume-button button:before,.et_overlay:before,.et_password_protected_form .et_submit_button:after,.et_pb_button:after,.et_pb_contact_reset:after,.et_pb_contact_submit:after,.et_pb_font_icon:before,.et_pb_newsletter_button:after,.et_pb_pricing_table_button:after,.et_pb_promo_button:after,.et_pb_testimonial:before,.et_pb_toggle_title:before,.form-submit .et_pb_button:after,.mobile_menu_bar:before,a.et_pb_more_button:after{font-family:ETmodules!important;speak:none;font-style:normal;font-weight:400;-webkit-font-feature-settings:normal;font-feature-settings:normal;font-variant:normal;text-transform:none;line-height:1;-webkit-font-smoothing:antialiased;-moz-osx-font-smoothing:grayscale;text-shadow:0 0;direction:ltr}.et-pb-icon,.et_pb_custom_button_icon.et_pb_button:after,.et_pb_login .et_pb_custom_button_icon.et_pb_button:after,.et_pb_woo_custom_button_icon .button.et_pb_custom_button_icon.et_pb_button:after,.et_pb_woo_custom_button_icon .button.et_pb_custom_button_icon.et_pb_button:hover:after{content:attr(data-icon)}.et-pb-icon{font-family:ETmodules;speak:none;font-weight:400;-webkit-font-feature-settings:normal;font-feature-settings:normal;font-variant:normal;text-transform:none;line-height:1;-webkit-font-smoothing:antialiased;font-size:96px;font-style:normal;display:inline-block;-webkit-box-sizing:border-box;box-sizing:border-box;direction:ltr}#et-ajax-saving{display:none;-webkit-transition:background .3s,-webkit-box-shadow .3s;transition:background .3s,-webkit-box-shadow .3s;transition:background .3s,box-shadow .3s;transition:background .3s,box-shadow .3s,-webkit-box-shadow .3s;-webkit-box-shadow:rgba(0,139,219,.247059) 0 0 60px;box-shadow:0 0 60px rgba(0,139,219,.247059);position:fixed;top:50%;left:50%;width:50px;height:50px;background:#fff;border-radius:50px;margin:-25px 0 0 -25px;z-index:999999;text-align:center}#et-ajax-saving img{margin:9px}.et-safe-mode-indicator,.et-safe-mode-indicator:focus,.et-safe-mode-indicator:hover{-webkit-box-shadow:0 5px 10px rgba(41,196,169,.15);box-shadow:0 5px 10px rgba(41,196,169,.15);background:#29c4a9;color:#fff;font-size:14px;font-weight:600;padding:12px;line-height:16px;border-radius:3px;position:fixed;bottom:30px;right:30px;z-index:999999;text-decoration:none;font-family:Open Sans,sans-serif;-webkit-font-smoothing:antialiased;-moz-osx-font-smoothing:grayscale}.et_pb_button{font-size:20px;font-weight:500;padding:.3em 1em;line-height:1.7em!important;background-color:transparent;background-size:cover;background-position:50%;background-repeat:no-repeat;border:2px solid;border-radius:3px;-webkit-transition-duration:.2s;transition-duration:.2s;-webkit-transition-property:all!important;transition-property:all!important}.et_pb_button,.et_pb_button_inner{position:relative}.et_pb_button:hover,.et_pb_module .et_pb_button:hover{border:2px solid transparent;padding:.3em 2em .3em .7em}.et_pb_button:hover{background-color:hsla(0,0%,100%,.2)}.et_pb_bg_layout_light.et_pb_button:hover,.et_pb_bg_layout_light .et_pb_button:hover{background-color:rgba(0,0,0,.05)}.et_pb_button:after,.et_pb_button:before{font-size:32px;line-height:1em;content:\"\\35\";opacity:0;position:absolute;margin-left:-1em;-webkit-transition:all .2s;transition:all .2s;text-transform:none;-webkit-font-feature-settings:\"kern\" off;font-feature-settings:\"kern\" off;font-variant:none;font-style:normal;font-weight:400;text-shadow:none}.et_pb_button.et_hover_enabled:hover:after,.et_pb_button.et_pb_hovered:hover:after{-webkit-transition:none!important;transition:none!important}.et_pb_button:before{display:none}.et_pb_button:hover:after{opacity:1;margin-left:0}.et_pb_column_1_3 h1,.et_pb_column_1_4 h1,.et_pb_column_1_5 h1,.et_pb_column_1_6 h1,.et_pb_column_2_5 h1{font-size:26px}.et_pb_column_1_3 h2,.et_pb_column_1_4 h2,.et_pb_column_1_5 h2,.et_pb_column_1_6 h2,.et_pb_column_2_5 h2{font-size:23px}.et_pb_column_1_3 h3,.et_pb_column_1_4 h3,.et_pb_column_1_5 h3,.et_pb_column_1_6 h3,.et_pb_column_2_5 h3{font-size:20px}.et_pb_column_1_3 h4,.et_pb_column_1_4 h4,.et_pb_column_1_5 h4,.et_pb_column_1_6 h4,.et_pb_column_2_5 h4{font-size:18px}.et_pb_column_1_3 h5,.et_pb_column_1_4 h5,.et_pb_column_1_5 h5,.et_pb_column_1_6 h5,.et_pb_column_2_5 h5{font-size:16px}.et_pb_column_1_3 h6,.et_pb_column_1_4 h6,.et_pb_column_1_5 h6,.et_pb_column_1_6 h6,.et_pb_column_2_5 h6{font-size:15px}.et_pb_bg_layout_dark,.et_pb_bg_layout_dark h1,.et_pb_bg_layout_dark h2,.et_pb_bg_layout_dark h3,.et_pb_bg_layout_dark h4,.et_pb_bg_layout_dark h5,.et_pb_bg_layout_dark h6{color:#fff!important}.et_pb_module.et_pb_text_align_left{text-align:left}.et_pb_module.et_pb_text_align_center{text-align:center}.et_pb_module.et_pb_text_align_right{text-align:right}.et_pb_module.et_pb_text_align_justified{text-align:justify}.clearfix:after{visibility:hidden;display:block;font-size:0;content:\" \";clear:both;height:0}.et_pb_bg_layout_light .et_pb_more_button{color:#2ea3f2}.et_builder_inner_content{position:relative;z-index:1}header .et_builder_inner_content{z-index:2}.et_pb_css_mix_blend_mode_passthrough{mix-blend-mode:unset!important}.et_pb_image_container{margin:-20px -20px 29px}.et_pb_module_inner{position:relative}.et_hover_enabled_preview{z-index:2}.et_hover_enabled:hover{position:relative;z-index:2}.et_pb_all_tabs,.et_pb_module,.et_pb_posts_nav a,.et_pb_tab,.et_pb_with_background{position:relative;background-size:cover;background-position:50%;background-repeat:no-repeat}.et_pb_background_mask,.et_pb_background_pattern{bottom:0;left:0;position:absolute;right:0;top:0}.et_pb_background_mask{background-size:calc(100% + 2px) calc(100% + 2px);background-repeat:no-repeat;background-position:50%;overflow:hidden}.et_pb_background_pattern{background-position:0 0;background-repeat:repeat}.et_pb_with_border{position:relative;border:0 solid #333}.post-password-required .et_pb_row{padding:0;width:100%}.post-password-required .et_password_protected_form{min-height:0}body.et_pb_pagebuilder_layout.et_pb_show_title .post-password-required .et_password_protected_form h1,body:not(.et_pb_pagebuilder_layout) .post-password-required .et_password_protected_form h1{display:none}.et_pb_no_bg{padding:0!important}.et_overlay.et_pb_inline_icon:before,.et_pb_inline_icon:before{content:attr(data-icon)}.et_pb_more_button{color:inherit;text-shadow:none;text-decoration:none;display:inline-block;margin-top:20px}.et_parallax_bg_wrap{overflow:hidden;position:absolute;top:0;right:0;bottom:0;left:0}.et_parallax_bg{background-repeat:no-repeat;background-position:top;background-size:cover;position:absolute;bottom:0;left:0;width:100%;height:100%;display:block}.et_parallax_bg.et_parallax_bg__hover,.et_parallax_bg.et_parallax_bg_phone,.et_parallax_bg.et_parallax_bg_tablet,.et_parallax_gradient.et_parallax_gradient__hover,.et_parallax_gradient.et_parallax_gradient_phone,.et_parallax_gradient.et_parallax_gradient_tablet,.et_pb_section_parallax_hover:hover .et_parallax_bg:not(.et_parallax_bg__hover),.et_pb_section_parallax_hover:hover .et_parallax_gradient:not(.et_parallax_gradient__hover){display:none}.et_pb_section_parallax_hover:hover .et_parallax_bg.et_parallax_bg__hover,.et_pb_section_parallax_hover:hover .et_parallax_gradient.et_parallax_gradient__hover{display:block}.et_parallax_gradient{bottom:0;display:block;left:0;position:absolute;right:0;top:0}.et_pb_module.et_pb_section_parallax,.et_pb_posts_nav a.et_pb_section_parallax,.et_pb_tab.et_pb_section_parallax{position:relative}.et_pb_section_parallax .et_pb_parallax_css,.et_pb_slides .et_parallax_bg.et_pb_parallax_css{background-attachment:fixed}body.et-bfb .et_pb_section_parallax .et_pb_parallax_css,body.et-bfb .et_pb_slides .et_parallax_bg.et_pb_parallax_css{background-attachment:scroll;bottom:auto}.et_pb_section_parallax.et_pb_column .et_pb_module,.et_pb_section_parallax.et_pb_row .et_pb_column,.et_pb_section_parallax.et_pb_row .et_pb_module{z-index:9;position:relative}.et_pb_more_button:hover:after{opacity:1;margin-left:0}.et_pb_preload .et_pb_section_video_bg,.et_pb_preload>div{visibility:hidden}.et_pb_preload,.et_pb_section.et_pb_section_video.et_pb_preload{position:relative;background:#464646!important}.et_pb_preload:before{content:\"\";position:absolute;top:50%;left:50%;background:url(https://tribucodeup.wpenginepowered.com/wp-content/themes/Divi/includes/builder/styles/images/preloader.gif) no-repeat;border-radius:32px;width:32px;height:32px;margin:-16px 0 0 -16px}.box-shadow-overlay{position:absolute;top:0;left:0;width:100%;height:100%;z-index:10;pointer-events:none}.et_pb_section>.box-shadow-overlay~.et_pb_row{z-index:11}body.safari .section_has_divider{will-change:transform}.et_pb_row>.box-shadow-overlay{z-index:8}.has-box-shadow-overlay{position:relative}.et_clickable{cursor:pointer}.screen-reader-text{border:0;clip:rect(1px,1px,1px,1px);-webkit-clip-path:inset(50%);clip-path:inset(50%);height:1px;margin:-1px;overflow:hidden;padding:0;position:absolute!important;width:1px;word-wrap:normal!important}.et_multi_view_hidden,.et_multi_view_hidden_image{display:none!important}@keyframes multi-view-image-fade{0%{opacity:0}10%{opacity:.1}20%{opacity:.2}30%{opacity:.3}40%{opacity:.4}50%{opacity:.5}60%{opacity:.6}70%{opacity:.7}80%{opacity:.8}90%{opacity:.9}to{opacity:1}}.et_multi_view_image__loading{visibility:hidden}.et_multi_view_image__loaded{-webkit-animation:multi-view-image-fade .5s;animation:multi-view-image-fade .5s}#et-pb-motion-effects-offset-tracker{visibility:hidden!important;opacity:0;position:absolute;top:0;left:0}.et-pb-before-scroll-animation{opacity:0}header.et-l.et-l--header:after{clear:both;display:block;content:\"\"}.et_pb_module{-webkit-animation-timing-function:linear;animation-timing-function:linear;-webkit-animation-duration:.2s;animation-duration:.2s}@-webkit-keyframes fadeBottom{0%{opacity:0;-webkit-transform:translateY(10%);transform:translateY(10%)}to{opacity:1;-webkit-transform:translateY(0);transform:translateY(0)}}@keyframes fadeBottom{0%{opacity:0;-webkit-transform:translateY(10%);transform:translateY(10%)}to{opacity:1;-webkit-transform:translateY(0);transform:translateY(0)}}@-webkit-keyframes fadeLeft{0%{opacity:0;-webkit-transform:translateX(-10%);transform:translateX(-10%)}to{opacity:1;-webkit-transform:translateX(0);transform:translateX(0)}}@keyframes fadeLeft{0%{opacity:0;-webkit-transform:translateX(-10%);transform:translateX(-10%)}to{opacity:1;-webkit-transform:translateX(0);transform:translateX(0)}}@-webkit-keyframes fadeRight{0%{opacity:0;-webkit-transform:translateX(10%);transform:translateX(10%)}to{opacity:1;-webkit-transform:translateX(0);transform:translateX(0)}}@keyframes fadeRight{0%{opacity:0;-webkit-transform:translateX(10%);transform:translateX(10%)}to{opacity:1;-webkit-transform:translateX(0);transform:translateX(0)}}@-webkit-keyframes fadeTop{0%{opacity:0;-webkit-transform:translateY(-10%);transform:translateY(-10%)}to{opacity:1;-webkit-transform:translateX(0);transform:translateX(0)}}@keyframes fadeTop{0%{opacity:0;-webkit-transform:translateY(-10%);transform:translateY(-10%)}to{opacity:1;-webkit-transform:translateX(0);transform:translateX(0)}}@-webkit-keyframes fadeIn{0%{opacity:0}to{opacity:1}}@keyframes fadeIn{0%{opacity:0}to{opacity:1}}.et-waypoint:not(.et_pb_counters){opacity:0}@media (min-width:981px){.et_pb_section.et_section_specialty div.et_pb_row .et_pb_column .et_pb_column .et_pb_module.et-last-child,.et_pb_section.et_section_specialty div.et_pb_row .et_pb_column .et_pb_column .et_pb_module:last-child,.et_pb_section.et_section_specialty div.et_pb_row .et_pb_column .et_pb_row_inner .et_pb_column .et_pb_module.et-last-child,.et_pb_section.et_section_specialty div.et_pb_row .et_pb_column .et_pb_row_inner .et_pb_column .et_pb_module:last-child,.et_pb_section div.et_pb_row .et_pb_column .et_pb_module.et-last-child,.et_pb_section div.et_pb_row .et_pb_column .et_pb_module:last-child{margin-bottom:0}}@media (max-width:980px){.et_overlay.et_pb_inline_icon_tablet:before,.et_pb_inline_icon_tablet:before{content:attr(data-icon-tablet)}.et_parallax_bg.et_parallax_bg_tablet_exist,.et_parallax_gradient.et_parallax_gradient_tablet_exist{display:none}.et_parallax_bg.et_parallax_bg_tablet,.et_parallax_gradient.et_parallax_gradient_tablet{display:block}.et_pb_column .et_pb_module{margin-bottom:30px}.et_pb_row .et_pb_column .et_pb_module.et-last-child,.et_pb_row .et_pb_column .et_pb_module:last-child,.et_section_specialty .et_pb_row .et_pb_column .et_pb_module.et-last-child,.et_section_specialty .et_pb_row .et_pb_column .et_pb_module:last-child{margin-bottom:0}.et_pb_more_button{display:inline-block!important}.et_pb_bg_layout_light_tablet.et_pb_button,.et_pb_bg_layout_light_tablet.et_pb_module.et_pb_button,.et_pb_bg_layout_light_tablet .et_pb_more_button{color:#2ea3f2}.et_pb_bg_layout_light_tablet .et_pb_forgot_password a{color:#666}.et_pb_bg_layout_light_tablet h1,.et_pb_bg_layout_light_tablet h2,.et_pb_bg_layout_light_tablet h3,.et_pb_bg_layout_light_tablet h4,.et_pb_bg_layout_light_tablet h5,.et_pb_bg_layout_light_tablet h6{color:#333!important}.et_pb_module .et_pb_bg_layout_light_tablet.et_pb_button{color:#2ea3f2!important}.et_pb_bg_layout_light_tablet{color:#666!important}.et_pb_bg_layout_dark_tablet,.et_pb_bg_layout_dark_tablet h1,.et_pb_bg_layout_dark_tablet h2,.et_pb_bg_layout_dark_tablet h3,.et_pb_bg_layout_dark_tablet h4,.et_pb_bg_layout_dark_tablet h5,.et_pb_bg_layout_dark_tablet h6{color:#fff!important}.et_pb_bg_layout_dark_tablet.et_pb_button,.et_pb_bg_layout_dark_tablet.et_pb_module.et_pb_button,.et_pb_bg_layout_dark_tablet .et_pb_more_button{color:inherit}.et_pb_bg_layout_dark_tablet .et_pb_forgot_password a{color:#fff}.et_pb_module.et_pb_text_align_left-tablet{text-align:left}.et_pb_module.et_pb_text_align_center-tablet{text-align:center}.et_pb_module.et_pb_text_align_right-tablet{text-align:right}.et_pb_module.et_pb_text_align_justified-tablet{text-align:justify}}@media (max-width:767px){.et_pb_more_button{display:inline-block!important}.et_overlay.et_pb_inline_icon_phone:before,.et_pb_inline_icon_phone:before{content:attr(data-icon-phone)}.et_parallax_bg.et_parallax_bg_phone_exist,.et_parallax_gradient.et_parallax_gradient_phone_exist{display:none}.et_parallax_bg.et_parallax_bg_phone,.et_parallax_gradient.et_parallax_gradient_phone{display:block}.et-hide-mobile{display:none!important}.et_pb_bg_layout_light_phone.et_pb_button,.et_pb_bg_layout_light_phone.et_pb_module.et_pb_button,.et_pb_bg_layout_light_phone .et_pb_more_button{color:#2ea3f2}.et_pb_bg_layout_light_phone .et_pb_forgot_password a{color:#666}.et_pb_bg_layout_light_phone h1,.et_pb_bg_layout_light_phone h2,.et_pb_bg_layout_light_phone h3,.et_pb_bg_layout_light_phone h4,.et_pb_bg_layout_light_phone h5,.et_pb_bg_layout_light_phone h6{color:#333!important}.et_pb_module .et_pb_bg_layout_light_phone.et_pb_button{color:#2ea3f2!important}.et_pb_bg_layout_light_phone{color:#666!important}.et_pb_bg_layout_dark_phone,.et_pb_bg_layout_dark_phone h1,.et_pb_bg_layout_dark_phone h2,.et_pb_bg_layout_dark_phone h3,.et_pb_bg_layout_dark_phone h4,.et_pb_bg_layout_dark_phone h5,.et_pb_bg_layout_dark_phone h6{color:#fff!important}.et_pb_bg_layout_dark_phone.et_pb_button,.et_pb_bg_layout_dark_phone.et_pb_module.et_pb_button,.et_pb_bg_layout_dark_phone .et_pb_more_button{color:inherit}.et_pb_module .et_pb_bg_layout_dark_phone.et_pb_button{color:#fff!important}.et_pb_bg_layout_dark_phone .et_pb_forgot_password a{color:#fff}.et_pb_module.et_pb_text_align_left-phone{text-align:left}.et_pb_module.et_pb_text_align_center-phone{text-align:center}.et_pb_module.et_pb_text_align_right-phone{text-align:right}.et_pb_module.et_pb_text_align_justified-phone{text-align:justify}}@media (max-width:479px){a.et_pb_more_button{display:block}}@media (min-width:768px) and (max-width:980px){[data-et-multi-view-load-tablet-hidden=true]:not(.et_multi_view_swapped){display:none!important}}@media (max-width:767px){[data-et-multi-view-load-phone-hidden=true]:not(.et_multi_view_swapped){display:none!important}}.et_pb_menu.et_pb_menu--style-inline_centered_logo .et_pb_menu__menu nav ul{-webkit-box-pack:center;-ms-flex-pack:center;justify-content:center}@-webkit-keyframes multi-view-image-fade{0%{-webkit-transform:scale(1);transform:scale(1);opacity:1}50%{-webkit-transform:scale(1.01);transform:scale(1.01);opacity:1}to{-webkit-transform:scale(1);transform:scale(1);opacity:1}}\n",
       "</style>\n",
       "<style id=\"divi-dynamic-critical-inline-css\" type=\"text/css\">\n",
       "@font-face{font-family:ETmodules;font-display:block;src:url(//codeup.com/wp-content/themes/Divi/core/admin/fonts/modules/all/modules.eot);src:url(//codeup.com/wp-content/themes/Divi/core/admin/fonts/modules/all/modules.eot?#iefix) format(\"embedded-opentype\"),url(//codeup.com/wp-content/themes/Divi/core/admin/fonts/modules/all/modules.ttf) format(\"truetype\"),url(//codeup.com/wp-content/themes/Divi/core/admin/fonts/modules/all/modules.woff) format(\"woff\"),url(//codeup.com/wp-content/themes/Divi/core/admin/fonts/modules/all/modules.svg#ETmodules) format(\"svg\");font-weight:400;font-style:normal}\n",
       ".et_audio_content,.et_link_content,.et_quote_content{background-color:#2ea3f2}.et_pb_post .et-pb-controllers a{margin-bottom:10px}.format-gallery .et-pb-controllers{bottom:0}.et_pb_blog_grid .et_audio_content{margin-bottom:19px}.et_pb_row .et_pb_blog_grid .et_pb_post .et_pb_slide{min-height:180px}.et_audio_content .wp-block-audio{margin:0;padding:0}.et_audio_content h2{line-height:44px}.et_pb_column_1_2 .et_audio_content h2,.et_pb_column_1_3 .et_audio_content h2,.et_pb_column_1_4 .et_audio_content h2,.et_pb_column_1_5 .et_audio_content h2,.et_pb_column_1_6 .et_audio_content h2,.et_pb_column_2_5 .et_audio_content h2,.et_pb_column_3_5 .et_audio_content h2,.et_pb_column_3_8 .et_audio_content h2{margin-bottom:9px;margin-top:0}.et_pb_column_1_2 .et_audio_content,.et_pb_column_3_5 .et_audio_content{padding:35px 40px}.et_pb_column_1_2 .et_audio_content h2,.et_pb_column_3_5 .et_audio_content h2{line-height:32px}.et_pb_column_1_3 .et_audio_content,.et_pb_column_1_4 .et_audio_content,.et_pb_column_1_5 .et_audio_content,.et_pb_column_1_6 .et_audio_content,.et_pb_column_2_5 .et_audio_content,.et_pb_column_3_8 .et_audio_content{padding:35px 20px}.et_pb_column_1_3 .et_audio_content h2,.et_pb_column_1_4 .et_audio_content h2,.et_pb_column_1_5 .et_audio_content h2,.et_pb_column_1_6 .et_audio_content h2,.et_pb_column_2_5 .et_audio_content h2,.et_pb_column_3_8 .et_audio_content h2{font-size:18px;line-height:26px}article.et_pb_has_overlay .et_pb_blog_image_container{position:relative}.et_pb_post>.et_main_video_container{position:relative;margin-bottom:30px}.et_pb_post .et_pb_video_overlay .et_pb_video_play{color:#fff}.et_pb_post .et_pb_video_overlay_hover:hover{background:rgba(0,0,0,.6)}.et_audio_content,.et_link_content,.et_quote_content{text-align:center;word-wrap:break-word;position:relative;padding:50px 60px}.et_audio_content h2,.et_link_content a.et_link_main_url,.et_link_content h2,.et_quote_content blockquote cite,.et_quote_content blockquote p{color:#fff!important}.et_quote_main_link{position:absolute;text-indent:-9999px;width:100%;height:100%;display:block;top:0;left:0}.et_quote_content blockquote{padding:0;margin:0;border:none}.et_audio_content h2,.et_link_content h2,.et_quote_content blockquote p{margin-top:0}.et_audio_content h2{margin-bottom:20px}.et_audio_content h2,.et_link_content h2,.et_quote_content blockquote p{line-height:44px}.et_link_content a.et_link_main_url,.et_quote_content blockquote cite{font-size:18px;font-weight:200}.et_quote_content blockquote cite{font-style:normal}.et_pb_column_2_3 .et_quote_content{padding:50px 42px 45px}.et_pb_column_2_3 .et_audio_content,.et_pb_column_2_3 .et_link_content{padding:40px 40px 45px}.et_pb_column_1_2 .et_audio_content,.et_pb_column_1_2 .et_link_content,.et_pb_column_1_2 .et_quote_content,.et_pb_column_3_5 .et_audio_content,.et_pb_column_3_5 .et_link_content,.et_pb_column_3_5 .et_quote_content{padding:35px 40px}.et_pb_column_1_2 .et_quote_content blockquote p,.et_pb_column_3_5 .et_quote_content blockquote p{font-size:26px;line-height:32px}.et_pb_column_1_2 .et_audio_content h2,.et_pb_column_1_2 .et_link_content h2,.et_pb_column_3_5 .et_audio_content h2,.et_pb_column_3_5 .et_link_content h2{line-height:32px}.et_pb_column_1_2 .et_link_content a.et_link_main_url,.et_pb_column_1_2 .et_quote_content blockquote cite,.et_pb_column_3_5 .et_link_content a.et_link_main_url,.et_pb_column_3_5 .et_quote_content blockquote cite{font-size:14px}.et_pb_column_1_3 .et_quote_content,.et_pb_column_1_4 .et_quote_content,.et_pb_column_1_5 .et_quote_content,.et_pb_column_1_6 .et_quote_content,.et_pb_column_2_5 .et_quote_content,.et_pb_column_3_8 .et_quote_content{padding:35px 30px 32px}.et_pb_column_1_3 .et_audio_content,.et_pb_column_1_3 .et_link_content,.et_pb_column_1_4 .et_audio_content,.et_pb_column_1_4 .et_link_content,.et_pb_column_1_5 .et_audio_content,.et_pb_column_1_5 .et_link_content,.et_pb_column_1_6 .et_audio_content,.et_pb_column_1_6 .et_link_content,.et_pb_column_2_5 .et_audio_content,.et_pb_column_2_5 .et_link_content,.et_pb_column_3_8 .et_audio_content,.et_pb_column_3_8 .et_link_content{padding:35px 20px}.et_pb_column_1_3 .et_audio_content h2,.et_pb_column_1_3 .et_link_content h2,.et_pb_column_1_3 .et_quote_content blockquote p,.et_pb_column_1_4 .et_audio_content h2,.et_pb_column_1_4 .et_link_content h2,.et_pb_column_1_4 .et_quote_content blockquote p,.et_pb_column_1_5 .et_audio_content h2,.et_pb_column_1_5 .et_link_content h2,.et_pb_column_1_5 .et_quote_content blockquote p,.et_pb_column_1_6 .et_audio_content h2,.et_pb_column_1_6 .et_link_content h2,.et_pb_column_1_6 .et_quote_content blockquote p,.et_pb_column_2_5 .et_audio_content h2,.et_pb_column_2_5 .et_link_content h2,.et_pb_column_2_5 .et_quote_content blockquote p,.et_pb_column_3_8 .et_audio_content h2,.et_pb_column_3_8 .et_link_content h2,.et_pb_column_3_8 .et_quote_content blockquote p{font-size:18px;line-height:26px}.et_pb_column_1_3 .et_link_content a.et_link_main_url,.et_pb_column_1_3 .et_quote_content blockquote cite,.et_pb_column_1_4 .et_link_content a.et_link_main_url,.et_pb_column_1_4 .et_quote_content blockquote cite,.et_pb_column_1_5 .et_link_content a.et_link_main_url,.et_pb_column_1_5 .et_quote_content blockquote cite,.et_pb_column_1_6 .et_link_content a.et_link_main_url,.et_pb_column_1_6 .et_quote_content blockquote cite,.et_pb_column_2_5 .et_link_content a.et_link_main_url,.et_pb_column_2_5 .et_quote_content blockquote cite,.et_pb_column_3_8 .et_link_content a.et_link_main_url,.et_pb_column_3_8 .et_quote_content blockquote cite{font-size:14px}.et_pb_post .et_pb_gallery_post_type .et_pb_slide{min-height:500px;background-size:cover!important;background-position:top}.format-gallery .et_pb_slider.gallery-not-found .et_pb_slide{-webkit-box-shadow:inset 0 0 10px rgba(0,0,0,.1);box-shadow:inset 0 0 10px rgba(0,0,0,.1)}.format-gallery .et_pb_slider:hover .et-pb-arrow-prev{left:0}.format-gallery .et_pb_slider:hover .et-pb-arrow-next{right:0}.et_pb_post>.et_pb_slider{margin-bottom:30px}.et_pb_column_3_4 .et_pb_post .et_pb_slide{min-height:442px}.et_pb_column_2_3 .et_pb_post .et_pb_slide{min-height:390px}.et_pb_column_1_2 .et_pb_post .et_pb_slide,.et_pb_column_3_5 .et_pb_post .et_pb_slide{min-height:284px}.et_pb_column_1_3 .et_pb_post .et_pb_slide,.et_pb_column_2_5 .et_pb_post .et_pb_slide,.et_pb_column_3_8 .et_pb_post .et_pb_slide{min-height:180px}.et_pb_column_1_4 .et_pb_post .et_pb_slide,.et_pb_column_1_5 .et_pb_post .et_pb_slide,.et_pb_column_1_6 .et_pb_post .et_pb_slide{min-height:125px}.et_pb_portfolio.et_pb_section_parallax .pagination,.et_pb_portfolio.et_pb_section_video .pagination,.et_pb_portfolio_grid.et_pb_section_parallax .pagination,.et_pb_portfolio_grid.et_pb_section_video .pagination{position:relative}.et_pb_bg_layout_light .et_pb_post .post-meta,.et_pb_bg_layout_light .et_pb_post .post-meta a,.et_pb_bg_layout_light .et_pb_post p{color:#666}.et_pb_bg_layout_dark .et_pb_post .post-meta,.et_pb_bg_layout_dark .et_pb_post .post-meta a,.et_pb_bg_layout_dark .et_pb_post p{color:inherit}.et_pb_text_color_dark .et_audio_content h2,.et_pb_text_color_dark .et_link_content a.et_link_main_url,.et_pb_text_color_dark .et_link_content h2,.et_pb_text_color_dark .et_quote_content blockquote cite,.et_pb_text_color_dark .et_quote_content blockquote p{color:#666!important}.et_pb_text_color_dark.et_audio_content h2,.et_pb_text_color_dark.et_link_content a.et_link_main_url,.et_pb_text_color_dark.et_link_content h2,.et_pb_text_color_dark.et_quote_content blockquote cite,.et_pb_text_color_dark.et_quote_content blockquote p{color:#bbb!important}.et_pb_text_color_dark.et_audio_content,.et_pb_text_color_dark.et_link_content,.et_pb_text_color_dark.et_quote_content{background-color:#e8e8e8}@media (min-width:981px) and (max-width:1100px){.et_quote_content{padding:50px 70px 45px}.et_pb_column_2_3 .et_quote_content{padding:50px 50px 45px}.et_pb_column_1_2 .et_quote_content,.et_pb_column_3_5 .et_quote_content{padding:35px 47px 30px}.et_pb_column_1_3 .et_quote_content,.et_pb_column_1_4 .et_quote_content,.et_pb_column_1_5 .et_quote_content,.et_pb_column_1_6 .et_quote_content,.et_pb_column_2_5 .et_quote_content,.et_pb_column_3_8 .et_quote_content{padding:35px 25px 32px}.et_pb_column_4_4 .et_pb_post .et_pb_slide{min-height:534px}.et_pb_column_3_4 .et_pb_post .et_pb_slide{min-height:392px}.et_pb_column_2_3 .et_pb_post .et_pb_slide{min-height:345px}.et_pb_column_1_2 .et_pb_post .et_pb_slide,.et_pb_column_3_5 .et_pb_post .et_pb_slide{min-height:250px}.et_pb_column_1_3 .et_pb_post .et_pb_slide,.et_pb_column_2_5 .et_pb_post .et_pb_slide,.et_pb_column_3_8 .et_pb_post .et_pb_slide{min-height:155px}.et_pb_column_1_4 .et_pb_post .et_pb_slide,.et_pb_column_1_5 .et_pb_post .et_pb_slide,.et_pb_column_1_6 .et_pb_post .et_pb_slide{min-height:108px}}@media (max-width:980px){.et_pb_bg_layout_dark_tablet .et_audio_content h2{color:#fff!important}.et_pb_text_color_dark_tablet.et_audio_content h2{color:#bbb!important}.et_pb_text_color_dark_tablet.et_audio_content{background-color:#e8e8e8}.et_pb_bg_layout_dark_tablet .et_audio_content h2,.et_pb_bg_layout_dark_tablet .et_link_content a.et_link_main_url,.et_pb_bg_layout_dark_tablet .et_link_content h2,.et_pb_bg_layout_dark_tablet .et_quote_content blockquote cite,.et_pb_bg_layout_dark_tablet .et_quote_content blockquote p{color:#fff!important}.et_pb_text_color_dark_tablet .et_audio_content h2,.et_pb_text_color_dark_tablet .et_link_content a.et_link_main_url,.et_pb_text_color_dark_tablet .et_link_content h2,.et_pb_text_color_dark_tablet .et_quote_content blockquote cite,.et_pb_text_color_dark_tablet .et_quote_content blockquote p{color:#666!important}.et_pb_text_color_dark_tablet.et_audio_content h2,.et_pb_text_color_dark_tablet.et_link_content a.et_link_main_url,.et_pb_text_color_dark_tablet.et_link_content h2,.et_pb_text_color_dark_tablet.et_quote_content blockquote cite,.et_pb_text_color_dark_tablet.et_quote_content blockquote p{color:#bbb!important}.et_pb_text_color_dark_tablet.et_audio_content,.et_pb_text_color_dark_tablet.et_link_content,.et_pb_text_color_dark_tablet.et_quote_content{background-color:#e8e8e8}}@media (min-width:768px) and (max-width:980px){.et_audio_content h2{font-size:26px!important;line-height:44px!important;margin-bottom:24px!important}.et_pb_post>.et_pb_gallery_post_type>.et_pb_slides>.et_pb_slide{min-height:384px!important}.et_quote_content{padding:50px 43px 45px!important}.et_quote_content blockquote p{font-size:26px!important;line-height:44px!important}.et_quote_content blockquote cite{font-size:18px!important}.et_link_content{padding:40px 40px 45px}.et_link_content h2{font-size:26px!important;line-height:44px!important}.et_link_content a.et_link_main_url{font-size:18px!important}}@media (max-width:767px){.et_audio_content h2,.et_link_content h2,.et_quote_content,.et_quote_content blockquote p{font-size:20px!important;line-height:26px!important}.et_audio_content,.et_link_content{padding:35px 20px!important}.et_audio_content h2{margin-bottom:9px!important}.et_pb_bg_layout_dark_phone .et_audio_content h2{color:#fff!important}.et_pb_text_color_dark_phone.et_audio_content{background-color:#e8e8e8}.et_link_content a.et_link_main_url,.et_quote_content blockquote cite{font-size:14px!important}.format-gallery .et-pb-controllers{height:auto}.et_pb_post>.et_pb_gallery_post_type>.et_pb_slides>.et_pb_slide{min-height:222px!important}.et_pb_bg_layout_dark_phone .et_audio_content h2,.et_pb_bg_layout_dark_phone .et_link_content a.et_link_main_url,.et_pb_bg_layout_dark_phone .et_link_content h2,.et_pb_bg_layout_dark_phone .et_quote_content blockquote cite,.et_pb_bg_layout_dark_phone .et_quote_content blockquote p{color:#fff!important}.et_pb_text_color_dark_phone .et_audio_content h2,.et_pb_text_color_dark_phone .et_link_content a.et_link_main_url,.et_pb_text_color_dark_phone .et_link_content h2,.et_pb_text_color_dark_phone .et_quote_content blockquote cite,.et_pb_text_color_dark_phone .et_quote_content blockquote p{color:#666!important}.et_pb_text_color_dark_phone.et_audio_content h2,.et_pb_text_color_dark_phone.et_link_content a.et_link_main_url,.et_pb_text_color_dark_phone.et_link_content h2,.et_pb_text_color_dark_phone.et_quote_content blockquote cite,.et_pb_text_color_dark_phone.et_quote_content blockquote p{color:#bbb!important}.et_pb_text_color_dark_phone.et_audio_content,.et_pb_text_color_dark_phone.et_link_content,.et_pb_text_color_dark_phone.et_quote_content{background-color:#e8e8e8}}@media (max-width:479px){.et_pb_column_1_2 .et_pb_carousel_item .et_pb_video_play,.et_pb_column_1_3 .et_pb_carousel_item .et_pb_video_play,.et_pb_column_2_3 .et_pb_carousel_item .et_pb_video_play,.et_pb_column_2_5 .et_pb_carousel_item .et_pb_video_play,.et_pb_column_3_5 .et_pb_carousel_item .et_pb_video_play,.et_pb_column_3_8 .et_pb_carousel_item .et_pb_video_play{font-size:1.5rem;line-height:1.5rem;margin-left:-.75rem;margin-top:-.75rem}.et_audio_content,.et_quote_content{padding:35px 20px!important}.et_pb_post>.et_pb_gallery_post_type>.et_pb_slides>.et_pb_slide{min-height:156px!important}}.et_full_width_page .et_gallery_item{float:left;width:20.875%;margin:0 5.5% 5.5% 0}.et_full_width_page .et_gallery_item:nth-child(3n){margin-right:5.5%}.et_full_width_page .et_gallery_item:nth-child(3n+1){clear:none}.et_full_width_page .et_gallery_item:nth-child(4n){margin-right:0}.et_full_width_page .et_gallery_item:nth-child(4n+1){clear:both}\n",
       ".et_pb_slider{position:relative;overflow:hidden}.et_pb_slide{padding:0 6%;background-size:cover;background-position:50%;background-repeat:no-repeat}.et_pb_slider .et_pb_slide{display:none;float:left;margin-right:-100%;position:relative;width:100%;text-align:center;list-style:none!important;background-position:50%;background-size:100%;background-size:cover}.et_pb_slider .et_pb_slide:first-child{display:list-item}.et-pb-controllers{position:absolute;bottom:20px;left:0;width:100%;text-align:center;z-index:10}.et-pb-controllers a{display:inline-block;background-color:hsla(0,0%,100%,.5);text-indent:-9999px;border-radius:7px;width:7px;height:7px;margin-right:10px;padding:0;opacity:.5}.et-pb-controllers .et-pb-active-control{opacity:1}.et-pb-controllers a:last-child{margin-right:0}.et-pb-controllers .et-pb-active-control{background-color:#fff}.et_pb_slides .et_pb_temp_slide{display:block}.et_pb_slides:after{content:\"\";display:block;clear:both;visibility:hidden;line-height:0;height:0;width:0}@media (max-width:980px){.et_pb_bg_layout_light_tablet .et-pb-controllers .et-pb-active-control{background-color:#333}.et_pb_bg_layout_light_tablet .et-pb-controllers a{background-color:rgba(0,0,0,.3)}.et_pb_bg_layout_light_tablet .et_pb_slide_content{color:#333}.et_pb_bg_layout_dark_tablet .et_pb_slide_description{text-shadow:0 1px 3px rgba(0,0,0,.3)}.et_pb_bg_layout_dark_tablet .et_pb_slide_content{color:#fff}.et_pb_bg_layout_dark_tablet .et-pb-controllers .et-pb-active-control{background-color:#fff}.et_pb_bg_layout_dark_tablet .et-pb-controllers a{background-color:hsla(0,0%,100%,.5)}}@media (max-width:767px){.et-pb-controllers{position:absolute;bottom:5%;left:0;width:100%;text-align:center;z-index:10;height:14px}.et_transparent_nav .et_pb_section:first-child .et-pb-controllers{bottom:18px}.et_pb_bg_layout_light_phone.et_pb_slider_with_overlay .et_pb_slide_overlay_container,.et_pb_bg_layout_light_phone.et_pb_slider_with_text_overlay .et_pb_text_overlay_wrapper{background-color:hsla(0,0%,100%,.9)}.et_pb_bg_layout_light_phone .et-pb-controllers .et-pb-active-control{background-color:#333}.et_pb_bg_layout_dark_phone.et_pb_slider_with_overlay .et_pb_slide_overlay_container,.et_pb_bg_layout_dark_phone.et_pb_slider_with_text_overlay .et_pb_text_overlay_wrapper,.et_pb_bg_layout_light_phone .et-pb-controllers a{background-color:rgba(0,0,0,.3)}.et_pb_bg_layout_dark_phone .et-pb-controllers .et-pb-active-control{background-color:#fff}.et_pb_bg_layout_dark_phone .et-pb-controllers a{background-color:hsla(0,0%,100%,.5)}}.et_mobile_device .et_pb_slider_parallax .et_pb_slide,.et_mobile_device .et_pb_slides .et_parallax_bg.et_pb_parallax_css{background-attachment:scroll}\n",
       ".et-pb-arrow-next,.et-pb-arrow-prev{position:absolute;top:50%;z-index:100;font-size:48px;color:#fff;margin-top:-24px;-webkit-transition:all .2s ease-in-out;transition:all .2s ease-in-out;opacity:0}.et_pb_bg_layout_light .et-pb-arrow-next,.et_pb_bg_layout_light .et-pb-arrow-prev{color:#333}.et_pb_slider:hover .et-pb-arrow-prev{left:22px;opacity:1}.et_pb_slider:hover .et-pb-arrow-next{right:22px;opacity:1}.et_pb_bg_layout_light .et-pb-controllers .et-pb-active-control{background-color:#333}.et_pb_bg_layout_light .et-pb-controllers a{background-color:rgba(0,0,0,.3)}.et-pb-arrow-next:hover,.et-pb-arrow-prev:hover{text-decoration:none}.et-pb-arrow-next span,.et-pb-arrow-prev span{display:none}.et-pb-arrow-prev{left:-22px}.et-pb-arrow-next{right:-22px}.et-pb-arrow-prev:before{content:\"4\"}.et-pb-arrow-next:before{content:\"5\"}.format-gallery .et-pb-arrow-next,.format-gallery .et-pb-arrow-prev{color:#fff}.et_pb_column_1_3 .et_pb_slider:hover .et-pb-arrow-prev,.et_pb_column_1_4 .et_pb_slider:hover .et-pb-arrow-prev,.et_pb_column_1_5 .et_pb_slider:hover .et-pb-arrow-prev,.et_pb_column_1_6 .et_pb_slider:hover .et-pb-arrow-prev,.et_pb_column_2_5 .et_pb_slider:hover .et-pb-arrow-prev{left:0}.et_pb_column_1_3 .et_pb_slider:hover .et-pb-arrow-next,.et_pb_column_1_4 .et_pb_slider:hover .et-pb-arrow-prev,.et_pb_column_1_5 .et_pb_slider:hover .et-pb-arrow-prev,.et_pb_column_1_6 .et_pb_slider:hover .et-pb-arrow-prev,.et_pb_column_2_5 .et_pb_slider:hover .et-pb-arrow-next{right:0}.et_pb_column_1_4 .et_pb_slider .et_pb_slide,.et_pb_column_1_5 .et_pb_slider .et_pb_slide,.et_pb_column_1_6 .et_pb_slider .et_pb_slide{min-height:170px}.et_pb_column_1_4 .et_pb_slider:hover .et-pb-arrow-next,.et_pb_column_1_5 .et_pb_slider:hover .et-pb-arrow-next,.et_pb_column_1_6 .et_pb_slider:hover .et-pb-arrow-next{right:0}@media (max-width:980px){.et_pb_bg_layout_light_tablet .et-pb-arrow-next,.et_pb_bg_layout_light_tablet .et-pb-arrow-prev{color:#333}.et_pb_bg_layout_dark_tablet .et-pb-arrow-next,.et_pb_bg_layout_dark_tablet .et-pb-arrow-prev{color:#fff}}@media (max-width:767px){.et_pb_slider:hover .et-pb-arrow-prev{left:0;opacity:1}.et_pb_slider:hover .et-pb-arrow-next{right:0;opacity:1}.et_pb_bg_layout_light_phone .et-pb-arrow-next,.et_pb_bg_layout_light_phone .et-pb-arrow-prev{color:#333}.et_pb_bg_layout_dark_phone .et-pb-arrow-next,.et_pb_bg_layout_dark_phone .et-pb-arrow-prev{color:#fff}}.et_mobile_device .et-pb-arrow-prev{left:22px;opacity:1}.et_mobile_device .et-pb-arrow-next{right:22px;opacity:1}@media (max-width:767px){.et_mobile_device .et-pb-arrow-prev{left:0;opacity:1}.et_mobile_device .et-pb-arrow-next{right:0;opacity:1}}\n",
       ".et_overlay{z-index:-1;position:absolute;top:0;left:0;display:block;width:100%;height:100%;background:hsla(0,0%,100%,.9);opacity:0;pointer-events:none;-webkit-transition:all .3s;transition:all .3s;border:1px solid #e5e5e5;-webkit-box-sizing:border-box;box-sizing:border-box;-webkit-backface-visibility:hidden;backface-visibility:hidden;-webkit-font-smoothing:antialiased}.et_overlay:before{color:#2ea3f2;content:\"\\E050\";position:absolute;top:50%;left:50%;-webkit-transform:translate(-50%,-50%);transform:translate(-50%,-50%);font-size:32px;-webkit-transition:all .4s;transition:all .4s}.et_portfolio_image,.et_shop_image{position:relative;display:block}.et_pb_has_overlay:not(.et_pb_image):hover .et_overlay,.et_portfolio_image:hover .et_overlay,.et_shop_image:hover .et_overlay{z-index:3;opacity:1}#ie7 .et_overlay,#ie8 .et_overlay{display:none}.et_pb_module.et_pb_has_overlay{position:relative}.et_pb_module.et_pb_has_overlay .et_overlay,article.et_pb_has_overlay{border:none}\n",
       ".et_pb_blog_grid .et_audio_container .mejs-container .mejs-controls .mejs-time span{font-size:14px}.et_audio_container .mejs-container{width:auto!important;min-width:unset!important;height:auto!important}.et_audio_container .mejs-container,.et_audio_container .mejs-container .mejs-controls,.et_audio_container .mejs-embed,.et_audio_container .mejs-embed body{background:none;height:auto}.et_audio_container .mejs-controls .mejs-time-rail .mejs-time-loaded,.et_audio_container .mejs-time.mejs-currenttime-container{display:none!important}.et_audio_container .mejs-time{display:block!important;padding:0;margin-left:10px;margin-right:90px;line-height:inherit}.et_audio_container .mejs-android .mejs-time,.et_audio_container .mejs-ios .mejs-time,.et_audio_container .mejs-ipad .mejs-time,.et_audio_container .mejs-iphone .mejs-time{margin-right:0}.et_audio_container .mejs-controls .mejs-horizontal-volume-slider .mejs-horizontal-volume-total,.et_audio_container .mejs-controls .mejs-time-rail .mejs-time-total{background:hsla(0,0%,100%,.5);border-radius:5px;height:4px;margin:8px 0 0;top:0;right:0;left:auto}.et_audio_container .mejs-controls>div{height:20px!important}.et_audio_container .mejs-controls div.mejs-time-rail{padding-top:0;position:relative;display:block!important;margin-left:42px;margin-right:0}.et_audio_container span.mejs-time-total.mejs-time-slider{display:block!important;position:relative!important;max-width:100%;min-width:unset!important}.et_audio_container .mejs-button.mejs-volume-button{width:auto;height:auto;margin-left:auto;position:absolute;right:59px;bottom:-2px}.et_audio_container .mejs-controls .mejs-horizontal-volume-slider .mejs-horizontal-volume-current,.et_audio_container .mejs-controls .mejs-time-rail .mejs-time-current{background:#fff;height:4px;border-radius:5px}.et_audio_container .mejs-controls .mejs-horizontal-volume-slider .mejs-horizontal-volume-handle,.et_audio_container .mejs-controls .mejs-time-rail .mejs-time-handle{display:block;border:none;width:10px}.et_audio_container .mejs-time-rail .mejs-time-handle-content{border-radius:100%;-webkit-transform:scale(1);transform:scale(1)}.et_audio_container .mejs-time-rail .mejs-time-hovered{height:4px}.et_audio_container .mejs-controls .mejs-horizontal-volume-slider .mejs-horizontal-volume-handle{background:#fff;border-radius:5px;height:10px;position:absolute;top:-3px}.et_audio_container .mejs-container .mejs-controls .mejs-time span{font-size:18px}.et_audio_container .mejs-controls a.mejs-horizontal-volume-slider{display:block!important;height:19px;margin-left:5px;position:absolute;right:0;bottom:0}.et_audio_container .mejs-controls div.mejs-horizontal-volume-slider{height:4px}.et_audio_container .mejs-playpause-button button,.et_audio_container .mejs-volume-button button{background:none!important;margin:0!important;width:auto!important;height:auto!important;position:relative!important;z-index:99}.et_audio_container .mejs-playpause-button button:before{content:\"E\"!important;font-size:32px;left:0;top:-8px}.et_audio_container .mejs-playpause-button button:before,.et_audio_container .mejs-volume-button button:before{color:#fff}.et_audio_container .mejs-playpause-button{margin-top:-7px!important;width:auto!important;height:auto!important;position:absolute}.et_audio_container .mejs-controls .mejs-button button:focus{outline:none}.et_audio_container .mejs-playpause-button.mejs-pause button:before{content:\"`\"!important}.et_audio_container .mejs-volume-button button:before{content:\"\\E068\";font-size:18px}.et_pb_text_color_dark .et_audio_container .mejs-controls .mejs-horizontal-volume-slider .mejs-horizontal-volume-total,.et_pb_text_color_dark .et_audio_container .mejs-controls .mejs-time-rail .mejs-time-total{background:hsla(0,0%,60%,.5)}.et_pb_text_color_dark .et_audio_container .mejs-controls .mejs-horizontal-volume-slider .mejs-horizontal-volume-current,.et_pb_text_color_dark .et_audio_container .mejs-controls .mejs-time-rail .mejs-time-current{background:#999}.et_pb_text_color_dark .et_audio_container .mejs-playpause-button button:before,.et_pb_text_color_dark .et_audio_container .mejs-volume-button button:before{color:#666}.et_pb_text_color_dark .et_audio_container .mejs-controls .mejs-horizontal-volume-slider .mejs-horizontal-volume-handle,.et_pb_text_color_dark .mejs-controls .mejs-time-rail .mejs-time-handle{background:#666}.et_pb_text_color_dark .mejs-container .mejs-controls .mejs-time span{color:#999}.et_pb_column_1_3 .et_audio_container .mejs-container .mejs-controls .mejs-time span,.et_pb_column_1_4 .et_audio_container .mejs-container .mejs-controls .mejs-time span,.et_pb_column_1_5 .et_audio_container .mejs-container .mejs-controls .mejs-time span,.et_pb_column_1_6 .et_audio_container .mejs-container .mejs-controls .mejs-time span,.et_pb_column_2_5 .et_audio_container .mejs-container .mejs-controls .mejs-time span,.et_pb_column_3_8 .et_audio_container .mejs-container .mejs-controls .mejs-time span{font-size:14px}.et_audio_container .mejs-container .mejs-controls{padding:0;-ms-flex-wrap:wrap;flex-wrap:wrap;min-width:unset!important;position:relative}@media (max-width:980px){.et_pb_column_1_3 .et_audio_container .mejs-container .mejs-controls .mejs-time span,.et_pb_column_1_4 .et_audio_container .mejs-container .mejs-controls .mejs-time span,.et_pb_column_1_5 .et_audio_container .mejs-container .mejs-controls .mejs-time span,.et_pb_column_1_6 .et_audio_container .mejs-container .mejs-controls .mejs-time span,.et_pb_column_2_5 .et_audio_container .mejs-container .mejs-controls .mejs-time span,.et_pb_column_3_8 .et_audio_container .mejs-container .mejs-controls .mejs-time span{font-size:18px}.et_pb_bg_layout_dark_tablet .et_audio_container .mejs-controls .mejs-horizontal-volume-slider .mejs-horizontal-volume-total,.et_pb_bg_layout_dark_tablet .et_audio_container .mejs-controls .mejs-time-rail .mejs-time-total{background:hsla(0,0%,100%,.5)}.et_pb_bg_layout_dark_tablet .et_audio_container .mejs-controls .mejs-horizontal-volume-slider .mejs-horizontal-volume-current,.et_pb_bg_layout_dark_tablet .et_audio_container .mejs-controls .mejs-time-rail .mejs-time-current{background:#fff}.et_pb_bg_layout_dark_tablet .et_audio_container .mejs-playpause-button button:before,.et_pb_bg_layout_dark_tablet .et_audio_container .mejs-volume-button button:before{color:#fff}.et_pb_bg_layout_dark_tablet .et_audio_container .mejs-controls .mejs-horizontal-volume-slider .mejs-horizontal-volume-handle,.et_pb_bg_layout_dark_tablet .mejs-controls .mejs-time-rail .mejs-time-handle{background:#fff}.et_pb_bg_layout_dark_tablet .mejs-container .mejs-controls .mejs-time span{color:#fff}.et_pb_text_color_dark_tablet .et_audio_container .mejs-controls .mejs-horizontal-volume-slider .mejs-horizontal-volume-total,.et_pb_text_color_dark_tablet .et_audio_container .mejs-controls .mejs-time-rail .mejs-time-total{background:hsla(0,0%,60%,.5)}.et_pb_text_color_dark_tablet .et_audio_container .mejs-controls .mejs-horizontal-volume-slider .mejs-horizontal-volume-current,.et_pb_text_color_dark_tablet .et_audio_container .mejs-controls .mejs-time-rail .mejs-time-current{background:#999}.et_pb_text_color_dark_tablet .et_audio_container .mejs-playpause-button button:before,.et_pb_text_color_dark_tablet .et_audio_container .mejs-volume-button button:before{color:#666}.et_pb_text_color_dark_tablet .et_audio_container .mejs-controls .mejs-horizontal-volume-slider .mejs-horizontal-volume-handle,.et_pb_text_color_dark_tablet .mejs-controls .mejs-time-rail .mejs-time-handle{background:#666}.et_pb_text_color_dark_tablet .mejs-container .mejs-controls .mejs-time span{color:#999}}@media (max-width:767px){.et_audio_container .mejs-container .mejs-controls .mejs-time span{font-size:14px!important}.et_pb_bg_layout_dark_phone .et_audio_container .mejs-controls .mejs-horizontal-volume-slider .mejs-horizontal-volume-total,.et_pb_bg_layout_dark_phone .et_audio_container .mejs-controls .mejs-time-rail .mejs-time-total{background:hsla(0,0%,100%,.5)}.et_pb_bg_layout_dark_phone .et_audio_container .mejs-controls .mejs-horizontal-volume-slider .mejs-horizontal-volume-current,.et_pb_bg_layout_dark_phone .et_audio_container .mejs-controls .mejs-time-rail .mejs-time-current{background:#fff}.et_pb_bg_layout_dark_phone .et_audio_container .mejs-playpause-button button:before,.et_pb_bg_layout_dark_phone .et_audio_container .mejs-volume-button button:before{color:#fff}.et_pb_bg_layout_dark_phone .et_audio_container .mejs-controls .mejs-horizontal-volume-slider .mejs-horizontal-volume-handle,.et_pb_bg_layout_dark_phone .mejs-controls .mejs-time-rail .mejs-time-handle{background:#fff}.et_pb_bg_layout_dark_phone .mejs-container .mejs-controls .mejs-time span{color:#fff}.et_pb_text_color_dark_phone .et_audio_container .mejs-controls .mejs-horizontal-volume-slider .mejs-horizontal-volume-total,.et_pb_text_color_dark_phone .et_audio_container .mejs-controls .mejs-time-rail .mejs-time-total{background:hsla(0,0%,60%,.5)}.et_pb_text_color_dark_phone .et_audio_container .mejs-controls .mejs-horizontal-volume-slider .mejs-horizontal-volume-current,.et_pb_text_color_dark_phone .et_audio_container .mejs-controls .mejs-time-rail .mejs-time-current{background:#999}.et_pb_text_color_dark_phone .et_audio_container .mejs-playpause-button button:before,.et_pb_text_color_dark_phone .et_audio_container .mejs-volume-button button:before{color:#666}.et_pb_text_color_dark_phone .et_audio_container .mejs-controls .mejs-horizontal-volume-slider .mejs-horizontal-volume-handle,.et_pb_text_color_dark_phone .mejs-controls .mejs-time-rail .mejs-time-handle{background:#666}.et_pb_text_color_dark_phone .mejs-container .mejs-controls .mejs-time span{color:#999}}\n",
       ".et_pb_video_box{display:block;position:relative;z-index:1;line-height:0}.et_pb_video_box video{width:100%!important;height:auto!important}.et_pb_video_overlay{position:absolute;z-index:10;top:0;left:0;height:100%;width:100%;background-size:cover;background-repeat:no-repeat;background-position:50%;cursor:pointer}.et_pb_video_play:before{font-family:ETmodules;content:\"I\"}.et_pb_video_play{display:block;position:absolute;z-index:100;color:#fff;left:50%;top:50%}.et_pb_column_1_2 .et_pb_video_play,.et_pb_column_2_3 .et_pb_video_play,.et_pb_column_3_4 .et_pb_video_play,.et_pb_column_3_5 .et_pb_video_play,.et_pb_column_4_4 .et_pb_video_play{font-size:6rem;line-height:6rem;margin-left:-3rem;margin-top:-3rem}.et_pb_column_1_3 .et_pb_video_play,.et_pb_column_1_4 .et_pb_video_play,.et_pb_column_1_5 .et_pb_video_play,.et_pb_column_1_6 .et_pb_video_play,.et_pb_column_2_5 .et_pb_video_play,.et_pb_column_3_8 .et_pb_video_play{font-size:3rem;line-height:3rem;margin-left:-1.5rem;margin-top:-1.5rem}.et_pb_bg_layout_light .et_pb_video_play{color:#333}.et_pb_video_overlay_hover{background:transparent;width:100%;height:100%;position:absolute;z-index:100;-webkit-transition:all .5s ease-in-out;transition:all .5s ease-in-out}.et_pb_video .et_pb_video_overlay_hover:hover{background:rgba(0,0,0,.6)}@media (min-width:768px) and (max-width:980px){.et_pb_column_1_3 .et_pb_video_play,.et_pb_column_1_4 .et_pb_video_play,.et_pb_column_1_5 .et_pb_video_play,.et_pb_column_1_6 .et_pb_video_play,.et_pb_column_2_5 .et_pb_video_play,.et_pb_column_3_8 .et_pb_video_play{font-size:6rem;line-height:6rem;margin-left:-3rem;margin-top:-3rem}}@media (max-width:980px){.et_pb_bg_layout_light_tablet .et_pb_video_play{color:#333}}@media (max-width:768px){.et_pb_column_1_2 .et_pb_video_play,.et_pb_column_2_3 .et_pb_video_play,.et_pb_column_3_4 .et_pb_video_play,.et_pb_column_3_5 .et_pb_video_play,.et_pb_column_4_4 .et_pb_video_play{font-size:3rem;line-height:3rem;margin-left:-1.5rem;margin-top:-1.5rem}}@media (max-width:767px){.et_pb_bg_layout_light_phone .et_pb_video_play{color:#333}}\n",
       ".et_post_gallery{padding:0!important;line-height:1.7!important;list-style:none!important}.et_gallery_item{float:left;width:28.353%;margin:0 7.47% 7.47% 0}.blocks-gallery-item,.et_gallery_item{padding-left:0!important}.blocks-gallery-item:before,.et_gallery_item:before{display:none}.et_gallery_item:nth-child(3n){margin-right:0}.et_gallery_item:nth-child(3n+1){clear:both}\n",
       ".et_pb_post{margin-bottom:60px;word-wrap:break-word}.et_pb_fullwidth_post_content.et_pb_with_border img,.et_pb_post_content.et_pb_with_border img,.et_pb_with_border .et_pb_post .et_pb_slides,.et_pb_with_border .et_pb_post img:not(.woocommerce-placeholder),.et_pb_with_border.et_pb_posts .et_pb_post,.et_pb_with_border.et_pb_posts_nav span.nav-next a,.et_pb_with_border.et_pb_posts_nav span.nav-previous a{border:0 solid #333}.et_pb_post .entry-content{padding-top:30px}.et_pb_post .entry-featured-image-url{display:block;position:relative;margin-bottom:30px}.et_pb_post .entry-title a,.et_pb_post h2 a{text-decoration:none}.et_pb_post .post-meta{font-size:14px;margin-bottom:6px}.et_pb_post .more,.et_pb_post .post-meta a{text-decoration:none}.et_pb_post .more{color:#82c0c7}.et_pb_posts a.more-link{clear:both;display:block}.et_pb_posts .et_pb_post{position:relative}.et_pb_has_overlay.et_pb_post .et_pb_image_container a{display:block;position:relative;overflow:hidden}.et_pb_image_container img,.et_pb_post a img{vertical-align:bottom;max-width:100%}@media (min-width:981px) and (max-width:1100px){.et_pb_post{margin-bottom:42px}}@media (max-width:980px){.et_pb_post{margin-bottom:42px}.et_pb_bg_layout_light_tablet .et_pb_post .post-meta,.et_pb_bg_layout_light_tablet .et_pb_post .post-meta a,.et_pb_bg_layout_light_tablet .et_pb_post p{color:#666}.et_pb_bg_layout_dark_tablet .et_pb_post .post-meta,.et_pb_bg_layout_dark_tablet .et_pb_post .post-meta a,.et_pb_bg_layout_dark_tablet .et_pb_post p{color:inherit}.et_pb_bg_layout_dark_tablet .comment_postinfo a,.et_pb_bg_layout_dark_tablet .comment_postinfo span{color:#fff}}@media (max-width:767px){.et_pb_post{margin-bottom:42px}.et_pb_post>h2{font-size:18px}.et_pb_bg_layout_light_phone .et_pb_post .post-meta,.et_pb_bg_layout_light_phone .et_pb_post .post-meta a,.et_pb_bg_layout_light_phone .et_pb_post p{color:#666}.et_pb_bg_layout_dark_phone .et_pb_post .post-meta,.et_pb_bg_layout_dark_phone .et_pb_post .post-meta a,.et_pb_bg_layout_dark_phone .et_pb_post p{color:inherit}.et_pb_bg_layout_dark_phone .comment_postinfo a,.et_pb_bg_layout_dark_phone .comment_postinfo span{color:#fff}}@media (max-width:479px){.et_pb_post{margin-bottom:42px}.et_pb_post h2{font-size:16px;padding-bottom:0}.et_pb_post .post-meta{color:#666;font-size:14px}}\n",
       "@media (min-width:981px){.et_pb_gutters3 .et_pb_column,.et_pb_gutters3.et_pb_row .et_pb_column{margin-right:5.5%}.et_pb_gutters3 .et_pb_column_4_4,.et_pb_gutters3.et_pb_row .et_pb_column_4_4{width:100%}.et_pb_gutters3 .et_pb_column_4_4 .et_pb_module,.et_pb_gutters3.et_pb_row .et_pb_column_4_4 .et_pb_module{margin-bottom:2.75%}.et_pb_gutters3 .et_pb_column_3_4,.et_pb_gutters3.et_pb_row .et_pb_column_3_4{width:73.625%}.et_pb_gutters3 .et_pb_column_3_4 .et_pb_module,.et_pb_gutters3.et_pb_row .et_pb_column_3_4 .et_pb_module{margin-bottom:3.735%}.et_pb_gutters3 .et_pb_column_2_3,.et_pb_gutters3.et_pb_row .et_pb_column_2_3{width:64.833%}.et_pb_gutters3 .et_pb_column_2_3 .et_pb_module,.et_pb_gutters3.et_pb_row .et_pb_column_2_3 .et_pb_module{margin-bottom:4.242%}.et_pb_gutters3 .et_pb_column_3_5,.et_pb_gutters3.et_pb_row .et_pb_column_3_5{width:57.8%}.et_pb_gutters3 .et_pb_column_3_5 .et_pb_module,.et_pb_gutters3.et_pb_row .et_pb_column_3_5 .et_pb_module{margin-bottom:4.758%}.et_pb_gutters3 .et_pb_column_1_2,.et_pb_gutters3.et_pb_row .et_pb_column_1_2{width:47.25%}.et_pb_gutters3 .et_pb_column_1_2 .et_pb_module,.et_pb_gutters3.et_pb_row .et_pb_column_1_2 .et_pb_module{margin-bottom:5.82%}.et_pb_gutters3 .et_pb_column_2_5,.et_pb_gutters3.et_pb_row .et_pb_column_2_5{width:36.7%}.et_pb_gutters3 .et_pb_column_2_5 .et_pb_module,.et_pb_gutters3.et_pb_row .et_pb_column_2_5 .et_pb_module{margin-bottom:7.493%}.et_pb_gutters3 .et_pb_column_1_3,.et_pb_gutters3.et_pb_row .et_pb_column_1_3{width:29.6667%}.et_pb_gutters3 .et_pb_column_1_3 .et_pb_module,.et_pb_gutters3.et_pb_row .et_pb_column_1_3 .et_pb_module{margin-bottom:9.27%}.et_pb_gutters3 .et_pb_column_1_4,.et_pb_gutters3.et_pb_row .et_pb_column_1_4{width:20.875%}.et_pb_gutters3 .et_pb_column_1_4 .et_pb_module,.et_pb_gutters3.et_pb_row .et_pb_column_1_4 .et_pb_module{margin-bottom:13.174%}.et_pb_gutters3 .et_pb_column_1_5,.et_pb_gutters3.et_pb_row .et_pb_column_1_5{width:15.6%}.et_pb_gutters3 .et_pb_column_1_5 .et_pb_module,.et_pb_gutters3.et_pb_row .et_pb_column_1_5 .et_pb_module{margin-bottom:17.628%}.et_pb_gutters3 .et_pb_column_1_6,.et_pb_gutters3.et_pb_row .et_pb_column_1_6{width:12.0833%}.et_pb_gutters3 .et_pb_column_1_6 .et_pb_module,.et_pb_gutters3.et_pb_row .et_pb_column_1_6 .et_pb_module{margin-bottom:22.759%}.et_pb_gutters3 .et_full_width_page.woocommerce-page ul.products li.product{width:20.875%;margin-right:5.5%;margin-bottom:5.5%}.et_pb_gutters3.et_left_sidebar.woocommerce-page #main-content ul.products li.product,.et_pb_gutters3.et_right_sidebar.woocommerce-page #main-content ul.products li.product{width:28.353%;margin-right:7.47%}.et_pb_gutters3.et_left_sidebar.woocommerce-page #main-content ul.products.columns-1 li.product,.et_pb_gutters3.et_right_sidebar.woocommerce-page #main-content ul.products.columns-1 li.product{width:100%;margin-right:0}.et_pb_gutters3.et_left_sidebar.woocommerce-page #main-content ul.products.columns-2 li.product,.et_pb_gutters3.et_right_sidebar.woocommerce-page #main-content ul.products.columns-2 li.product{width:48%;margin-right:4%}.et_pb_gutters3.et_left_sidebar.woocommerce-page #main-content ul.products.columns-2 li:nth-child(2n+2),.et_pb_gutters3.et_right_sidebar.woocommerce-page #main-content ul.products.columns-2 li:nth-child(2n+2){margin-right:0}.et_pb_gutters3.et_left_sidebar.woocommerce-page #main-content ul.products.columns-2 li:nth-child(3n+1),.et_pb_gutters3.et_right_sidebar.woocommerce-page #main-content ul.products.columns-2 li:nth-child(3n+1){clear:none}}\n",
       "@media (min-width:981px){.et_pb_gutter.et_pb_gutters2 #left-area{width:77.25%}.et_pb_gutter.et_pb_gutters2 #sidebar{width:22.75%}.et_pb_gutters2.et_right_sidebar #left-area{padding-right:3%}.et_pb_gutters2.et_left_sidebar #left-area{padding-left:3%}.et_pb_gutter.et_pb_gutters2.et_right_sidebar #main-content .container:before{right:22.75%!important}.et_pb_gutter.et_pb_gutters2.et_left_sidebar #main-content .container:before{left:22.75%!important}.et_pb_gutters2 .et_pb_column,.et_pb_gutters2.et_pb_row .et_pb_column{margin-right:3%}.et_pb_gutters2 .et_pb_column_4_4,.et_pb_gutters2.et_pb_row .et_pb_column_4_4{width:100%}.et_pb_gutters2 .et_pb_column_4_4 .et_pb_module,.et_pb_gutters2.et_pb_row .et_pb_column_4_4 .et_pb_module{margin-bottom:1.5%}.et_pb_gutters2 .et_pb_column_3_4,.et_pb_gutters2.et_pb_row .et_pb_column_3_4{width:74.25%}.et_pb_gutters2 .et_pb_column_3_4 .et_pb_module,.et_pb_gutters2.et_pb_row .et_pb_column_3_4 .et_pb_module{margin-bottom:2.02%}.et_pb_gutters2 .et_pb_column_2_3,.et_pb_gutters2.et_pb_row .et_pb_column_2_3{width:65.667%}.et_pb_gutters2 .et_pb_column_2_3 .et_pb_module,.et_pb_gutters2.et_pb_row .et_pb_column_2_3 .et_pb_module{margin-bottom:2.284%}.et_pb_gutters2 .et_pb_column_3_5,.et_pb_gutters2.et_pb_row .et_pb_column_3_5{width:58.8%}.et_pb_gutters2 .et_pb_column_3_5 .et_pb_module,.et_pb_gutters2.et_pb_row .et_pb_column_3_5 .et_pb_module{margin-bottom:2.551%}.et_pb_gutters2 .et_pb_column_1_2,.et_pb_gutters2.et_pb_row .et_pb_column_1_2{width:48.5%}.et_pb_gutters2 .et_pb_column_1_2 .et_pb_module,.et_pb_gutters2.et_pb_row .et_pb_column_1_2 .et_pb_module{margin-bottom:3.093%}.et_pb_gutters2 .et_pb_column_2_5,.et_pb_gutters2.et_pb_row .et_pb_column_2_5{width:38.2%}.et_pb_gutters2 .et_pb_column_2_5 .et_pb_module,.et_pb_gutters2.et_pb_row .et_pb_column_2_5 .et_pb_module{margin-bottom:3.927%}.et_pb_gutters2 .et_pb_column_1_3,.et_pb_gutters2.et_pb_row .et_pb_column_1_3{width:31.3333%}.et_pb_gutters2 .et_pb_column_1_3 .et_pb_module,.et_pb_gutters2.et_pb_row .et_pb_column_1_3 .et_pb_module{margin-bottom:4.787%}.et_pb_gutters2 .et_pb_column_1_4,.et_pb_gutters2.et_pb_row .et_pb_column_1_4{width:22.75%}.et_pb_gutters2 .et_pb_column_1_4 .et_pb_module,.et_pb_gutters2.et_pb_row .et_pb_column_1_4 .et_pb_module{margin-bottom:6.593%}.et_pb_gutters2 .et_pb_column_1_5,.et_pb_gutters2.et_pb_row .et_pb_column_1_5{width:17.6%}.et_pb_gutters2 .et_pb_column_1_5 .et_pb_module,.et_pb_gutters2.et_pb_row .et_pb_column_1_5 .et_pb_module{margin-bottom:8.523%}.et_pb_gutters2 .et_pb_column_1_6,.et_pb_gutters2.et_pb_row .et_pb_column_1_6{width:14.1667%}.et_pb_gutters2 .et_pb_column_1_6 .et_pb_module,.et_pb_gutters2.et_pb_row .et_pb_column_1_6 .et_pb_module{margin-bottom:10.588%}.et_pb_gutters2 .et_full_width_page.woocommerce-page ul.products li.product{width:22.75%;margin-right:3%;margin-bottom:3%}.et_pb_gutters2.et_left_sidebar.woocommerce-page #main-content ul.products li.product,.et_pb_gutters2.et_right_sidebar.woocommerce-page #main-content ul.products li.product{width:30.64%;margin-right:4.04%}}\n",
       "@media (min-width:981px){.et_pb_gutter.et_pb_gutters1 #left-area{width:75%}.et_pb_gutter.et_pb_gutters1 #sidebar{width:25%}.et_pb_gutters1.et_right_sidebar #left-area{padding-right:0}.et_pb_gutters1.et_left_sidebar #left-area{padding-left:0}.et_pb_gutter.et_pb_gutters1.et_right_sidebar #main-content .container:before{right:25%!important}.et_pb_gutter.et_pb_gutters1.et_left_sidebar #main-content .container:before{left:25%!important}.et_pb_gutters1 .et_pb_column,.et_pb_gutters1.et_pb_row .et_pb_column{margin-right:0}.et_pb_gutters1 .et_pb_column_4_4,.et_pb_gutters1.et_pb_row .et_pb_column_4_4{width:100%}.et_pb_gutters1 .et_pb_column_4_4 .et_pb_module,.et_pb_gutters1.et_pb_row .et_pb_column_4_4 .et_pb_module{margin-bottom:0}.et_pb_gutters1 .et_pb_column_3_4,.et_pb_gutters1.et_pb_row .et_pb_column_3_4{width:75%}.et_pb_gutters1 .et_pb_column_3_4 .et_pb_module,.et_pb_gutters1.et_pb_row .et_pb_column_3_4 .et_pb_module{margin-bottom:0}.et_pb_gutters1 .et_pb_column_2_3,.et_pb_gutters1.et_pb_row .et_pb_column_2_3{width:66.667%}.et_pb_gutters1 .et_pb_column_2_3 .et_pb_module,.et_pb_gutters1.et_pb_row .et_pb_column_2_3 .et_pb_module{margin-bottom:0}.et_pb_gutters1 .et_pb_column_3_5,.et_pb_gutters1.et_pb_row .et_pb_column_3_5{width:60%}.et_pb_gutters1 .et_pb_column_3_5 .et_pb_module,.et_pb_gutters1.et_pb_row .et_pb_column_3_5 .et_pb_module{margin-bottom:0}.et_pb_gutters1 .et_pb_column_1_2,.et_pb_gutters1.et_pb_row .et_pb_column_1_2{width:50%}.et_pb_gutters1 .et_pb_column_1_2 .et_pb_module,.et_pb_gutters1.et_pb_row .et_pb_column_1_2 .et_pb_module{margin-bottom:0}.et_pb_gutters1 .et_pb_column_2_5,.et_pb_gutters1.et_pb_row .et_pb_column_2_5{width:40%}.et_pb_gutters1 .et_pb_column_2_5 .et_pb_module,.et_pb_gutters1.et_pb_row .et_pb_column_2_5 .et_pb_module{margin-bottom:0}.et_pb_gutters1 .et_pb_column_1_3,.et_pb_gutters1.et_pb_row .et_pb_column_1_3{width:33.3333%}.et_pb_gutters1 .et_pb_column_1_3 .et_pb_module,.et_pb_gutters1.et_pb_row .et_pb_column_1_3 .et_pb_module{margin-bottom:0}.et_pb_gutters1 .et_pb_column_1_4,.et_pb_gutters1.et_pb_row .et_pb_column_1_4{width:25%}.et_pb_gutters1 .et_pb_column_1_4 .et_pb_module,.et_pb_gutters1.et_pb_row .et_pb_column_1_4 .et_pb_module{margin-bottom:0}.et_pb_gutters1 .et_pb_column_1_5,.et_pb_gutters1.et_pb_row .et_pb_column_1_5{width:20%}.et_pb_gutters1 .et_pb_column_1_5 .et_pb_module,.et_pb_gutters1.et_pb_row .et_pb_column_1_5 .et_pb_module{margin-bottom:0}.et_pb_gutters1 .et_pb_column_1_6,.et_pb_gutters1.et_pb_row .et_pb_column_1_6{width:16.6667%}.et_pb_gutters1 .et_pb_column_1_6 .et_pb_module,.et_pb_gutters1.et_pb_row .et_pb_column_1_6 .et_pb_module{margin-bottom:0}.et_pb_gutters1 .et_full_width_page.woocommerce-page ul.products li.product{width:25%;margin-right:0;margin-bottom:0}.et_pb_gutters1.et_left_sidebar.woocommerce-page #main-content ul.products li.product,.et_pb_gutters1.et_right_sidebar.woocommerce-page #main-content ul.products li.product{width:33.333%;margin-right:0}}@media (max-width:980px){.et_pb_gutters1 .et_pb_column,.et_pb_gutters1 .et_pb_column .et_pb_module,.et_pb_gutters1.et_pb_row .et_pb_column,.et_pb_gutters1.et_pb_row .et_pb_column .et_pb_module{margin-bottom:0}.et_pb_gutters1 .et_pb_row_1-2_1-4_1-4>.et_pb_column.et_pb_column_1_4,.et_pb_gutters1 .et_pb_row_1-4_1-4>.et_pb_column.et_pb_column_1_4,.et_pb_gutters1 .et_pb_row_1-4_1-4_1-2>.et_pb_column.et_pb_column_1_4,.et_pb_gutters1 .et_pb_row_1-5_1-5_3-5>.et_pb_column.et_pb_column_1_5,.et_pb_gutters1 .et_pb_row_3-5_1-5_1-5>.et_pb_column.et_pb_column_1_5,.et_pb_gutters1 .et_pb_row_4col>.et_pb_column.et_pb_column_1_4,.et_pb_gutters1 .et_pb_row_5col>.et_pb_column.et_pb_column_1_5,.et_pb_gutters1.et_pb_row_1-2_1-4_1-4>.et_pb_column.et_pb_column_1_4,.et_pb_gutters1.et_pb_row_1-4_1-4>.et_pb_column.et_pb_column_1_4,.et_pb_gutters1.et_pb_row_1-4_1-4_1-2>.et_pb_column.et_pb_column_1_4,.et_pb_gutters1.et_pb_row_1-5_1-5_3-5>.et_pb_column.et_pb_column_1_5,.et_pb_gutters1.et_pb_row_3-5_1-5_1-5>.et_pb_column.et_pb_column_1_5,.et_pb_gutters1.et_pb_row_4col>.et_pb_column.et_pb_column_1_4,.et_pb_gutters1.et_pb_row_5col>.et_pb_column.et_pb_column_1_5{width:50%;margin-right:0}.et_pb_gutters1 .et_pb_row_1-2_1-6_1-6_1-6>.et_pb_column.et_pb_column_1_6,.et_pb_gutters1 .et_pb_row_1-6_1-6_1-6>.et_pb_column.et_pb_column_1_6,.et_pb_gutters1 .et_pb_row_1-6_1-6_1-6_1-2>.et_pb_column.et_pb_column_1_6,.et_pb_gutters1 .et_pb_row_6col>.et_pb_column.et_pb_column_1_6,.et_pb_gutters1.et_pb_row_1-2_1-6_1-6_1-6>.et_pb_column.et_pb_column_1_6,.et_pb_gutters1.et_pb_row_1-6_1-6_1-6>.et_pb_column.et_pb_column_1_6,.et_pb_gutters1.et_pb_row_1-6_1-6_1-6_1-2>.et_pb_column.et_pb_column_1_6,.et_pb_gutters1.et_pb_row_6col>.et_pb_column.et_pb_column_1_6{width:33.333%;margin-right:0}.et_pb_gutters1 .et_pb_row_1-6_1-6_1-6_1-6>.et_pb_column.et_pb_column_1_6,.et_pb_gutters1.et_pb_row_1-6_1-6_1-6_1-6>.et_pb_column.et_pb_column_1_6{width:50%;margin-right:0}}@media (max-width:767px){.et_pb_gutters1 .et_pb_column,.et_pb_gutters1 .et_pb_column .et_pb_module,.et_pb_gutters1.et_pb_row .et_pb_column,.et_pb_gutters1.et_pb_row .et_pb_column .et_pb_module{margin-bottom:0}}@media (max-width:479px){.et_pb_gutters1 .et_pb_column,.et_pb_gutters1.et_pb_row .et_pb_column{margin:0!important}.et_pb_gutters1 .et_pb_column .et_pb_module,.et_pb_gutters1.et_pb_row .et_pb_column .et_pb_module{margin-bottom:0}}\n",
       "#sidebar{padding-bottom:28px}#sidebar .et_pb_widget{margin-bottom:30px;width:100%;float:none}.et_right_sidebar #main-content .et_pb_column_2_3 .et_pb_countdown_timer .section p.value,.et_right_sidebar #main-content .et_pb_column_2_3 .et_pb_countdown_timer .section.sep,.et_left_sidebar #main-content .et_pb_column_2_3 .et_pb_countdown_timer .section p.value,.et_left_sidebar #main-content .et_pb_column_2_3 .et_pb_countdown_timer .section.sep{font-size:44px;line-height:44px}.et_right_sidebar #main-content .et_pb_column_1_2 .et_pb_countdown_timer .section p.value,.et_right_sidebar #main-content .et_pb_column_1_2 .et_pb_countdown_timer .section.sep,.et_left_sidebar #main-content .et_pb_column_1_2 .et_pb_countdown_timer .section p.value,.et_left_sidebar #main-content .et_pb_column_1_2 .et_pb_countdown_timer .section.sep{font-size:32px;line-height:32px}.et_right_sidebar #main-content .et_pb_column_3_8 .et_pb_countdown_timer .section p.value,.et_right_sidebar #main-content .et_pb_column_3_8 .et_pb_countdown_timer .section.sep,.et_left_sidebar #main-content .et_pb_column_3_8 .et_pb_countdown_timer .section p.value,.et_left_sidebar #main-content .et_pb_column_3_8 .et_pb_countdown_timer .section.sep{font-size:24px;line-height:24px}.et_right_sidebar #main-content .et_pb_column_1_3 .et_pb_countdown_timer .section p.value,.et_right_sidebar #main-content .et_pb_column_1_3 .et_pb_countdown_timer .section.sep,.et_left_sidebar #main-content .et_pb_column_1_3 .et_pb_countdown_timer .section p.value,.et_left_sidebar #main-content .et_pb_column_1_3 .et_pb_countdown_timer .section.sep{font-size:20px;line-height:20px}.et_right_sidebar #main-content .et_pb_column_1_4 .et_pb_countdown_timer .section p.value,.et_right_sidebar #main-content .et_pb_column_1_4 .et_pb_countdown_timer .section.sep,.et_left_sidebar #main-content .et_pb_column_1_4 .et_pb_countdown_timer .section p.value,.et_left_sidebar #main-content .et_pb_column_1_4 .et_pb_countdown_timer .section.sep{font-size:16px;line-height:16px}@media all and (min-width: 981px) and (max-width: 1100px){#sidebar .et_pb_widget{margin-left:0}.et_left_sidebar #sidebar .et_pb_widget{margin-right:0}}@media all and (min-width: 981px){#sidebar{float:left;width:20.875%}.et_right_sidebar #left-area{float:left;padding-right:5.5%}.et_right_sidebar #sidebar{padding-left:30px}.et_right_sidebar #main-content .container:before{right:20.875% !important}.et_left_sidebar #left-area{float:right;padding-left:5.5%}.et_left_sidebar #sidebar{padding-right:30px}.et_left_sidebar #main-content .container:before{left:20.875% !important}}@media all and (max-width: 980px){.et_right_sidebar #left-area,.et_right_sidebar #sidebar,.et_left_sidebar #left-area,.et_left_sidebar #sidebar{width:auto;float:none;padding-right:0;padding-left:0}.et_right_sidebar #left-area{margin-right:0}.et_right_sidebar #sidebar{margin-left:0;border-left:none}.et_left_sidebar #left-area{margin-left:0}.et_left_sidebar #sidebar{margin-right:0;border-right:none}}\n",
       ".et_pb_widget{float:left;max-width:100%;word-wrap:break-word}.et_pb_widget a{text-decoration:none;color:#666}.et_pb_widget li a:hover{color:#82c0c7}.et_pb_widget ol li,.et_pb_widget ul li{margin-bottom:.5em}.et_pb_widget ol li ol li,.et_pb_widget ul li ul li{margin-left:15px}.et_pb_widget select{width:100%;height:28px;padding:0 5px}.et_pb_widget_area .et_pb_widget a{color:inherit}.et_pb_bg_layout_light .et_pb_widget li a{color:#666}.et_pb_bg_layout_dark .et_pb_widget li a{color:inherit}\n",
       ".et_pb_scroll_top.et-pb-icon{text-align:center;background:rgba(0,0,0,0.4);text-decoration:none;position:fixed;z-index:99999;bottom:125px;right:0px;-webkit-border-top-left-radius:5px;-webkit-border-bottom-left-radius:5px;-moz-border-radius-topleft:5px;-moz-border-radius-bottomleft:5px;border-top-left-radius:5px;border-bottom-left-radius:5px;display:none;cursor:pointer;font-size:30px;padding:5px;color:#fff}.et_pb_scroll_top:before{content:'2'}.et_pb_scroll_top.et-visible{opacity:1;-webkit-animation:fadeInRight 1s 1 cubic-bezier(0.77, 0, 0.175, 1);animation:fadeInRight 1s 1 cubic-bezier(0.77, 0, 0.175, 1)}.et_pb_scroll_top.et-hidden{opacity:0;-webkit-animation:fadeOutRight 1s 1 cubic-bezier(0.77, 0, 0.175, 1);animation:fadeOutRight 1s 1 cubic-bezier(0.77, 0, 0.175, 1)}@-webkit-keyframes fadeOutRight{0%{opacity:1;-webkit-transform:translateX(0);transform:translateX(0)}100%{opacity:0;-webkit-transform:translateX(100%);transform:translateX(100%)}}@keyframes fadeOutRight{0%{opacity:1;-webkit-transform:translateX(0);transform:translateX(0)}100%{opacity:0;-webkit-transform:translateX(100%);transform:translateX(100%)}}@-webkit-keyframes fadeInRight{0%{opacity:0;-webkit-transform:translateX(100%);transform:translateX(100%)}100%{opacity:1;-webkit-transform:translateX(0);transform:translateX(0)}}@keyframes fadeInRight{0%{opacity:0;-webkit-transform:translateX(100%);transform:translateX(100%)}100%{opacity:1;-webkit-transform:translateX(0);transform:translateX(0)}}\n",
       ".et_pb_section{position:relative;background-color:#fff;background-position:50%;background-size:100%;background-size:cover}.et_pb_section--absolute,.et_pb_section--fixed{width:100%}.et_pb_section.et_section_transparent{background-color:transparent}.et_pb_fullwidth_section{padding:0}.et_pb_fullwidth_section>.et_pb_module:not(.et_pb_post_content):not(.et_pb_fullwidth_post_content) .et_pb_row{padding:0!important}.et_pb_inner_shadow{-webkit-box-shadow:inset 0 0 7px rgba(0,0,0,.07);box-shadow:inset 0 0 7px rgba(0,0,0,.07)}.et_pb_bottom_inside_divider,.et_pb_top_inside_divider{display:block;background-repeat-y:no-repeat;height:100%;position:absolute;pointer-events:none;width:100%;left:0;right:0}.et_pb_bottom_inside_divider.et-no-transition,.et_pb_top_inside_divider.et-no-transition{-webkit-transition:none!important;transition:none!important}.et_pb_top_inside_divider{margin-top:-1px}.et_pb_bottom_inside_divider{margin-bottom:-1px}.et-fb .section_has_divider.et_fb_element_controls_visible--child>.et_pb_bottom_inside_divider,.et-fb .section_has_divider.et_fb_element_controls_visible--child>.et_pb_top_inside_divider{z-index:1}.et_pb_section_video:not(.et_pb_section--with-menu){overflow:hidden;position:relative}.et_pb_column>.et_pb_section_video_bg{z-index:-1}.et_pb_section_video_bg{visibility:visible;position:absolute;top:0;left:0;width:100%;height:100%;overflow:hidden;display:block;pointer-events:none;-webkit-transition:display .3s;transition:display .3s}.et_pb_section_video_bg.et_pb_section_video_bg_hover,.et_pb_section_video_bg.et_pb_section_video_bg_phone,.et_pb_section_video_bg.et_pb_section_video_bg_tablet,.et_pb_section_video_bg.et_pb_section_video_bg_tablet_only{display:none}.et_pb_section_video_bg .mejs-controls,.et_pb_section_video_bg .mejs-overlay-play{display:none!important}.et_pb_section_video_bg embed,.et_pb_section_video_bg iframe,.et_pb_section_video_bg object,.et_pb_section_video_bg video{max-width:none}.et_pb_section_video_bg .mejs-video{left:50%;position:absolute;max-width:none}.et_pb_section_video_bg .mejs-overlay-loading{display:none!important}.et_pb_social_network_link .et_pb_section_video{overflow:visible}.et_pb_section_video_on_hover:hover>.et_pb_section_video_bg{display:none}.et_pb_section_video_on_hover:hover>.et_pb_section_video_bg_hover,.et_pb_section_video_on_hover:hover>.et_pb_section_video_bg_hover_inherit{display:block}@media (min-width:981px){.et_pb_section{padding:4% 0}body.et_pb_pagebuilder_layout.et_pb_show_title .post-password-required .et_pb_section,body:not(.et_pb_pagebuilder_layout) .post-password-required .et_pb_section{padding-top:0}.et_pb_fullwidth_section{padding:0}.et_pb_section_video_bg.et_pb_section_video_bg_desktop_only{display:block}}@media (max-width:980px){.et_pb_section{padding:50px 0}body.et_pb_pagebuilder_layout.et_pb_show_title .post-password-required .et_pb_section,body:not(.et_pb_pagebuilder_layout) .post-password-required .et_pb_section{padding-top:0}.et_pb_fullwidth_section{padding:0}.et_pb_section_video_bg.et_pb_section_video_bg_tablet{display:block}.et_pb_section_video_bg.et_pb_section_video_bg_desktop_only{display:none}}@media (min-width:768px){.et_pb_section_video_bg.et_pb_section_video_bg_desktop_tablet{display:block}}@media (min-width:768px) and (max-width:980px){.et_pb_section_video_bg.et_pb_section_video_bg_tablet_only{display:block}}@media (max-width:767px){.et_pb_section_video_bg.et_pb_section_video_bg_phone{display:block}.et_pb_section_video_bg.et_pb_section_video_bg_desktop_tablet{display:none}}\n",
       ".et_pb_row{width:80%;max-width:1080px;margin:auto;position:relative}body.safari .section_has_divider,body.uiwebview .section_has_divider{-webkit-perspective:2000px;perspective:2000px}.section_has_divider .et_pb_row{z-index:5}.et_pb_row_inner{width:100%;position:relative}.et_pb_row.et_pb_row_empty,.et_pb_row_inner:nth-of-type(n+2).et_pb_row_empty{display:none}.et_pb_row:after,.et_pb_row_inner:after{content:\"\";display:block;clear:both;visibility:hidden;line-height:0;height:0;width:0}.et_pb_row_4col .et-last-child,.et_pb_row_4col .et-last-child-2,.et_pb_row_6col .et-last-child,.et_pb_row_6col .et-last-child-2,.et_pb_row_6col .et-last-child-3{margin-bottom:0}.et_pb_column{float:left;background-size:cover;background-position:50%;position:relative;z-index:2;min-height:1px}.et_pb_column--with-menu{z-index:3}.et_pb_column.et_pb_column_empty{min-height:1px}.et_pb_row .et_pb_column.et-last-child,.et_pb_row .et_pb_column:last-child,.et_pb_row_inner .et_pb_column.et-last-child,.et_pb_row_inner .et_pb_column:last-child{margin-right:0!important}.et_pb_column.et_pb_section_parallax{position:relative}.et_pb_column,.et_pb_row,.et_pb_row_inner{background-size:cover;background-position:50%;background-repeat:no-repeat}@media (min-width:981px){.et_pb_row{padding:2% 0}body.et_pb_pagebuilder_layout.et_pb_show_title .post-password-required .et_pb_row,body:not(.et_pb_pagebuilder_layout) .post-password-required .et_pb_row{padding:0;width:100%}.et_pb_column_3_4 .et_pb_row_inner{padding:3.735% 0}.et_pb_column_2_3 .et_pb_row_inner{padding:4.2415% 0}.et_pb_column_1_2 .et_pb_row_inner,.et_pb_column_3_5 .et_pb_row_inner{padding:5.82% 0}.et_section_specialty>.et_pb_row{padding:0}.et_pb_row_inner{width:100%}.et_pb_column_single{padding:2.855% 0}.et_pb_column_single .et_pb_module.et-first-child,.et_pb_column_single .et_pb_module:first-child{margin-top:0}.et_pb_column_single .et_pb_module.et-last-child,.et_pb_column_single .et_pb_module:last-child{margin-bottom:0}.et_pb_row .et_pb_column.et-last-child,.et_pb_row .et_pb_column:last-child,.et_pb_row_inner .et_pb_column.et-last-child,.et_pb_row_inner .et_pb_column:last-child{margin-right:0!important}.et_pb_row.et_pb_equal_columns,.et_pb_row_inner.et_pb_equal_columns,.et_pb_section.et_pb_equal_columns>.et_pb_row{display:-webkit-box;display:-ms-flexbox;display:flex}.rtl .et_pb_row.et_pb_equal_columns,.rtl .et_pb_row_inner.et_pb_equal_columns,.rtl .et_pb_section.et_pb_equal_columns>.et_pb_row{-webkit-box-orient:horizontal;-webkit-box-direction:reverse;-ms-flex-direction:row-reverse;flex-direction:row-reverse}.et_pb_row.et_pb_equal_columns>.et_pb_column,.et_pb_section.et_pb_equal_columns>.et_pb_row>.et_pb_column{-webkit-box-ordinal-group:2;-ms-flex-order:1;order:1}}@media (max-width:980px){.et_pb_row{max-width:1080px}body.et_pb_pagebuilder_layout.et_pb_show_title .post-password-required .et_pb_row,body:not(.et_pb_pagebuilder_layout) .post-password-required .et_pb_row{padding:0;width:100%}.et_pb_column .et_pb_row_inner,.et_pb_row{padding:30px 0}.et_section_specialty>.et_pb_row{padding:0}.et_pb_column{width:100%;margin-bottom:30px}.et_pb_bottom_divider .et_pb_row:nth-last-child(2) .et_pb_column:last-child,.et_pb_row .et_pb_column.et-last-child,.et_pb_row .et_pb_column:last-child{margin-bottom:0}.et_section_specialty .et_pb_row>.et_pb_column{padding-bottom:0}.et_pb_column.et_pb_column_empty{display:none}.et_pb_row_1-2_1-4_1-4,.et_pb_row_1-2_1-6_1-6_1-6,.et_pb_row_1-4_1-4,.et_pb_row_1-4_1-4_1-2,.et_pb_row_1-5_1-5_3-5,.et_pb_row_1-6_1-6_1-6,.et_pb_row_1-6_1-6_1-6_1-2,.et_pb_row_1-6_1-6_1-6_1-6,.et_pb_row_3-5_1-5_1-5,.et_pb_row_4col,.et_pb_row_5col,.et_pb_row_6col{display:-webkit-box;display:-ms-flexbox;display:flex;-ms-flex-wrap:wrap;flex-wrap:wrap}.et_pb_row_1-4_1-4>.et_pb_column.et_pb_column_1_4,.et_pb_row_1-4_1-4_1-2>.et_pb_column.et_pb_column_1_4,.et_pb_row_4col>.et_pb_column.et_pb_column_1_4{width:47.25%;margin-right:5.5%}.et_pb_row_1-4_1-4>.et_pb_column.et_pb_column_1_4:nth-child(2n),.et_pb_row_1-4_1-4_1-2>.et_pb_column.et_pb_column_1_4:nth-child(2n),.et_pb_row_4col>.et_pb_column.et_pb_column_1_4:nth-child(2n){margin-right:0}.et_pb_row_1-2_1-4_1-4>.et_pb_column.et_pb_column_1_4{width:47.25%;margin-right:5.5%}.et_pb_row_1-2_1-4_1-4>.et_pb_column.et_pb_column_1_2,.et_pb_row_1-2_1-4_1-4>.et_pb_column.et_pb_column_1_4:nth-child(odd){margin-right:0}.et_pb_row_1-2_1-4_1-4 .et_pb_column:nth-last-child(-n+2),.et_pb_row_1-4_1-4 .et_pb_column:nth-last-child(-n+2),.et_pb_row_4col .et_pb_column:nth-last-child(-n+2){margin-bottom:0}.et_pb_row_1-5_1-5_3-5>.et_pb_column.et_pb_column_1_5,.et_pb_row_5col>.et_pb_column.et_pb_column_1_5{width:47.25%;margin-right:5.5%}.et_pb_row_1-5_1-5_3-5>.et_pb_column.et_pb_column_1_5:nth-child(2n),.et_pb_row_5col>.et_pb_column.et_pb_column_1_5:nth-child(2n){margin-right:0}.et_pb_row_3-5_1-5_1-5>.et_pb_column.et_pb_column_1_5{width:47.25%;margin-right:5.5%}.et_pb_row_3-5_1-5_1-5>.et_pb_column.et_pb_column_1_5:nth-child(odd),.et_pb_row_3-5_1-5_1-5>.et_pb_column.et_pb_column_3_5{margin-right:0}.et_pb_row_3-5_1-5_1-5 .et_pb_column:nth-last-child(-n+2),.et_pb_row_5col .et_pb_column:last-child{margin-bottom:0}.et_pb_row_1-6_1-6_1-6_1-2>.et_pb_column.et_pb_column_1_6,.et_pb_row_6col>.et_pb_column.et_pb_column_1_6{width:29.666%;margin-right:5.5%}.et_pb_row_1-6_1-6_1-6_1-2>.et_pb_column.et_pb_column_1_6:nth-child(3n),.et_pb_row_6col>.et_pb_column.et_pb_column_1_6:nth-child(3n){margin-right:0}.et_pb_row_1-2_1-6_1-6_1-6>.et_pb_column.et_pb_column_1_6{width:29.666%;margin-right:5.5%}.et_pb_row_1-2_1-6_1-6_1-6>.et_pb_column.et_pb_column_1_2,.et_pb_row_1-2_1-6_1-6_1-6>.et_pb_column.et_pb_column_1_6:last-child{margin-right:0}.et_pb_row_1-2_1-2 .et_pb_column.et_pb_column_1_2,.et_pb_row_1-2_1-6_1-6_1-6 .et_pb_column:nth-last-child(-n+3),.et_pb_row_6col .et_pb_column:nth-last-child(-n+3){margin-bottom:0}.et_pb_row_1-2_1-2 .et_pb_column.et_pb_column_1_2 .et_pb_column.et_pb_column_1_6{width:29.666%;margin-right:5.5%;margin-bottom:0}.et_pb_row_1-2_1-2 .et_pb_column.et_pb_column_1_2 .et_pb_column.et_pb_column_1_6:last-child{margin-right:0}.et_pb_row_1-6_1-6_1-6_1-6>.et_pb_column.et_pb_column_1_6{width:47.25%;margin-right:5.5%}.et_pb_row_1-6_1-6_1-6_1-6>.et_pb_column.et_pb_column_1_6:nth-child(2n){margin-right:0}.et_pb_row_1-6_1-6_1-6_1-6:nth-last-child(-n+3){margin-bottom:0}}@media (max-width:479px){.et_pb_row .et_pb_column.et_pb_column_1_4,.et_pb_row .et_pb_column.et_pb_column_1_5,.et_pb_row .et_pb_column.et_pb_column_1_6{width:100%;margin:0 0 30px}.et_pb_row .et_pb_column.et_pb_column_1_4.et-last-child,.et_pb_row .et_pb_column.et_pb_column_1_4:last-child,.et_pb_row .et_pb_column.et_pb_column_1_5.et-last-child,.et_pb_row .et_pb_column.et_pb_column_1_5:last-child,.et_pb_row .et_pb_column.et_pb_column_1_6.et-last-child,.et_pb_row .et_pb_column.et_pb_column_1_6:last-child{margin-bottom:0}.et_pb_row_1-2_1-2 .et_pb_column.et_pb_column_1_2 .et_pb_column.et_pb_column_1_6{width:100%;margin:0 0 30px}.et_pb_row_1-2_1-2 .et_pb_column.et_pb_column_1_2 .et_pb_column.et_pb_column_1_6.et-last-child,.et_pb_row_1-2_1-2 .et_pb_column.et_pb_column_1_2 .et_pb_column.et_pb_column_1_6:last-child{margin-bottom:0}.et_pb_column{width:100%!important}}\n",
       ".et_pb_text{word-wrap:break-word}.et_pb_text ol,.et_pb_text ul{padding-bottom:1em}.et_pb_text>:last-child{padding-bottom:0}.et_pb_text_inner{position:relative}\n",
       ".et_pb_search .screen-reader-text{display:none}.et_pb_search{border:1px solid #ddd;border-radius:3px;overflow:hidden}.et_pb_search input.et_pb_s,.et_pb_search input.et_pb_searchsubmit{padding:.715em;margin:0;font-size:14px;line-height:normal!important;border:none;color:#666}.et_pb_search input.et_pb_s::-webkit-input-placeholder{color:#666}.et_pb_search input.et_pb_s::-moz-placeholder{color:#666}.et_pb_search input.et_pb_s:-ms-input-placeholder{color:#666}.et_pb_search input.et_pb_s{-webkit-appearance:none;background:transparent;display:inline-block;padding-right:80px;-webkit-box-flex:1;-ms-flex:1;flex:1;min-width:0}.et_pb_search .et_pb_searchform{position:relative}.et_pb_search .et_pb_searchform>div{display:-webkit-box;display:-ms-flexbox;display:flex}.et_pb_search input.et_pb_searchsubmit{min-height:100%!important;background-color:#ddd;cursor:pointer}.et_pb_search.et_pb_text_align_right .et_pb_searchform>div{-webkit-box-orient:horizontal;-webkit-box-direction:reverse;-ms-flex-direction:row-reverse;flex-direction:row-reverse}.et_pb_search.et_pb_text_align_right input.et_pb_s{text-align:right;padding-left:80px;padding-right:.7em}.et_pb_search.et_pb_text_align_center input.et_pb_s{text-align:center}.et_pb_search.et_pb_hide_search_button input.et_pb_searchsubmit{display:none}.et_pb_search.et_pb_hide_search_button input.et_pb_s{padding-left:.7em;padding-right:.7em}.et_pb_search.et_pb_bg_layout_dark input.et_pb_s{color:#fff;border:2px solid #fff}.et_pb_search.et_pb_bg_layout_dark input.et_pb_s::-webkit-input-placeholder{color:#fff}.et_pb_search.et_pb_bg_layout_dark input.et_pb_s::-moz-placeholder{color:#fff}.et_pb_search.et_pb_bg_layout_dark input.et_pb_s:-ms-input-placeholder{color:#fff}.et_pb_search.et_pb_bg_layout_dark input.et_pb_searchsubmit{background-color:transparent;color:#fff;font-weight:500;border:2px solid #fff}@media (max-width:980px){.et_pb_bg_layout_light_tablet.et_pb_search input.et_pb_s{border:none;color:#666}.et_pb_bg_layout_light_tablet.et_pb_search input.et_pb_s::-webkit-input-placeholder{color:#666}.et_pb_bg_layout_light_tablet.et_pb_search input.et_pb_searchsubmit{border:none;color:#666;background-color:#ddd}.et_pb_bg_layout_dark_tablet.et_pb_search input.et_pb_s{color:#fff;border:2px solid #fff}.et_pb_bg_layout_dark_tablet.et_pb_search input.et_pb_s::-webkit-input-placeholder{color:#fff}.et_pb_bg_layout_dark_tablet.et_pb_search input.et_pb_s::-moz-placeholder{color:#fff}.et_pb_bg_layout_dark_tablet.et_pb_search input.et_pb_s:-ms-input-placeholder{color:#fff}.et_pb_bg_layout_dark_tablet.et_pb_search input.et_pb_searchsubmit{background-color:transparent;color:#fff;font-weight:500;border:2px solid #fff}.et_pb_search.et_pb_text_align_right-tablet .et_pb_searchform>div{-webkit-box-orient:horizontal;-webkit-box-direction:reverse;-ms-flex-direction:row-reverse;flex-direction:row-reverse}.et_pb_search.et_pb_text_align_right-tablet input.et_pb_s{text-align:right;padding-left:80px;padding-right:.7em}.et_pb_search.et_pb_text_align_center-tablet input.et_pb_s{text-align:center}.et_pb_search.et_pb_text_align_left-tablet .et_pb_searchsubmit{left:auto}.et_pb_search.et_pb_text_align_left-tablet input.et_pb_s{text-align:left;padding-left:.715em}.et_pb_search.et_pb_text_align_center-tablet input.et_pb_s{padding-left:.715em;padding-right:.715em}}@media (max-width:767px){.et_pb_bg_layout_light_phone.et_pb_search input.et_pb_s{border:none;color:#666}.et_pb_bg_layout_light_phone.et_pb_search input.et_pb_s::-webkit-input-placeholder{color:#666}.et_pb_bg_layout_light_phone.et_pb_search input.et_pb_searchsubmit{border:none;color:#666;background-color:#ddd}.et_pb_bg_layout_dark_phone.et_pb_search input.et_pb_s{color:#fff;border:2px solid #fff}.et_pb_bg_layout_dark_phone.et_pb_search input.et_pb_s::-webkit-input-placeholder{color:#fff}.et_pb_bg_layout_dark_phone.et_pb_search input.et_pb_s::-moz-placeholder{color:#fff}.et_pb_bg_layout_dark_phone.et_pb_search input.et_pb_s:-ms-input-placeholder{color:#fff}.et_pb_bg_layout_dark_phone.et_pb_search input.et_pb_searchsubmit{background-color:transparent;color:#fff;font-weight:500;border:2px solid #fff}.et_pb_search.et_pb_text_align_right-phone .et_pb_searchform>div{-webkit-box-orient:horizontal;-webkit-box-direction:reverse;-ms-flex-direction:row-reverse;flex-direction:row-reverse}.et_pb_search.et_pb_text_align_right-phone input.et_pb_s{text-align:right;padding-left:80px;padding-right:.7em}.et_pb_search.et_pb_text_align_center-phone input.et_pb_s{text-align:center}.et_pb_search.et_pb_text_align_left-tablet .et_pb_searchsubmit{left:auto}.et_pb_search.et_pb_text_align_left-tablet input.et_pb_s{text-align:left;padding-left:.715em}.et_pb_search.et_pb_text_align_center-tablet input.et_pb_s{padding-left:.715em;padding-right:.715em}}\n",
       ".et-menu li{display:inline-block;font-size:14px;padding-right:22px}.et-menu>li:last-child{padding-right:0}.et-menu a{color:rgba(0,0,0,.6);text-decoration:none;display:block;position:relative}.et-menu a,.et-menu a:hover{-webkit-transition:all .4s ease-in-out;transition:all .4s ease-in-out}.et-menu a:hover{opacity:.7}.et-menu li>a{padding-bottom:29px;word-wrap:break-word}a.et_pb_menu__icon,button.et_pb_menu__icon{display:-webkit-box;display:-ms-flexbox;display:flex;-webkit-box-align:center;-ms-flex-align:center;align-items:center;padding:0;margin:0 11px;font-family:ETmodules;font-size:17px;line-height:normal;background:none;border:0;cursor:pointer}.et_pb_menu__wrap .mobile_menu_bar{-webkit-transform:translateY(3%);transform:translateY(3%)}.et_pb_menu__wrap .mobile_menu_bar:before{top:0}.et_pb_menu__logo{overflow:hidden}.et_pb_menu__logo img{display:block}.et_pb_menu__logo img[src$=\".svg\"]{width:100%}.et_pb_menu__search-button:after{content:\"U\"}.et_pb_menu__cart-button:after{content:\"\\E07A\"}@media (max-width:980px){.et-menu{display:none}.et_mobile_nav_menu{display:block;margin-top:-1px}}\n",
       ".et_pb_with_border.et_pb_menu .et_pb_menu__logo img{border:0 solid #333}.et_pb_menu.et_hover_enabled:hover{z-index:auto}.et_pb_menu .et-menu-nav,.et_pb_menu .et-menu-nav>ul{float:none}.et_pb_menu .et-menu-nav>ul{padding:0!important;line-height:1.7em}.et_pb_menu .et-menu-nav>ul ul{padding:20px 0;text-align:left}.et_pb_bg_layout_dark.et_pb_menu ul li a{color:#fff}.et_pb_bg_layout_dark.et_pb_menu ul li a:hover{color:hsla(0,0%,100%,.8)}.et-menu li li.menu-item-has-children>a:first-child:after{top:12px}.et_pb_menu .et-menu-nav>ul.upwards li ul{bottom:100%;top:auto;border-top:none;border-bottom:3px solid #2ea3f2;-webkit-box-shadow:2px -2px 5px rgba(0,0,0,.1);box-shadow:2px -2px 5px rgba(0,0,0,.1)}.et_pb_menu .et-menu-nav>ul.upwards li ul li ul{bottom:-23px}.et_pb_menu .et-menu-nav>ul.upwards li.mega-menu ul ul{bottom:0;top:auto;border:none}.et_pb_menu_inner_container{position:relative}.et_pb_menu .et_pb_menu__wrap{-webkit-box-flex:1;-ms-flex:1 1 auto;flex:1 1 auto;display:-webkit-box;display:-ms-flexbox;display:flex;-webkit-box-pack:start;-ms-flex-pack:start;justify-content:flex-start;-webkit-box-align:stretch;-ms-flex-align:stretch;align-items:stretch;-ms-flex-wrap:wrap;flex-wrap:wrap;opacity:1}.et_pb_menu .et_pb_menu__wrap--visible{-webkit-animation:fadeInBottom 1s cubic-bezier(.77,0,.175,1) 1;animation:fadeInBottom 1s cubic-bezier(.77,0,.175,1) 1}.et_pb_menu .et_pb_menu__wrap--hidden{opacity:0;-webkit-animation:fadeOutBottom 1s cubic-bezier(.77,0,.175,1) 1;animation:fadeOutBottom 1s cubic-bezier(.77,0,.175,1) 1}.et_pb_menu .et_pb_menu__menu{-webkit-box-flex:0;-ms-flex:0 1 auto;flex:0 1 auto;-webkit-box-pack:start;-ms-flex-pack:start;justify-content:flex-start}.et_pb_menu .et_pb_menu__menu,.et_pb_menu .et_pb_menu__menu>nav,.et_pb_menu .et_pb_menu__menu>nav>ul{display:-webkit-box;display:-ms-flexbox;display:flex;-webkit-box-align:stretch;-ms-flex-align:stretch;align-items:stretch}.et_pb_menu .et_pb_menu__menu>nav>ul{-ms-flex-wrap:wrap;flex-wrap:wrap;-webkit-box-pack:start;-ms-flex-pack:start;justify-content:flex-start}.et_pb_menu .et_pb_menu__menu>nav>ul>li{position:relative;display:-webkit-box;display:-ms-flexbox;display:flex;-webkit-box-align:stretch;-ms-flex-align:stretch;align-items:stretch;margin:0}.et_pb_menu .et_pb_menu__menu>nav>ul>li.mega-menu{position:static}.et_pb_menu .et_pb_menu__menu>nav>ul>li>ul{top:calc(100% - 1px);left:0}.et_pb_menu .et_pb_menu__menu>nav>ul.upwards>li>ul{top:auto;bottom:calc(100% - 1px)}.et_pb_menu--with-logo .et_pb_menu__menu>nav>ul>li>a{display:-webkit-box;display:-ms-flexbox;display:flex;-webkit-box-align:center;-ms-flex-align:center;align-items:center;padding:31px 0;white-space:nowrap}.et_pb_menu--with-logo .et_pb_menu__menu>nav>ul>li>a:after{top:50%!important;-webkit-transform:translateY(-50%);transform:translateY(-50%)}.et_pb_menu--without-logo .et_pb_menu__menu>nav>ul{padding:0!important}.et_pb_menu--without-logo .et_pb_menu__menu>nav>ul>li{margin-top:8px}.et_pb_menu--without-logo .et_pb_menu__menu>nav>ul>li>a{padding-bottom:8px}.et_pb_menu--without-logo .et_pb_menu__menu>nav>ul.upwards>li{margin-top:0;margin-bottom:8px}.et_pb_menu--without-logo .et_pb_menu__menu>nav>ul.upwards>li>a{padding-top:8px;padding-bottom:0}.et_pb_menu--without-logo .et_pb_menu__menu>nav>ul.upwards>li>a:after{top:auto;bottom:0}.et_pb_menu .et_pb_menu__icon{-webkit-box-flex:0;-ms-flex:0 0 auto;flex:0 0 auto}.et_pb_menu .et-menu{margin-left:-11px;margin-right:-11px}.et_pb_menu .et-menu>li{padding-left:11px;padding-right:11px}.et_pb_menu--style-left_aligned .et_pb_menu_inner_container,.et_pb_menu--style-left_aligned .et_pb_row{display:-webkit-box;display:-ms-flexbox;display:flex;-webkit-box-align:stretch;-ms-flex-align:stretch;align-items:stretch}.et_pb_menu--style-left_aligned .et_pb_menu__logo-wrap{-webkit-box-flex:0;-ms-flex:0 1 auto;flex:0 1 auto;display:-webkit-box;display:-ms-flexbox;display:flex;-webkit-box-align:center;-ms-flex-align:center;align-items:center}.et_pb_menu--style-left_aligned .et_pb_menu__logo{margin-right:30px}.rtl .et_pb_menu--style-left_aligned .et_pb_menu__logo{margin-right:0;margin-left:30px}.et_pb_menu--style-left_aligned.et_pb_text_align_center .et_pb_menu__menu>nav>ul,.et_pb_menu--style-left_aligned.et_pb_text_align_center .et_pb_menu__wrap{-webkit-box-pack:center;-ms-flex-pack:center;justify-content:center}.et_pb_menu--style-left_aligned.et_pb_text_align_right .et_pb_menu__menu>nav>ul,.et_pb_menu--style-left_aligned.et_pb_text_align_right .et_pb_menu__wrap{-webkit-box-pack:end;-ms-flex-pack:end;justify-content:flex-end}.et_pb_menu--style-left_aligned.et_pb_text_align_justified .et_pb_menu__menu,.et_pb_menu--style-left_aligned.et_pb_text_align_justified .et_pb_menu__menu>nav,.et_pb_menu--style-left_aligned.et_pb_text_align_justified .et_pb_menu__wrap{-webkit-box-flex:1;-ms-flex-positive:1;flex-grow:1}.et_pb_menu--style-left_aligned.et_pb_text_align_justified .et_pb_menu__menu>nav>ul{-webkit-box-flex:1;-ms-flex-positive:1;flex-grow:1;-webkit-box-pack:justify;-ms-flex-pack:justify;justify-content:space-between}.et_pb_menu--style-centered .et_pb_menu__logo-wrap{display:-webkit-box;display:-ms-flexbox;display:flex;-webkit-box-orient:vertical;-webkit-box-direction:normal;-ms-flex-direction:column;flex-direction:column;-webkit-box-align:center;-ms-flex-align:center;align-items:center}.et_pb_menu--style-centered .et_pb_menu__logo-wrap,.et_pb_menu--style-centered .et_pb_menu__logo img{margin:0 auto}.et_pb_menu--style-centered .et_pb_menu__menu>nav>ul,.et_pb_menu--style-centered .et_pb_menu__wrap{-webkit-box-pack:center;-ms-flex-pack:center;justify-content:center}.et_pb_menu--style-inline_centered_logo .et_pb_menu_inner_container>.et_pb_menu__logo-wrap,.et_pb_menu--style-inline_centered_logo .et_pb_row>.et_pb_menu__logo-wrap{display:none;margin-bottom:30px}.et_pb_menu--style-inline_centered_logo .et_pb_menu__logo{display:-webkit-box;display:-ms-flexbox;display:flex;-webkit-box-align:center;-ms-flex-align:center;align-items:center}.et_pb_menu--style-inline_centered_logo .et_pb_menu__logo,.et_pb_menu--style-inline_centered_logo .et_pb_menu__logo img{margin:0 auto}.et_pb_menu--style-inline_centered_logo .et_pb_menu__wrap{-webkit-box-pack:center;-ms-flex-pack:center;justify-content:center}.et_pb_menu--style-inline_centered_logo .et_pb_menu__logo-slot{-webkit-box-align:center!important;-ms-flex-align:center!important;align-items:center!important}.et_pb_menu--style-inline_centered_logo .et_pb_menu__logo-slot .et_pb_menu__logo,.et_pb_menu--style-inline_centered_logo .et_pb_menu__logo-slot .et_pb_menu__logo-wrap{width:100%;height:100%}.et_pb_menu--style-inline_centered_logo .et_pb_menu__logo-slot img{max-height:100%}.et_pb_menu .et_pb_menu__logo-slot .et-fb-content-placeholder{min-width:96px}.et_pb_menu .et_pb_menu__search-container{position:absolute;display:-webkit-box;display:-ms-flexbox;display:flex;-webkit-box-pack:stretch;-ms-flex-pack:stretch;justify-content:stretch;-ms-flex-line-pack:stretch;align-content:stretch;left:0;bottom:0;width:100%;height:100%;opacity:0;z-index:999}.et_pb_menu .et_pb_menu__search-container--visible{opacity:1;-webkit-animation:fadeInTop 1s cubic-bezier(.77,0,.175,1) 1;animation:fadeInTop 1s cubic-bezier(.77,0,.175,1) 1}.et_pb_menu .et_pb_menu__search-container--hidden{-webkit-animation:fadeOutTop 1s cubic-bezier(.77,0,.175,1) 1;animation:fadeOutTop 1s cubic-bezier(.77,0,.175,1) 1}.et_pb_menu .et_pb_menu__search-container--disabled{display:none}.et_pb_menu .et_pb_menu__search{-webkit-box-flex:1;-ms-flex:1 1 auto;flex:1 1 auto;display:-webkit-box;display:-ms-flexbox;display:flex;-webkit-box-pack:stretch;-ms-flex-pack:stretch;justify-content:stretch;-webkit-box-align:center;-ms-flex-align:center;align-items:center}.et_pb_menu .et_pb_menu__search-form{-webkit-box-flex:1;-ms-flex:1 1 auto;flex:1 1 auto}.et_pb_menu .et_pb_menu__search-input{border:0;width:100%;color:#333;background:transparent}.et_pb_menu .et_pb_menu__close-search-button{-webkit-box-flex:0;-ms-flex:0 0 auto;flex:0 0 auto}.et_pb_menu .et_pb_menu__close-search-button:after{content:\"M\";font-size:1.7em}@media (min-width:981px){.et_dropdown_animation_fade.et_pb_menu ul li:hover>ul{-webkit-transition:all .2s ease-in-out;transition:all .2s ease-in-out}.et_dropdown_animation_slide.et_pb_menu ul li:hover>ul{-webkit-animation:fadeLeft .4s ease-in-out;animation:fadeLeft .4s ease-in-out}.et_dropdown_animation_expand.et_pb_menu ul li:hover>ul{-webkit-transform-origin:0 0;-webkit-animation:Grow .4s ease-in-out;animation:Grow .4s ease-in-out;-webkit-backface-visibility:visible!important;backface-visibility:visible!important}.et_dropdown_animation_flip.et_pb_menu ul li ul li:hover>ul{-webkit-animation:flipInX .6s ease-in-out;animation:flipInX .6s ease-in-out;-webkit-backface-visibility:visible!important;backface-visibility:visible!important}.et_dropdown_animation_flip.et_pb_menu ul li:hover>ul{-webkit-animation:flipInY .6s ease-in-out;animation:flipInY .6s ease-in-out;-webkit-backface-visibility:visible!important;backface-visibility:visible!important}.et_pb_menu.et_pb_menu_fullwidth .et_pb_row{width:100%;max-width:100%;padding:0 30px!important}}@media (max-width:980px){.et_pb_menu--style-left_aligned .et_pb_menu_inner_container,.et_pb_menu--style-left_aligned .et_pb_row{-webkit-box-align:center;-ms-flex-align:center;align-items:center}.et_pb_menu--style-left_aligned .et_pb_menu__wrap{-webkit-box-pack:end;-ms-flex-pack:end;justify-content:flex-end}.et_pb_menu--style-left_aligned.et_pb_text_align_center .et_pb_menu__wrap{-webkit-box-pack:center;-ms-flex-pack:center;justify-content:center}.et_pb_menu--style-left_aligned.et_pb_text_align_right .et_pb_menu__wrap{-webkit-box-pack:end;-ms-flex-pack:end;justify-content:flex-end}.et_pb_menu--style-left_aligned.et_pb_text_align_justified .et_pb_menu__wrap{-webkit-box-pack:justify;-ms-flex-pack:justify;justify-content:space-between}.et_pb_menu--style-inline_centered_logo .et_pb_menu_inner_container>.et_pb_menu__logo-wrap,.et_pb_menu--style-inline_centered_logo .et_pb_row>.et_pb_menu__logo-wrap{display:-webkit-box;display:-ms-flexbox;display:flex;-webkit-box-orient:vertical;-webkit-box-direction:normal;-ms-flex-direction:column;flex-direction:column;-webkit-box-align:center;-ms-flex-align:center;align-items:center}.et_pb_menu--style-inline_centered_logo .et_pb_menu_inner_container>.et_pb_menu__logo,.et_pb_menu--style-inline_centered_logo .et_pb_row>.et_pb_menu__logo{margin:0 auto}.et_pb_menu--style-inline_centered_logo .et_pb_menu__logo-slot{display:none}.et_pb_menu .et_pb_row{min-height:81px}.et_pb_menu .et_pb_menu__menu{display:none}.et_pb_menu .et_mobile_nav_menu{float:none;margin:0 6px;display:-webkit-box;display:-ms-flexbox;display:flex;-webkit-box-align:center;-ms-flex-align:center;align-items:center}.et_pb_menu .et_mobile_menu{top:100%;padding:5%}.et_pb_menu .et_mobile_menu,.et_pb_menu .et_mobile_menu ul{list-style:none!important;text-align:left}.et_pb_menu .et_mobile_menu ul{padding:0}.et_pb_menu .et_pb_mobile_menu_upwards .et_mobile_menu{top:auto;bottom:100%}}\n",
       "@-webkit-keyframes fadeOutTop{0%{opacity:1;-webkit-transform:translatey(0);transform:translatey(0)}to{opacity:0;-webkit-transform:translatey(-60%);transform:translatey(-60%)}}@keyframes fadeOutTop{0%{opacity:1;-webkit-transform:translatey(0);transform:translatey(0)}to{opacity:0;-webkit-transform:translatey(-60%);transform:translatey(-60%)}}@-webkit-keyframes fadeInTop{0%{opacity:0;-webkit-transform:translatey(-60%);transform:translatey(-60%)}to{opacity:1;-webkit-transform:translatey(0);transform:translatey(0)}}@keyframes fadeInTop{0%{opacity:0;-webkit-transform:translatey(-60%);transform:translatey(-60%)}to{opacity:1;-webkit-transform:translatey(0);transform:translatey(0)}}@-webkit-keyframes fadeInBottom{0%{opacity:0;-webkit-transform:translatey(60%);transform:translatey(60%)}to{opacity:1;-webkit-transform:translatey(0);transform:translatey(0)}}@keyframes fadeInBottom{0%{opacity:0;-webkit-transform:translatey(60%);transform:translatey(60%)}to{opacity:1;-webkit-transform:translatey(0);transform:translatey(0)}}@-webkit-keyframes fadeOutBottom{0%{opacity:1;-webkit-transform:translatey(0);transform:translatey(0)}to{opacity:0;-webkit-transform:translatey(60%);transform:translatey(60%)}}@keyframes fadeOutBottom{0%{opacity:1;-webkit-transform:translatey(0);transform:translatey(0)}to{opacity:0;-webkit-transform:translatey(60%);transform:translatey(60%)}}@-webkit-keyframes Grow{0%{opacity:0;-webkit-transform:scaleY(.5);transform:scaleY(.5)}to{opacity:1;-webkit-transform:scale(1);transform:scale(1)}}@keyframes Grow{0%{opacity:0;-webkit-transform:scaleY(.5);transform:scaleY(.5)}to{opacity:1;-webkit-transform:scale(1);transform:scale(1)}}/*!\n",
       "\t  * Animate.css - http://daneden.me/animate\n",
       "\t  * Licensed under the MIT license - http://opensource.org/licenses/MIT\n",
       "\t  * Copyright (c) 2015 Daniel Eden\n",
       "\t */@-webkit-keyframes flipInX{0%{-webkit-transform:perspective(400px) rotateX(90deg);transform:perspective(400px) rotateX(90deg);-webkit-animation-timing-function:ease-in;animation-timing-function:ease-in;opacity:0}40%{-webkit-transform:perspective(400px) rotateX(-20deg);transform:perspective(400px) rotateX(-20deg);-webkit-animation-timing-function:ease-in;animation-timing-function:ease-in}60%{-webkit-transform:perspective(400px) rotateX(10deg);transform:perspective(400px) rotateX(10deg);opacity:1}80%{-webkit-transform:perspective(400px) rotateX(-5deg);transform:perspective(400px) rotateX(-5deg)}to{-webkit-transform:perspective(400px);transform:perspective(400px)}}@keyframes flipInX{0%{-webkit-transform:perspective(400px) rotateX(90deg);transform:perspective(400px) rotateX(90deg);-webkit-animation-timing-function:ease-in;animation-timing-function:ease-in;opacity:0}40%{-webkit-transform:perspective(400px) rotateX(-20deg);transform:perspective(400px) rotateX(-20deg);-webkit-animation-timing-function:ease-in;animation-timing-function:ease-in}60%{-webkit-transform:perspective(400px) rotateX(10deg);transform:perspective(400px) rotateX(10deg);opacity:1}80%{-webkit-transform:perspective(400px) rotateX(-5deg);transform:perspective(400px) rotateX(-5deg)}to{-webkit-transform:perspective(400px);transform:perspective(400px)}}@-webkit-keyframes flipInY{0%{-webkit-transform:perspective(400px) rotateY(90deg);transform:perspective(400px) rotateY(90deg);-webkit-animation-timing-function:ease-in;animation-timing-function:ease-in;opacity:0}40%{-webkit-transform:perspective(400px) rotateY(-20deg);transform:perspective(400px) rotateY(-20deg);-webkit-animation-timing-function:ease-in;animation-timing-function:ease-in}60%{-webkit-transform:perspective(400px) rotateY(10deg);transform:perspective(400px) rotateY(10deg);opacity:1}80%{-webkit-transform:perspective(400px) rotateY(-5deg);transform:perspective(400px) rotateY(-5deg)}to{-webkit-transform:perspective(400px);transform:perspective(400px)}}@keyframes flipInY{0%{-webkit-transform:perspective(400px) rotateY(90deg);transform:perspective(400px) rotateY(90deg);-webkit-animation-timing-function:ease-in;animation-timing-function:ease-in;opacity:0}40%{-webkit-transform:perspective(400px) rotateY(-20deg);transform:perspective(400px) rotateY(-20deg);-webkit-animation-timing-function:ease-in;animation-timing-function:ease-in}60%{-webkit-transform:perspective(400px) rotateY(10deg);transform:perspective(400px) rotateY(10deg);opacity:1}80%{-webkit-transform:perspective(400px) rotateY(-5deg);transform:perspective(400px) rotateY(-5deg)}to{-webkit-transform:perspective(400px);transform:perspective(400px)}}\n",
       "#main-header{line-height:23px;font-weight:500;top:0;background-color:#fff;width:100%;-webkit-box-shadow:0 1px 0 rgba(0,0,0,.1);box-shadow:0 1px 0 rgba(0,0,0,.1);position:relative;z-index:99999}.nav li li{padding:0 20px;margin:0}.et-menu li li a{padding:6px 20px;width:200px}.nav li{position:relative;line-height:1em}.nav li li{position:relative;line-height:2em}.nav li ul{position:absolute;padding:20px 0;z-index:9999;width:240px;background:#fff;visibility:hidden;opacity:0;border-top:3px solid #2ea3f2;box-shadow:0 2px 5px rgba(0,0,0,.1);-moz-box-shadow:0 2px 5px rgba(0,0,0,.1);-webkit-box-shadow:0 2px 5px rgba(0,0,0,.1);-webkit-transform:translateZ(0);text-align:left}.nav li.et-hover>ul{visibility:visible}.nav li.et-touch-hover>ul,.nav li:hover>ul{opacity:1;visibility:visible}.nav li li ul{z-index:1000;top:-23px;left:240px}.nav li.et-reverse-direction-nav li ul{left:auto;right:240px}.nav li:hover{visibility:inherit}.et_mobile_menu li a,.nav li li a{font-size:14px;-webkit-transition:all .2s ease-in-out;transition:all .2s ease-in-out}.et_mobile_menu li a:hover,.nav ul li a:hover{background-color:rgba(0,0,0,.03);opacity:.7}.et-dropdown-removing>ul{display:none}.mega-menu .et-dropdown-removing>ul{display:block}.et-menu .menu-item-has-children>a:first-child:after{font-family:ETmodules;content:\"3\";font-size:16px;position:absolute;right:0;top:0;font-weight:800}.et-menu .menu-item-has-children>a:first-child{padding-right:20px}.et-menu li li.menu-item-has-children>a:first-child:after{right:20px;top:6px}.et-menu-nav li.mega-menu{position:inherit}.et-menu-nav li.mega-menu>ul{padding:30px 20px;position:absolute!important;width:100%;left:0!important}.et-menu-nav li.mega-menu ul li{margin:0;float:left!important;display:block!important;padding:0!important}.et-menu-nav li.mega-menu li>ul{-webkit-animation:none!important;animation:none!important;padding:0;border:none;left:auto;top:auto;width:240px!important;position:relative;box-shadow:none;-webkit-box-shadow:none}.et-menu-nav li.mega-menu li ul{visibility:visible;opacity:1;display:none}.et-menu-nav li.mega-menu.et-hover li ul,.et-menu-nav li.mega-menu:hover li ul{display:block}.et-menu-nav li.mega-menu:hover>ul{opacity:1!important;visibility:visible!important}.et-menu-nav li.mega-menu>ul>li>a:first-child{padding-top:0!important;font-weight:700;border-bottom:1px solid rgba(0,0,0,.03)}.et-menu-nav li.mega-menu>ul>li>a:first-child:hover{background-color:transparent!important}.et-menu-nav li.mega-menu li>a{width:200px!important}.et-menu-nav li.mega-menu.mega-menu-parent li>a,.et-menu-nav li.mega-menu.mega-menu-parent li li{width:100%!important}.et-menu-nav li.mega-menu.mega-menu-parent li>.sub-menu{float:left;width:100%!important}.et-menu-nav li.mega-menu>ul>li{width:25%;margin:0}.et-menu-nav li.mega-menu.mega-menu-parent-3>ul>li{width:33.33%}.et-menu-nav li.mega-menu.mega-menu-parent-2>ul>li{width:50%}.et-menu-nav li.mega-menu.mega-menu-parent-1>ul>li{width:100%}.et_pb_fullwidth_menu li.mega-menu .menu-item-has-children>a:first-child:after,.et_pb_menu li.mega-menu .menu-item-has-children>a:first-child:after{display:none}.et_fullwidth_nav #top-menu li.mega-menu>ul{width:auto;left:30px!important;right:30px!important}.et_mobile_menu{position:absolute;left:0;padding:5%;background:#fff;width:100%;visibility:visible;opacity:1;display:none;z-index:9999;border-top:3px solid #2ea3f2;box-shadow:0 2px 5px rgba(0,0,0,.1);-moz-box-shadow:0 2px 5px rgba(0,0,0,.1);-webkit-box-shadow:0 2px 5px rgba(0,0,0,.1)}#main-header .et_mobile_menu li ul,.et_pb_fullwidth_menu .et_mobile_menu li ul,.et_pb_menu .et_mobile_menu li ul{visibility:visible!important;display:block!important;padding-left:10px}.et_mobile_menu li li{padding-left:5%}.et_mobile_menu li a{border-bottom:1px solid rgba(0,0,0,.03);color:#666;padding:10px 5%;display:block}.et_mobile_menu .menu-item-has-children>a{font-weight:700;background-color:rgba(0,0,0,.03)}.et_mobile_menu li .menu-item-has-children>a{background-color:transparent}.et_mobile_nav_menu{float:right;display:none}.mobile_menu_bar{position:relative;display:block;line-height:0}.mobile_menu_bar:before{content:\"a\";font-size:32px;position:relative;left:0;top:0;cursor:pointer}.et_pb_module .mobile_menu_bar:before{top:2px}.mobile_nav .select_page{display:none}\n",
       ".et_pb_bg_layout_light.et_pb_module.et_pb_button{color:#2ea3f2}.et_pb_module.et_pb_button{display:inline-block;color:inherit}.et_pb_button_module_wrapper.et_pb_button_alignment_left{text-align:left}.et_pb_button_module_wrapper.et_pb_button_alignment_right{text-align:right}.et_pb_button_module_wrapper.et_pb_button_alignment_center{text-align:center}.et_pb_button_module_wrapper>a{display:inline-block}@media (max-width:980px){.et_pb_button_module_wrapper.et_pb_button_alignment_tablet_left{text-align:left}.et_pb_button_module_wrapper.et_pb_button_alignment_tablet_right{text-align:right}.et_pb_button_module_wrapper.et_pb_button_alignment_tablet_center{text-align:center}}@media (max-width:767px){.et_pb_button_module_wrapper.et_pb_button_alignment_phone_left{text-align:left}.et_pb_button_module_wrapper.et_pb_button_alignment_phone_right{text-align:right}.et_pb_button_module_wrapper.et_pb_button_alignment_phone_center{text-align:center}}\n",
       ".et_pb_button[data-icon]:not([data-icon=\"\"]):after{content:attr(data-icon)}@media (max-width:980px){.et_pb_button[data-icon-tablet]:not([data-icon-tablet=\"\"]):after{content:attr(data-icon-tablet)}}@media (max-width:767px){.et_pb_button[data-icon-phone]:not([data-icon-phone=\"\"]):after{content:attr(data-icon-phone)}}\n",
       ".et_pb_code_inner{position:relative}\n",
       "ul.et_pb_social_media_follow{list-style-type:none!important;margin:0 0 22px;padding:0}.et_pb_social_media_follow li{display:inline-block;margin-bottom:8px;position:relative}.et_pb_social_media_follow li a{margin-right:8px;display:inline-block;text-decoration:none;text-align:center;position:relative}.et_pb_social_media_follow li a.follow_button{padding:0 12px;margin-top:5px;margin-right:25px;font-size:14px;line-height:1.6em;background:rgba(0,0,0,.1);color:rgba(0,0,0,.5);border-radius:3px;border-width:0;border-style:solid;-webkit-transition:all .3s;transition:all .3s}.et_pb_social_media_follow li.last-child a,.et_pb_social_media_follow li:last-child a{margin-right:0}.et_pb_social_media_follow.has_follow_button li.last-child a.icon,.et_pb_social_media_follow.has_follow_button li:last-child a.icon{margin-right:8px}.et_pb_social_media_follow li a.follow_button:hover{background:rgba(0,0,0,.2);color:rgba(0,0,0,.6)}.et_pb_social_media_follow.et_pb_bg_layout_dark li a.follow_button{background:rgba(0,0,0,.6);color:hsla(0,0%,100%,.8)}.et_pb_social_media_follow.et_pb_bg_layout_dark li a.follow_button:hover{background:rgba(0,0,0,.7);color:#fff}.et_pb_social_media_follow li a.icon{height:32px;width:32px;padding:0;-webkit-box-sizing:content-box;box-sizing:content-box}.et_pb_social_media_follow li a.icon:before{height:32px;width:32px;font-size:16px;line-height:32px;display:block;color:#fff;-webkit-transition:color .3s;transition:color .3s;position:relative;z-index:10}.et_pb_social_media_follow li a.icon:hover:before{color:hsla(0,0%,100%,.7)}.et_pb_social_media_follow li a.icon{border-radius:3px}.et_pb_social_media_follow_network_name{display:none}.et_pb_social_icon a.icon{vertical-align:middle}.et_pb_social_icon a.icon:before{font-family:ETmodules;speak:none;font-style:normal;font-weight:400;font-variant:normal;text-transform:none;line-height:1;-webkit-font-smoothing:antialiased;-moz-osx-font-smoothing:grayscale;text-shadow:0 0;direction:ltr}.et-pb-social-fa-icon a.icon:before{font-family:FontAwesome}.et-social-telegram a.icon:before{content:\"\\F3FE\"}.et-social-amazon a.icon:before{content:\"\\F270\"}.et-social-bandcamp a.icon:before{content:\"\\F2D5\"}.et-social-bitbucket a.icon:before{content:\"\\F171\"}.et-social-behance a.icon:before{content:\"\\F1B4\"}.et-social-buffer a.icon:before{content:\"\\F837\"}.et-social-codepen a.icon:before{content:\"\\F1CB\"}.et-social-deviantart a.icon:before{content:\"\\F1BD\"}.et-social-flipboard a.icon:before{content:\"\\F44D\"}.et-social-foursquare a.icon:before{content:\"\\F180\"}.et-social-github a.icon:before{content:\"\\F09B\"}.et-social-goodreads a.icon:before{content:\"\\F3A9\"}.et-social-google a.icon:before{content:\"\\F1A0\"}.et-social-houzz a.icon:before{content:\"\\F27C\"}.et-social-itunes a.icon:before{content:\"\\F3B5\"}.et-social-last_fm a.icon:before{content:\"\\F202\"}.et-social-line a.icon:before{content:\"\\F3C0\"}.et-social-medium a.icon:before,.et-social-meetup a.icon:before{content:\"\\F3C7\"}.et-social-odnoklassniki a.icon:before{content:\"\\F263\"}.et-social-patreon a.icon:before{content:\"\\F3D9\"}.et-social-periscope a.icon:before{content:\"\\F3DA\"}.et-social-quora a.icon:before{content:\"\\F2C4\"}.et-social-researchgate a.icon:before{content:\"\\F4F8\"}.et-social-reddit a.icon:before{content:\"\\F281\"}.et-social-snapchat a.icon:before{content:\"\\F2AC\"}.et-social-soundcloud a.icon:before{content:\"\\F1BE\"}.et-social-spotify a.icon:before{content:\"\\F1BC\"}.et-social-steam a.icon:before{content:\"\\F3F6\"}.et-social-tripadvisor a.icon:before{content:\"\\F262\"}.et-social-tiktok a.icon:before{content:\"\\E07B\"}.et-social-twitch a.icon:before{content:\"\\F1E8\"}.et-social-vk a.icon:before{content:\"\\F189\"}.et-social-weibo a.icon:before{content:\"\\F18A\"}.et-social-whatsapp a.icon:before{content:\"\\F232\"}.et-social-xing a.icon:before{content:\"\\F168\"}.et-social-yelp a.icon:before{content:\"\\F1E9\"}.et-social-pinterest a.icon:before{content:\"\\E095\"}.et-social-linkedin a.icon:before{content:\"\\E09D\"}.et-social-tumblr a.icon:before{content:\"\\E097\"}.et-social-skype a.icon:before{content:\"\\E0A2\"}.et-social-flikr a.icon:before{content:\"\\E0A6\"}.et-social-myspace a.icon:before{content:\"\\E0A1\"}.et-social-dribbble a.icon:before{content:\"\\E09B\"}.et-social-youtube a.icon:before{content:\"\\E0A3\"}.et-social-vimeo a.icon:before{content:\"\\E09C\"}@media (max-width:980px){.et_pb_bg_layout_light_tablet.et_pb_social_media_follow li a.follow_button{background:rgba(0,0,0,.1);color:rgba(0,0,0,.5)}.et_pb_bg_layout_light_tablet.et_pb_social_media_follow li a.follow_button:hover{background:rgba(0,0,0,.2);color:rgba(0,0,0,.6)}.et_pb_bg_layout_dark_tablet.et_pb_social_media_follow li a.follow_button{background:rgba(0,0,0,.6);color:hsla(0,0%,100%,.8)}.et_pb_bg_layout_dark_tablet.et_pb_social_media_follow li a.follow_button:hover{background:rgba(0,0,0,.7);color:#fff}}@media (max-width:767px){.et_pb_bg_layout_light_phone.et_pb_social_media_follow li a.follow_button{background:rgba(0,0,0,.1);color:rgba(0,0,0,.5)}.et_pb_bg_layout_light_phone.et_pb_social_media_follow li a.follow_button:hover{background:rgba(0,0,0,.2);color:rgba(0,0,0,.6)}.et_pb_bg_layout_dark_phone.et_pb_social_media_follow li a.follow_button{background:rgba(0,0,0,.6);color:hsla(0,0%,100%,.8)}.et_pb_bg_layout_dark_phone.et_pb_social_media_follow li a.follow_button:hover{background:rgba(0,0,0,.7);color:#fff}}\n",
       ".et_pb_with_border .et_pb_image_wrap{border:0 solid #333}.et_pb_image{margin-left:auto;margin-right:auto;line-height:0}.et_pb_image.aligncenter{text-align:center}.et_pb_image.et_pb_has_overlay a.et_pb_lightbox_image{display:block;position:relative}.et_pb_image{display:block}.et_pb_image .et_pb_image_wrap{display:inline-block;position:relative;max-width:100%}.et_pb_image .et_pb_image_wrap img[src*=\".svg\"]{width:auto}.et_pb_image img{position:relative}.et_pb_image_sticky{margin-bottom:0!important;display:inherit}.et_pb_image.et_pb_has_overlay .et_pb_image_wrap:hover .et_overlay{z-index:3;opacity:1}@media (min-width:981px){.et_pb_section_sticky,.et_pb_section_sticky.et_pb_bottom_divider .et_pb_row:nth-last-child(2),.et_pb_section_sticky .et_pb_column_single,.et_pb_section_sticky .et_pb_row.et-last-child,.et_pb_section_sticky .et_pb_row:last-child,.et_pb_section_sticky .et_pb_specialty_column .et_pb_row_inner.et-last-child,.et_pb_section_sticky .et_pb_specialty_column .et_pb_row_inner:last-child{padding-bottom:0!important}}@media (max-width:980px){.et_pb_image_sticky_tablet{margin-bottom:0!important;display:inherit}.et_pb_section_sticky_mobile,.et_pb_section_sticky_mobile.et_pb_bottom_divider .et_pb_row:nth-last-child(2),.et_pb_section_sticky_mobile .et_pb_column_single,.et_pb_section_sticky_mobile .et_pb_row.et-last-child,.et_pb_section_sticky_mobile .et_pb_row:last-child,.et_pb_section_sticky_mobile .et_pb_specialty_column .et_pb_row_inner.et-last-child,.et_pb_section_sticky_mobile .et_pb_specialty_column .et_pb_row_inner:last-child{padding-bottom:0!important}.et_pb_section_sticky .et_pb_row.et-last-child .et_pb_column.et_pb_row_sticky.et-last-child,.et_pb_section_sticky .et_pb_row:last-child .et_pb_column.et_pb_row_sticky:last-child{margin-bottom:0}.et_pb_image_bottom_space_tablet{margin-bottom:30px!important;display:block}.et_always_center_on_mobile{text-align:center!important;margin-left:auto!important;margin-right:auto!important}}@media (max-width:767px){.et_pb_image_sticky_phone{margin-bottom:0!important;display:inherit}.et_pb_image_bottom_space_phone{margin-bottom:30px!important;display:block}}\n",
       "</style>\n",
       "<link as=\"style\" href=\"https://tribucodeup.wpenginepowered.com/wp-content/et-cache/20058/et-divi-dynamic-tb-120-tb-101-20058-late.css?ver=1686708292\" id=\"divi-dynamic-late-css\" media=\"all\" onload=\"this.onload=null;this.rel='stylesheet'\" rel=\"preload\"/>\n",
       "<link href=\"https://tribucodeup.wpenginepowered.com/wp-content/plugins/divi-event-calendar-module/styles/style.min.css?ver=1.0.0\" id=\"divi-event-calendar-module-styles-css\" media=\"all\" rel=\"stylesheet\" type=\"text/css\"/>\n",
       "<link href=\"https://tribucodeup.wpenginepowered.com/wp-content/plugins/divi-mobile/styles/style.min.css?ver=1.0.0\" id=\"divi-mobile-styles-css\" media=\"all\" rel=\"stylesheet\" type=\"text/css\"/>\n",
       "<link href=\"https://tribucodeup.wpenginepowered.com/wp-content/themes/Divi-Child-Theme/style.css?ver=4.18.0\" id=\"divi-style-css\" media=\"all\" rel=\"stylesheet\" type=\"text/css\"/>\n",
       "<script id=\"jquery-core-js\" src=\"https://tribucodeup.wpenginepowered.com/wp-includes/js/jquery/jquery.min.js?ver=3.6.4\" type=\"text/javascript\"></script>\n",
       "<script id=\"jquery-migrate-js\" src=\"https://tribucodeup.wpenginepowered.com/wp-includes/js/jquery/jquery-migrate.min.js?ver=3.4.0\" type=\"text/javascript\"></script>\n",
       "<script id=\"jquery-js-after\" type=\"text/javascript\">\n",
       "jqueryParams.length&&$.each(jqueryParams,function(e,r){if(\"function\"==typeof r){var n=String(r);n.replace(\"$\",\"jQuery\");var a=new Function(\"return \"+n)();$(document).ready(a)}});\n",
       "</script>\n",
       "<script id=\"cookie-law-info-js-extra\" type=\"text/javascript\">\n",
       "/* <![CDATA[ */\n",
       "var Cli_Data = {\"nn_cookie_ids\":[],\"cookielist\":[],\"non_necessary_cookies\":[],\"ccpaEnabled\":\"1\",\"ccpaRegionBased\":\"\",\"ccpaBarEnabled\":\"\",\"strictlyEnabled\":[\"necessary\",\"obligatoire\"],\"ccpaType\":\"ccpa_gdpr\",\"js_blocking\":\"1\",\"custom_integration\":\"\",\"triggerDomRefresh\":\"\",\"secure_cookies\":\"\"};\n",
       "var cli_cookiebar_settings = {\"animate_speed_hide\":\"500\",\"animate_speed_show\":\"500\",\"background\":\"#FFF\",\"border\":\"#b1a6a6c2\",\"border_on\":\"\",\"button_1_button_colour\":\"#cccccc\",\"button_1_button_hover\":\"#a3a3a3\",\"button_1_link_colour\":\"#000000\",\"button_1_as_button\":\"1\",\"button_1_new_win\":\"\",\"button_2_button_colour\":\"#333\",\"button_2_button_hover\":\"#292929\",\"button_2_link_colour\":\"#444\",\"button_2_as_button\":\"\",\"button_2_hidebar\":\"\",\"button_3_button_colour\":\"#dedfe0\",\"button_3_button_hover\":\"#b2b2b3\",\"button_3_link_colour\":\"#333333\",\"button_3_as_button\":\"1\",\"button_3_new_win\":\"\",\"button_4_button_colour\":\"#dedfe0\",\"button_4_button_hover\":\"#b2b2b3\",\"button_4_link_colour\":\"#333333\",\"button_4_as_button\":\"1\",\"button_7_button_colour\":\"#cccccc\",\"button_7_button_hover\":\"#a3a3a3\",\"button_7_link_colour\":\"#000000\",\"button_7_as_button\":\"1\",\"button_7_new_win\":\"\",\"font_family\":\"inherit\",\"header_fix\":\"\",\"notify_animate_hide\":\"1\",\"notify_animate_show\":\"\",\"notify_div_id\":\"#cookie-law-info-bar\",\"notify_position_horizontal\":\"right\",\"notify_position_vertical\":\"bottom\",\"scroll_close\":\"\",\"scroll_close_reload\":\"\",\"accept_close_reload\":\"\",\"reject_close_reload\":\"\",\"showagain_tab\":\"\",\"showagain_background\":\"#fff\",\"showagain_border\":\"#000\",\"showagain_div_id\":\"#cookie-law-info-again\",\"showagain_x_position\":\"100px\",\"text\":\"#333333\",\"show_once_yn\":\"\",\"show_once\":\"10000\",\"logging_on\":\"\",\"as_popup\":\"\",\"popup_overlay\":\"1\",\"bar_heading_text\":\"\",\"cookie_bar_as\":\"banner\",\"popup_showagain_position\":\"bottom-right\",\"widget_position\":\"left\"};\n",
       "var log_object = {\"ajax_url\":\"https:\\/\\/codeup.com\\/wp-admin\\/admin-ajax.php\"};\n",
       "/* ]]> */\n",
       "</script>\n",
       "<script id=\"cookie-law-info-js\" src=\"https://tribucodeup.wpenginepowered.com/wp-content/plugins/cookie-law-info/legacy/public/js/cookie-law-info-public.js?ver=3.0.8\" type=\"text/javascript\"></script>\n",
       "<script id=\"cookie-law-info-ccpa-js-extra\" type=\"text/javascript\">\n",
       "/* <![CDATA[ */\n",
       "var ccpa_data = {\"opt_out_prompt\":\"Do you really wish to opt out?\",\"opt_out_confirm\":\"Confirm\",\"opt_out_cancel\":\"Cancel\"};\n",
       "/* ]]> */\n",
       "</script>\n",
       "<script id=\"cookie-law-info-ccpa-js\" src=\"https://tribucodeup.wpenginepowered.com/wp-content/plugins/cookie-law-info/legacy/admin/modules/ccpa/assets/js/cookie-law-info-ccpa.js?ver=3.0.8\" type=\"text/javascript\"></script>\n",
       "<script id=\"dap-ie-js\" src=\"https://tribucodeup.wpenginepowered.com/wp-content/plugins/popups-for-divi/scripts/ie-compat.min.js?ver=3.0.5\" type=\"text/javascript\"></script>\n",
       "<link href=\"https://codeup.com/wp-json/\" rel=\"https://api.w.org/\"/><link href=\"https://codeup.com/wp-json/wp/v2/posts/20058\" rel=\"alternate\" type=\"application/json\"/><link href=\"https://codeup.com/xmlrpc.php?rsd\" rel=\"EditURI\" title=\"RSD\" type=\"application/rsd+xml\"/>\n",
       "<link href=\"https://tribucodeup.wpenginepowered.com/wp-includes/wlwmanifest.xml\" rel=\"wlwmanifest\" type=\"application/wlwmanifest+xml\"/>\n",
       "<link href=\"https://codeup.com/?p=20058\" rel=\"shortlink\"/>\n",
       "<link href=\"https://codeup.com/wp-json/oembed/1.0/embed?url=https%3A%2F%2Fcodeup.com%2Ffeatured%2Fapida-heritage-month%2F\" rel=\"alternate\" type=\"application/json+oembed\"/>\n",
       "<link href=\"https://codeup.com/wp-json/oembed/1.0/embed?url=https%3A%2F%2Fcodeup.com%2Ffeatured%2Fapida-heritage-month%2F&amp;format=xml\" rel=\"alternate\" type=\"text/xml+oembed\"/>\n",
       "<!-- DO NOT COPY THIS SNIPPET! Start of Page Analytics Tracking for HubSpot WordPress plugin v10.0.25-->\n",
       "<script class=\"hsq-set-content-id\" data-content-id=\"blog-post\" type=\"text/javascript\">\n",
       "\t\t\t\tvar _hsq = _hsq || [];\n",
       "\t\t\t\t_hsq.push([\"setContentType\", \"blog-post\"]);\n",
       "\t\t\t</script>\n",
       "<!-- DO NOT COPY THIS SNIPPET! End of Page Analytics Tracking for HubSpot WordPress plugin -->\n",
       "<meta content=\"v1\" name=\"tec-api-version\"/><meta content=\"https://codeup.com\" name=\"tec-api-origin\"/><link href=\"https://codeup.com/wp-json/tribe/events/v1/\" rel=\"alternate\"/><meta content=\"width=device-width, initial-scale=1.0, maximum-scale=1.0, user-scalable=0\" name=\"viewport\"><style id=\"divi-mobile-burger-menu-inline-styles\">.show-menu .hamburger-box .hamburger-inner::after {bottom: -1px!important;}.show-menu .hamburger--elastic .hamburger-box .hamburger-inner::after {bottom: -19px!important;}.show-menu .hamburger--squeeze .hamburger-box .hamburger-inner::after {bottom: 0px!important;}.show-menu .hamburger--arrow .hamburger-box .hamburger-inner::before {top: -7px!important;}.show-menu .hamburger--arrow .hamburger-box .hamburger-inner::after {bottom: -6px!important;}.show-menu .hamburger--arrowalt .hamburger-box .hamburger-inner::before {top: 4px!important;}.show-menu .hamburger--arrowalt .hamburger-box .hamburger-inner::after {bottom: 4px!important;}.show-menu .hamburger--arrowturn .hamburger-box .hamburger-inner::after {bottom: -6px!important;}.show-menu .hamburger--arrowturn .hamburger-box .hamburger-inner::before {top: -6px!important;}.show-menu .hamburger--emphatic .hamburger-box .hamburger-inner::before {top: -79px!important;}.show-menu .hamburger--collapse .hamburger-box .hamburger-inner::before {top: 0px!important;}.show-menu .hamburger--stand .hamburger-box .hamburger-inner::after {bottom: 0px!important;}.show-menu .hamburger--stand .hamburger-box .hamburger-inner::before {top: 0px!important;}.show-menu .hamburger--3dx .hamburger-box .hamburger-inner::after {bottom: -11px!important;}.show-menu .hamburger--3dy .hamburger-box .hamburger-inner::after {bottom: -10px!important;}.show-menu .hamburger--3dxy .hamburger-box .hamburger-inner::after {bottom: -11px!important;}.menu-text {line-height:1.1em;text-shadow:;}.hamburger-box {left: 16px;top: 1px;}.hamburger-inner, .hamburger-inner::before, .hamburger-inner::after {background-color:#ffffff;}.hamburger.is-active .hamburger-inner, .hamburger.is-active .hamburger-inner::before, .hamburger.is-active .hamburger-inner::after {background-color:#ffffff;}.hamburger-inner, .hamburger-inner::before, .hamburger-inner::after {width: 27px;height: 3px;border-radius: 4px;}.hamburger-inner::before {top: -8px!important;}.hamburger-inner::after {bottom: -8px!important;}.menu-wrap::before {background-color: #4e5e33;}.hamburger {background-color:#4e5e33;width:60px;height:60px;border-radius:60px;right: 8px;top: 10px;-webkit-box-shadow: 0px 6px 30px 0px rgba(0,0,0,0.2);-moz-box-shadow: 0px 6px 30px 0px rgba(0,0,0,0.2);box-shadow: 0px 6px 30px 0px rgba(0,0,0,0.2);}.menu-button:hover {opacity: 0.6;}.menu-text {position: absolute;top: 20px;left: -25px;font-size: 14px;color: #ffffff;}</style><style id=\"divi-mobile-menu-inline-styles\">#dm-menu li a, .et-db #et-boc .et-l #dm-menu.nav li a {line-height:1.1em;text-shadow:;}.scroll_section {justify-content :flex-start}#dm-menu.nav li {text-align: left;width: 100%;}#dm-menu.nav li .sub-menu > li {text-align: left !important;}#dm_nav .menu-wrap__inner .menu-item-has-children > a:after {transform: rotate(0deg);transition: all 300ms ease 0ms;}#dm_nav .menu-wrap__inner .menu-item-has-children.visible > a:after {transform: rotate(0deg);}.menu-wrap__inner {padding-top: 0px !important;}#dm_nav .menu-wrap__inner .sub-menu, .et-db #et-boc .et-l #dm-menu.nav li ul.sub-menu {padding-top: 0px !important;}.menu-wrap {background-color: #4e5e33;right: 0;-webkit-transform: translate3d(300px,0,0);transform: translate3d(300px,0,0);max-width: 300px;}#dm_nav .menu-wrap__inner .sub-menu, .et-db #et-boc .et-l #dm-menu.nav li ul.sub-menu {right: 0;-webkit-transform: translate3d(300px,0,0);transform: translate3d(300px,0,0);}.menu-wrap a {display: block;color: #ffffff !important;font-size: 20px !important;padding-top: 14px !important;padding-bottom: 14px !important;}.menu-wrap a:hover,.menu-wrap a:focus {color: #efefef !important;}#dm_nav .nav li li {padding: 0;line-height: 1em;}</style><style id=\"divi-mobile-general-inline-styles\">body .menu-wrap { height: 100vh;top: 0;}body .menu-wrap.menuclosed {width: 0 !important;}body.show-menu .menu-wrap {width: 100% !important;}body .menu-wrap, body .divi-mobile-menu .menu-button {position: fixed;}#dm-menu a {display: block;}#dm_nav .menu-wrap__inner .menu-item-has-children > a:after,.clickthrough {color: #ffffff;font-size: 20px !important;right: 0px;}.clickthrough {position: absolute;width: 30px;height: 100%;z-index: 200;top: 0;cursor: pointer;}#dm_nav li ul.sub-menu,.et-db #et-boc .et-l #dm_nav .nav li ul {background-color: rgba(0,0,0,0);}#dm_nav li ul.sub-menu ul.sub-menu { background-color: rgba(0,0,0,0); } #dm_nav li ul.sub-menu a {line-height:0.5em;}#dm_nav li ul.sub-menu a {color: #ffffff !important;font-size: 16px !important;padding-top: 16px !important;padding-bottom: 16px !important;}#dm_nav li ul.sub-menu a:hover {color: #efefef !important;}@media only screen and (max-width: 980px) {html, body {position: relative;overflow-x: hidden !important}body.et-fb-root-ancestor {overflow-x: visible !important}#et-top-navigation{min-height: 80px;}#dm_nav .et_pb_fullwidth_menu .et_pb_menu__menu, #dm_nav .et_pb_menu .et_pb_menu__menu {display: block !important}#top-menu, .et-l--header .mobile_menu_bar, .et-l--header, #et-navigation, .dm-custom-header #main-header, #main-header .mobile_menu_bar {display: none !important;}.et-l--header.et-fb-root-ancestor {display: block !important;}.logo_container {min-height: 80px;}#et-top-navigation, .divi-mobile-menu {display: block !important;}body #et_mobile_nav_menu{display: none !important;}body.wp-admin{overflow-x:initial!important}}@media only screen and (min-width: 981px) {.divi-mobile-menu, #dm-header {display: none !important;}body #top-menu, body #main-header{display: block !important;}body #et_mobile_nav_menu{display: none !important;}}.slidein-minicart-active #dm-header {z-index: 999999999999999999999999;}.slidein-minicart-active #open-button {z-index: -1;}html, body.show-menu, .show-menu #page-container, .show-menu #et-main-area {overflow-y: visible !important;//height: 100% !important; } #wpadminbar {z-index: 9999999999999;}.inject_menu_remove #dm-menu .menu-item-has-children[class*=\"dm-\"] .sub-menu > .menu-item {display: none;} }</style><style id=\"divi-mobile-custom-header-inline-styles\">#dm-header {position: fixed;background-color: #ffffff;top: 0;width: 100%;display: block;z-index: 9999;-webkit-transition: background-color 0.4s, color 0.4s, transform 0.4s, opacity 0.4s ease-in-out;-moz-transition: background-color 0.4s, color 0.4s, transform 0.4s, opacity 0.4s ease-in-out;transition: background-color 0.4s, color 0.4s, transform 0.4s, opacity 0.4s ease-in-out;display: flex;flex-direction: column;justify-content: center;-webkit-box-shadow: 0px 6px 30px 0px rgba(0,0,0,0.3);-moz-box-shadow: 0px 6px 30px 0px rgba(0,0,0,0.3);box-shadow: 0px 6px 30px 0px rgba(0,0,0,0.3);-webkit-transition: all 0.2s;transition: all 0.2s;}.dm-header-cont {height: 80px;position: relative;} body .divi-mobile-menu .menu-button {z-index: 10000;position: fixed;}body.show-menu .menu-button {z-index: 99999999999999999999 !important;}#main-header {display: none !important;}#dm-header.fixed-header {background-color: #ffffff;}.fixed-header .dm-header-cont {height: 40px;}#dm-header.fixed-header #dm-logo {max-height: 50px;max-height: 50px;}#dm-logo {color: #ffffff;font-size: 14px;font-style: inherit;font-weight: inherit;letter-spacing: 0px;}.dm-fixed-header .hamburger {top: -23px;}.dm-fixed-header .dm-cart {top: 0px;}.dm-fixed-header .dm-search {top: -21px;}.dm-fixed-header .hamburger .hamburger-inner,.dm-fixed-header .hamburger .hamburger-inner::before,.dm-fixed-header .hamburger .hamburger-inner::after {background-color: ;}.dm-fixed-header #nav-icon .dots{fill: ;}.dm-fixed-header .dm-cart .et-cart-info span:before{color: ;}.dm-fixed-header .cart-icon svg path {fill: ;}.dm-fixed-header .dm-fixed-header .dm-search:before{color: ;}.dm-branding {float: left;position: relative;left: 12px;top: 0px;height: 100%;}#dm-header .flex-div {display: flex;flex-direction: column;justify-content: center;}.dm-branding a {height: 100%;float: left;position: relative;display: flex;flex-direction: column;justify-content: center;}#dm-logo, .logo-scroll {max-height: 60px;max-width: 115px;}#dm-logo.svg-logo, .logo-scroll.svg-logo {width: 100%;height: 100%;}.dm-cart {display: block;position: absolute;left: 60px;width: inherit;margin-top: 20px;}.dm-cart .et-cart-info span:before {color: #000000;font-size: 18px;}.dm-search {width: 41px;display: block;max-width: 200px;position: absolute;right: 74px;margin-top: 4px;z-index: 99999;}.dm-search form.et-search-form{padding-right: 30px;}.dm-search .et-search-form input,.dm-search .et-search-form input::-webkit-input-placeholder {color: #000000;font-size: 18px;}.dm-search #et_search_icon:before {position: relative;top: 0 !important;color: #000000;font-size: 21px;}.dm-search .et-search-form input {position: relative;}.dm-search form.et-search-form{width: 100%;margin: 0;left: auto;right: auto;bottom: auto;position: relative;}.et_hide_search_icon #dm-header #et_top_search_mob {display: block !important;}.et_header_style_centered .dm-search #et_top_search_mob, .et_vertical_nav.et_header_style_centered #main-header .dm-search #et_top_search_mob {display: block !important;}#dm-header #et_top_search_mob {float: none !important;margin: 3px 0 0 22px;display: block;text-align: center;white-space: nowrap;margin: 0 10px;opacity: 1;width: 100%;height: 80px;}#dm-header #et_top_search_mob #et_search_icon {position: absolute;top: 50%;transform: translateY(-50%);right: auto;cursor: pointer;text-decoration: none;text-transform: uppercase;font-size: 13px;font-weight: 500;display: inline-block;margin: 0;left: 0;}.dm-search-box {position: absolute;left: 30px;top: 50%;display: -ms-inline-flexbox;display: inline-flex;width: 100%;padding: 0;overflow: hidden;transform: translateY(-50%);}.dm-search .et-search-form input {width: 100%;height: 100%;background: none;padding: 0 0 0 10px;line-height: 1.5;position: relative;top: 0;text-overflow: ellipsis;right: auto;left: 0;}.menu-wrap__inner #et_top_search_mob {width: 100% !important;}.menu-wrap__inner .dm-search {max-width: 90%;}.menu-wrap__inner #et_search_icon {position: absolute;}@media only screen and (max-width: 980px) {body .cart-icon svg path {fill: #000000;}.dm-custom-header #page-container {padding-top: 80px !important;margin-top: 0 !important;}.dm-search-icon-header .dm-search-box .close:before {color: #000000 !important;font-size: 22px !important;}.dm-search .et-search-form {background-color: transparent;}.dm-search .et-search-field {border: none;}#dm-header {overflow: visible !important;}.dm-search-box {transform: translateY(0) !important;}.dm-search-icon-header .dm-search-box {position: fixed !important;display: block !important;width: 100%;left: 0;right: 0;padding: 10px 0;background-color: #ffffff;top: -200px;opacity: 0;-webkit-transition: all 0.5s;-moz-transition: all 0.5s;transition: all 0.5s;}.dm-search-box .close {display: none;}.dm-search-icon-header .dm-search-box .close {display: block;}.dm-search-icon-header .active .dm-search-box {top: 80px;opacity: 1 !important;}.dm-fixed-header.dm-search-icon-header .active .dm-search-box {top: 40px;opacity: 1 !important;}.dm-search-icon-header .dm-search-box .close {position: absolute;top: 10px;right: 10px;z-index: 99999;}.dm-search-icon-header .dm-search-box .close:before {text-shadow: 0 0;font-family: ETmodules!important;font-weight: 400;font-style: normal;font-variant: normal;-webkit-font-smoothing: antialiased;-moz-osx-font-smoothing: grayscale;line-height: 1;text-transform: none;speak: none;font-size: 22px;content: \"\\4d\";color: #000000;}.scroll_section .dm-search {width: 100%; }.menu-wrap__inner .scroll_section .dm-search {max-width: 90%;position: relative;padding: 10px 0;max-width: 100%;}.menu-wrap__inner .scroll_section #et_search_icon {right: 0;position: absolute;z-index: 9999;display: block;}.scroll_section .dm-search .et-search-form input {padding: 0;}.dm-account {width: 40px;display: block;position: absolute;none: 120px;z-index: 99999;top: 25px;height: 40px; } .dm-header-cont .dm-account span {font-family: ETmodules!important;content: attr(data-icon);font-size: 28px;color: #000000;}.dm-fixed-header .dm-header-cont .dm-account {top: 25;}.dm-fixed-header .dm-header-cont .dm-account span {color: ;}}</style><style id=\"divi-mobile-menu-submenu-inline-styles\">body #dm_nav .menu-wrap__inner .sub-menu,.et-db #et-boc .et-l #dm-menu.nav li ul.sub-menu {right: auto !important;-webkit-transform: translate3d(0px,0,0) !important;transform: translate3d(0px,0,0) !important;z-index: 1000;top: 0;left: 0;}#dm_nav .menu-wrap__inner .menu-item-has-children.visible > a:after {content: \"\\33\" !important;color: #ffffff;margin-top: 0px;margin-left: 0px;font-size: 20px;}#dm_nav .menu-wrap__inner .menu-item-has-children > a { background-color: transparent; position: relative; }#dm_nav .menu-wrap__inner .menu-item-has-children > a:after { font-family: \"ETmodules\"; text-align: center; speak: none; font-weight: normal; font-variant: normal; text-transform: none; -webkit-font-smoothing: antialiased; position: absolute; }#dm_nav .menu-wrap__inner .menu-item-has-children > a:after { font-size: 16px; content: \"\\32\"; }#dm_nav .menu-wrap__inner .menu-item-has-children.visible > a:after { content: \"\\4d\"; }#dm_nav .menu-wrap__inner ul.sub-menu { display: none !important; visibility: hidden !important;transition: all 1.5s ease-in-out;}#dm_nav .menu-wrap__inner .visible > ul.sub-menu,.et-db #et-boc .et-l #dm_nav .nav li.visible > ul.sub-menu {display: block !important; visibility: visible !important;width: 100% !important;position: relative !important;opacity: 1 !important;}.open-icon {position: absolute;top: 0;right: 0;width: 40px;height: 47px;z-index: 20;}.open-icon:after {cursor: pointer;font-family: \"ETmodules\";text-align: center;speak: none;font-weight: normal;font-variant: normal;text-transform: none;-webkit-font-smoothing: antialiased;position: absolute;font-size: 23px;content: \"\\4c\";top: 13px;right: 10px;color: #26c9b7;}</style><style id=\"custom-background-css\" type=\"text/css\">\n",
       "body.custom-background { background-color: #ffffff; }\n",
       "</style>\n",
       "<link crossorigin=\"anonymous\" href=\"https://use.fontawesome.com/releases/v5.7.1/css/all.css\" integrity=\"sha384-fnmOCqbTlWIlj8LyTjo7mOUStjsKC4pOpQbqyi7RrhN7udi9RwhKkMHpvLbHG9Sr\" rel=\"stylesheet\"/>\n",
       "<script>\n",
       "\t\t\t\t(function() {\n",
       "\t\t\t\t\tvar hbspt = window.hbspt = window.hbspt || {};\n",
       "\t\t\t\t\thbspt.forms = hbspt.forms || {};\n",
       "\t\t\t\t\thbspt._wpFormsQueue = [];\n",
       "\t\t\t\t\thbspt.enqueueForm = function(formDef) {\n",
       "\t\t\t\t\t\tif (hbspt.forms && hbspt.forms.create) {\n",
       "\t\t\t\t\t\t\thbspt.forms.create(formDef);\n",
       "\t\t\t\t\t\t} else {\n",
       "\t\t\t\t\t\t\thbspt._wpFormsQueue.push(formDef);\n",
       "\t\t\t\t\t\t}\n",
       "\t\t\t\t\t}\n",
       "\t\t\t\t\tif (!window.hbspt.forms.create) {\n",
       "\t\t\t\t\t\tObject.defineProperty(window.hbspt.forms, 'create', {\n",
       "\t\t\t\t\t\t\tconfigurable: true,\n",
       "\t\t\t\t\t\t\tget: function() {\n",
       "\t\t\t\t\t\t\t\treturn hbspt._wpCreateForm;\n",
       "\t\t\t\t\t\t\t},\n",
       "\t\t\t\t\t\t\tset: function(value) {\n",
       "\t\t\t\t\t\t\t\thbspt._wpCreateForm = value;\n",
       "\t\t\t\t\t\t\t\twhile (hbspt._wpFormsQueue.length) {\n",
       "\t\t\t\t\t\t\t\t\tvar formDef = hbspt._wpFormsQueue.shift();\n",
       "\t\t\t\t\t\t\t\t\tif (!document.currentScript) {\n",
       "\t\t\t\t\t\t\t\t\t\tvar formScriptId = 'leadin-forms-v2-js';\n",
       "\t\t\t\t\t\t\t\t\t\thubspot.utils.currentScript = document.getElementById(formScriptId);\n",
       "\t\t\t\t\t\t\t\t\t}\n",
       "\t\t\t\t\t\t\t\t\thbspt._wpCreateForm.call(hbspt.forms, formDef);\n",
       "\t\t\t\t\t\t\t\t}\n",
       "\t\t\t\t\t\t\t},\n",
       "\t\t\t\t\t\t});\n",
       "\t\t\t\t\t}\n",
       "\t\t\t\t})();\n",
       "\t\t\t</script>\n",
       "<!-- Tracking tag. Place in the <body> section of webpage -->\n",
       "<!-- Privacy policy at http://tag.brandcdn.com/privacy -->\n",
       "<script src=\"//tag.brandcdn.com/autoscript/codeup_vfzsuk1vmuvtvda9/codeup.js\" type=\"text/javascript\"></script>\n",
       "<!-- Global site tag (gtag.js) - Google Analytics -->\n",
       "<script async=\"\" src=\"https://www.googletagmanager.com/gtag/js?id=UA-80979492-1\"></script>\n",
       "<script>\n",
       "  window.dataLayer = window.dataLayer || [];\n",
       "  function gtag(){dataLayer.push(arguments);}\n",
       "  gtag('js', new Date());\n",
       "\n",
       "  gtag('config', 'UA-80979492-1');\n",
       "</script>\n",
       "<!-- Global site tag (gtag.js) - Google Analytics -->\n",
       "<script async=\"\" src=\"https://www.googletagmanager.com/gtag/js?id=G-T28MWJ54LC\"></script>\n",
       "<script>\n",
       "  window.dataLayer = window.dataLayer || [];\n",
       "  function gtag(){dataLayer.push(arguments);}\n",
       "  gtag('js', new Date());\n",
       "\n",
       "  gtag('config', 'G-T28MWJ54LC');\n",
       "</script>\n",
       "<!-- Global site tag (gtag.js) - Google Analytics -->\n",
       "<script async=\"\" src=\"https://www.googletagmanager.com/gtag/js?id=UA-157296047-1\"></script>\n",
       "<script>\n",
       "  window.dataLayer = window.dataLayer || [];\n",
       "  function gtag(){dataLayer.push(arguments);}\n",
       "  gtag('js', new Date());\n",
       "  gtag('config', 'UA-157296047-1');\n",
       "</script>\n",
       "<!-- Global site tag (gtag.js) - Google Ads: 881084489 -->\n",
       "<script async=\"\" src=\"https://www.googletagmanager.com/gtag/js?id=AW-881084489\"></script>\n",
       "<script>\n",
       "  window.dataLayer = window.dataLayer || [];\n",
       "  function gtag(){dataLayer.push(arguments);}\n",
       "  gtag('js', new Date());\n",
       "\n",
       "  gtag('config', 'AW-881084489');\n",
       "</script> <script>\n",
       "\t\t\tdocument.documentElement.className = document.documentElement.className.replace( 'no-js', 'js' );\n",
       "\t\t</script>\n",
       "<style>\n",
       "\t\t\t.no-js img.lazyload { display: none; }\n",
       "\t\t\tfigure.wp-block-image img.lazyloading { min-width: 150px; }\n",
       "\t\t\t\t\t\t\t.lazyload, .lazyloading { opacity: 0; }\n",
       "\t\t\t\t.lazyloaded {\n",
       "\t\t\t\t\topacity: 1;\n",
       "\t\t\t\t\ttransition: opacity 400ms;\n",
       "\t\t\t\t\ttransition-delay: 0ms;\n",
       "\t\t\t\t}\n",
       "\t\t\t\t\t</style>\n",
       "<!-- Facebook Pixel Code -->\n",
       "<script>\n",
       "!function(f,b,e,v,n,t,s)\n",
       "{if(f.fbq)return;n=f.fbq=function(){n.callMethod?\n",
       "n.callMethod.apply(n,arguments):n.queue.push(arguments)};\n",
       "if(!f._fbq)f._fbq=n;n.push=n;n.loaded=!0;n.version='2.0';\n",
       "n.queue=[];t=b.createElement(e);t.async=!0;\n",
       "t.src=v;s=b.getElementsByTagName(e)[0];\n",
       "s.parentNode.insertBefore(t,s)}(window, document,'script',\n",
       "'https://connect.facebook.net/en_US/fbevents.js');\n",
       "fbq('init', '3940550992837075');\n",
       "fbq('track', 'PageView');\n",
       "</script>\n",
       "<noscript><img alt=\"facebook\" height=\"1\" src=\"https://www.facebook.com/tr?id=3940550992837075&amp;ev=PageView&amp;noscript=1\" style=\"display:none\" width=\"1\"/></noscript>\n",
       "<!-- End Facebook Pixel Code -->\n",
       "<!-- REMOVE AFTER March 2022 Conversion Pixel for [lead]- DO NOT MODIFY -->\n",
       "<img alt=\"\" border=\"0\" height=\"1\" src=\"https://data.adxcel-ec2.com/pixel/?ad_log=referer&amp;action=lead&amp;pixid=6307c137-c722-4f43-9a74-72a844c08ec5\" width=\"1\"/>\n",
       "<!-- End of Conversion Pixel -->\n",
       "<!-- Global site tag (gtag.js) - Google Ads: 881084489 -->\n",
       "<script async=\"\" src=\"https://www.googletagmanager.com/gtag/js?id=AW-881084489\"></script>\n",
       "<script>\n",
       "  window.dataLayer = window.dataLayer || [];\n",
       "  function gtag(){dataLayer.push(arguments);}\n",
       "  gtag('js', new Date());\n",
       "\n",
       "  gtag('config', 'AW-881084489');\n",
       "</script>\n",
       "<!-- Global site tag (gtag.js) - Google Ads: 881084489 -->\n",
       "<script async=\"\" src=\"https://www.googletagmanager.com/gtag/js?id=AW-881084489\"></script>\n",
       "<script>\n",
       "  window.dataLayer = window.dataLayer || [];\n",
       "  function gtag(){dataLayer.push(arguments);}\n",
       "  gtag('js', new Date());\n",
       "\n",
       "  gtag('config', 'AW-881084489');\n",
       "</script>\n",
       "<meta content=\"pd52bhwp7sfz07d94wpoeo1q2phtbm\" name=\"facebook-domain-verification\"/>\n",
       "<!-- Google Tag Manager -->\n",
       "<script>(function(w,d,s,l,i){w[l]=w[l]||[];w[l].push({'gtm.start':\n",
       "\n",
       "new Date().getTime(),event:'gtm.js'});var f=d.getElementsByTagName(s)[0],\n",
       "\n",
       "j=d.createElement(s),dl=l!='dataLayer'?'&l='+l:'';j.async=true;j.src=\n",
       "\n",
       "'https://www.googletagmanager.com/gtm.js?id='+i+dl;f.parentNode.insertBefore(j,f);\n",
       "\n",
       "})(window,document,'script','dataLayer','GTM-5HBXRV7');</script>\n",
       "<!-- End Google Tag Manager -->\n",
       "<link href=\"https://tribucodeup.wpenginepowered.com/wp-content/uploads/2021/10/cropped-favicon-32x32.png\" rel=\"icon\" sizes=\"32x32\">\n",
       "<link href=\"https://tribucodeup.wpenginepowered.com/wp-content/uploads/2021/10/cropped-favicon-192x192.png\" rel=\"icon\" sizes=\"192x192\"/>\n",
       "<link href=\"https://tribucodeup.wpenginepowered.com/wp-content/uploads/2021/10/cropped-favicon-180x180.png\" rel=\"apple-touch-icon\"/>\n",
       "<meta content=\"https://tribucodeup.wpenginepowered.com/wp-content/uploads/2021/10/cropped-favicon-270x270.png\" name=\"msapplication-TileImage\">\n",
       "<style id=\"et-divi-customizer-global-cached-inline-styles\">#et_search_icon:hover,.mobile_menu_bar:before,.mobile_menu_bar:after,.et_toggle_slide_menu:after,.et-social-icon a:hover,.et_pb_sum,.et_pb_pricing li a,.et_pb_pricing_table_button,.et_overlay:before,.entry-summary p.price ins,.et_pb_member_social_links a:hover,.et_pb_widget li a:hover,.et_pb_filterable_portfolio .et_pb_portfolio_filters li a.active,.et_pb_filterable_portfolio .et_pb_portofolio_pagination ul li a.active,.et_pb_gallery .et_pb_gallery_pagination ul li a.active,.wp-pagenavi span.current,.wp-pagenavi a:hover,.nav-single a,.tagged_as a,.posted_in a{color:#4e5e33}.et_pb_contact_submit,.et_password_protected_form .et_submit_button,.et_pb_bg_layout_light .et_pb_newsletter_button,.comment-reply-link,.form-submit .et_pb_button,.et_pb_bg_layout_light .et_pb_promo_button,.et_pb_bg_layout_light .et_pb_more_button,.et_pb_contact p input[type=\"checkbox\"]:checked+label i:before,.et_pb_bg_layout_light.et_pb_module.et_pb_button{color:#4e5e33}.footer-widget h4{color:#4e5e33}.et-search-form,.nav li ul,.et_mobile_menu,.footer-widget li:before,.et_pb_pricing li:before,blockquote{border-color:#4e5e33}.et_pb_counter_amount,.et_pb_featured_table .et_pb_pricing_heading,.et_quote_content,.et_link_content,.et_audio_content,.et_pb_post_slider.et_pb_bg_layout_dark,.et_slide_in_menu_container,.et_pb_contact p input[type=\"radio\"]:checked+label i:before{background-color:#4e5e33}a{color:#e9573f}.nav li ul{border-color:#79a04a}#top-header,#et-secondary-nav li ul{background-color:#4e5e33}.et_header_style_centered .mobile_nav .select_page,.et_header_style_split .mobile_nav .select_page,.et_nav_text_color_light #top-menu>li>a,.et_nav_text_color_dark #top-menu>li>a,#top-menu a,.et_mobile_menu li a,.et_nav_text_color_light .et_mobile_menu li a,.et_nav_text_color_dark .et_mobile_menu li a,#et_search_icon:before,.et_search_form_container input,span.et_close_search_field:after,#et-top-navigation .et-cart-info{color:#181d32}.et_search_form_container input::-moz-placeholder{color:#181d32}.et_search_form_container input::-webkit-input-placeholder{color:#181d32}.et_search_form_container input:-ms-input-placeholder{color:#181d32}#top-menu li a{font-size:16px}body.et_vertical_nav .container.et_search_form_container .et-search-form input{font-size:16px!important}#top-menu li.current-menu-ancestor>a,#top-menu li.current-menu-item>a,#top-menu li.current_page_item>a{color:#4e5e33}#main-footer .footer-widget h4,#main-footer .widget_block h1,#main-footer .widget_block h2,#main-footer .widget_block h3,#main-footer .widget_block h4,#main-footer .widget_block h5,#main-footer .widget_block h6{color:#4e5e33}.footer-widget li:before{border-color:#4e5e33}@media only screen and (min-width:981px){.et_header_style_left #et-top-navigation,.et_header_style_split #et-top-navigation{padding:50px 0 0 0}.et_header_style_left #et-top-navigation nav>ul>li>a,.et_header_style_split #et-top-navigation nav>ul>li>a{padding-bottom:50px}.et_header_style_split .centered-inline-logo-wrap{width:99px;margin:-99px 0}.et_header_style_split .centered-inline-logo-wrap #logo{max-height:99px}.et_pb_svg_logo.et_header_style_split .centered-inline-logo-wrap #logo{height:99px}.et_header_style_centered #top-menu>li>a{padding-bottom:18px}.et_header_style_slide #et-top-navigation,.et_header_style_fullscreen #et-top-navigation{padding:41px 0 41px 0!important}.et_header_style_centered #main-header .logo_container{height:99px}#logo{max-height:80%}.et_pb_svg_logo #logo{height:80%}.et-fixed-header#top-header,.et-fixed-header#top-header #et-secondary-nav li ul{background-color:#79a04a}.et-fixed-header#main-header,.et-fixed-header#main-header .nav li ul,.et-fixed-header .et-search-form{background-color:#4e5e33}.et-fixed-header #top-menu a,.et-fixed-header #et_search_icon:before,.et-fixed-header #et_top_search .et-search-form input,.et-fixed-header .et_search_form_container input,.et-fixed-header .et_close_search_field:after,.et-fixed-header #et-top-navigation .et-cart-info{color:#ffffff!important}.et-fixed-header .et_search_form_container input::-moz-placeholder{color:#ffffff!important}.et-fixed-header .et_search_form_container input::-webkit-input-placeholder{color:#ffffff!important}.et-fixed-header .et_search_form_container input:-ms-input-placeholder{color:#ffffff!important}.et-fixed-header #top-menu li.current-menu-ancestor>a,.et-fixed-header #top-menu li.current-menu-item>a,.et-fixed-header #top-menu li.current_page_item>a{color:#ffffff!important}}@media only screen and (min-width:1350px){.et_pb_row{padding:27px 0}.et_pb_section{padding:54px 0}.single.et_pb_pagebuilder_layout.et_full_width_page .et_post_meta_wrapper{padding-top:81px}.et_pb_fullwidth_section{padding:0}}\th1,h2,h3,h4,h5,h6{font-family:'Bebas Neue',display}body,input,textarea,select{font-family:'Poppins',Helvetica,Arial,Lucida,sans-serif}.menu-item-39 a{background-color:#79A04A;padding:10px 30px;color:#ffffff!important}.menu-item-16492 a{background-color:#FFC20E;padding:10px 30px;color:#4E5E33!important;margin-top:20px}.et-fixed-header #logo{content:url(/wp-content/uploads/2021/06/Codeup_White.png)}h1,h2,h3,h4,h5{font-family:'Bebas Neue',display}p{font-family:'Poppins',Helvetica,Arial,Lucida,sans-serif}span.newsletter{font-size:40px}span.newsletter:after{content:url(/wp-content/uploads/2021/09/Chevron_300x300-e1632152740352.png);display:inline-block}.projects-image-height img{height:300px!important;object-fit:cover}.projects-image-height{height:300!important}.bio-module img{object-fit:cover;height:200px}#dm-header #et_top_search_mob{display:none!important}#et-boc .area-outer-wrap .da-close{font-size:30px}.staff_img img{filter:grayscale(1);width:512px;transition:.5s}.staff_img img:hover{filter:none}img.wp-image-18488.aligncenter.size-full{width:30px;filter:none;position:absolute;top:6px;right:8px}img.wp-image-18506.aligncenter.size-full{width:40px;filter:none;position:absolute;top:6px;right:8px}img.wp-image-18623.aligncenter.size-full{width:40px;filter:none;position:absolute;top:6px;right:8px}.staff_img .et_pb_member_social_links li{display:inline-block;margin-right:30px;position:absolute;top:200px;left:5px}</style></meta></link></meta></meta></head>\n",
       "<body class=\"post-template-default single single-post postid-20058 single-format-standard custom-background et-tb-has-template et-tb-has-header et-tb-has-footer tribe-no-js et_pb_button_helper_class et_cover_background et_pb_gutter et_pb_gutters3 et_smooth_scroll et_right_sidebar et_divi_theme et-db\">\n",
       "<svg focusable=\"false\" height=\"0\" role=\"none\" style=\"visibility: hidden; position: absolute; left: -9999px; overflow: hidden;\" viewbox=\"0 0 0 0\" width=\"0\" xmlns=\"http://www.w3.org/2000/svg\"><defs><filter id=\"wp-duotone-dark-grayscale\"><fecolormatrix color-interpolation-filters=\"sRGB\" type=\"matrix\" values=\" .299 .587 .114 0 0 .299 .587 .114 0 0 .299 .587 .114 0 0 .299 .587 .114 0 0 \"></fecolormatrix><fecomponenttransfer color-interpolation-filters=\"sRGB\"><fefuncr tablevalues=\"0 0.498039215686\" type=\"table\"></fefuncr><fefuncg tablevalues=\"0 0.498039215686\" type=\"table\"></fefuncg><fefuncb tablevalues=\"0 0.498039215686\" type=\"table\"></fefuncb><fefunca tablevalues=\"1 1\" type=\"table\"></fefunca></fecomponenttransfer><fecomposite in2=\"SourceGraphic\" operator=\"in\"></fecomposite></filter></defs></svg><svg focusable=\"false\" height=\"0\" role=\"none\" style=\"visibility: hidden; position: absolute; left: -9999px; overflow: hidden;\" viewbox=\"0 0 0 0\" width=\"0\" xmlns=\"http://www.w3.org/2000/svg\"><defs><filter id=\"wp-duotone-grayscale\"><fecolormatrix color-interpolation-filters=\"sRGB\" type=\"matrix\" values=\" .299 .587 .114 0 0 .299 .587 .114 0 0 .299 .587 .114 0 0 .299 .587 .114 0 0 \"></fecolormatrix><fecomponenttransfer color-interpolation-filters=\"sRGB\"><fefuncr tablevalues=\"0 1\" type=\"table\"></fefuncr><fefuncg tablevalues=\"0 1\" type=\"table\"></fefuncg><fefuncb tablevalues=\"0 1\" type=\"table\"></fefuncb><fefunca tablevalues=\"1 1\" type=\"table\"></fefunca></fecomponenttransfer><fecomposite in2=\"SourceGraphic\" operator=\"in\"></fecomposite></filter></defs></svg><svg focusable=\"false\" height=\"0\" role=\"none\" style=\"visibility: hidden; position: absolute; left: -9999px; overflow: hidden;\" viewbox=\"0 0 0 0\" width=\"0\" xmlns=\"http://www.w3.org/2000/svg\"><defs><filter id=\"wp-duotone-purple-yellow\"><fecolormatrix color-interpolation-filters=\"sRGB\" type=\"matrix\" values=\" .299 .587 .114 0 0 .299 .587 .114 0 0 .299 .587 .114 0 0 .299 .587 .114 0 0 \"></fecolormatrix><fecomponenttransfer color-interpolation-filters=\"sRGB\"><fefuncr tablevalues=\"0.549019607843 0.988235294118\" type=\"table\"></fefuncr><fefuncg tablevalues=\"0 1\" type=\"table\"></fefuncg><fefuncb tablevalues=\"0.717647058824 0.254901960784\" type=\"table\"></fefuncb><fefunca tablevalues=\"1 1\" type=\"table\"></fefunca></fecomponenttransfer><fecomposite in2=\"SourceGraphic\" operator=\"in\"></fecomposite></filter></defs></svg><svg focusable=\"false\" height=\"0\" role=\"none\" style=\"visibility: hidden; position: absolute; left: -9999px; overflow: hidden;\" viewbox=\"0 0 0 0\" width=\"0\" xmlns=\"http://www.w3.org/2000/svg\"><defs><filter id=\"wp-duotone-blue-red\"><fecolormatrix color-interpolation-filters=\"sRGB\" type=\"matrix\" values=\" .299 .587 .114 0 0 .299 .587 .114 0 0 .299 .587 .114 0 0 .299 .587 .114 0 0 \"></fecolormatrix><fecomponenttransfer color-interpolation-filters=\"sRGB\"><fefuncr tablevalues=\"0 1\" type=\"table\"></fefuncr><fefuncg tablevalues=\"0 0.278431372549\" type=\"table\"></fefuncg><fefuncb tablevalues=\"0.592156862745 0.278431372549\" type=\"table\"></fefuncb><fefunca tablevalues=\"1 1\" type=\"table\"></fefunca></fecomponenttransfer><fecomposite in2=\"SourceGraphic\" operator=\"in\"></fecomposite></filter></defs></svg><svg focusable=\"false\" height=\"0\" role=\"none\" style=\"visibility: hidden; position: absolute; left: -9999px; overflow: hidden;\" viewbox=\"0 0 0 0\" width=\"0\" xmlns=\"http://www.w3.org/2000/svg\"><defs><filter id=\"wp-duotone-midnight\"><fecolormatrix color-interpolation-filters=\"sRGB\" type=\"matrix\" values=\" .299 .587 .114 0 0 .299 .587 .114 0 0 .299 .587 .114 0 0 .299 .587 .114 0 0 \"></fecolormatrix><fecomponenttransfer color-interpolation-filters=\"sRGB\"><fefuncr tablevalues=\"0 0\" type=\"table\"></fefuncr><fefuncg tablevalues=\"0 0.647058823529\" type=\"table\"></fefuncg><fefuncb tablevalues=\"0 1\" type=\"table\"></fefuncb><fefunca tablevalues=\"1 1\" type=\"table\"></fefunca></fecomponenttransfer><fecomposite in2=\"SourceGraphic\" operator=\"in\"></fecomposite></filter></defs></svg><svg focusable=\"false\" height=\"0\" role=\"none\" style=\"visibility: hidden; position: absolute; left: -9999px; overflow: hidden;\" viewbox=\"0 0 0 0\" width=\"0\" xmlns=\"http://www.w3.org/2000/svg\"><defs><filter id=\"wp-duotone-magenta-yellow\"><fecolormatrix color-interpolation-filters=\"sRGB\" type=\"matrix\" values=\" .299 .587 .114 0 0 .299 .587 .114 0 0 .299 .587 .114 0 0 .299 .587 .114 0 0 \"></fecolormatrix><fecomponenttransfer color-interpolation-filters=\"sRGB\"><fefuncr tablevalues=\"0.780392156863 1\" type=\"table\"></fefuncr><fefuncg tablevalues=\"0 0.949019607843\" type=\"table\"></fefuncg><fefuncb tablevalues=\"0.352941176471 0.470588235294\" type=\"table\"></fefuncb><fefunca tablevalues=\"1 1\" type=\"table\"></fefunca></fecomponenttransfer><fecomposite in2=\"SourceGraphic\" operator=\"in\"></fecomposite></filter></defs></svg><svg focusable=\"false\" height=\"0\" role=\"none\" style=\"visibility: hidden; position: absolute; left: -9999px; overflow: hidden;\" viewbox=\"0 0 0 0\" width=\"0\" xmlns=\"http://www.w3.org/2000/svg\"><defs><filter id=\"wp-duotone-purple-green\"><fecolormatrix color-interpolation-filters=\"sRGB\" type=\"matrix\" values=\" .299 .587 .114 0 0 .299 .587 .114 0 0 .299 .587 .114 0 0 .299 .587 .114 0 0 \"></fecolormatrix><fecomponenttransfer color-interpolation-filters=\"sRGB\"><fefuncr tablevalues=\"0.650980392157 0.403921568627\" type=\"table\"></fefuncr><fefuncg tablevalues=\"0 1\" type=\"table\"></fefuncg><fefuncb tablevalues=\"0.447058823529 0.4\" type=\"table\"></fefuncb><fefunca tablevalues=\"1 1\" type=\"table\"></fefunca></fecomponenttransfer><fecomposite in2=\"SourceGraphic\" operator=\"in\"></fecomposite></filter></defs></svg><svg focusable=\"false\" height=\"0\" role=\"none\" style=\"visibility: hidden; position: absolute; left: -9999px; overflow: hidden;\" viewbox=\"0 0 0 0\" width=\"0\" xmlns=\"http://www.w3.org/2000/svg\"><defs><filter id=\"wp-duotone-blue-orange\"><fecolormatrix color-interpolation-filters=\"sRGB\" type=\"matrix\" values=\" .299 .587 .114 0 0 .299 .587 .114 0 0 .299 .587 .114 0 0 .299 .587 .114 0 0 \"></fecolormatrix><fecomponenttransfer color-interpolation-filters=\"sRGB\"><fefuncr tablevalues=\"0.0980392156863 1\" type=\"table\"></fefuncr><fefuncg tablevalues=\"0 0.662745098039\" type=\"table\"></fefuncg><fefuncb tablevalues=\"0.847058823529 0.419607843137\" type=\"table\"></fefuncb><fefunca tablevalues=\"1 1\" type=\"table\"></fefunca></fecomponenttransfer><fecomposite in2=\"SourceGraphic\" operator=\"in\"></fecomposite></filter></defs></svg><div class=\"divi-mobile-menu\">\n",
       "<div class=\"menu-wrap menuclosed\" id=\"dm_nav\">\n",
       "<div class=\"menu-wrap__inner\">\n",
       "<div class=\"scroll_section\">\n",
       "<nav class=\"menu-top\"></nav>\n",
       "<nav class=\"menu-side\">\n",
       "<span class=\"menu-name-behind\"></span>\n",
       "<ul class=\"nav\" id=\"dm-menu\"><li class=\"menu-item menu-item-type-post_type menu-item-object-page menu-item-home menu-item-16491\"><a href=\"https://codeup.com/\">Home</a></li>\n",
       "<li class=\"menu-item menu-item-type-custom menu-item-object-custom menu-item-18125\"><a href=\"https://codeup.com/program/cloud-adminsitration/\">Cloud Administration</a></li>\n",
       "<li class=\"menu-item menu-item-type-post_type menu-item-object-course menu-item-16497\"><a href=\"https://codeup.com/program/full-stack-web-development/\">Full Stack Web Development</a></li>\n",
       "<li class=\"menu-item menu-item-type-post_type menu-item-object-course menu-item-16496\"><a href=\"https://codeup.com/program/data-science/\">Data Science</a></li>\n",
       "<li class=\"menu-item menu-item-type-custom menu-item-object-custom menu-item-has-children menu-item-18628\"><a href=\"/events/\">Workshops</a>\n",
       "<ul class=\"sub-menu\">\n",
       "<li class=\"menu-item menu-item-type-custom menu-item-object-custom menu-item-18896\"><a href=\"/san-antonio-events/\">San Antonio</a></li>\n",
       "<li class=\"menu-item menu-item-type-custom menu-item-object-custom menu-item-18897\"><a href=\"/dallas-events/\">Dallas</a></li>\n",
       "</ul>\n",
       "</li>\n",
       "<li class=\"menu-item menu-item-type-post_type menu-item-object-page menu-item-16498\"><a href=\"https://codeup.com/financial-aid/\">Financial Aid</a></li>\n",
       "<li class=\"menu-item menu-item-type-post_type menu-item-object-page menu-item-16501\"><a href=\"https://codeup.com/veterans/\">Military</a></li>\n",
       "<li class=\"menu-item menu-item-type-post_type menu-item-object-page menu-item-16502\"><a href=\"https://codeup.com/hire-tech-talent/\">Hire Tech Talent</a></li>\n",
       "<li class=\"menu-item menu-item-type-custom menu-item-object-custom menu-item-17178\"><a href=\"https://alumni.codeup.com/\">Alumni</a></li>\n",
       "<li class=\"menu-item menu-item-type-post_type menu-item-object-page menu-item-has-children menu-item-16503\"><a href=\"https://codeup.com/resources/\">Resources</a>\n",
       "<ul class=\"sub-menu\">\n",
       "<li class=\"menu-item menu-item-type-custom menu-item-object-custom menu-item-16895\"><a href=\"/my-story/\">Student Reviews</a></li>\n",
       "<li class=\"menu-item menu-item-type-post_type menu-item-object-page current_page_parent menu-item-16504\"><a href=\"https://codeup.com/blog/\">Blog</a></li>\n",
       "<li class=\"menu-item menu-item-type-post_type menu-item-object-page menu-item-16505\"><a href=\"https://codeup.com/frequently-asked-questions/\">Common Questions</a></li>\n",
       "<li class=\"menu-item menu-item-type-post_type menu-item-object-page menu-item-16685\"><a href=\"https://codeup.com/podcast/\">Hire Tech Podcast</a></li>\n",
       "</ul>\n",
       "</li>\n",
       "<li class=\"cta-nav menu-item menu-item-type-post_type menu-item-object-page menu-item-16492\"><a href=\"https://codeup.com/apply-now/\">Apply Now</a></li>\n",
       "</ul> </nav>\n",
       "</div>\n",
       "</div>\n",
       "</div>\n",
       "<button class=\"hamburger menu-button hamburger--arrowturn\" id=\"open-button\" type=\"button\">\n",
       "<span class=\"menu-text\"></span>\n",
       "<span class=\"hamburger-box\">\n",
       "<span class=\"hamburger-inner\"></span>\n",
       "</span>\n",
       "</button>\n",
       "<header id=\"dm-header\">\n",
       "<div class=\"dm-header-cont\">\n",
       "<div class=\"dm-branding\">\n",
       "<a href=\"https://codeup.com/\">\n",
       "<img alt=\"Codeup\" class=\"main-logo normal-logo\" id=\"dm-logo\" src=\"https://tribucodeup.wpenginepowered.com/wp-content/uploads/2021/08/CodeupFullColorLogo.png\" title=\"\">\n",
       "</img></a>\n",
       "</div>\n",
       "<div class=\"dm-search\">\n",
       "<div id=\"et_top_search_mob\">\n",
       "<span id=\"et_search_icon\"></span>\n",
       "<div class=\"dm-search-box\" style=\"opacity: 0;\">\n",
       "<form action=\"https://codeup.com/\" class=\"et-search-form\" method=\"get\" role=\"search\">\n",
       "<input class=\"et-search-field\" name=\"s\" placeholder=\"Search …\" title=\"Search for:\" type=\"search\" value=\"\"/> </form>\n",
       "<span class=\"close\"></span>\n",
       "</div>\n",
       "</div>\n",
       "</div>\n",
       "</div>\n",
       "</header>\n",
       "</div>\n",
       "<div id=\"page-container\">\n",
       "<div class=\"et-boc\" id=\"et-boc\">\n",
       "<header class=\"et-l et-l--header\">\n",
       "<div class=\"et_builder_inner_content et_pb_gutters3\">\n",
       "<div class=\"et_pb_section et_pb_section_0_tb_header et_pb_with_background et_section_regular\">\n",
       "<div class=\"et_pb_row et_pb_row_0_tb_header\">\n",
       "<div class=\"et_pb_column et_pb_column_1_2 et_pb_column_0_tb_header et_pb_css_mix_blend_mode_passthrough\">\n",
       "<div class=\"et_pb_module et_pb_text et_pb_text_0_tb_header et_pb_text_align_right et_pb_bg_layout_light\">\n",
       "<div class=\"et_pb_text_inner\"><a href=\"/about-codeup/\">About</a>  |  <a href=\"/category/behind-the-billboards/\">Behind The Billboards</a>  |  <a href=\"/careers/\">Careers</a></div>\n",
       "</div>\n",
       "</div><div class=\"et_pb_column et_pb_column_1_2 et_pb_column_1_tb_header et_pb_css_mix_blend_mode_passthrough et-last-child\">\n",
       "<div class=\"et_pb_module et_pb_search et_pb_search_0_tb_header et_pb_text_align_left et_pb_bg_layout_light\">\n",
       "<form action=\"https://codeup.com/\" class=\"et_pb_searchform\" method=\"get\" role=\"search\">\n",
       "<div>\n",
       "<label class=\"screen-reader-text\" for=\"s\">Search for:</label>\n",
       "<input class=\"et_pb_s\" name=\"s\" placeholder='Example: \"Cloud Admin Program\"' type=\"text\"/>\n",
       "<input name=\"et_pb_searchform_submit\" type=\"hidden\" value=\"et_search_proccess\"/>\n",
       "<input name=\"et_pb_search_cat\" type=\"hidden\" value=\"1,27,11,69,91\"/>\n",
       "<input name=\"et_pb_include_posts\" type=\"hidden\" value=\"yes\"/>\n",
       "<input name=\"et_pb_include_pages\" type=\"hidden\" value=\"yes\"/>\n",
       "<input class=\"et_pb_searchsubmit\" type=\"submit\" value=\"Search\"/>\n",
       "</div>\n",
       "</form>\n",
       "</div>\n",
       "</div>\n",
       "</div>\n",
       "</div><div class=\"et_pb_with_border et_pb_section et_pb_section_1_tb_header et_pb_sticky_module et_section_regular et_pb_section--with-menu\">\n",
       "<div class=\"et_pb_row et_pb_row_1_tb_header et_pb_row--with-menu\">\n",
       "<div class=\"et_pb_column et_pb_column_3_4 et_pb_column_2_tb_header et_pb_css_mix_blend_mode_passthrough et_pb_column--with-menu\">\n",
       "<div class=\"et_pb_module et_pb_menu et_pb_menu_0_tb_header et_pb_bg_layout_light et_pb_text_align_right et_dropdown_animation_fade et_pb_menu--with-logo et_pb_menu--style-left_aligned\">\n",
       "<div class=\"et_pb_menu_inner_container clearfix\">\n",
       "<div class=\"et_pb_menu__logo-wrap\">\n",
       "<div class=\"et_pb_menu__logo\">\n",
       "<a href=\"/index.php/\"><img alt=\"Codeup Best Coding Bootcamp\" class=\"wp-image-15393\" decoding=\"async\" height=\"730\" loading=\"lazy\" sizes=\"(min-width: 0px) and (max-width: 480px) 480px, (min-width: 481px) and (max-width: 980px) 980px, (min-width: 981px) and (max-width: 1280px) 1280px, (min-width: 1281px) 2140px, 100vw\" src=\"https://tribucodeup.wpenginepowered.com/wp-content/uploads/2021/08/CodeupFullColorLogo.png\" srcset=\"https://tribucodeup.wpenginepowered.com/wp-content/uploads/2021/08/CodeupFullColorLogo.png 2140w, https://tribucodeup.wpenginepowered.com/wp-content/uploads/2021/08/CodeupFullColorLogo-1280x437.png 1280w, https://tribucodeup.wpenginepowered.com/wp-content/uploads/2021/08/CodeupFullColorLogo-980x334.png 980w, https://tribucodeup.wpenginepowered.com/wp-content/uploads/2021/08/CodeupFullColorLogo-480x164.png 480w\" width=\"2140\"/></a>\n",
       "</div>\n",
       "</div>\n",
       "<div class=\"et_pb_menu__wrap\">\n",
       "<div class=\"et_pb_menu__menu\">\n",
       "<nav class=\"et-menu-nav\"><ul class=\"et-menu nav\" id=\"menu-main\"><li class=\"et_pb_menu_page_id-16686 menu-item menu-item-type-post_type menu-item-object-page menu-item-has-children menu-item-16721\"><a href=\"https://codeup.com/programs/\" title=\"Coding Programs\">Programs</a>\n",
       "<ul class=\"sub-menu\">\n",
       "<li class=\"et_pb_menu_page_id-186 menu-item menu-item-type-post_type menu-item-object-course menu-item-16296\"><a href=\"https://codeup.com/program/data-science/\" title=\"Data Science Bootcamp in Texas\">Data Science</a></li>\n",
       "<li class=\"et_pb_menu_page_id-941 menu-item menu-item-type-post_type menu-item-object-course menu-item-18130\"><a href=\"https://codeup.com/program/cloud-administration/\">Cloud Administration</a></li>\n",
       "<li class=\"et_pb_menu_page_id-161 menu-item menu-item-type-post_type menu-item-object-course menu-item-16294\"><a href=\"https://codeup.com/program/full-stack-web-development/\" title=\"Full Stack Web Development Bootcamp\">Web Development</a></li>\n",
       "</ul>\n",
       "</li>\n",
       "<li class=\"et_pb_menu_page_id-19688 menu-item menu-item-type-custom menu-item-object-custom menu-item-19688\"><a href=\"https://codeup.com/events/\">Workshops</a></li>\n",
       "<li class=\"et_pb_menu_page_id-16037 menu-item menu-item-type-post_type menu-item-object-page current_page_parent menu-item-16301\"><a href=\"https://codeup.com/blog/\">Blog</a></li>\n",
       "<li class=\"et_pb_menu_page_id-34 menu-item menu-item-type-custom menu-item-object-custom menu-item-has-children menu-item-34\"><a>Campuses</a>\n",
       "<ul class=\"sub-menu\">\n",
       "<li class=\"et_pb_menu_page_id-16174 menu-item menu-item-type-post_type menu-item-object-page menu-item-16509\"><a href=\"https://codeup.com/san-antonio/\">San Antonio</a></li>\n",
       "<li class=\"et_pb_menu_page_id-1139 menu-item menu-item-type-post_type menu-item-object-page menu-item-16075\"><a href=\"https://codeup.com/dallas/\">Dallas</a></li>\n",
       "</ul>\n",
       "</li>\n",
       "<li class=\"et_pb_menu_page_id-528 menu-item menu-item-type-post_type menu-item-object-page menu-item-has-children menu-item-16076\"><a href=\"https://codeup.com/hire-tech-talent/\" title=\"Hire Diversified Tech Talent\">Hire</a>\n",
       "<ul class=\"sub-menu\">\n",
       "<li class=\"et_pb_menu_page_id-528 menu-item menu-item-type-post_type menu-item-object-page menu-item-17180\"><a href=\"https://codeup.com/hire-tech-talent/\">Hire Our Grads</a></li>\n",
       "<li class=\"et_pb_menu_page_id-17179 menu-item menu-item-type-custom menu-item-object-custom menu-item-17179\"><a href=\"https://alumni.codeup.com/\">Alumni Portal</a></li>\n",
       "</ul>\n",
       "</li>\n",
       "<li class=\"et_pb_menu_page_id-736 menu-item menu-item-type-post_type menu-item-object-page menu-item-has-children menu-item-16163\"><a href=\"https://codeup.com/resources/\">Resources</a>\n",
       "<ul class=\"sub-menu\">\n",
       "<li class=\"et_pb_menu_page_id-547 menu-item menu-item-type-custom menu-item-object-custom menu-item-547\"><a href=\"/financial-aid/\">Financing</a></li>\n",
       "<li class=\"et_pb_menu_page_id-16083 menu-item menu-item-type-post_type menu-item-object-page menu-item-16162\"><a href=\"https://codeup.com/veterans/\">Military</a></li>\n",
       "<li class=\"et_pb_menu_page_id-16896 menu-item menu-item-type-custom menu-item-object-custom menu-item-16896\"><a href=\"/my-story/\">Alumni Stories</a></li>\n",
       "<li class=\"et_pb_menu_page_id-449 menu-item menu-item-type-post_type menu-item-object-page menu-item-16302\"><a href=\"https://codeup.com/frequently-asked-questions/\">Common Questions</a></li>\n",
       "</ul>\n",
       "</li>\n",
       "</ul></nav>\n",
       "</div>\n",
       "<div class=\"et_mobile_nav_menu\">\n",
       "<div class=\"mobile_nav closed\">\n",
       "<span class=\"mobile_menu_bar\"></span>\n",
       "</div>\n",
       "</div>\n",
       "</div>\n",
       "</div>\n",
       "</div>\n",
       "</div><div class=\"et_pb_column et_pb_column_1_4 et_pb_column_3_tb_header et_pb_css_mix_blend_mode_passthrough et-last-child\">\n",
       "<div class=\"et_pb_button_module_wrapper et_pb_button_0_tb_header_wrapper et_pb_button_alignment_right et_pb_module\">\n",
       "<a class=\"et_pb_button et_pb_button_0_tb_header et_pb_bg_layout_light\" href=\"/apply-now/\">Start Now</a>\n",
       "</div>\n",
       "</div>\n",
       "</div>\n",
       "</div> </div>\n",
       "</header>\n",
       "<div id=\"et-main-area\">\n",
       "<div id=\"main-content\">\n",
       "<div class=\"container\">\n",
       "<div class=\"clearfix\" id=\"content-area\">\n",
       "<div id=\"left-area\">\n",
       "<article class=\"et_pb_post post-20058 post type-post status-publish format-standard has-post-thumbnail hentry category-featured\" id=\"post-20058\">\n",
       "<div class=\"et_post_meta_wrapper\">\n",
       "<h1 class=\"entry-title\">Spotlight on APIDA Voices: Celebrating Heritage and Inspiring Change ft. Arbeena Thapa</h1>\n",
       "<p class=\"post-meta\"><span class=\"published\">May 24, 2023</span> | <a href=\"https://codeup.com/category/featured/\" rel=\"category tag\">Featured</a></p><img alt=\"apida heritage\" class=\"\" height=\"675\" sizes=\"(min-width: 0px) and (max-width: 480px) 480px, (min-width: 481px) and (max-width: 980px) 980px, (min-width: 981px) 1080px, 100vw\" src=\"https://tribucodeup.wpenginepowered.com/wp-content/uploads/2023/05/aapi23-1-1080x675.png\" srcset=\"https://tribucodeup.wpenginepowered.com/wp-content/uploads/2023/05/aapi23-1-980x551.png 980w, https://tribucodeup.wpenginepowered.com/wp-content/uploads/2023/05/aapi23-1-480x270.png 480w\" width=\"1080\"/>\n",
       "</div>\n",
       "<div class=\"entry-content\">\n",
       "<p>May is traditionally known as Asian American and Pacific Islander (AAPI) Heritage Month. This month we celebrate the history and contributions made possible by our AAPI friends, family, and community. We also examine our level of support and seek opportunities to better understand the AAPI community.</p>\n",
       "<p><img alt=\"arbeenathapa\" class=\"wp-image-20059 alignright\" decoding=\"async\" height=\"269\" sizes=\"(max-width: 202px) 100vw, 202px\" src=\"https://tribucodeup.wpenginepowered.com/wp-content/uploads/2023/05/upload-value-225x300.jpeg\" srcset=\"https://tribucodeup.wpenginepowered.com/wp-content/uploads/2023/05/upload-value-225x300.jpeg 225w, https://tribucodeup.wpenginepowered.com/wp-content/uploads/2023/05/upload-value.jpeg 240w\" width=\"202\"/></p>\n",
       "<p>In an effort to address real concerns and experiences, we sat down with <a href=\"https://www.linkedin.com/in/arbeenathapa/\" rel=\"noopener\" target=\"_blank\">Arbeena Thapa</a>, one of Codeup’s Financial Aid and Enrollment Managers.</p>\n",
       "<p>Arbeena identifies as Nepali American and Desi. Arbeena’s parents immigrated to Texas in 1988 for better employment and educational opportunities. Arbeena’s older sister was five when they made the move to the US. Arbeena was born later, becoming the first in her family to be a US citizen.</p>\n",
       "<p>At Codeup we take our efforts at inclusivity very seriously. After speaking with Arbeena, we were taught that the term AAPI excludes Desi-American individuals. Hence, we will now use the term Asian Pacific Islander Desi American (APIDA).</p>\n",
       "<p>Here is how the rest of our conversation with Arbeena went!</p>\n",
       "<p><strong>How do you celebrate or connect with your heritage and cultural traditions?</strong></p>\n",
       "<blockquote><p>“I celebrate Nepal’s version of Christmas or Dashain. This is a nine-day celebration also known as Dussehra. I grew up as Hindu and I identify as Hindu, this is a very large part of my heritage. “</p>\n",
       "<p>“Other ways I connect with my culture include sharing food! Momos are South Asian Dumplings and they’re my favorite to make and share.”</p>\n",
       "<p>“On my Asian American side, I am an advocate of immigrant justice and erasure within APIDA social or political movements. I participate in events to embrace my identity such as immigrant justice advocacy because I come from a mixed-status family. I’ve always been in a community with undocumented Asian immigrants. .”</p></blockquote>\n",
       "<p><strong>What are some of the challenges you have faced as an APIDA individual, personally or professionally?</strong></p>\n",
       "<blockquote><p>“I often struggle with being gendered as compliant or a pushover. Professionally, I am often stereotyped as meek, so I’ve been overlooked for leadership roles. We are seen as perpetually foreign; people tend to other us in that way, yet put us on a pedestal for what a model minority looks like. This has made me hesitant to share my heritage in the past because these assumptions get mapped onto me. ”</p></blockquote>\n",
       "<p><strong>Can you describe some common barriers of entry that APIDA individuals, specifically women may face when trying to enter or advance in the workplace?</strong></p>\n",
       "<blockquote><p>“Being overlooked for leadership. In the past, I have not been viewed as a leader. People sometimes have preconceived stereotypes of Asian women not being able to be bold, or being vocal can be mistaken for being too emotional. “</p></blockquote>\n",
       "<p><strong>How do you believe microaggressions impact APIDA individuals in the workplace? Can you provide examples of such microaggressions?</strong></p>\n",
       "<blockquote><p>“Erasure is big. To me, only saying ‘Merry Christmas’ isn’t inclusive to other religions. People are often resistant to saying ‘Happy Holidays,’ but saying Merry Christmas excludes, and does not appreciate my heritage. “</p>\n",
       "<p>“Often microaggressions are not micro at all. They typically are not aggressive racialized violence, but the term ‘micro’ minimizes impact.”</p>\n",
       "<p>“Some that I’ve heard are ‘What kind of Asian are you?’ or ‘Where are you from?’ This automatically makes me the ‘other’ and not seen as American. Even within the APIDA community, South Asians are overlooked as “Asian”.”</p></blockquote>\n",
       "<p><strong>How important is representation, specifically APIDA representation, in organizational leadership positions?</strong></p>\n",
       "<blockquote><p>“I want to say that it is important to have someone who looks like you in leadership roles, and it is, but those leaders may not share the same beliefs as you. Certain privileges such as wealth, resources, or lack of interaction with lower-socioeconomic-status Asian Americans may cause a difference in community politics. I do not think the bamboo ceiling is acceptable, but the company you work for plays a big part in your politics and belief alignment.”</p></blockquote>\n",
       "<p><strong>How do you feel about code-switching, and have you ever felt it necessary to code-switch?</strong></p>\n",
       "<blockquote><p>“I like sharing South Asian terms or connecting with others that have similar heritage and culture. A workplace that is welcoming to going into this sort of breakout is refreshing and makes space for us. However, having to code-switch could also mean a workplace that is not conducive and welcoming of other cultures. “</p></blockquote>\n",
       "<p><strong>Finally, in your opinion, what long-term strategies can create lasting change in the workplace and ensure support, equality, and inclusion for APIDA individuals?</strong></p>\n",
       "<blockquote><p>“Prior to a career in financial aid, I did a lot of research related to the post-9/11 immigration of the South Asian diaspora. This background made me heavily rely on grassroots organizing. Hire the people that want to innovate, hire the changemakers, hire the button-pushers. Reduce reliance on whiteness as change. This will become natural for the organization and become organizational change. Change comes from us on the ground.”</p></blockquote>\n",
       "<p>A huge thank you to Arbeena Thapa for sharing her experiences, and being vulnerable with us. Your words were inspiring and the opportunity to understand your perspective more has been valuable. We hope we can become better support for the APIDA community as we learn and grow on our journey of cultivating inclusive growth.</p>\n",
       "</div>\n",
       "<div class=\"et_post_meta_wrapper\">\n",
       "</div>\n",
       "</article>\n",
       "</div>\n",
       "<div id=\"sidebar\">\n",
       "<div class=\"et_pb_widget widget_block widget_media_image\" id=\"block-2\">\n",
       "<figure class=\"wp-block-image size-full\"><img alt=\"best bootcamp in San Antonio\" class=\"wp-image-16034\" decoding=\"async\" height=\"561\" loading=\"lazy\" sizes=\"(min-width: 0px) and (max-width: 480px) 480px, (min-width: 481px) 701px, 100vw\" src=\"https://tribucodeup.wpenginepowered.com/wp-content/uploads/2021/09/best-bootcamp-switchup.png\" srcset=\"https://tribucodeup.wpenginepowered.com/wp-content/uploads/2021/09/best-bootcamp-switchup.png 701w, https://tribucodeup.wpenginepowered.com/wp-content/uploads/2021/09/best-bootcamp-switchup-480x384.png 480w\" width=\"701\"/></figure>\n",
       "</div><div class=\"et_pb_widget widget_nav_menu\" id=\"nav_menu-3\"><h4 class=\"widgettitle\">Our Programs</h4><div class=\"menu-our-programs-container\"><ul class=\"menu\" id=\"menu-our-programs\"><li class=\"menu-item menu-item-type-post_type menu-item-object-course menu-item-18129\" id=\"menu-item-18129\"><a href=\"https://codeup.com/program/cloud-administration/\">Cloud Administration</a></li>\n",
       "<li class=\"menu-item menu-item-type-post_type menu-item-object-course menu-item-16516\" id=\"menu-item-16516\"><a href=\"https://codeup.com/program/full-stack-web-development/\">Full Stack Web Development</a></li>\n",
       "<li class=\"menu-item menu-item-type-post_type menu-item-object-course menu-item-16515\" id=\"menu-item-16515\"><a href=\"https://codeup.com/program/data-science/\">Data Science</a></li>\n",
       "</ul></div></div><div class=\"et_pb_widget widget_block\" id=\"block-10\">\n",
       "<div class=\"wp-block-columns are-vertically-aligned-top is-layout-flex wp-container-4\">\n",
       "<div class=\"wp-block-column is-vertically-aligned-top is-layout-flow\" style=\"flex-basis:100%\">\n",
       "<div class=\"wp-block-group is-layout-flow\">\n",
       "<div class=\"wp-block-group is-layout-flow\">\n",
       "<h2 class=\"wp-block-heading\">Latest Blog Articles</h2>\n",
       "<ul class=\"wp-block-latest-posts__list wp-block-latest-posts\"><li><a class=\"wp-block-latest-posts__post-title\" href=\"https://codeup.com/featured/apida-heritage-month/\">Spotlight on APIDA Voices: Celebrating Heritage and Inspiring Change ft. Arbeena Thapa</a></li>\n",
       "<li><a class=\"wp-block-latest-posts__post-title\" href=\"https://codeup.com/featured/women-in-tech-panelist-spotlight/\">Women in tech: Panelist Spotlight – Magdalena Rahn</a></li>\n",
       "<li><a class=\"wp-block-latest-posts__post-title\" href=\"https://codeup.com/featured/women-in-tech-rachel-robbins-mayhill/\">Women in tech: Panelist Spotlight – Rachel Robbins-Mayhill</a></li>\n",
       "<li><a class=\"wp-block-latest-posts__post-title\" href=\"https://codeup.com/codeup-news/women-in-tech-panelist-spotlight-sarah-mellor/\">Women in Tech: Panelist Spotlight – Sarah Mellor</a></li>\n",
       "<li><a class=\"wp-block-latest-posts__post-title\" href=\"https://codeup.com/events/women-in-tech-madeleine/\">Women in Tech: Panelist Spotlight – Madeleine Capper</a></li>\n",
       "</ul>\n",
       "<p></p>\n",
       "</div>\n",
       "</div>\n",
       "</div>\n",
       "</div>\n",
       "</div><div class=\"et_pb_widget widget_block widget_text\" id=\"block-4\">\n",
       "<p></p>\n",
       "</div><div class=\"et_pb_widget widget_block\" id=\"block-11\">\n",
       "<div class=\"wp-block-group is-layout-flow\">\n",
       "<div class=\"wp-block-columns is-layout-flex wp-container-7\">\n",
       "<div class=\"wp-block-column is-layout-flow\" style=\"flex-basis:100%\">\n",
       "<div class=\"wp-block-group is-layout-flow\"></div>\n",
       "</div>\n",
       "</div>\n",
       "<p></p>\n",
       "</div>\n",
       "</div> </div>\n",
       "</div>\n",
       "</div>\n",
       "</div>\n",
       "<footer class=\"et-l et-l--footer\">\n",
       "<div class=\"et_builder_inner_content et_pb_gutters3\">\n",
       "<div class=\"et_pb_section et_pb_section_0_tb_footer et_pb_with_background et_section_regular\">\n",
       "<div class=\"et_pb_row et_pb_row_0_tb_footer\">\n",
       "<div class=\"et_pb_column et_pb_column_4_4 et_pb_column_0_tb_footer et_pb_css_mix_blend_mode_passthrough et-last-child\">\n",
       "<div class=\"et_pb_module et_pb_text et_pb_text_0_tb_footer et_pb_text_align_left et_pb_bg_layout_light\">\n",
       "<div class=\"et_pb_text_inner\"><h3 style=\"text-align: center;\">Get Program Details &amp; Pricing</h3>\n",
       "<p style=\"text-align: center;\">Submit your email address to gain access to more information about our programs, financial aid, and benefits.</p></div>\n",
       "</div><div class=\"et_pb_module et_pb_code et_pb_code_0_tb_footer\">\n",
       "<div class=\"et_pb_code_inner\"><script charset=\"utf-8\" src=\"//js.hsforms.net/forms/embed/v2.js\" type=\"text/javascript\"></script>\n",
       "<script>\n",
       "  hbspt.forms.create({\n",
       "    region: \"na1\",\n",
       "    portalId: \"2817329\",\n",
       "    formId: \"b4e26b07-f878-4405-9525-9fb4a1db34b1\"\n",
       "  });\n",
       "</script></div>\n",
       "</div>\n",
       "</div>\n",
       "</div>\n",
       "</div><div class=\"et_pb_section et_pb_section_1_tb_footer et_pb_with_background et_pb_section_parallax et_section_regular\">\n",
       "<div class=\"et_pb_row et_pb_row_1_tb_footer et_pb_gutters2\">\n",
       "<div class=\"et_pb_column et_pb_column_1_2 et_pb_column_1_tb_footer et_pb_css_mix_blend_mode_passthrough\">\n",
       "<div class=\"et_pb_module et_pb_text et_pb_text_1_tb_footer et_pb_text_align_center et_pb_bg_layout_light\">\n",
       "<div class=\"et_pb_text_inner\"><h3>Phone</h3>\n",
       "<p><a href=\"tel:12108027289\" title=\"call Codeup\">(210) 802–7289</a></p></div>\n",
       "</div><ul class=\"et_pb_module et_pb_social_media_follow et_pb_social_media_follow_0_tb_footer clearfix et_pb_text_align_center et_pb_bg_layout_light\">\n",
       "<li class=\"et_pb_social_media_follow_network_0_tb_footer et_pb_social_icon et_pb_social_network_link et-social-facebook\"><a class=\"icon et_pb_with_border\" href=\"https://www.facebook.com/GoCodeup/\" target=\"_blank\" title=\"Follow on Facebook\"><span aria-hidden=\"true\" class=\"et_pb_social_media_follow_network_name\">Follow</span></a></li><li class=\"et_pb_social_media_follow_network_1_tb_footer et_pb_social_icon et_pb_social_network_link et-social-twitter\"><a class=\"icon et_pb_with_border\" href=\"https://twitter.com/gocodeup\" target=\"_blank\" title=\"Follow on Twitter\"><span aria-hidden=\"true\" class=\"et_pb_social_media_follow_network_name\">Follow</span></a></li><li class=\"et_pb_social_media_follow_network_2_tb_footer et_pb_social_icon et_pb_social_network_link et-social-instagram\"><a class=\"icon et_pb_with_border\" href=\"https://www.instagram.com/gocodeup/?hl=en\" target=\"_blank\" title=\"Follow on Instagram\"><span aria-hidden=\"true\" class=\"et_pb_social_media_follow_network_name\">Follow</span></a></li><li class=\"et_pb_social_media_follow_network_3_tb_footer et_pb_social_icon et_pb_social_network_link et-social-linkedin\"><a class=\"icon et_pb_with_border\" href=\"https://www.linkedin.com/school/3799914\" target=\"_blank\" title=\"Follow on LinkedIn\"><span aria-hidden=\"true\" class=\"et_pb_social_media_follow_network_name\">Follow</span></a></li><li class=\"et_pb_social_media_follow_network_4_tb_footer et_pb_social_icon et_pb_social_network_link et-social-rss\"><a class=\"icon et_pb_with_border\" href=\"/podcast/\" target=\"_blank\" title=\"Follow on RSS\"><span aria-hidden=\"true\" class=\"et_pb_social_media_follow_network_name\">Follow</span></a></li>\n",
       "</ul><div class=\"et_pb_module et_pb_text et_pb_text_2_tb_footer et_pb_text_align_center et_pb_bg_layout_light\">\n",
       "<div class=\"et_pb_text_inner\"><p><a href=\"/dallas\">Dallas</a> | <a href=\"/san-antonio\">San Antonio</a></p></div>\n",
       "</div><div class=\"et_pb_module et_pb_image et_pb_image_0_tb_footer\">\n",
       "<a href=\"/index.php/\"><span class=\"et_pb_image_wrap\"><img alt=\"quack quack\" class=\"wp-image-15815\" decoding=\"async\" height=\"256\" loading=\"lazy\" sizes=\"(max-width: 336px) 100vw, 336px\" src=\"https://tribucodeup.wpenginepowered.com/wp-content/uploads/2018/08/codey-1.png\" srcset=\"https://tribucodeup.wpenginepowered.com/wp-content/uploads/2018/08/codey-1.png 336w, https://tribucodeup.wpenginepowered.com/wp-content/uploads/2018/08/codey-1-300x229.png 300w\" title=\"Codey\" width=\"336\"/></span></a>\n",
       "</div>\n",
       "</div><div class=\"et_pb_column et_pb_column_1_4 et_pb_column_2_tb_footer et_pb_css_mix_blend_mode_passthrough\">\n",
       "<div class=\"et_pb_with_border et_pb_module et_pb_text et_pb_text_3_tb_footer et_pb_text_align_left et_pb_bg_layout_dark\">\n",
       "<div class=\"et_pb_text_inner\"><h4>Quick Links</h4></div>\n",
       "</div><div class=\"et_pb_module et_pb_text et_pb_text_4_tb_footer et_pb_text_align_left et_pb_bg_layout_dark\">\n",
       "<div class=\"et_pb_text_inner\"><a href=\"/why-codeup/\" title=\"About Codeup\">Why Codeup?</a><br/>\n",
       "<a href=\"/financial-aid/\" title=\"how to pay for bootcamp\">Financial Aid Options</a><br/>\n",
       "<a href=\"/my-story/\" title=\"Codeup Reviews\">Student Reviews</a><br/>\n",
       "<a href=\"https://alumni.codeup.com/\" rel=\"noopener\" target=\"_blank\" title=\"Hire Our Grads\">Hire Our Grads</a><br/>\n",
       "<a href=\"/refund/\" title=\"Codeup Refund Policy\"></a><a href=\"/refund/\" title=\"Codeup Refund Policy\">Refund Policy</a><br/>\n",
       "<a href=\"/frequently-asked-questions/\" title=\"frequently asked questions\">FAQs</a><br/>\n",
       "<a href=\"/careers/\" title=\"Jobs at Codeup\">Careers</a><br/>\n",
       "<a href=\"/pr/\" title=\"press assets for Codeup\">Media Kit</a></div>\n",
       "</div>\n",
       "</div><div class=\"et_pb_column et_pb_column_1_4 et_pb_column_3_tb_footer et_pb_css_mix_blend_mode_passthrough et-last-child\">\n",
       "<div class=\"et_pb_with_border et_pb_module et_pb_text et_pb_text_5_tb_footer et_pb_text_align_left et_pb_bg_layout_dark\">\n",
       "<div class=\"et_pb_text_inner\"><h4>Choose a Program</h4></div>\n",
       "</div><div class=\"et_pb_module et_pb_text et_pb_text_6_tb_footer et_pb_text_align_left et_pb_bg_layout_dark\">\n",
       "<div class=\"et_pb_text_inner\"><a href=\"/program/full-stack-web-development/\" title=\"coding bootcamp in Texas\">Full Stack Web Development</a><br/>\n",
       "<a href=\"/program/data-science/\" title=\"data science bootcamp in Texas\">Data Science</a><br/>\n",
       "<a href=\"/cloud-administration/\" title=\"learn Cloud Administration in Texas\">Cloud Administration</a><br/>\n",
       "<a href=\"/free/\" title=\"learn to code for free\">Free Networking Course</a></div>\n",
       "</div><div class=\"et_pb_button_module_wrapper et_pb_button_0_tb_footer_wrapper et_pb_button_alignment_phone_center et_pb_module\">\n",
       "<a class=\"et_pb_button et_pb_button_0_tb_footer et_pb_bg_layout_light\" href=\"/apply-now/\">Apply Now</a>\n",
       "</div>\n",
       "</div>\n",
       "</div><div class=\"et_pb_row et_pb_row_2_tb_footer\">\n",
       "<div class=\"et_pb_column et_pb_column_4_4 et_pb_column_4_tb_footer et_pb_css_mix_blend_mode_passthrough et-last-child\">\n",
       "<div class=\"et_pb_module et_pb_text et_pb_text_7_tb_footer et_pb_text_align_center et_pb_bg_layout_light\">\n",
       "<div class=\"et_pb_text_inner\" data-et-multi-view='{\"schema\":{\"content\":{\"desktop\":\"&lt;p&gt;\\u00a9 2013-2022 Copyright. &lt;a href=\\\"\\/privacy\\/\\\"&gt;Privacy Policy&lt;\\/a&gt; | &lt;a href=\\\"\\/student-complaint-policy\\/\\\" title=\\\"complaint policy\\\"&gt;Complaint Policy&lt;\\/a&gt; | &lt;a href=\\\"\\/codeup-news\\/inclusion-at-codeup-during-pride-month-and-always\\/\\\" title=\\\"DEI at Codeup\\\"&gt;Inclusion&lt;\\/a&gt; | &lt;a href=\\\"\\/accessibility\\/\\\"&gt;Accessibility&lt;\\/a&gt; | &lt;a href=\\\"\\/sitemap_index.xml\\\"&gt;Sitemap&lt;\\/a&gt;&lt;\\/p&gt;\\n&lt;p&gt;&lt;span style=\\\"font-size: x-small;\\\"&gt;If you love researching data and reading the fine print, you’ll do well in our programs.&lt;\\/span&gt;&lt;\\/p&gt;\\n&lt;p&gt;&lt;em&gt;GI Bill\\u00ae is a registered trademark of the U.S. Department of Veterans Affairs (VA). More information about education benefits offered by VA is available at the official U.S. government Web site at https:\\/\\/www.benefits.va.gov\\/gibill.&lt;\\/em&gt;&lt;\\/p&gt;\\n&lt;p&gt;&lt;em&gt;Codeup is accredited for postsecondary, non-degree granting, career and technology programs by the Middle States Commission on Secondary Schools of the Middle States Association of Colleges and Schools, 3624 Market Street, Philadelphia, PA 19104, (267) 284-5000&lt;\\/em&gt;&lt;\\/p&gt;\\n&lt;p&gt;&lt;span style=\\\"font-size: x-small;\\\"&gt;&lt;\\/span&gt;&lt;\\/p&gt;\\n&lt;p&gt;&lt;span style=\\\"font-size: x-small;\\\"&gt;&lt;\\/span&gt;&lt;\\/p&gt;\\n&lt;p&gt;&lt;span style=\\\"font-size: x-small;\\\"&gt;&lt;\\/span&gt;&lt;\\/p&gt;\",\"tablet\":\"\",\"phone\":\"&lt;p&gt;\\u00a9 2013-2021 Copyright.&lt;br \\/&gt;&lt;a href=\\\"#\\\" privacy=\\\"\\\" policy=\\\"\\\" a=\\\"\\\"&gt;Terms of Use&lt;\\/a&gt; | &lt;a href=\\\"\\/accessibility\\/\\\"&gt;Accessibility&lt;\\/a&gt; | &lt;a href=\\\"\\/sitemap.xml\\/\\\"&gt;Sitemap&lt;\\/a&gt;&lt;\\/p&gt;\\n&lt;p&gt;&lt;span style=\\\"font-size: x-small;\\\"&gt;If you love researching the fine print, consider our &lt;\\/span&gt;&lt;br \\/&gt;&lt;span style=\\\"font-size: x-small;\\\"&gt;Cybersecurity or Data Science Programs&lt;\\/span&gt;&lt;\\/p&gt;\"}},\"slug\":\"et_pb_text\"}' data-et-multi-view-load-phone-hidden=\"true\" data-et-multi-view-load-tablet-hidden=\"true\"><p>© 2013-2022 Copyright. <a href=\"/privacy/\">Privacy Policy</a> | <a href=\"/student-complaint-policy/\" title=\"complaint policy\">Complaint Policy</a> | <a href=\"/codeup-news/inclusion-at-codeup-during-pride-month-and-always/\" title=\"DEI at Codeup\">Inclusion</a> | <a href=\"/accessibility/\">Accessibility</a> | <a href=\"/sitemap_index.xml\">Sitemap</a></p>\n",
       "<p><span style=\"font-size: x-small;\">If you love researching data and reading the fine print, you’ll do well in our programs.</span></p>\n",
       "<p><em>GI Bill® is a registered trademark of the U.S. Department of Veterans Affairs (VA). More information about education benefits offered by VA is available at the official U.S. government Web site at https://www.benefits.va.gov/gibill.</em></p>\n",
       "<p><em>Codeup is accredited for postsecondary, non-degree granting, career and technology programs by the Middle States Commission on Secondary Schools of the Middle States Association of Colleges and Schools, 3624 Market Street, Philadelphia, PA 19104, (267) 284-5000</em></p>\n",
       "<p><span style=\"font-size: x-small;\"></span></p>\n",
       "<p><span style=\"font-size: x-small;\"></span></p>\n",
       "<p><span style=\"font-size: x-small;\"></span></p></div>\n",
       "</div>\n",
       "</div>\n",
       "</div>\n",
       "</div> </div>\n",
       "</footer>\n",
       "</div>\n",
       "</div>\n",
       "</div>\n",
       "<!--googleoff: all--><div data-nosnippet=\"true\" id=\"cookie-law-info-bar\"><span><div class=\"cli-bar-container cli-style-v2\"><div class=\"cli-bar-message\">We use cookies on our website to give you the most relevant experience by remembering your preferences and repeat visits. By clicking “Accept”, you consent to the use of ALL the cookies.<div class=\"wt-cli-ccpa-element\"> <a class=\"wt-cli-ccpa-opt-out\" style=\"color:#333333\">No worries, we do not sell your personal information.</a>.</div></div><div class=\"cli-bar-btn_container\"><a class=\"medium cli-plugin-button cli-plugin-main-button cli_settings_button\" role=\"button\" style=\"margin:0px 10px 0px 5px\">Cookie Settings</a><a class=\"medium cli-plugin-button cli-plugin-main-button cookie_action_close_header cli_action_button wt-cli-accept-btn\" data-cli_action=\"accept\" id=\"cookie_action_close_header\" role=\"button\" style=\"display:inline-block\">Accept</a></div></div></span></div><div data-nosnippet=\"true\" id=\"cookie-law-info-again\" style=\"display:none\"><span id=\"cookie_hdr_showagain\">Manage consent</span></div><div aria-hidden=\"true\" aria-labelledby=\"cliSettingsPopup\" class=\"cli-modal\" data-nosnippet=\"true\" id=\"cliSettingsPopup\" role=\"dialog\" tabindex=\"-1\">\n",
       "<div class=\"cli-modal-dialog\" role=\"document\">\n",
       "<div class=\"cli-modal-content cli-bar-popup\">\n",
       "<button class=\"cli-modal-close\" id=\"cliModalClose\" type=\"button\">\n",
       "<svg class=\"\" viewbox=\"0 0 24 24\"><path d=\"M19 6.41l-1.41-1.41-5.59 5.59-5.59-5.59-1.41 1.41 5.59 5.59-5.59 5.59 1.41 1.41 5.59-5.59 5.59 5.59 1.41-1.41-5.59-5.59z\"></path><path d=\"M0 0h24v24h-24z\" fill=\"none\"></path></svg>\n",
       "<span class=\"wt-cli-sr-only\">Close</span>\n",
       "</button>\n",
       "<div class=\"cli-modal-body\">\n",
       "<div class=\"cli-container-fluid cli-tab-container\">\n",
       "<div class=\"cli-row\">\n",
       "<div class=\"cli-col-12 cli-align-items-stretch cli-px-0\">\n",
       "<div class=\"cli-privacy-overview\">\n",
       "<h4>Privacy Overview</h4> <div class=\"cli-privacy-content\">\n",
       "<div class=\"cli-privacy-content-text\">This website uses cookies to improve your experience while you navigate through the website. Out of these, the cookies that are categorized as necessary are stored on your browser as they are essential for the working of basic functionalities of the website. We also use third-party cookies that help us analyze and understand how you use this website. These cookies will be stored in your browser only with your consent. You also have the option to opt-out of these cookies. But opting out of some of these cookies may affect your browsing experience.</div>\n",
       "</div>\n",
       "<a aria-label=\"Show more\" class=\"cli-privacy-readmore\" data-readless-text=\"Show less\" data-readmore-text=\"Show more\" role=\"button\"></a> </div>\n",
       "</div>\n",
       "<div class=\"cli-col-12 cli-align-items-stretch cli-px-0 cli-tab-section-container\">\n",
       "<div class=\"cli-tab-section\">\n",
       "<div class=\"cli-tab-header\">\n",
       "<a class=\"cli-nav-link cli-settings-mobile\" data-target=\"necessary\" data-toggle=\"cli-toggle-tab\" role=\"button\" tabindex=\"0\">\n",
       "\t\t\t\t\t\t\t\tNecessary\t\t\t\t\t\t\t</a>\n",
       "<div class=\"wt-cli-necessary-checkbox\">\n",
       "<input checked=\"checked\" class=\"cli-user-preference-checkbox\" data-id=\"checkbox-necessary\" id=\"wt-cli-checkbox-necessary\" type=\"checkbox\">\n",
       "<label class=\"form-check-label\" for=\"wt-cli-checkbox-necessary\">Necessary</label>\n",
       "</input></div>\n",
       "<span class=\"cli-necessary-caption\">Always Enabled</span>\n",
       "</div>\n",
       "<div class=\"cli-tab-content\">\n",
       "<div class=\"cli-tab-pane cli-fade\" data-id=\"necessary\">\n",
       "<div class=\"wt-cli-cookie-description\">\n",
       "\t\t\t\t\t\t\t\t\tNecessary cookies are absolutely essential for the website to function properly. These cookies ensure basic functionalities and security features of the website, anonymously.\n",
       "<table class=\"cookielawinfo-row-cat-table cookielawinfo-winter\"><thead><tr><th class=\"cookielawinfo-column-1\">Cookie</th><th class=\"cookielawinfo-column-3\">Duration</th><th class=\"cookielawinfo-column-4\">Description</th></tr></thead><tbody><tr class=\"cookielawinfo-row\"><td class=\"cookielawinfo-column-1\">cookielawinfo-checkbox-analytics</td><td class=\"cookielawinfo-column-3\">11 months</td><td class=\"cookielawinfo-column-4\">This cookie is set by GDPR Cookie Consent plugin. The cookie is used to store the user consent for the cookies in the category \"Analytics\".</td></tr><tr class=\"cookielawinfo-row\"><td class=\"cookielawinfo-column-1\">cookielawinfo-checkbox-functional</td><td class=\"cookielawinfo-column-3\">11 months</td><td class=\"cookielawinfo-column-4\">The cookie is set by GDPR cookie consent to record the user consent for the cookies in the category \"Functional\".</td></tr><tr class=\"cookielawinfo-row\"><td class=\"cookielawinfo-column-1\">cookielawinfo-checkbox-necessary</td><td class=\"cookielawinfo-column-3\">11 months</td><td class=\"cookielawinfo-column-4\">This cookie is set by GDPR Cookie Consent plugin. The cookies is used to store the user consent for the cookies in the category \"Necessary\".</td></tr><tr class=\"cookielawinfo-row\"><td class=\"cookielawinfo-column-1\">cookielawinfo-checkbox-others</td><td class=\"cookielawinfo-column-3\">11 months</td><td class=\"cookielawinfo-column-4\">This cookie is set by GDPR Cookie Consent plugin. The cookie is used to store the user consent for the cookies in the category \"Other.</td></tr><tr class=\"cookielawinfo-row\"><td class=\"cookielawinfo-column-1\">cookielawinfo-checkbox-performance</td><td class=\"cookielawinfo-column-3\">11 months</td><td class=\"cookielawinfo-column-4\">This cookie is set by GDPR Cookie Consent plugin. The cookie is used to store the user consent for the cookies in the category \"Performance\".</td></tr><tr class=\"cookielawinfo-row\"><td class=\"cookielawinfo-column-1\">viewed_cookie_policy</td><td class=\"cookielawinfo-column-3\">11 months</td><td class=\"cookielawinfo-column-4\">The cookie is set by the GDPR Cookie Consent plugin and is used to store whether or not user has consented to the use of cookies. It does not store any personal data.</td></tr></tbody></table> </div>\n",
       "</div>\n",
       "</div>\n",
       "</div>\n",
       "<div class=\"cli-tab-section\">\n",
       "<div class=\"cli-tab-header\">\n",
       "<a class=\"cli-nav-link cli-settings-mobile\" data-target=\"functional\" data-toggle=\"cli-toggle-tab\" role=\"button\" tabindex=\"0\">\n",
       "\t\t\t\t\t\t\t\tFunctional\t\t\t\t\t\t\t</a>\n",
       "<div class=\"cli-switch\">\n",
       "<input class=\"cli-user-preference-checkbox\" data-id=\"checkbox-functional\" id=\"wt-cli-checkbox-functional\" type=\"checkbox\"/>\n",
       "<label class=\"cli-slider\" data-cli-disable=\"Disabled\" data-cli-enable=\"Enabled\" for=\"wt-cli-checkbox-functional\"><span class=\"wt-cli-sr-only\">Functional</span></label>\n",
       "</div>\n",
       "</div>\n",
       "<div class=\"cli-tab-content\">\n",
       "<div class=\"cli-tab-pane cli-fade\" data-id=\"functional\">\n",
       "<div class=\"wt-cli-cookie-description\">\n",
       "\t\t\t\t\t\t\t\t\tFunctional cookies help to perform certain functionalities like sharing the content of the website on social media platforms, collect feedbacks, and other third-party features.\n",
       "\t\t\t\t\t\t\t\t</div>\n",
       "</div>\n",
       "</div>\n",
       "</div>\n",
       "<div class=\"cli-tab-section\">\n",
       "<div class=\"cli-tab-header\">\n",
       "<a class=\"cli-nav-link cli-settings-mobile\" data-target=\"performance\" data-toggle=\"cli-toggle-tab\" role=\"button\" tabindex=\"0\">\n",
       "\t\t\t\t\t\t\t\tPerformance\t\t\t\t\t\t\t</a>\n",
       "<div class=\"cli-switch\">\n",
       "<input class=\"cli-user-preference-checkbox\" data-id=\"checkbox-performance\" id=\"wt-cli-checkbox-performance\" type=\"checkbox\"/>\n",
       "<label class=\"cli-slider\" data-cli-disable=\"Disabled\" data-cli-enable=\"Enabled\" for=\"wt-cli-checkbox-performance\"><span class=\"wt-cli-sr-only\">Performance</span></label>\n",
       "</div>\n",
       "</div>\n",
       "<div class=\"cli-tab-content\">\n",
       "<div class=\"cli-tab-pane cli-fade\" data-id=\"performance\">\n",
       "<div class=\"wt-cli-cookie-description\">\n",
       "\t\t\t\t\t\t\t\t\tPerformance cookies are used to understand and analyze the key performance indexes of the website which helps in delivering a better user experience for the visitors.\n",
       "\t\t\t\t\t\t\t\t</div>\n",
       "</div>\n",
       "</div>\n",
       "</div>\n",
       "<div class=\"cli-tab-section\">\n",
       "<div class=\"cli-tab-header\">\n",
       "<a class=\"cli-nav-link cli-settings-mobile\" data-target=\"analytics\" data-toggle=\"cli-toggle-tab\" role=\"button\" tabindex=\"0\">\n",
       "\t\t\t\t\t\t\t\tAnalytics\t\t\t\t\t\t\t</a>\n",
       "<div class=\"cli-switch\">\n",
       "<input class=\"cli-user-preference-checkbox\" data-id=\"checkbox-analytics\" id=\"wt-cli-checkbox-analytics\" type=\"checkbox\"/>\n",
       "<label class=\"cli-slider\" data-cli-disable=\"Disabled\" data-cli-enable=\"Enabled\" for=\"wt-cli-checkbox-analytics\"><span class=\"wt-cli-sr-only\">Analytics</span></label>\n",
       "</div>\n",
       "</div>\n",
       "<div class=\"cli-tab-content\">\n",
       "<div class=\"cli-tab-pane cli-fade\" data-id=\"analytics\">\n",
       "<div class=\"wt-cli-cookie-description\">\n",
       "\t\t\t\t\t\t\t\t\tAnalytical cookies are used to understand how visitors interact with the website. These cookies help provide information on metrics the number of visitors, bounce rate, traffic source, etc.\n",
       "\t\t\t\t\t\t\t\t</div>\n",
       "</div>\n",
       "</div>\n",
       "</div>\n",
       "<div class=\"cli-tab-section\">\n",
       "<div class=\"cli-tab-header\">\n",
       "<a class=\"cli-nav-link cli-settings-mobile\" data-target=\"advertisement\" data-toggle=\"cli-toggle-tab\" role=\"button\" tabindex=\"0\">\n",
       "\t\t\t\t\t\t\t\tAdvertisement\t\t\t\t\t\t\t</a>\n",
       "<div class=\"cli-switch\">\n",
       "<input class=\"cli-user-preference-checkbox\" data-id=\"checkbox-advertisement\" id=\"wt-cli-checkbox-advertisement\" type=\"checkbox\"/>\n",
       "<label class=\"cli-slider\" data-cli-disable=\"Disabled\" data-cli-enable=\"Enabled\" for=\"wt-cli-checkbox-advertisement\"><span class=\"wt-cli-sr-only\">Advertisement</span></label>\n",
       "</div>\n",
       "</div>\n",
       "<div class=\"cli-tab-content\">\n",
       "<div class=\"cli-tab-pane cli-fade\" data-id=\"advertisement\">\n",
       "<div class=\"wt-cli-cookie-description\">\n",
       "\t\t\t\t\t\t\t\t\tAdvertisement cookies are used to provide visitors with relevant ads and marketing campaigns. These cookies track visitors across websites and collect information to provide customized ads.\n",
       "\t\t\t\t\t\t\t\t</div>\n",
       "</div>\n",
       "</div>\n",
       "</div>\n",
       "<div class=\"cli-tab-section\">\n",
       "<div class=\"cli-tab-header\">\n",
       "<a class=\"cli-nav-link cli-settings-mobile\" data-target=\"others\" data-toggle=\"cli-toggle-tab\" role=\"button\" tabindex=\"0\">\n",
       "\t\t\t\t\t\t\t\tOthers\t\t\t\t\t\t\t</a>\n",
       "<div class=\"cli-switch\">\n",
       "<input class=\"cli-user-preference-checkbox\" data-id=\"checkbox-others\" id=\"wt-cli-checkbox-others\" type=\"checkbox\"/>\n",
       "<label class=\"cli-slider\" data-cli-disable=\"Disabled\" data-cli-enable=\"Enabled\" for=\"wt-cli-checkbox-others\"><span class=\"wt-cli-sr-only\">Others</span></label>\n",
       "</div>\n",
       "</div>\n",
       "<div class=\"cli-tab-content\">\n",
       "<div class=\"cli-tab-pane cli-fade\" data-id=\"others\">\n",
       "<div class=\"wt-cli-cookie-description\">\n",
       "\t\t\t\t\t\t\t\t\tOther uncategorized cookies are those that are being analyzed and have not been classified into a category as yet.\n",
       "\t\t\t\t\t\t\t\t</div>\n",
       "</div>\n",
       "</div>\n",
       "</div>\n",
       "</div>\n",
       "</div>\n",
       "</div>\n",
       "</div>\n",
       "<div class=\"cli-modal-footer\">\n",
       "<div class=\"wt-cli-element cli-container-fluid cli-tab-container\">\n",
       "<div class=\"cli-row\">\n",
       "<div class=\"cli-col-12 cli-align-items-stretch cli-px-0\">\n",
       "<div class=\"cli-tab-footer wt-cli-privacy-overview-actions\">\n",
       "<a class=\"wt-cli-privacy-btn cli_setting_save_button wt-cli-privacy-accept-btn cli-btn\" data-cli-action=\"accept\" id=\"wt-cli-privacy-save-btn\" role=\"button\" tabindex=\"0\">SAVE &amp; ACCEPT</a>\n",
       "</div>\n",
       "</div>\n",
       "</div>\n",
       "</div>\n",
       "</div>\n",
       "</div>\n",
       "</div>\n",
       "</div>\n",
       "<div class=\"cli-modal-backdrop cli-fade cli-settings-overlay\"></div>\n",
       "<div class=\"cli-modal-backdrop cli-fade cli-popupbar-overlay\"></div>\n",
       "<!--googleon: all--> <script>\n",
       "jQuery(function($){$(\".divi-mobile-stop-stacking\").each(function(){$(this).parents(\".et_pb_row\").addClass(\"divi-mobile-stop-stacking-row\")})});\n",
       "  </script>\n",
       "<script>\n",
       "\t\t( function ( body ) {\n",
       "\t\t\t'use strict';\n",
       "\t\t\tbody.className = body.className.replace( /\\btribe-no-js\\b/, 'tribe-js' );\n",
       "\t\t} )( document.body );\n",
       "\t\t</script>\n",
       "<script type=\"application/javascript\">\n",
       "\t\t\t(function() {\n",
       "\t\t\t\tvar file     = [\"https:\\/\\/codeup.com\\/wp-content\\/et-cache\\/20058\\/et-divi-dynamic-tb-120-tb-101-20058-late.css\"];\n",
       "\t\t\t\tvar handle   = document.getElementById('divi-style-parent-inline-inline-css');\n",
       "\t\t\t\tvar location = handle.parentNode;\n",
       "\n",
       "\t\t\t\tif (0===document.querySelectorAll('link[href=\"' + file + '\"]').length) {\n",
       "\t\t\t\t\tvar link  = document.createElement('link');\n",
       "\t\t\t\t\tlink.rel  = 'stylesheet';\n",
       "\t\t\t\t\tlink.id   = 'et-dynamic-late-css';\n",
       "\t\t\t\t\tlink.href = file;\n",
       "\n",
       "\t\t\t\t\tlocation.insertBefore(link, handle.nextSibling);\n",
       "\t\t\t\t}\n",
       "\t\t\t})();\n",
       "\t\t</script>\n",
       "<script type=\"text/javascript\">\n",
       "jQuery(document).ready(function( $ ) {\n",
       "  if ( $('#main-header').length > 0 && $('.et-l--header').length == 0  ) {\n",
       "  } else if ( $('.et-l--header').length > 0 && $('#main-header').length == 0 ) {\n",
       "  } else {\n",
       "    $('.divi-mobile-menu').remove();\n",
       "    $('body').addClass(\"no-mobile-menu\");\n",
       "  }\n",
       "$(\"body\").addClass(\"dm-custom-header\");\n",
       "  function check_from_top(){\n",
       "    var scroll = $(window).scrollTop();\n",
       "    if (scroll >= 300) {\n",
       "      $(\"#dm-header\").addClass(\"fixed-header\");\n",
       "      $(\"body\").addClass(\"dm-fixed-header\");\n",
       "    } else {\n",
       "      $(\"#dm-header\").removeClass(\"fixed-header\");\n",
       "      $(\"body\").removeClass(\"dm-fixed-header\");\n",
       "    }\n",
       "    \n",
       "    if (scroll >= 50) {\n",
       "      $(\".dm-not-fixed-scroll #dm-header #et_top_search_mob\").removeClass(\"active\");\n",
       "      $(\"body.dm-not-fixed-scroll\").removeClass(\"search-active\");\n",
       "    }\n",
       "  }\n",
       "  \n",
       "  check_from_top();\n",
       "  \n",
       "  $(window).scroll(function() {\n",
       "    check_from_top();\n",
       "  });\n",
       "  $(\"body\").addClass(\"dm-bm-pos-right\");\n",
       "$(\"body\").addClass(\"dm-off-canvas\");\n",
       "$(\"body\").addClass(\"dm-side-slide\");\n",
       "$(\"body\").addClass(\"dm-circle-expand\");\n",
       "$(\"body\").addClass(\"dm-menuside-right\");\n",
       "\n",
       "var get_one_click = false;\n",
       "jQuery(document).on('touchstart click', \".anchorpoint\", function(e){\n",
       "  var _this = jQuery(e.target);\n",
       "  if (jQuery(\"body\").hasClass(\"show-menu\")) {\n",
       "    jQuery('#open-button').trigger('click');\n",
       "  }\n",
       "\n",
       "  var getLink = _this.find('a').attr('href');\n",
       "  var currentUrl = window.location.href;\n",
       "  var linkUrlPart = '';\n",
       "  var linkAnchorPart = '';\n",
       "  var currentUrlPart = currentUrl;\n",
       "\n",
       "  e.preventDefault();\n",
       "\n",
       "  if(currentUrl.indexOf(\"#\") != -1){\n",
       "    currentUrlPart = getLink.substring(0, getLink.indexOf(\"#\") );\n",
       "  }\n",
       "\n",
       "  if(getLink.indexOf(\"#\") == 0){\n",
       "    linkUrlPart = currentUrlPart;\n",
       "    linkAnchorPart = getLink.substring(1);\n",
       "  }else if (getLink.indexOf(\"#\") != -1 ){\n",
       "    linkUrlPart = getLink.substring(0, getLink.indexOf(\"#\") );\n",
       "    linkAnchorPart = getLink.substring(getLink.indexOf(\"#\")+1);\n",
       "  }\n",
       "\n",
       "  if ( linkUrlPart == currentUrlPart ){\n",
       "    // Same Url\n",
       "    if (jQuery('#' + linkAnchorPart).length) {\n",
       "      if ( linkAnchorPart != '' ){\n",
       "          document.getElementById(linkAnchorPart).scrollIntoView({ behavior: \"smooth\" });\n",
       "      }\n",
       "    } else {\n",
       "      window.location.href = getLink;\n",
       "    }\n",
       "  } else {\n",
       "    window.location.href = getLink;\n",
       "  }\n",
       "});\n",
       "\n",
       "\n",
       "});\n",
       "\n",
       "document.getElementsByClassName(\"menu-wrap__inner\")[0].children[0].onscroll = function(){\n",
       "    if (this.scrollTop >= '80') {\n",
       "      jQuery('body').addClass('menu-wrap-scroll');\n",
       "    } else {\n",
       "      jQuery('body').removeClass('menu-wrap-scroll');\n",
       "    }\n",
       "}\n",
       "</script>\n",
       "<script>\n",
       "\n",
       "jQuery(document).ready(function($){\n",
       "\tvar isOpen = false;\n",
       "\tvar bodyEl = document.body,\n",
       "\t\tdm_nav = document.getElementById( 'dm_nav' );\n",
       "\t$(document).on('click', '#open-button', function(ev){\n",
       "\t\ttoggleMenu(ev);\n",
       "\t});\n",
       "\n",
       "\t$(document).on('click', '#close-button', function(ev){\n",
       "\t\ttoggleMenu(ev);\n",
       "\t})\n",
       "\n",
       "\t\t// close the menu element if the target it´s not the menu element or one of its descendants..\n",
       "\t$(document).on( 'click', '#et-main-area', function(ev) {\n",
       "\t\tvar target = $(ev.target);\n",
       "\t\tif( isOpen && target !== $('#open-button') ) {\n",
       "\t\t\ttoggleMenu(ev);\n",
       "\t\t\t}\n",
       "\t\t} );\n",
       "\n",
       "\tfunction toggleMenu(event) {\n",
       "\tevent.stopPropagation();\n",
       "\tevent.preventDefault();\n",
       "\t\tif( isOpen ) {\n",
       "\t\t\t$(bodyEl).removeClass( 'show-menu' );\n",
       "\t\t\t$('#open-button').removeClass( 'is-active' );\n",
       "\t\t\t$( dm_nav ).removeClass( 'active' );\n",
       "\t\t\t\tsetTimeout(function (){\n",
       "\t\t\t\t$(dm_nav).addClass( 'menuclosed' );\n",
       "\t\t\t\t}, 800);\n",
       "\t\t}else {\n",
       "\t\t\t$(bodyEl).addClass( 'show-menu' );\n",
       "\t\t\t$('#open-button').addClass( 'is-active' );\n",
       "\t\t\t$( dm_nav ).addClass( 'active' );\n",
       "\t\t\t$( dm_nav ).removeClass( 'menuclosed' );\n",
       "\t\t}\n",
       "\t\tisOpen = !isOpen;\n",
       "\t}\n",
       "});\n",
       "</script>\n",
       "<script type=\"text/javascript\">\n",
       "jQuery(document).ready(function( $ ) {\n",
       "\n",
       "  $(\"body\").addClass(\"dm-ch-logo-pos-left\");\n",
       "$(\"body\").addClass(\"dm-ch-cart-icon-pos-none\");\n",
       "$(\"body\").addClass(\"dm-ch-search-icon-pos-right\");\n",
       "$(\"body\").addClass(\"dm-ch-account-icon-pos-none\");\n",
       "  $(\"body\").addClass(\"dm-search-icon-header\");\n",
       "\n",
       "  $(\"#dm-header #et_top_search_mob #et_search_icon\").on('touchstart click', function(event) {\n",
       "          $(\"#dm-header #et_top_search_mob\").addClass(\"active\");\n",
       "          setTimeout(\n",
       "  function()\n",
       "  {\n",
       "  $(\"body\").addClass(\"search-active\");\n",
       "}, 500);\n",
       "  });\n",
       "\n",
       "\n",
       "  $(document).on('touchstart click', \".search-active #et_top_search_mob #et_search_icon\" , function(event){\n",
       "    console.log(\"added\");\n",
       "    $( \".et-search-form\" ).submit();\n",
       "  });\n",
       "\n",
       "  $(\"#dm-header #et_top_search_mob .close\").on('touchstart click', function(event) {\n",
       "          $(\"#dm-header #et_top_search_mob\").removeClass(\"active\");\n",
       "          $(\"body\").removeClass(\"search-active\");\n",
       "  });\n",
       "\n",
       "    $(\"body\").addClass(\"dm-fixed-scroll\");\n",
       "  \n",
       "\n",
       "\n",
       "});\n",
       "</script>\n",
       "<script type=\"text/javascript\">\n",
       "jQuery(document).ready(function( $ ) {\n",
       "    \n",
       "    $(\"body\").addClass(\"collapse-submenu\");\n",
       "    function dm_setup_collapsible_submenus() {\n",
       "        var $menu = $('#dm_nav'),\n",
       "        top_level_link = '.menu-wrap__inner .menu-item-has-children > a';\n",
       "        \n",
       "        $menu.find('a').each(function() {\n",
       "            $(this).off('touchstart click');\n",
       "                        var click_through = $(this);\n",
       "            if ( $(this).is(top_level_link) ) {\n",
       "                $(this).attr('href', '#');\n",
       "            }\n",
       "                        \n",
       "            if ( ! $(this).siblings('.sub-menu').length ) {\n",
       "                $(this).on('touchstart click', function(event) {\n",
       "                    // $(\"#dm-menu.nav li\").removeClass('visible');\n",
       "                    $(this).parents('.mobile_nav').trigger('click');\n",
       "                });\n",
       "            } else {\n",
       "\n",
       "            }\n",
       "        });\n",
       "    }\n",
       "    \n",
       "    $(window).on('load', function(){\n",
       "        setTimeout(function() {\n",
       "            dm_setup_collapsible_submenus();\n",
       "        }, 700);\n",
       "    });\n",
       "    \n",
       "        var click_through = '.menu-wrap__inner .menu-item-has-children > a';\n",
       "        \n",
       "     \n",
       "    if ($(window).width() < 980) {\n",
       "\n",
       "                \n",
       "        var touchmoved;\n",
       "        $('.menu-item-has-children').on('touchend click', click_through, function(e) {\n",
       "        console.log(\"clicked\");\n",
       "            if(touchmoved != true){\n",
       "                e.preventDefault();\n",
       "                e.stopPropagation();\n",
       "                                $(this).closest('.menu-item').siblings().removeClass('visible');\n",
       "                                $(this).closest('.menu-item').toggleClass('visible');\n",
       "                setTimeout(function() {\n",
       "                    jQuery('.menu-item').removeClass('et-hover');\n",
       "                    jQuery('.menu-item').removeClass('et-touch-hover');\n",
       "                }, 800);\n",
       "            }\n",
       "        }).on('touchmove', click_through, function(e) {\n",
       "            touchmoved = true;\n",
       "        }).on('touchstart', click_through, function(e) {\n",
       "            touchmoved = false;\n",
       "        });  \n",
       "\n",
       "    } else {\n",
       "        console.log(\"is NOT mobile\");\n",
       "        $('body').on('touchstart click', click_through, function(e) {\n",
       "            e.preventDefault();\n",
       "            e.stopPropagation();\n",
       "                        $(this).closest('.menu-item').siblings().removeClass('visible');\n",
       "                        $(this).closest('.menu-item').toggleClass('visible');\n",
       "            setTimeout(function() {\n",
       "                jQuery('.menu-item').removeClass('et-hover');\n",
       "                jQuery('.menu-item').removeClass('et-touch-hover');\n",
       "            }, 800);\n",
       "        });\n",
       "    }\n",
       "    \n",
       "        // If change this click function, make sure to test fully again\n",
       "    $(\"#dm_nav .menu-item\").on(\"touchstart\", 'a',function(e) {\n",
       "        touchmoved = false;\n",
       "        //var addressValue = $(this).attr(\"href\");\n",
       "        //window.location.href = addressValue;\n",
       "    }).on(\"touchmove\", 'a', function(e){\n",
       "        touchmoved = true;\n",
       "    }).on(\"touchend click\", 'a', function(e){\n",
       "        if ( touchmoved != true ){\n",
       "            e.preventDefault();\n",
       "            e.stopPropagation();\n",
       "            if ( $(this).siblings('.sub-menu').length > 0 ) {\n",
       "                        $(this).closest('.menu-item').siblings().removeClass('visible');\n",
       "                            $(this).closest('.menu-item').toggleClass('visible');\n",
       "                setTimeout(function() {\n",
       "                    jQuery('.menu-item').removeClass('et-hover');\n",
       "                    jQuery('.menu-item').removeClass('et-touch-hover');\n",
       "                }, 800);\n",
       "            }else{\n",
       "                var addressValue = $(this).attr(\"href\");\n",
       "                var addresstarget = $(this).attr('target');\n",
       "                if (addresstarget == \"_blank\") {\n",
       "                    window.open(addressValue, '_blank');\n",
       "                } else {\n",
       "                    window.location.href = addressValue;\n",
       "                }\n",
       "            }\n",
       "        }\n",
       "    });\n",
       "        });\n",
       "</script>\n",
       "<script> /* <![CDATA[ */var tribe_l10n_datatables = {\"aria\":{\"sort_ascending\":\": activate to sort column ascending\",\"sort_descending\":\": activate to sort column descending\"},\"length_menu\":\"Show _MENU_ entries\",\"empty_table\":\"No data available in table\",\"info\":\"Showing _START_ to _END_ of _TOTAL_ entries\",\"info_empty\":\"Showing 0 to 0 of 0 entries\",\"info_filtered\":\"(filtered from _MAX_ total entries)\",\"zero_records\":\"No matching records found\",\"search\":\"Search:\",\"all_selected_text\":\"All items on this page were selected. \",\"select_all_link\":\"Select all pages\",\"clear_selection\":\"Clear Selection.\",\"pagination\":{\"all\":\"All\",\"next\":\"Next\",\"previous\":\"Previous\"},\"select\":{\"rows\":{\"0\":\"\",\"_\":\": Selected %d rows\",\"1\":\": Selected 1 row\"}},\"datepicker\":{\"dayNames\":[\"Sunday\",\"Monday\",\"Tuesday\",\"Wednesday\",\"Thursday\",\"Friday\",\"Saturday\"],\"dayNamesShort\":[\"Sun\",\"Mon\",\"Tue\",\"Wed\",\"Thu\",\"Fri\",\"Sat\"],\"dayNamesMin\":[\"S\",\"M\",\"T\",\"W\",\"T\",\"F\",\"S\"],\"monthNames\":[\"January\",\"February\",\"March\",\"April\",\"May\",\"June\",\"July\",\"August\",\"September\",\"October\",\"November\",\"December\"],\"monthNamesShort\":[\"January\",\"February\",\"March\",\"April\",\"May\",\"June\",\"July\",\"August\",\"September\",\"October\",\"November\",\"December\"],\"monthNamesMin\":[\"Jan\",\"Feb\",\"Mar\",\"Apr\",\"May\",\"Jun\",\"Jul\",\"Aug\",\"Sep\",\"Oct\",\"Nov\",\"Dec\"],\"nextText\":\"Next\",\"prevText\":\"Prev\",\"currentText\":\"Today\",\"closeText\":\"Done\",\"today\":\"Today\",\"clear\":\"Clear\"}};/* ]]> */ </script><!-- Tracking tag. Place in the <body> section of webpage -->\n",
       "<!-- Privacy policy at http://tag.brandcdn.com/privacy -->\n",
       "<script src=\"//tag.brandcdn.com/autoscript/codeup_vfzsuk1vmuvtvda9/codeup.js\" type=\"text/javascript\"></script>\n",
       "<!-- Google Tag Manager (noscript) -->\n",
       "<noscript><iframe height=\"0\" src=\"https://www.googletagmanager.com/ns.html?id=GTM-5HBXRV7\" style=\"display:none;visibility:hidden\" width=\"0\"></iframe></noscript>\n",
       "<!-- End Google Tag Manager (noscript) -->\n",
       "<!-- Hotjar Tracking Code for https://codeup.com/ -->\n",
       "<script>\n",
       "    (function(h,o,t,j,a,r){\n",
       "        h.hj=h.hj||function(){(h.hj.q=h.hj.q||[]).push(arguments)};\n",
       "        h._hjSettings={hjid:3496729,hjsv:6};\n",
       "        a=o.getElementsByTagName('head')[0];\n",
       "        r=o.createElement('script');r.async=1;\n",
       "        r.src=t+h._hjSettings.hjid+j+h._hjSettings.hjsv;\n",
       "        a.appendChild(r);\n",
       "    })(window,document,'https://static.hotjar.com/c/hotjar-','.js?sv=');\n",
       "</script>\n",
       "<script type=\"text/javascript\">\n",
       "_linkedin_partner_id = \"3803418\";\n",
       "window._linkedin_data_partner_ids = window._linkedin_data_partner_ids || [];\n",
       "window._linkedin_data_partner_ids.push(_linkedin_partner_id);\n",
       "</script><script type=\"text/javascript\">\n",
       "(function(l) {\n",
       "if (!l){window.lintrk = function(a,b){window.lintrk.q.push([a,b])};\n",
       "window.lintrk.q=[]}\n",
       "var s = document.getElementsByTagName(\"script\")[0];\n",
       "var b = document.createElement(\"script\");\n",
       "b.type = \"text/javascript\";b.async = true;\n",
       "b.src = \"https://snap.licdn.com/li.lms-analytics/insight.min.js\";\n",
       "s.parentNode.insertBefore(b, s);})(window.lintrk);\n",
       "</script>\n",
       "<noscript>\n",
       "<img alt=\"\" height=\"1\" src=\"https://px.ads.linkedin.com/collect/?pid=3803418&amp;fmt=gif\" style=\"display:none;\" width=\"1\"/>\n",
       "</noscript>\n",
       "<!-- Tracking tag. Place in the <body> section of webpage -->\n",
       "<!-- Privacy policy at http://tag.brandcdn.com/privacy -->\n",
       "<script src=\"//tag.brandcdn.com/autoscript/codeup_vgxssk1vnuvzeja9/Codeup.js\" type=\"text/javascript\"></script>\n",
       "<!-- Google Tag Manager (noscript) -->\n",
       "<noscript><iframe height=\"0\" src=\"https://www.googletagmanager.com/ns.html?id=GTM-5HBXRV7\" style=\"display:none;visibility:hidden\" width=\"0\"></iframe></noscript>\n",
       "<!-- End Google Tag Manager (noscript) -->\n",
       "<!-- Begin TVSquared Page Visits Tracking Code -->\n",
       "<script type=\"text/javascript\">\n",
       "    var _tvq = window._tvq = window._tvq || [];\n",
       "    (function() {\n",
       "      var u = ((\"https:\" == document.location.protocol) ?\n",
       "          \"https://collector-29348.us.tvsquared.com/\"\n",
       "          :\n",
       "          \"http://collector-29348.us.tvsquared.com/\");\n",
       "      _tvq.push(['setSiteId', \"TV-7209635418-1\"]);\n",
       "      _tvq.push(['setTrackerUrl', u + 'tv2track.php']);\n",
       "      _tvq.push([function() {\n",
       "          this.deleteCustomVariable(5, 'page')\n",
       "      }]);\n",
       "      _tvq.push(['trackPageView']);\n",
       "      var d = document,\n",
       "          g = d.createElement('script'),\n",
       "          s = d.getElementsByTagName('script')[0];\n",
       "      g.type = 'text/javascript';\n",
       "      g.defer = true;\n",
       "      g.async = true;\n",
       "      g.src = u + 'tv2track.js';\n",
       "      s.parentNode.insertBefore(g, s);\n",
       "    })();\n",
       "</script>\n",
       "<!-- End TVSquared Tracking Code -->\n",
       "<!-- Start of HubSpot Embed Code -->\n",
       "<script async=\"\" defer=\"\" id=\"hs-script-loader\" src=\"//js.hs-scripts.com/2817329.js\" type=\"text/javascript\"></script>\n",
       "<!-- End of HubSpot Embed Code --><style id=\"core-block-supports-inline-css\" type=\"text/css\">\n",
       ".wp-container-4.wp-container-4,.wp-container-7.wp-container-7{flex-wrap:nowrap;}\n",
       "</style>\n",
       "<link href=\"https://tribucodeup.wpenginepowered.com/wp-content/plugins/cookie-law-info/legacy/public/css/cookie-law-info-table.css?ver=3.0.8\" id=\"cookie-law-info-table-css\" media=\"all\" rel=\"stylesheet\" type=\"text/css\"/>\n",
       "<script id=\"divi-mobile-classie-js-js\" src=\"https://tribucodeup.wpenginepowered.com/wp-content/plugins/divi-mobile/js/classie.js?ver=1.7\" type=\"text/javascript\"></script>\n",
       "<script id=\"divi-mobile-vb-js-js-after\" type=\"text/javascript\">\n",
       "jQuery(\".divi-mobile-stop-stacking\").closest(\".et_pb_row\").addClass(\"divi-mobile-stop-stacking-row\");\n",
       "</script>\n",
       "<script id=\"leadin-script-loader-js-js-extra\" type=\"text/javascript\">\n",
       "/* <![CDATA[ */\n",
       "var leadin_wordpress = {\"userRole\":\"visitor\",\"pageType\":\"post\",\"leadinPluginVersion\":\"10.0.25\"};\n",
       "/* ]]> */\n",
       "</script>\n",
       "<script async=\"\" defer=\"\" id=\"hs-script-loader\" src=\"https://js.hs-scripts.com/2817329.js?integration=WordPress&amp;ver=10.0.25\" type=\"text/javascript\"></script>\n",
       "<script id=\"js-divi-area-js\" src=\"https://tribucodeup.wpenginepowered.com/wp-content/plugins/popups-for-divi/scripts/front.min.js?ver=3.0.5\" type=\"text/javascript\"></script>\n",
       "<script id=\"divi-custom-script-js-extra\" type=\"text/javascript\">\n",
       "/* <![CDATA[ */\n",
       "var DIVI = {\"item_count\":\"%d Item\",\"items_count\":\"%d Items\"};\n",
       "var et_builder_utils_params = {\"condition\":{\"diviTheme\":true,\"extraTheme\":false},\"scrollLocations\":[\"app\",\"top\"],\"builderScrollLocations\":{\"desktop\":\"app\",\"tablet\":\"app\",\"phone\":\"app\"},\"onloadScrollLocation\":\"app\",\"builderType\":\"fe\"};\n",
       "var et_frontend_scripts = {\"builderCssContainerPrefix\":\"#et-boc\",\"builderCssLayoutPrefix\":\"#et-boc .et-l\"};\n",
       "var et_pb_custom = {\"ajaxurl\":\"https:\\/\\/codeup.com\\/wp-admin\\/admin-ajax.php\",\"images_uri\":\"https:\\/\\/codeup.com\\/wp-content\\/themes\\/Divi\\/images\",\"builder_images_uri\":\"https:\\/\\/codeup.com\\/wp-content\\/themes\\/Divi\\/includes\\/builder\\/images\",\"et_frontend_nonce\":\"21ed514af9\",\"subscription_failed\":\"Please, check the fields below to make sure you entered the correct information.\",\"et_ab_log_nonce\":\"2f8b78785b\",\"fill_message\":\"Please, fill in the following fields:\",\"contact_error_message\":\"Please, fix the following errors:\",\"invalid\":\"Invalid email\",\"captcha\":\"Captcha\",\"prev\":\"Prev\",\"previous\":\"Previous\",\"next\":\"Next\",\"wrong_captcha\":\"You entered the wrong number in captcha.\",\"wrong_checkbox\":\"Checkbox\",\"ignore_waypoints\":\"no\",\"is_divi_theme_used\":\"1\",\"widget_search_selector\":\".widget_search\",\"ab_tests\":[],\"is_ab_testing_active\":\"\",\"page_id\":\"20058\",\"unique_test_id\":\"\",\"ab_bounce_rate\":\"5\",\"is_cache_plugin_active\":\"yes\",\"is_shortcode_tracking\":\"\",\"tinymce_uri\":\"https:\\/\\/codeup.com\\/wp-content\\/themes\\/Divi\\/includes\\/builder\\/frontend-builder\\/assets\\/vendors\",\"waypoints_options\":[]};\n",
       "var et_pb_box_shadow_elements = [];\n",
       "/* ]]> */\n",
       "</script>\n",
       "<script id=\"divi-custom-script-js\" src=\"https://tribucodeup.wpenginepowered.com/wp-content/themes/Divi/js/scripts.min.js?ver=4.18.0\" type=\"text/javascript\"></script>\n",
       "<script id=\"smoothscroll-js\" src=\"https://tribucodeup.wpenginepowered.com/wp-content/themes/Divi/js/smoothscroll.js?ver=4.18.0\" type=\"text/javascript\"></script>\n",
       "<script id=\"fitvids-js\" src=\"https://tribucodeup.wpenginepowered.com/wp-content/themes/Divi/includes/builder/feature/dynamic-assets/assets/js/jquery.fitvids.js?ver=4.18.0\" type=\"text/javascript\"></script>\n",
       "<script id=\"divi-event-calendar-module-frontend-bundle-js\" src=\"https://tribucodeup.wpenginepowered.com/wp-content/plugins/divi-event-calendar-module/scripts/frontend-bundle.min.js?ver=1.0.0\" type=\"text/javascript\"></script>\n",
       "<script id=\"divi-mobile-frontend-bundle-js\" src=\"https://tribucodeup.wpenginepowered.com/wp-content/plugins/divi-mobile/scripts/frontend-bundle.min.js?ver=1.0.0\" type=\"text/javascript\"></script>\n",
       "<script id=\"et-core-common-js\" src=\"https://tribucodeup.wpenginepowered.com/wp-content/themes/Divi/core/admin/js/common.js?ver=4.18.0\" type=\"text/javascript\"></script>\n",
       "<script id=\"et-builder-modules-script-sticky-js-extra\" type=\"text/javascript\">\n",
       "/* <![CDATA[ */\n",
       "var et_pb_sticky_elements = {\"et_pb_section_1_tb_header\":{\"id\":\"et_pb_section_1_tb_header\",\"selector\":\".et_pb_section_1_tb_header\",\"position\":\"top\",\"topOffset\":\"0px\",\"bottomOffset\":\"0px\",\"topLimit\":\"none\",\"bottomLimit\":\"none\",\"offsetSurrounding\":\"on\",\"transition\":\"on\",\"styles\":{\"module_alignment\":{\"desktop\":\"\",\"tablet\":\"\",\"phone\":\"\"},\"positioning\":\"relative\"},\"stickyStyles\":{\"position_origin_r\":\"top_left\",\"horizontal_offset\":\"\",\"vertical_offset\":\"\"}}};\n",
       "/* ]]> */\n",
       "</script>\n",
       "<script id=\"et-builder-modules-script-sticky-js\" src=\"https://tribucodeup.wpenginepowered.com/wp-content/themes/Divi/includes/builder/feature/dynamic-assets/assets/js/sticky-elements.js?ver=4.18.0\" type=\"text/javascript\"></script>\n",
       "<style id=\"et-builder-module-design-tb-120-tb-101-deferred-20058-cached-inline-styles\">.et_pb_section_0_tb_header.et_pb_section{padding-top:0px;padding-bottom:3px;background-color:#FFC20E!important}.et_pb_row_0_tb_header.et_pb_row{padding-top:11px!important;padding-bottom:10px!important;padding-top:11px;padding-bottom:10px}.et_pb_text_0_tb_header.et_pb_text,.et_pb_text_0_tb_header.et_pb_text a{color:#181D32!important}.et_pb_text_0_tb_header a{text-align:right}.et_pb_text_0_tb_header{background-color:#FFC20E;padding-top:12px!important;margin-right:-25px!important}.et_pb_search_0_tb_header .et_pb_searchform{background-color:#FFFFFF}.et_pb_search_0_tb_header{overflow-x:hidden;overflow-y:hidden}.et_pb_search_0_tb_header input.et_pb_s{padding-top:0.715em!important;padding-right:0.715em!important;padding-bottom:0.715em!important;padding-left:0.715em!important;border-color:#FFFFFF!important;height:auto;min-height:0}.et_pb_search_0_tb_header input.et_pb_searchsubmit{background-color:#FFFFFF!important;border-color:#FFFFFF!important}.et_pb_section_1_tb_header{border-color:#FFC20E;transition:border 300ms ease 0ms}.et_pb_sticky.et_pb_section_1_tb_header{border-width:0px 0px 4px 0px}.et_pb_section_1_tb_header.et_pb_section{padding-top:14px;padding-bottom:10px}.et_pb_row_1_tb_header.et_pb_row{padding-top:5px!important;padding-bottom:2px!important;padding-top:5px;padding-bottom:2px}.et_pb_menu_0_tb_header.et_pb_menu ul li a{font-weight:600;color:#000000!important}.et_pb_menu_0_tb_header.et_pb_menu{background-color:#ffffff}.et_pb_menu_0_tb_header{margin-right:-43px!important;width:115.1%}.et_pb_menu_0_tb_header.et_pb_menu .nav li ul{background-color:#ffffff!important}.et_pb_menu_0_tb_header.et_pb_menu .et_mobile_menu,.et_pb_menu_0_tb_header.et_pb_menu .et_mobile_menu ul{background-color:#4E5E33!important}.et_pb_menu_0_tb_header.et_pb_menu .et_mobile_menu a{color:#FFFFFF!important}.et_pb_menu_0_tb_header .et_pb_menu_inner_container>.et_pb_menu__logo-wrap,.et_pb_menu_0_tb_header .et_pb_menu__logo-slot{width:25%;max-width:100%}.et_pb_menu_0_tb_header .et_pb_menu_inner_container>.et_pb_menu__logo-wrap .et_pb_menu__logo img,.et_pb_menu_0_tb_header .et_pb_menu__logo-slot .et_pb_menu__logo-wrap img{height:auto;max-height:none}.et_pb_menu_0_tb_header .mobile_nav .mobile_menu_bar:before,.et_pb_menu_0_tb_header .et_pb_menu__icon.et_pb_menu__search-button,.et_pb_menu_0_tb_header .et_pb_menu__icon.et_pb_menu__close-search-button,.et_pb_menu_0_tb_header .et_pb_menu__icon.et_pb_menu__cart-button{color:#4E5E33}.et_pb_button_0_tb_header_wrapper{margin-top:20px!important}body #page-container .et_pb_section .et_pb_button_0_tb_header{color:#000000!important;border-color:#79A04A;border-radius:10px;font-size:17px;font-weight:700!important;background-color:#79A04A}body #page-container .et_pb_section .et_pb_button_0_tb_header:after{font-size:1.6em}body.et_button_custom_icon #page-container .et_pb_button_0_tb_header:after{font-size:17px}.et_pb_button_0_tb_header,.et_pb_button_0_tb_header:after{transition:all 300ms ease 0ms}@media only screen and (max-width:980px){.et_pb_section_1_tb_header{border-bottom-color:#FFC20E}body #page-container .et_pb_section .et_pb_button_0_tb_header:after{display:inline-block;opacity:0}body #page-container .et_pb_section .et_pb_button_0_tb_header:hover:after{opacity:1}}@media only screen and (min-width:768px) and (max-width:980px){.et_pb_column_3_tb_header,.et_pb_button_0_tb_header{display:none!important}}@media only screen and (max-width:767px){.et_pb_text_0_tb_header,.et_pb_column_3_tb_header,.et_pb_button_0_tb_header{display:none!important}.et_pb_section_1_tb_header{border-bottom-color:#FFC20E}.et_pb_menu_0_tb_header.et_pb_menu ul li a{font-size:16px;line-height:1.2em}body #page-container .et_pb_section .et_pb_button_0_tb_header:after{display:inline-block;opacity:0}body #page-container .et_pb_section .et_pb_button_0_tb_header:hover:after{opacity:1}}.et_pb_section_0_tb_footer.et_pb_section{background-color:#79A04A!important}.et_pb_text_1_tb_footer.et_pb_text a,.et_pb_text_7_tb_footer.et_pb_text a,.et_pb_text_7_tb_footer.et_pb_text,.et_pb_text_6_tb_footer.et_pb_text,.et_pb_text_0_tb_footer.et_pb_text,.et_pb_text_4_tb_footer.et_pb_text{color:#000000!important}.et_pb_text_0_tb_footer{font-family:'Poppins',Helvetica,Arial,Lucida,sans-serif;font-size:16px}.et_pb_text_0_tb_footer h3{font-family:'Poppins',Helvetica,Arial,Lucida,sans-serif;font-weight:700;color:#000000!important;line-height:1.1em}.et_pb_section_1_tb_footer.et_pb_section{padding-top:13px;padding-bottom:10px;background-color:#FFFFFF!important}.et_pb_text_1_tb_footer.et_pb_text{color:#ffffff!important}.et_pb_text_1_tb_footer{line-height:1.2em;font-family:'Poppins',Helvetica,Arial,Lucida,sans-serif;font-size:40px;letter-spacing:0.05em;line-height:1.2em;margin-bottom:6px!important}.et_pb_text_1_tb_footer a{font-family:'Poppins',Helvetica,Arial,Lucida,sans-serif}.et_pb_text_1_tb_footer h3{font-family:'Poppins',Helvetica,Arial,Lucida,sans-serif;color:#4E5E33!important}ul.et_pb_social_media_follow_0_tb_footer{margin-bottom:8px!important}.et_pb_social_media_follow_0_tb_footer li a.icon:before{transition:color 300ms ease 0ms}.et_pb_social_media_follow_0_tb_footer li.et_pb_social_icon a.icon:before{color:#4E5E33}.et_pb_social_media_follow_0_tb_footer li.et_pb_social_icon a.icon:hover:before{color:#ea3900}.et_pb_text_2_tb_footer.et_pb_text,.et_pb_text_2_tb_footer.et_pb_text a{color:#4E5E33!important}.et_pb_image_0_tb_footer{padding-bottom:0px;text-align:center}.et_pb_text_3_tb_footer h4{font-family:'Poppins',Helvetica,Arial,Lucida,sans-serif;font-size:22px;color:#000000!important;letter-spacing:1px;line-height:1.6em}.et_pb_text_3_tb_footer,.et_pb_text_5_tb_footer{border-color:#FFC20E;border-bottom-width:5px}.et_pb_text_4_tb_footer,.et_pb_text_6_tb_footer{line-height:2em;font-weight:600;font-size:16px;line-height:2em}.et_pb_text_4_tb_footer.et_pb_text a,.et_pb_text_6_tb_footer.et_pb_text a{color:#000000!important;transition:color 300ms ease 0ms}.et_pb_text_6_tb_footer.et_pb_text a:hover,.et_pb_text_4_tb_footer.et_pb_text a:hover{color:#ea3900!important}.et_pb_text_6_tb_footer a,.et_pb_text_4_tb_footer a{line-height:2.5em}.et_pb_text_5_tb_footer h4{font-family:'Poppins',Helvetica,Arial,Lucida,sans-serif;font-size:22px;color:#000000!important;line-height:1.6em}body #page-container .et_pb_section .et_pb_button_0_tb_footer{color:#000000!important;border-color:#FFC20E;border-radius:10px;font-size:18px;font-family:'Poppins',Helvetica,Arial,Lucida,sans-serif!important;background-color:#FFC20E}body #page-container .et_pb_section .et_pb_button_0_tb_footer:after{font-size:1.6em}body.et_button_custom_icon #page-container .et_pb_button_0_tb_footer:after{font-size:18px}.et_pb_button_0_tb_footer,.et_pb_button_0_tb_footer:after{transition:all 300ms ease 0ms}.et_pb_row_2_tb_footer.et_pb_row{padding-top:7px!important;padding-bottom:9px!important;padding-top:7px;padding-bottom:9px}.et_pb_text_7_tb_footer h6{font-family:'Nunito',Helvetica,Arial,Lucida,sans-serif;font-size:11px;color:#FFFFFF!important}.et_pb_row_1_tb_footer.et_pb_row{padding-bottom:5px!important;margin-left:auto!important;margin-right:auto!important;padding-bottom:5px}@media only screen and (max-width:980px){.et_pb_text_1_tb_footer{font-size:30px}.et_pb_image_0_tb_footer .et_pb_image_wrap img{width:auto}.et_pb_text_3_tb_footer h4,.et_pb_text_5_tb_footer h4{font-size:20px}.et_pb_text_3_tb_footer,.et_pb_text_5_tb_footer{border-bottom-width:5px}body #page-container .et_pb_section .et_pb_button_0_tb_footer:after{display:inline-block;opacity:0}body #page-container .et_pb_section .et_pb_button_0_tb_footer:hover:after{opacity:1}}@media only screen and (max-width:767px){.et_pb_text_1_tb_footer{font-size:22px}.et_pb_image_0_tb_footer .et_pb_image_wrap img{width:auto}.et_pb_text_3_tb_footer h4,.et_pb_text_5_tb_footer h4{font-size:25px}.et_pb_text_3_tb_footer,.et_pb_text_5_tb_footer{border-bottom-width:5px}.et_pb_text_4_tb_footer,.et_pb_text_6_tb_footer{font-size:14px}.et_pb_button_0_tb_footer_wrapper{margin-bottom:20px!important}body #page-container .et_pb_section .et_pb_button_0_tb_footer:after{display:inline-block;opacity:0}body #page-container .et_pb_section .et_pb_button_0_tb_footer:hover:after{opacity:1}.et_pb_text_7_tb_footer{font-size:12px}}</style>\n",
       "<span class=\"et_pb_scroll_top et-pb-icon\"></span>\n",
       "</body>\n",
       "</html>"
      ]
     },
     "execution_count": 28,
     "metadata": {},
     "output_type": "execute_result"
    }
   ],
   "source": [
    "soup"
   ]
  },
  {
   "cell_type": "code",
   "execution_count": 29,
   "id": "469f4a75-e3cb-4966-8b56-8332e335ec16",
   "metadata": {},
   "outputs": [],
   "source": [
    "# itemid's are important - they contain the links of the articles we need to follow\n",
    "# each time the itemid is a url, there is a <div> with itemtype = below\n",
    "articles = soup.find_all('div', itemtype='http://schema.org/NewsArticle')"
   ]
  },
  {
   "cell_type": "code",
   "execution_count": null,
   "id": "ad5c0c9c-b00e-41ea-a014-2a813ae35d6a",
   "metadata": {},
   "outputs": [],
   "source": []
  },
  {
   "cell_type": "code",
   "execution_count": 30,
   "id": "b2b7842e-0d6f-4e26-aa80-7ea704424ec9",
   "metadata": {},
   "outputs": [],
   "source": [
    "##### TEST acquire.py as import"
   ]
  },
  {
   "cell_type": "code",
   "execution_count": 31,
   "id": "605d11c3-5969-4d01-9656-cf7f50d6c6a4",
   "metadata": {},
   "outputs": [],
   "source": [
    "import acquire as a"
   ]
  },
  {
   "cell_type": "code",
   "execution_count": 32,
   "id": "e49b4926-aa79-4183-91bf-fd36cbabb0d4",
   "metadata": {},
   "outputs": [
    {
     "data": {
      "text/plain": [
       "['https://codeup.com/featured/apida-heritage-month/',\n",
       " 'https://codeup.com/featured/women-in-tech-panelist-spotlight/',\n",
       " 'https://codeup.com/featured/women-in-tech-rachel-robbins-mayhill/',\n",
       " 'https://codeup.com/codeup-news/women-in-tech-panelist-spotlight-sarah-mellor/',\n",
       " 'https://codeup.com/events/women-in-tech-madeleine/']"
      ]
     },
     "execution_count": 32,
     "metadata": {},
     "output_type": "execute_result"
    }
   ],
   "source": [
    "url_list"
   ]
  },
  {
   "cell_type": "code",
   "execution_count": 33,
   "id": "9e0de983-6950-4299-9db8-cf800018ffed",
   "metadata": {},
   "outputs": [],
   "source": [
    "codeup_blogs = a.get_blog_articles(url_list)"
   ]
  },
  {
   "cell_type": "code",
   "execution_count": 34,
   "id": "bef6afb1-90fb-4f12-95c3-6a4b85ce79e4",
   "metadata": {
    "collapsed": true,
    "jupyter": {
     "outputs_hidden": true
    },
    "tags": []
   },
   "outputs": [
    {
     "data": {
      "text/plain": [
       "[{'title': 'Spotlight on APIDA Voices: Celebrating Heritage and Inspiring Change ft. Arbeena Thapa',\n",
       "  'content': 'Spotlight on APIDA Voices: Celebrating Heritage and Inspiring Change ft. Arbeena Thapa May 24, 2023 | Featured   May is traditionally known as Asian American and Pacific Islander (AAPI) Heritage Month. This month we celebrate the history and contributions made possible by our AAPI friends, family, and community. We also examine our level of support and seek opportunities to better understand the AAPI community.  In an effort to address real concerns and experiences, we sat down with Arbeena Thapa, one of Codeup’s Financial Aid and Enrollment Managers. Arbeena identifies as Nepali American and Desi. Arbeena’s parents immigrated to Texas in 1988 for better employment and educational opportunities. Arbeena’s older sister was five when they made the move to the US. Arbeena was born later, becoming the first in her family to be a US citizen. At Codeup we take our efforts at inclusivity very seriously. After speaking with Arbeena, we were taught that the term AAPI excludes Desi-American individuals. Hence, we will now use the term Asian Pacific Islander Desi American (APIDA). Here is how the rest of our conversation with Arbeena went! How do you celebrate or connect with your heritage and cultural traditions? “I celebrate Nepal’s version of Christmas or Dashain. This is a nine-day celebration also known as Dussehra. I grew up as Hindu and I identify as Hindu, this is a very large part of my heritage. “ “Other ways I connect with my culture include sharing food! Momos are South Asian Dumplings and they’re my favorite to make and share.” “On my Asian American side, I am an advocate of immigrant justice and erasure within APIDA social or political movements. I participate in events to embrace my identity such as immigrant justice advocacy because I come from a mixed-status family. I’ve always been in a community with undocumented Asian immigrants. .” What are some of the challenges you have faced as an APIDA individual, personally or professionally? “I often struggle with being gendered as compliant or a pushover. Professionally, I am often stereotyped as meek, so I’ve been overlooked for leadership roles. We are seen as perpetually foreign; people tend to other us in that way, yet put us on a pedestal for what a model minority looks like. This has made me hesitant to share my heritage in the past because these assumptions get mapped onto me. ” Can you describe some common barriers of entry that APIDA individuals, specifically women may face when trying to enter or advance in the workplace? “Being overlooked for leadership. In the past, I have not been viewed as a leader. People sometimes have preconceived stereotypes of Asian women not being able to be bold, or being vocal can be mistaken for being too emotional. “ How do you believe microaggressions impact APIDA individuals in the workplace? Can you provide examples of such microaggressions? “Erasure is big. To me, only saying ‘Merry Christmas’ isn’t inclusive to other religions. People are often resistant to saying ‘Happy Holidays,’ but saying Merry Christmas excludes, and does not appreciate my heritage. “ “Often microaggressions are not micro at all. They typically are not aggressive racialized violence, but the term ‘micro’ minimizes impact.” “Some that I’ve heard are ‘What kind of Asian are you?’ or ‘Where are you from?’ This automatically makes me the ‘other’ and not seen as American. Even within the APIDA community, South Asians are overlooked as “Asian”.” How important is representation, specifically APIDA representation, in organizational leadership positions? “I want to say that it is important to have someone who looks like you in leadership roles, and it is, but those leaders may not share the same beliefs as you. Certain privileges such as wealth, resources, or lack of interaction with lower-socioeconomic-status Asian Americans may cause a difference in community politics. I do not think the bamboo ceiling is acceptable, but the company you work for plays a big part in your politics and belief alignment.” How do you feel about code-switching, and have you ever felt it necessary to code-switch? “I like sharing South Asian terms or connecting with others that have similar heritage and culture. A workplace that is welcoming to going into this sort of breakout is refreshing and makes space for us. However, having to code-switch could also mean a workplace that is not conducive and welcoming of other cultures. “ Finally, in your opinion, what long-term strategies can create lasting change in the workplace and ensure support, equality, and inclusion for APIDA individuals? “Prior to a career in financial aid, I did a lot of research related to the post-9/11 immigration of the South Asian diaspora. This background made me heavily rely on grassroots organizing. Hire the people that want to innovate, hire the changemakers, hire the button-pushers. Reduce reliance on whiteness as change. This will become natural for the organization and become organizational change. Change comes from us on the ground.” A huge thank you to Arbeena Thapa for sharing her experiences, and being vulnerable with us. Your words were inspiring and the opportunity to understand your perspective more has been valuable. We hope we can become better support for the APIDA community as we learn and grow on our journey of cultivating inclusive growth.'},\n",
       " {'title': 'Women in tech: Panelist Spotlight – Magdalena Rahn -',\n",
       "  'content': 'Women in tech: Panelist Spotlight – Magdalena Rahn Mar 28, 2023 | Events, Featured   Women in tech: Panelist Spotlight – Magdalena Rahn Codeup is hosting a Women in Tech Panel in honor of Women’s History Month on March 29th, 2023! To further celebrate, we’d like to spotlight each of our panelists leading up to the discussion to learn a bit about their respective experiences as women in the tech industry!  Meet Magdalena! Magdalena Rahn is a current Codeup student in a Data Science cohort in San Antonio, Texas. She has a professional background in cross-cultural communications, international business development, the wine industry and journalism. After serving in the US Navy, she decided to complement her professional skill set by attending the Data Science program at Codeup; she is set to graduate in March 2023. Magdalena is fluent in French, Bulgarian, Chinese-Mandarin, Spanish and Italian. We asked Magdalena how Codeup impacted her career, and she replied “Codeup has provided a solid foundation in analytical processes, programming and data science methods, and it’s been an encouragement to have such supportive instructors and wonderful classmates.” Don’t forget to tune in on March 29th to sit in on an insightful conversation with Magdalena.'},\n",
       " {'title': 'Women in tech: Panelist Spotlight - Rachel Robbins-Mayhill',\n",
       "  'content': 'Women in tech: Panelist Spotlight – Rachel Robbins-Mayhill Mar 20, 2023 | Events, Featured   Women in tech: Panelist Spotlight – Rachel Robbins-Mayhill Codeup is hosting a Women in Tech Panel in honor of Women’s History Month on March 29th, 2023! To further celebrate, we’d like to spotlight each of our panelists leading up to the discussion to learn a bit about their respective experiences as women in the tech industry! Meet Rachel!  Rachel Robbins-Mayhill is a Decision Science Analyst I in San Antonio, Texas. Rachel has had a varied career that includes counseling, teaching, training, community development, and military operations. Her focus has always been on assessing needs, identifying solutions, and educating individuals and groups on aligning needs and solutions in different contexts. Rachel’s passion for data science stems from her belief that data is a powerful tool for communicating patterns that can lead to hope and growth in the future. In June 2022, Rachel graduated from Codeup’s Innis cohort, where she honed her skills in data science. Shortly after, she started working as a Data Science Technical Writer with Apex Systems as a Contractor for USAA in July 2022. Her unconventional role allowed her to understand where her skills could be best utilized to support USAA in a non-contract role. Rachel recently joined USAA’s Data Science Delivery team as a Decision Science Analyst I in February 2023. The team is focused on delivering machine learning models for fraud prevention, and Rachel’s particular role centers around providing strategic process solutions for the team in collaboration with Operational and Model Risk components. In addition to her career, Rachel is currently pursuing a master’s degree in Applied Data Science from Syracuse University, further expanding her knowledge and skills in the field. Rachel is passionate about collaborating with individuals who share her belief in the potential of others and strive to achieve growth through logical, informed action. She welcomes LinkedIn connections and is excited about supporting the network of CodeUp alumni! We asked Rachel how Codeup impacted her career, and she replied “Codeup delivered a comprehensive education in all facets of the data science pipeline, laying a strong foundation for me to build upon. Through repeated hands-on practice, I developed a reliable process that was immediately applicable in my job. Collaborative group projects were instrumental in helping me hone my skills in project management, allowing me to navigate complex data science projects with comfortability. Thanks to this invaluable experience, I was able to make significant strides in my career within just six months of graduating from Codeup.” Don’t forget to tune in on March 29th to sit in on an insightful conversation.'},\n",
       " {'title': 'Women in Tech: Panelist Spotlight - Sarah Mellor - Codeup',\n",
       "  'content': 'Women in Tech: Panelist Spotlight – Sarah Mellor Mar 13, 2023 | Codeup News, Featured   Women in tech: Panelist Spotlight – Sarah Mellor\\xa0 Codeup is hosting a Women in Tech Panel in honor of Women’s History Month on March 29th, 2023! To further celebrate, we’d like to spotlight each of our panelists leading up to the discussion to learn a bit about their respective experiences as women in the tech industry! Meet Sarah! Sarah Mellor currently works as the Director of People Operations. She joined Codeup four and a half years ago as an Admissions Manager. She went on to build out and lead the Marketing and Admissions team, while picking up People Ops tasks and projects here and there until moving over to lead the People Ops team two years ago. Prior to Codeup, she worked at education-focused non-profits in Washington, DC and Boulder, Colorado. She graduated from Wake Forest University. We asked Sarah how Codeup has impacted her career, and her response was “I have absolutely loved having the privilege to grow alongside Codeup. In my time here across multiple different roles and departments, I’ve seen a lot of change. The consistent things have always been the high quality of passionate and hardworking people I get to work with; the impactful mission we get to work on; and the inspiring students who trust us with their career change.” Don’t forget to tune in on March 29th to sit in on an insightful conversation.'},\n",
       " {'title': 'Women in Tech: Panelist Spotlight - Madeleine Capper - Codeup',\n",
       "  'content': 'Women in Tech: Panelist Spotlight – Madeleine Capper Mar 6, 2023 | Events, Featured   Women in tech: Panelist Spotlight – Madeleine Capper Codeup is hosting a Women in Tech Panel in honor of Women’s History Month on March 29th, 2023! To further celebrate, we’d like to spotlight each of our panelists leading up to the discussion to learn a bit about their respective experiences as women in the tech industry! Meet Madeleine! Madeleine Capper is a Data Scientist in San Antonio, Texas. A long-standing San Antonio resident, she studied mathematics at the University of Texas San Antonio and has worked as a Data Scientist for Booz Allen Hamilton. Madeleine currently teaches Data Science at Codeup, where she works daily with burgeoning data professionals to help them actualize their career aspirations through technical education. Madeleine attended Codeup as a student in early 2019 as a pupil in the very first Codeup Data Science cohort. The program proved immediately effective and she was the first student to obtain a data career out of the program. After working at Booz Allen Hamilton, Madeleine’s passion for education in conjunction with her appreciation for Codeup’s capacity for transformative life change brought her back to the institution in an instructional capacity, where she has been teaching for two years. Don’t forget to tune in on March 29th to sit in on an insightful conversation.'}]"
      ]
     },
     "execution_count": 34,
     "metadata": {},
     "output_type": "execute_result"
    }
   ],
   "source": [
    "codeup_blogs"
   ]
  },
  {
   "cell_type": "code",
   "execution_count": 35,
   "id": "bcdd2aad-86d2-457a-8d13-eef53b386d62",
   "metadata": {},
   "outputs": [
    {
     "name": "stdout",
     "output_type": "stream",
     "text": [
      "cached file found and read\n"
     ]
    }
   ],
   "source": [
    "inshorts_articles = a.get_news_articles()"
   ]
  },
  {
   "cell_type": "code",
   "execution_count": 36,
   "id": "82d278ee-b4ff-4dac-a620-5f8b33f5fbfe",
   "metadata": {},
   "outputs": [
    {
     "data": {
      "text/plain": [
       "[{'category': 'business',\n",
       "  'title': 'Sensex, Nifty end at fresh closing highs',\n",
       "  'content': 'Benchmark indices Sensex and Nifty ended at record closing highs on Wednesday. Sensex ended 195 points higher at 63,523 while the Nifty ended at 18,856.85, up 40 points. The gains were led by stocks like HDFC, Reliance Industries and TCS. During the intraday trade, Sensex rose to its fresh record high level of 63,588. '},\n",
       " {'category': 'business',\n",
       "  'title': \"TIME releases list of the world's 100 most influential companies\",\n",
       "  'content': 'TIME magazine has released its annual list of the world\\'s 100 most influential companies, which features OpenAI, SpaceX, Chess.com, Google DeepMind and Kim Kardashian\\'s SKIMS among others. The National Payments Corporation of India (NPCI) and e-commerce platform Meesho also featured on the list. \"NPCI launched UPI...which accounted for 52% of India\\'s digital transactions in FY22,\" TIME said.'}]"
      ]
     },
     "execution_count": 36,
     "metadata": {},
     "output_type": "execute_result"
    }
   ],
   "source": [
    "inshorts_articles[:2]"
   ]
  },
  {
   "cell_type": "code",
   "execution_count": null,
   "id": "9df1499a-c338-4b96-b46b-f0c1659977ec",
   "metadata": {},
   "outputs": [],
   "source": []
  },
  {
   "cell_type": "code",
   "execution_count": null,
   "id": "4181e4c1-f67c-45ab-9163-516adc47c79a",
   "metadata": {},
   "outputs": [],
   "source": []
  },
  {
   "cell_type": "code",
   "execution_count": null,
   "id": "7e2e1071-d369-4e95-a912-fd4e19b8c014",
   "metadata": {},
   "outputs": [],
   "source": []
  },
  {
   "cell_type": "code",
   "execution_count": null,
   "id": "2bf2dd96-303c-40b3-b97a-56b176ebb820",
   "metadata": {},
   "outputs": [],
   "source": []
  },
  {
   "cell_type": "markdown",
   "id": "e7c16e0a-156a-4cc0-ba00-0a9d40f6962d",
   "metadata": {},
   "source": [
    "# WORKING ON BONUS - GET ALL CODEUP BLOGS"
   ]
  },
  {
   "cell_type": "markdown",
   "id": "3de035ed-ea17-42f6-8a4a-032b60a44079",
   "metadata": {},
   "source": [
    "## Next step: get the older entries link and follow it to the next page"
   ]
  },
  {
   "cell_type": "code",
   "execution_count": 37,
   "id": "2b4f9a9d-a049-489e-9379-5b5b4acc3ca9",
   "metadata": {},
   "outputs": [],
   "source": [
    "#### Working on bonus for #1 (get ALL of the codeup blogs)"
   ]
  },
  {
   "cell_type": "code",
   "execution_count": 38,
   "id": "57b488d6-45af-487b-92ad-c4c520aa1a14",
   "metadata": {},
   "outputs": [],
   "source": [
    "url = 'https://codeup.com/blog/'\n",
    "# set my user-agent (this is the one from my computer/browser)\n",
    "headers = {'User-Agent': 'Mozilla/5.0 (Macintosh; Intel Mac OS X 10.15; rv:109.0) Gecko/20100101 Firefox/113.0'}"
   ]
  },
  {
   "cell_type": "code",
   "execution_count": 39,
   "id": "25266440-4d5d-46da-8540-7affc177937b",
   "metadata": {},
   "outputs": [],
   "source": [
    "response = get(url, headers=headers)"
   ]
  },
  {
   "cell_type": "code",
   "execution_count": 40,
   "id": "c8dccc7c-3542-404c-a150-cd2fa5ccdb49",
   "metadata": {},
   "outputs": [],
   "source": [
    "soup = BeautifulSoup(response.content, 'html.parser')"
   ]
  },
  {
   "cell_type": "code",
   "execution_count": 41,
   "id": "b472b670-5288-4872-8a6b-8c84b5e51e25",
   "metadata": {},
   "outputs": [
    {
     "data": {
      "text/plain": [
       "[<a class=\"more-link\" href=\"https://codeup.com/featured/apida-heritage-month/\">read more</a>,\n",
       " <a class=\"more-link\" href=\"https://codeup.com/featured/women-in-tech-panelist-spotlight/\">read more</a>,\n",
       " <a class=\"more-link\" href=\"https://codeup.com/featured/women-in-tech-rachel-robbins-mayhill/\">read more</a>,\n",
       " <a class=\"more-link\" href=\"https://codeup.com/codeup-news/women-in-tech-panelist-spotlight-sarah-mellor/\">read more</a>,\n",
       " <a class=\"more-link\" href=\"https://codeup.com/events/women-in-tech-madeleine/\">read more</a>,\n",
       " <a class=\"more-link\" href=\"https://codeup.com/codeup-news/panelist-spotlight-4/\">read more</a>]"
      ]
     },
     "execution_count": 41,
     "metadata": {},
     "output_type": "execute_result"
    }
   ],
   "source": [
    "# this is how to get the actual links to the blog articles on each page\n",
    "more_links = soup.find_all('a', class_='more-link')\n",
    "more_links"
   ]
  },
  {
   "cell_type": "code",
   "execution_count": 42,
   "id": "10605774-bf32-4714-adbc-cbd0db6a4e9f",
   "metadata": {},
   "outputs": [
    {
     "data": {
      "text/plain": [
       "['https://codeup.com/featured/apida-heritage-month/',\n",
       " 'https://codeup.com/featured/women-in-tech-panelist-spotlight/',\n",
       " 'https://codeup.com/featured/women-in-tech-rachel-robbins-mayhill/',\n",
       " 'https://codeup.com/codeup-news/women-in-tech-panelist-spotlight-sarah-mellor/',\n",
       " 'https://codeup.com/events/women-in-tech-madeleine/',\n",
       " 'https://codeup.com/codeup-news/panelist-spotlight-4/']"
      ]
     },
     "execution_count": 42,
     "metadata": {},
     "output_type": "execute_result"
    }
   ],
   "source": [
    "more_links = [link['href'] for link in more_links]\n",
    "more_links"
   ]
  },
  {
   "cell_type": "code",
   "execution_count": null,
   "id": "17cc7d70-a9b1-4f00-a0b2-29a34c1aa013",
   "metadata": {},
   "outputs": [],
   "source": []
  },
  {
   "cell_type": "code",
   "execution_count": null,
   "id": "b7c564d7-0ef9-4f3f-9c78-8f5a61a23760",
   "metadata": {},
   "outputs": [],
   "source": []
  },
  {
   "cell_type": "code",
   "execution_count": 43,
   "id": "556c8387-d132-46fe-b428-98d42de48571",
   "metadata": {},
   "outputs": [
    {
     "data": {
      "text/plain": [
       "True"
      ]
     },
     "execution_count": 43,
     "metadata": {},
     "output_type": "execute_result"
    }
   ],
   "source": [
    "links = soup.select('a')\n",
    "links[0].text.__contains__('H')"
   ]
  },
  {
   "cell_type": "code",
   "execution_count": 45,
   "id": "8393ea1e-6bc8-4072-892c-a78cfc294990",
   "metadata": {},
   "outputs": [
    {
     "name": "stdout",
     "output_type": "stream",
     "text": [
      "<a href=\"https://codeup.com/blog/page/2/?et_blog\">« Older Entries</a>\n",
      "https://codeup.com/blog/page/2/?et_blog\n"
     ]
    }
   ],
   "source": [
    "links = soup.select('a')\n",
    "for link in links:\n",
    "    if link.text.__contains__('Older Entries'):\n",
    "        print (link)\n",
    "        older_entry = link['href']\n",
    "        print(older_entry)"
   ]
  },
  {
   "cell_type": "code",
   "execution_count": 46,
   "id": "25ddc829-4890-4d76-98fb-f2bd23c23337",
   "metadata": {},
   "outputs": [
    {
     "data": {
      "text/plain": [
       "'https://codeup.com/blog/page/2/?et_blog'"
      ]
     },
     "execution_count": 46,
     "metadata": {},
     "output_type": "execute_result"
    }
   ],
   "source": [
    "older_entry"
   ]
  },
  {
   "cell_type": "code",
   "execution_count": 52,
   "id": "a6298c37-57d2-4bc4-accd-2cfdfd4d0c0f",
   "metadata": {},
   "outputs": [],
   "source": [
    "def get_all_codeup_blogs(start_url = 'https://codeup.com/blog/', fresh=False):\n",
    "    \"\"\"\n",
    "    This function will\n",
    "    - web scrape the title and content of all codeup blog articles\n",
    "    - and save them to a locally cached json file\n",
    "    - (OR read them from said json file)\n",
    "    - return a list of dictionaries of the form:\n",
    "        { 'title': title of the article\n",
    "        , 'content': full text content of the article}\n",
    "    \"\"\"\n",
    "    # see if cached file exists\n",
    "    cache_file_name = 'codeup_blogs.json'\n",
    "    if os.path.isfile(cache_file_name) and (not fresh):\n",
    "        results_dict_list = json.load(open(cache_file_name))\n",
    "        print ('cached file found and read')\n",
    "        return results_dict_list\n",
    "    \n",
    "    # else go webscrape it \n",
    "    # initialize results\n",
    "    results_dict_list = []\n",
    "    # set my user-agent (this is the one from my computer/browser)\n",
    "    headers = {'User-Agent': 'Mozilla/5.0 (Macintosh; Intel Mac OS X 10.15; rv:109.0) Gecko/20100101 Firefox/113.0'}\n",
    "    # setup for the while loop:\n",
    "    next_url = start_url\n",
    "    \n",
    "    # as long as there is an \"Older Entries\" link to follow, keep following it\n",
    "    while True:\n",
    "        # get the response from the next page of blog titles\n",
    "        response = get(next_url, headers=headers)\n",
    "        soup = BeautifulSoup(response.content, 'html.parser')\n",
    "        # parse soup for all the blog post links that lead to actual blogs\n",
    "        more_links = soup.find_all('a', class_='more-link')\n",
    "        more_links = [link['href'] for link in more_links]\n",
    "        \n",
    "        # for each link, go get the title and content\n",
    "        for link in more_links:\n",
    "            # get dictionary of results for each url\n",
    "            results_dict = get_title_content(link)\n",
    "            results_dict_list.append(results_dict)\n",
    "\n",
    "        # see if there is another link for Older Entries\n",
    "        all_links = soup.select('a')\n",
    "        # set a flag to decide whether to continue to while loop or not\n",
    "        flag = False\n",
    "        # brute force: check each link to see if it contains the text 'Older Entries'\n",
    "        for link in all_links:\n",
    "            if link.text.__contains__('Older Entries'):\n",
    "                # if this is true, there is another link to follow; set it as next_url\n",
    "                next_url = link['href']\n",
    "                # and set flag to be True, then break out of this for loop\n",
    "                flag = True\n",
    "                continue\n",
    "        # if flag is true, start over at the top of the while loop and scrape the next page of blogs        \n",
    "        if flag: \n",
    "            continue\n",
    "        # if flag was false, then we're done!\n",
    "        break\n",
    "        \n",
    "    # write fresh results to cached file\n",
    "    with open(cache_file_name, 'w') as cache:\n",
    "        json.dump(results_dict_list, cache)\n",
    "    print('web scraped and written to cached file')\n",
    "\n",
    "    return results_dict_list\n",
    "    \n",
    "    "
   ]
  },
  {
   "cell_type": "code",
   "execution_count": 53,
   "id": "0b0786a4-e873-4ec0-9f3e-c258ff1f813d",
   "metadata": {},
   "outputs": [
    {
     "name": "stdout",
     "output_type": "stream",
     "text": [
      "cached file found and read\n"
     ]
    }
   ],
   "source": [
    "codeup_blogs = a.get_all_codeup_blogs()"
   ]
  },
  {
   "cell_type": "code",
   "execution_count": null,
   "id": "374f794b-72fc-4984-b58e-a241986afdc2",
   "metadata": {},
   "outputs": [],
   "source": []
  },
  {
   "cell_type": "code",
   "execution_count": null,
   "id": "370c7542-be17-4da7-8a80-b40c74a6ff78",
   "metadata": {},
   "outputs": [],
   "source": []
  },
  {
   "cell_type": "markdown",
   "id": "bbb594b0-16a1-4350-9a68-038d3d10828e",
   "metadata": {},
   "source": [
    "# playing with my weekly woms"
   ]
  },
  {
   "cell_type": "code",
   "execution_count": 55,
   "id": "5aa41292-e272-43cf-9bf0-d96c81c4f4f2",
   "metadata": {},
   "outputs": [],
   "source": [
    "url = 'https://sites.google.com/view/weeklywom136/'\n",
    "# set my user-agent (this is the one from my computer/browser)\n",
    "headers = {'User-Agent': 'Mozilla/5.0 (Macintosh; Intel Mac OS X 10.15; rv:109.0) Gecko/20100101 Firefox/113.0'}"
   ]
  },
  {
   "cell_type": "code",
   "execution_count": 65,
   "id": "13fe5725-7db5-4fb0-8216-f3272d750620",
   "metadata": {},
   "outputs": [],
   "source": [
    "# get a response\n",
    "response = get(url, headers=headers)"
   ]
  },
  {
   "cell_type": "code",
   "execution_count": 66,
   "id": "3dab9d26-acea-445b-a233-3666a9dae368",
   "metadata": {},
   "outputs": [
    {
     "data": {
      "text/plain": [
       "<Response [200]>"
      ]
     },
     "execution_count": 66,
     "metadata": {},
     "output_type": "execute_result"
    }
   ],
   "source": [
    "response"
   ]
  },
  {
   "cell_type": "code",
   "execution_count": 67,
   "id": "8ba3985f-d1ce-4a76-a8a7-da2cfe7dd39b",
   "metadata": {},
   "outputs": [
    {
     "data": {
      "text/plain": [
       "'<!DOCTYPE html><html lang=\"en-US\" itemscope itemtype=\"http://schema.org/WebPage\"><head><meta charset'"
      ]
     },
     "execution_count": 67,
     "metadata": {},
     "output_type": "execute_result"
    }
   ],
   "source": [
    "# check for a good response (one that looks like an html page's text)\n",
    "response.text[:100]"
   ]
  },
  {
   "cell_type": "code",
   "execution_count": 68,
   "id": "b76011a3-4442-4305-958d-22cd5477cb07",
   "metadata": {},
   "outputs": [],
   "source": [
    "# make a soup variable holding the reponse content\n",
    "soup = BeautifulSoup(response.content, 'html.parser')"
   ]
  },
  {
   "cell_type": "code",
   "execution_count": 70,
   "id": "7d21b135-c1d4-42d4-92d2-6fc83270e275",
   "metadata": {},
   "outputs": [],
   "source": [
    "texts = soup.find_all('span', class_='C9DxTc')"
   ]
  },
  {
   "cell_type": "code",
   "execution_count": 73,
   "id": "997df26f-b4c3-4f02-b76e-1709addb7b82",
   "metadata": {},
   "outputs": [
    {
     "data": {
      "text/plain": [
       "\"Weekly WOM #136 18 Jun 2023 Happy  Father's Day  all, Weird how there were two Father's Days this year. :-)\\xa0 Just kidding, I guess I got myself a week ahead last week. Don't worry, it's not my first mistake. My ego has recovered. \\xa0\\xa0 Happenings in San Antonio I brought home some pastries from  La Panaderia  on Friday. Codeup is in the same building as this restaurant, and it's a wonder I haven't gained more weight these last four months. So good. The class ahead of mine graduated on Friday which means the end is in sight. Then I'll have to finally grow up, maybe, and get a job. In the meantime, I am successfully procrastinating on that task while I look at things to do in Indianapolis. Caitlyn, Curtis, and I are taking a trip in August. Why Indianapolis? Why not?\\xa0\\xa0 \\xa0 What I'm Reading My reading pace has slowed again because I've been wrapped up watching a show called  Bosch  on Amazon Prime. It's a detective show, set in LA. The protagonist, Harry Bosch, reminds me a little bit of the pulp fiction detectives of 70-ish years ago like Phillip Marlowe and Mike Hammer. Different but similar.\\xa0 Also,  Inside Man  on Netflix is a thinker; only four episodes in this miniseries. \\xa0 What I'm Listening to I was changing the oil in Caitlyn's car a few minutes ago, and I was listening to a Father's Day playlist. Here's a couple songs that will give your eyeballs a workout. The Man Who Loves You the Most  - Zac Brown Band The Best Day  - George Strait \\xa0 Quote of the Week “ Scripture tells us to envision that: 'Everyone shall sit under their own vine and fig tree, And no one shall make them afraid.' If we're to live up to our own time, then victory Won't lie in the blade, but in all the bridges we've made. That  is the promised glade, The hill we climb, if only we dare it: Because being American is more than a pride we inherit-- It's the past we step into and how we repair it. ” — Excerpt from The Hill We Climb, a poem by Amanda Gorman \\xa0 Dad Joke  of the Week Did you hear about the baker who was obsessed with his bread? He kneaded it all the time. Until next week, Corey \\xa0\""
      ]
     },
     "execution_count": 73,
     "metadata": {},
     "output_type": "execute_result"
    }
   ],
   "source": [
    "text_list = [t.text for t in texts]\n",
    "article = ' '.join(text_list)\n",
    "article"
   ]
  },
  {
   "cell_type": "code",
   "execution_count": 74,
   "id": "9bdcb76f-6d98-43ad-80f0-1b47a8ba9f51",
   "metadata": {},
   "outputs": [],
   "source": [
    "import prepare as p"
   ]
  },
  {
   "cell_type": "code",
   "execution_count": 75,
   "id": "5643a6e2-1cc4-4f58-924f-fc16c2829234",
   "metadata": {},
   "outputs": [
    {
     "data": {
      "text/plain": [
       "\"weekly wom 136 18 jun 2023 happy  father's day  all weird how there were two father's days this year   just kidding i guess i got myself a week ahead last week don't worry it's not my first mistake my ego has recovered    happenings in san antonio i brought home some pastries from  la panaderia  on friday codeup is in the same building as this restaurant and it's a wonder i haven't gained more weight these last four months so good the class ahead of mine graduated on friday which means the end is in sight then i'll have to finally grow up maybe and get a job in the meantime i am successfully procrastinating on that task while i look at things to do in indianapolis caitlyn curtis and i are taking a trip in august why indianapolis why not     what i'm reading my reading pace has slowed again because i've been wrapped up watching a show called  bosch  on amazon prime it's a detective show set in la the protagonist harry bosch reminds me a little bit of the pulp fiction detectives of 70 ish years ago like phillip marlowe and mike hammer different but similar  also  inside man  on netflix is a thinker only four episodes in this miniseries   what i'm listening to i was changing the oil in caitlyn's car a few minutes ago and i was listening to a father's day playlist here's a couple songs that will give your eyeballs a workout the man who loves you the most   zac brown band the best day   george strait   quote of the week  scripture tells us to envision that 'everyone shall sit under their own vine and fig tree and no one shall make them afraid' if we're to live up to our own time then victory won't lie in the blade but in all the bridges we've made that  is the promised glade the hill we climb if only we dare it because being american is more than a pride we inherit it's the past we step into and how we repair it   excerpt from the hill we climb a poem by amanda gorman   dad joke  of the week did you hear about the baker who was obsessed with his bread he kneaded it all the time until next week corey  \""
      ]
     },
     "execution_count": 75,
     "metadata": {},
     "output_type": "execute_result"
    }
   ],
   "source": [
    "clean_article = p.basic_clean(article)\n",
    "clean_article"
   ]
  },
  {
   "cell_type": "code",
   "execution_count": 76,
   "id": "7f7210bb-f768-4949-b003-267ecc9e75cc",
   "metadata": {},
   "outputs": [
    {
     "data": {
      "text/plain": [
       "\"weekly wom 136 18 jun 2023 happy father ' s day all weird how there were two father ' s days this year just kidding i guess i got myself a week ahead last week don ' t worry it ' s not my first mistake my ego has recovered happenings in san antonio i brought home some pastries from la panaderia on friday codeup is in the same building as this restaurant and it ' s a wonder i haven ' t gained more weight these last four months so good the class ahead of mine graduated on friday which means the end is in sight then i ' ll have to finally grow up maybe and get a job in the meantime i am successfully procrastinating on that task while i look at things to do in indianapolis caitlyn curtis and i are taking a trip in august why indianapolis why not what i ' m reading my reading pace has slowed again because i ' ve been wrapped up watching a show called bosch on amazon prime it ' s a detective show set in la the protagonist harry bosch reminds me a little bit of the pulp fiction detectives of 70 ish years ago like phillip marlowe and mike hammer different but similar also inside man on netflix is a thinker only four episodes in this miniseries what i ' m listening to i was changing the oil in caitlyn ' s car a few minutes ago and i was listening to a father ' s day playlist here ' s a couple songs that will give your eyeballs a workout the man who loves you the most zac brown band the best day george strait quote of the week scripture tells us to envision that ' everyone shall sit under their own vine and fig tree and no one shall make them afraid ' if we ' re to live up to our own time then victory won ' t lie in the blade but in all the bridges we ' ve made that is the promised glade the hill we climb if only we dare it because being american is more than a pride we inherit it ' s the past we step into and how we repair it excerpt from the hill we climb a poem by amanda gorman dad joke of the week did you hear about the baker who was obsessed with his bread he kneaded it all the time until next week corey\""
      ]
     },
     "execution_count": 76,
     "metadata": {},
     "output_type": "execute_result"
    }
   ],
   "source": [
    "tokenized_article = p.tokenize(clean_article)\n",
    "tokenized_article"
   ]
  },
  {
   "cell_type": "code",
   "execution_count": 77,
   "id": "d1078310-1fc5-45dd-9417-2f56a856d2c4",
   "metadata": {},
   "outputs": [
    {
     "data": {
      "text/plain": [
       "\"weekli wom 136 18 jun 2023 happi father ' s day all weird how there were two father ' s day thi year just kid i guess i got myself a week ahead last week don ' t worri it ' s not my first mistak my ego ha recov happen in san antonio i brought home some pastri from la panaderia on friday codeup is in the same build as thi restaur and it ' s a wonder i haven ' t gain more weight these last four month so good the class ahead of mine graduat on friday which mean the end is in sight then i ' ll have to final grow up mayb and get a job in the meantim i am success procrastin on that task while i look at thing to do in indianapoli caitlyn curti and i are take a trip in august whi indianapoli whi not what i ' m read my read pace ha slow again becaus i ' ve been wrap up watch a show call bosch on amazon prime it ' s a detect show set in la the protagonist harri bosch remind me a littl bit of the pulp fiction detect of 70 ish year ago like phillip marlow and mike hammer differ but similar also insid man on netflix is a thinker onli four episod in thi miniseri what i ' m listen to i wa chang the oil in caitlyn ' s car a few minut ago and i wa listen to a father ' s day playlist here ' s a coupl song that will give your eyebal a workout the man who love you the most zac brown band the best day georg strait quot of the week scriptur tell us to envis that ' everyon shall sit under their own vine and fig tree and no one shall make them afraid ' if we ' re to live up to our own time then victori won ' t lie in the blade but in all the bridg we ' ve made that is the promis glade the hill we climb if onli we dare it becaus be american is more than a pride we inherit it ' s the past we step into and how we repair it excerpt from the hill we climb a poem by amanda gorman dad joke of the week did you hear about the baker who wa obsess with hi bread he knead it all the time until next week corey\""
      ]
     },
     "execution_count": 77,
     "metadata": {},
     "output_type": "execute_result"
    }
   ],
   "source": [
    "stem_article = p.stem(tokenized_article)\n",
    "stem_article"
   ]
  },
  {
   "cell_type": "code",
   "execution_count": 78,
   "id": "bbaff6e7-ac26-4d18-aa32-e7ac0e848b27",
   "metadata": {},
   "outputs": [
    {
     "data": {
      "text/plain": [
       "\"weekly wom 136 18 jun 2023 happy father ' s day all weird how there were two father ' s day this year just kidding i guess i got myself a week ahead last week don ' t worry it ' s not my first mistake my ego ha recovered happening in san antonio i brought home some pastry from la panaderia on friday codeup is in the same building a this restaurant and it ' s a wonder i haven ' t gained more weight these last four month so good the class ahead of mine graduated on friday which mean the end is in sight then i ' ll have to finally grow up maybe and get a job in the meantime i am successfully procrastinating on that task while i look at thing to do in indianapolis caitlyn curtis and i are taking a trip in august why indianapolis why not what i ' m reading my reading pace ha slowed again because i ' ve been wrapped up watching a show called bosch on amazon prime it ' s a detective show set in la the protagonist harry bosch reminds me a little bit of the pulp fiction detective of 70 ish year ago like phillip marlowe and mike hammer different but similar also inside man on netflix is a thinker only four episode in this miniseries what i ' m listening to i wa changing the oil in caitlyn ' s car a few minute ago and i wa listening to a father ' s day playlist here ' s a couple song that will give your eyeball a workout the man who love you the most zac brown band the best day george strait quote of the week scripture tell u to envision that ' everyone shall sit under their own vine and fig tree and no one shall make them afraid ' if we ' re to live up to our own time then victory won ' t lie in the blade but in all the bridge we ' ve made that is the promised glade the hill we climb if only we dare it because being american is more than a pride we inherit it ' s the past we step into and how we repair it excerpt from the hill we climb a poem by amanda gorman dad joke of the week did you hear about the baker who wa obsessed with his bread he kneaded it all the time until next week corey\""
      ]
     },
     "execution_count": 78,
     "metadata": {},
     "output_type": "execute_result"
    }
   ],
   "source": [
    "lemma_article = p.lemmatize(tokenized_article)\n",
    "lemma_article"
   ]
  },
  {
   "cell_type": "code",
   "execution_count": 79,
   "id": "da582dab-44b7-418c-b4f8-0a06c8e0ee2a",
   "metadata": {},
   "outputs": [
    {
     "name": "stdout",
     "output_type": "stream",
     "text": [
      "Removed 207 stopwords.\n"
     ]
    },
    {
     "data": {
      "text/plain": [
       "\"weekly wom 136 18 jun 2023 happy father ' day weird two father ' day year kidding guess got week ahead last week ' worry ' first mistake ego ha recovered happening san antonio brought home pastry la panaderia friday codeup building restaurant ' wonder ' gained weight last four month good class ahead mine graduated friday mean end sight ' finally grow maybe get job meantime successfully procrastinating task look thing indianapolis caitlyn curtis taking trip august indianapolis ' reading reading pace ha slowed ' wrapped watching show called bosch amazon prime ' detective show set la protagonist harry bosch reminds little bit pulp fiction detective 70 ish year ago like phillip marlowe mike hammer different similar also inside man netflix thinker four episode miniseries ' listening wa changing oil caitlyn ' car minute ago wa listening father ' day playlist ' couple song give eyeball workout man love zac brown band best day george strait quote week scripture tell u envision ' everyone shall sit vine fig tree one shall make afraid ' ' live time victory ' lie blade bridge ' made promised glade hill climb dare american pride inherit ' past step repair excerpt hill climb poem amanda gorman dad joke week hear baker wa obsessed bread kneaded time next week corey\""
      ]
     },
     "execution_count": 79,
     "metadata": {},
     "output_type": "execute_result"
    }
   ],
   "source": [
    "no_stop_article = p.remove_stopwords(lemma_article)\n",
    "no_stop_article"
   ]
  },
  {
   "cell_type": "code",
   "execution_count": null,
   "id": "c36154e5-4e43-4e58-833c-074cc9d8f6ca",
   "metadata": {},
   "outputs": [],
   "source": []
  }
 ],
 "metadata": {
  "kernelspec": {
   "display_name": "Python 3 (ipykernel)",
   "language": "python",
   "name": "python3"
  },
  "language_info": {
   "codemirror_mode": {
    "name": "ipython",
    "version": 3
   },
   "file_extension": ".py",
   "mimetype": "text/x-python",
   "name": "python",
   "nbconvert_exporter": "python",
   "pygments_lexer": "ipython3",
   "version": "3.9.13"
  }
 },
 "nbformat": 4,
 "nbformat_minor": 5
}
