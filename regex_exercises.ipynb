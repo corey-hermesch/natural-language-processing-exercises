{
 "cells": [
  {
   "cell_type": "code",
   "execution_count": 2,
   "id": "3f2a31f9-f446-4b80-93cc-1a51d314c246",
   "metadata": {},
   "outputs": [],
   "source": [
    "import numpy as np\n",
    "import pandas as pd\n",
    "\n",
    "import re\n",
    "import datetime"
   ]
  },
  {
   "cell_type": "markdown",
   "id": "af40cee5-d07d-4f79-894e-2605ca918eff",
   "metadata": {},
   "source": [
    "# Exercises\n",
    "## 1. Write a function named is_vowel. It should accept a string as input and use a regular expression to determine if the passed string is a vowel. While not explicity mentioned in the lesson, you can treat the result of re.search as a boolean value that indicates whether or not the regular expression matches the given string."
   ]
  },
  {
   "cell_type": "code",
   "execution_count": 4,
   "id": "d1035d9e-dee1-4dd5-b83f-d41b5e2ac044",
   "metadata": {},
   "outputs": [],
   "source": [
    "vowel = 'a'\n",
    "consonant = 'g'\n",
    "cap_vowel = 'A'"
   ]
  },
  {
   "cell_type": "code",
   "execution_count": 5,
   "id": "1b7046c2-1cad-4145-b0dd-ccf0b6e4d641",
   "metadata": {},
   "outputs": [
    {
     "name": "stdout",
     "output_type": "stream",
     "text": [
      "I found a vowel\n"
     ]
    }
   ],
   "source": [
    "regexp = r'[aeiou]'\n",
    "if re.search(regexp, vowel):\n",
    "    print('I found a vowel')\n",
    "else:\n",
    "    print('no vowel found here')"
   ]
  },
  {
   "cell_type": "code",
   "execution_count": 10,
   "id": "e0fb8bd3-a18e-4131-a753-e309fc602bec",
   "metadata": {},
   "outputs": [],
   "source": [
    "def is_vowel(character):\n",
    "    \"\"\"\n",
    "    This function will\n",
    "    - accept a single character string\n",
    "    - return True if the character is a vowel, else False\n",
    "    \"\"\"\n",
    "    # character = character.lower()\n",
    "    # OR return bool(re.search(r'[aeiou], character))\n",
    "    if re.search(r'^[aeiou]&', character, re.IGNORECASE):\n",
    "        return True\n",
    "    else: \n",
    "        return False"
   ]
  },
  {
   "cell_type": "code",
   "execution_count": 11,
   "id": "bb569b2d-1937-4d46-a60e-10787a257550",
   "metadata": {},
   "outputs": [
    {
     "name": "stdout",
     "output_type": "stream",
     "text": [
      "False\n",
      "False\n",
      "False\n",
      "False\n"
     ]
    }
   ],
   "source": [
    "print(is_vowel(vowel))\n",
    "print(is_vowel(consonant))\n",
    "print(is_vowel(cap_vowel))\n",
    "print(is_vowel('aa'))"
   ]
  },
  {
   "cell_type": "code",
   "execution_count": 13,
   "id": "8aac7285-390d-41ac-9c4e-bc5cbd73d516",
   "metadata": {},
   "outputs": [
    {
     "data": {
      "text/plain": [
       "False"
      ]
     },
     "execution_count": 13,
     "metadata": {},
     "output_type": "execute_result"
    }
   ],
   "source": [
    "# why doesn't this work?\n",
    "bool(re.search(r'^[aeiou]&', 'a', re.IGNORECASE))"
   ]
  },
  {
   "cell_type": "code",
   "execution_count": 45,
   "id": "84db2086-a472-4984-a735-c8d8a9603355",
   "metadata": {},
   "outputs": [
    {
     "data": {
      "text/plain": [
       "True"
      ]
     },
     "execution_count": 45,
     "metadata": {},
     "output_type": "execute_result"
    }
   ],
   "source": [
    "regexp = r'^[aeiou].*'\n",
    "bool(re.search(regexp, 'a'))"
   ]
  },
  {
   "cell_type": "markdown",
   "id": "85333480-997a-4c2d-bf4e-134c9ecfd72c",
   "metadata": {},
   "source": [
    "## 2. Write a function named is_valid_username that accepts a string as input. A valid username starts with a lowercase letter, and only consists of lowercase letters, numbers, or the _ character. It should also be no longer than 32 characters. The function should return either True or False depending on whether the passed string is a valid username."
   ]
  },
  {
   "cell_type": "code",
   "execution_count": 22,
   "id": "f4cfa173-ff03-41d7-94cb-a6eaed24c0d0",
   "metadata": {},
   "outputs": [],
   "source": [
    "def is_valid_username(candidate_name):\n",
    "    \"\"\"\n",
    "    This function will\n",
    "    - accept a string, candidate_name\n",
    "    - return True if candidate_name is a valid username, else False\n",
    "    - valid usernames start with a lowercase letter and only consist of lowercase letters, numbers, or _ \n",
    "        AND are no longer than 32 characters.\n",
    "    \"\"\"\n",
    "    # test for string length > 32 first\n",
    "    if len(candidate_name) > 32: \n",
    "        return False\n",
    "    # test to see if string matches the requirements for a valid username\n",
    "    regexp = r'\\b[a-z][\\w|_]*'\n",
    "    if re.search(regexp, candidate_name):\n",
    "        return True\n",
    "    else:\n",
    "        return False"
   ]
  },
  {
   "cell_type": "code",
   "execution_count": 23,
   "id": "9d41a91a-fe3d-40de-b888-801011f3f4e2",
   "metadata": {},
   "outputs": [],
   "source": [
    "def is_valid_username2(candidate_name):\n",
    "    \"\"\"\n",
    "    This function will\n",
    "    - accept a string, candidate_name\n",
    "    - return True if candidate_name is a valid username, else False\n",
    "    - valid usernames start with a lowercase letter and only consist of lowercase letters, numbers, or _ \n",
    "        AND are no longer than 32 characters.\n",
    "    \"\"\"\n",
    "    \n",
    "    return (bool(re.search(r'[a-z][a-z0-9_]{0-31}', candidate_name)))"
   ]
  },
  {
   "cell_type": "code",
   "execution_count": 24,
   "id": "27dbb220-ab38-49e0-b1eb-e96090747459",
   "metadata": {},
   "outputs": [],
   "source": [
    "c1 = 'aaaaaaaaaaaaaaaaaaaaaaaaaaaaaaaaaaaaaaaaaaaaaaaaaaaaaa'\n",
    "c2 = 'codeup'\n",
    "c3 = 'Codeup'\n",
    "c4 = 'codeup123'\n",
    "c5 = '1codeup'\n",
    "c6 = 'codeup_crazy'\n",
    "c_list = [c1,c2,c3,c4,c5,c6]"
   ]
  },
  {
   "cell_type": "code",
   "execution_count": 25,
   "id": "1d11cac3-c78e-4734-ada4-bc37d4bd4dbe",
   "metadata": {},
   "outputs": [
    {
     "name": "stdout",
     "output_type": "stream",
     "text": [
      "aaaaaaaaaaaaaaaaaaaaaaaaaaaaaaaaaaaaaaaaaaaaaaaaaaaaaa : False\n",
      "codeup : False\n",
      "Codeup : False\n",
      "codeup123 : False\n",
      "1codeup : False\n",
      "codeup_crazy : False\n"
     ]
    }
   ],
   "source": [
    "# regexp = r'\\b[a-z][\\w|_]*'\n",
    "for c in c_list:\n",
    "    print(f'{c} : {is_valid_username2(c)}')"
   ]
  },
  {
   "cell_type": "markdown",
   "id": "da06af4b-ac2e-4c3f-addf-1790501b407b",
   "metadata": {},
   "source": [
    "## 3. Write a regular expression to capture phone numbers. It should match all of the following: \n",
    "- (210) 867 5309\n",
    "- +1 210.867.5309\n",
    "- 867-5309\n",
    "- 210-867-5309"
   ]
  },
  {
   "cell_type": "code",
   "execution_count": 28,
   "id": "c3c4a5ee-e278-4d21-aeb7-d19b392484d6",
   "metadata": {},
   "outputs": [],
   "source": [
    "numbers = ['(210) 867 5309', '+1 210.867.5309', '867-5309', '210-867-5309', '+49 0888 3539']"
   ]
  },
  {
   "cell_type": "code",
   "execution_count": 29,
   "id": "cc6b229f-ee30-4552-a86a-18a5a4ba553e",
   "metadata": {},
   "outputs": [],
   "source": [
    "def capture_valid_usa_phone_number(phone_number_string):\n",
    "    \"\"\"\n",
    "    This function will\n",
    "    - accept a string, phone_number_string\n",
    "    - test if it is a valid US phone number\n",
    "    - return the integer of the number if it is valid, -1 if it is not valid\n",
    "    \"\"\"\n",
    "    # simplest way is to remove all non-digits and check the length of the string\n",
    "    # there are very likely edge cases that could bust this, but it works for the test data\n",
    "    digits = re.sub(r'\\D', '', phone_number_string)\n",
    "    if (len(digits) == 11) and (digits[0]=='1'):\n",
    "        return int(digits[1:])\n",
    "    elif (len(digits) == 7) or (len(digits) == 10):\n",
    "        return int(digits)\n",
    "    else:\n",
    "        return -1\n",
    "    "
   ]
  },
  {
   "cell_type": "code",
   "execution_count": 30,
   "id": "cf22f60f-c949-43b7-9219-86cd6cf3bb4f",
   "metadata": {},
   "outputs": [
    {
     "name": "stdout",
     "output_type": "stream",
     "text": [
      "2108675309\n",
      "\n",
      "2108675309\n",
      "\n",
      "8675309\n",
      "\n",
      "2108675309\n",
      "\n",
      "4908883539\n",
      "\n"
     ]
    }
   ],
   "source": [
    "for n in numbers:\n",
    "    print(capture_valid_usa_phone_number(n))\n",
    "    print()"
   ]
  },
  {
   "cell_type": "code",
   "execution_count": 36,
   "id": "6ead0297-22e1-4984-bcc6-8a7749d3fd53",
   "metadata": {},
   "outputs": [
    {
     "name": "stdout",
     "output_type": "stream",
     "text": [
      "['(210) 867 5309']\n",
      "['+1 210.867.5309']\n",
      "['867-5309']\n",
      "['210-867-5309']\n",
      "['+49 0888 3539']\n"
     ]
    }
   ],
   "source": [
    "# Misty's solution\n",
    "for n in numbers:\n",
    "    print(re.findall(r'.+\\d+.?.\\d+.\\d+$', n))"
   ]
  },
  {
   "cell_type": "markdown",
   "id": "70bfdf61-952f-4f11-a850-f87753592650",
   "metadata": {},
   "source": [
    "## 4. Use regular expressions to convert the dates below to the standardized year-month-day format"
   ]
  },
  {
   "cell_type": "code",
   "execution_count": 59,
   "id": "410d1592-40d9-4ccf-95a6-b3ebedf27dd2",
   "metadata": {},
   "outputs": [],
   "source": [
    "dates = ['02/04/19', '02/05/19', '02/06/19', '02/07/19', '02/08/19', '02/09/19', '02/10/19']"
   ]
  },
  {
   "cell_type": "code",
   "execution_count": 64,
   "id": "d18c43a6-5865-4397-9eec-68d360d5f4ce",
   "metadata": {},
   "outputs": [
    {
     "data": {
      "text/plain": [
       "'2019-02-04'"
      ]
     },
     "execution_count": 64,
     "metadata": {},
     "output_type": "execute_result"
    }
   ],
   "source": [
    "regexp = r'(\\d\\d).(\\d\\d).(\\d\\d)'\n",
    "m, d, y = re.search(regexp, dates[0]).groups()\n",
    "yyyymmdd = '20' + y + '-' + m + '-' + d\n",
    "yyyymmdd"
   ]
  },
  {
   "cell_type": "code",
   "execution_count": 75,
   "id": "0c2c0974-33b8-4f01-9709-e3945c1d8da1",
   "metadata": {},
   "outputs": [],
   "source": [
    "def convert_mm_dd_yy(date):\n",
    "    \"\"\"\n",
    "    This function will\n",
    "    - accept a string in the format 'mm/dd/yy'\n",
    "    - convert it to a string of the form 'yyyy-mm-dd' and return that string\n",
    "    \"\"\"\n",
    "    # set a variable with the regular expression we are searching for\n",
    "    regexp = r'(\\d\\d).(\\d\\d).(\\d\\d)'\n",
    "    # parse out the 2-digit month/day/year\n",
    "    m, d, y = re.search(regexp, date).groups()\n",
    "    # \n",
    "    \n",
    "    yyyymmdd = '20' + y + '-' + m + '-' + d\n",
    "    return yyyymmdd"
   ]
  },
  {
   "cell_type": "code",
   "execution_count": 77,
   "id": "9cefe56f-390f-48d7-a7dd-4ffcaa034b31",
   "metadata": {},
   "outputs": [
    {
     "name": "stdout",
     "output_type": "stream",
     "text": [
      "2019-02-04\n",
      "2019-02-05\n",
      "2019-02-06\n",
      "2019-02-07\n",
      "2019-02-08\n",
      "2019-02-09\n",
      "2019-02-10\n"
     ]
    }
   ],
   "source": [
    "for date in dates:\n",
    "    print(convert_mm_dd_yy(date))"
   ]
  },
  {
   "cell_type": "code",
   "execution_count": null,
   "id": "0effc6dd-4fae-4969-ad0f-fdc4f33bd1f0",
   "metadata": {},
   "outputs": [],
   "source": [
    "# see Misty's code for a way to pull out groups of a regexp with \\1, \\2, \\3 being the first\n",
    "# second, third groups"
   ]
  },
  {
   "cell_type": "code",
   "execution_count": 78,
   "id": "ee8248b9-91cb-44ca-bf16-85c08c290640",
   "metadata": {},
   "outputs": [
    {
     "data": {
      "text/plain": [
       "'2023-06-16'"
      ]
     },
     "execution_count": 78,
     "metadata": {},
     "output_type": "execute_result"
    }
   ],
   "source": [
    "# just playing a little\n",
    "year = str(datetime.date.today())\n",
    "year"
   ]
  },
  {
   "cell_type": "markdown",
   "id": "cd4b926c-cbf0-4a80-9f03-f1e8a53223dc",
   "metadata": {},
   "source": [
    "# 5. Write a regex to extract the various parts of these logfile lines:"
   ]
  },
  {
   "cell_type": "markdown",
   "id": "9352c285-9086-4f2f-b269-ae6b6ef35132",
   "metadata": {},
   "source": [
    "GET /api/v1/sales?page=86 [16/Apr/2019:193452+0000] HTTP/1.1 {200} 510348 \"python-requests/2.21.0\" 97.105.19.58\n",
    "\n",
    "\n",
    "POST /users_accounts/file-upload [16/Apr/2019:193452+0000] HTTP/1.1 {201} 42 \"User-Agent: Mozilla/5.0 (X11; Fedora; Fedora; Linux x86_64) AppleWebKit/537.36 (KHTML, like Gecko) Chrome/73.0.3683.86 Safari/537.36\" 97.105.19.58\n",
    "\n",
    "\n",
    "GET /api/v1/items?page=3 [16/Apr/2019:193453+0000] HTTP/1.1 {429} 3561 \"python-requests/2.21.0\" 97.105.19.58\n"
   ]
  },
  {
   "cell_type": "code",
   "execution_count": 79,
   "id": "47067c0c-9f63-4f16-a6a6-9dd4e8f61fc1",
   "metadata": {},
   "outputs": [],
   "source": [
    "log1 = 'GET /api/v1/sales?page=86 [16/Apr/2019:193452+0000] HTTP/1.1 {200} 510348 \"python-requests/2.21.0\" 97.105.19.58'"
   ]
  },
  {
   "cell_type": "code",
   "execution_count": 80,
   "id": "3fc56499-892b-4a0a-9608-1c20de41508d",
   "metadata": {},
   "outputs": [],
   "source": [
    "log2 = 'POST /users_accounts/file-upload [16/Apr/2019:193452+0000] HTTP/1.1 {201} 42 \"User-Agent: Mozilla/5.0 (X11; Fedora; Fedora; Linux x86_64) AppleWebKit/537.36 (KHTML, like Gecko) Chrome/73.0.3683.86 Safari/537.36\" 97.105.19.58'"
   ]
  },
  {
   "cell_type": "code",
   "execution_count": 81,
   "id": "5d0a87ab-50b9-4b31-aad2-e2d3599956de",
   "metadata": {},
   "outputs": [],
   "source": [
    "log3 = 'GET /api/v1/items?page=3 [16/Apr/2019:193453+0000] HTTP/1.1 {429} 3561 \"python-requests/2.21.0\" 97.105.19.58'"
   ]
  },
  {
   "cell_type": "code",
   "execution_count": 101,
   "id": "b878a637-6f2a-45de-b0de-dff71ddaf9b0",
   "metadata": {},
   "outputs": [
    {
     "data": {
      "text/plain": [
       "('GET',\n",
       " '/api/v1/sales?page=86',\n",
       " '16/Apr/2019:193452+0000',\n",
       " 'HTTP/1.1',\n",
       " '200',\n",
       " '510348',\n",
       " 'python-requests/2.21.0',\n",
       " '97.105.19.58')"
      ]
     },
     "execution_count": 101,
     "metadata": {},
     "output_type": "execute_result"
    }
   ],
   "source": [
    "regexp = r'([A-Z]+)\\s(\\/.+?)\\s\\[(.+?)\\]\\s(.+?)\\s\\{(.+?)\\}\\s(\\d+)\\s\"(.+?)\"\\s(\\d+\\.\\d+\\.\\d+\\.\\d+)'\n",
    "answers = re.search(regexp, log1).groups()\n",
    "answers"
   ]
  },
  {
   "cell_type": "code",
   "execution_count": 106,
   "id": "7f9a8dad-4bc2-4395-b624-034b4c2a3f4b",
   "metadata": {},
   "outputs": [],
   "source": [
    "def parse_logfile_line(log_line):\n",
    "    \"\"\"\n",
    "    This function will\n",
    "    - accept a string which contains a logfile line similar to this:\n",
    "    GET /api/v1/sales?page=86 [16/Apr/2019:193452+0000] HTTP/1.1 {200} 510348 \"python-requests/2.21.0\" 97.105.19.58\n",
    "    - breaks apart that string into 8 things\n",
    "        - command, e.g. GET/POST/etc.\n",
    "        - page, e.g. /api/v1/sales?page=86\n",
    "        - date, e.g. 16/Apr/2019:193452+0000\n",
    "        - protocol/version, e.g. HTTP/1.1\n",
    "        - network code, e.g. 200\n",
    "        - some number, e.g. 510348\n",
    "        - another page, e.g. python-requests/2.21.0\n",
    "        - IP address, e.g. 97.105.19.58\n",
    "    \"\"\"\n",
    "    # set regular expression to use \n",
    "    regexp = r'([A-Z]+)\\s(\\/.+?)\\s\\[(.+?)\\]\\s(.+?)\\s\\{(.+?)\\}\\s(\\d+)\\s\"(.+?)\"\\s(\\d+\\.\\d+\\.\\d+\\.\\d+)'\n",
    "    \n",
    "    answers = re.search(regexp, log_line).groups()\n",
    "    return answers"
   ]
  },
  {
   "cell_type": "code",
   "execution_count": 107,
   "id": "6eff12e9-ef11-461e-b4aa-111ae6f1d100",
   "metadata": {},
   "outputs": [
    {
     "data": {
      "text/plain": [
       "('GET',\n",
       " '/api/v1/sales?page=86',\n",
       " '16/Apr/2019:193452+0000',\n",
       " 'HTTP/1.1',\n",
       " '200',\n",
       " '510348',\n",
       " 'python-requests/2.21.0',\n",
       " '97.105.19.58')"
      ]
     },
     "execution_count": 107,
     "metadata": {},
     "output_type": "execute_result"
    }
   ],
   "source": [
    "parse_logfile_line(log1)"
   ]
  },
  {
   "cell_type": "code",
   "execution_count": 108,
   "id": "607197a1-b7d1-41c9-9a8a-b9dca1a6e2f7",
   "metadata": {},
   "outputs": [
    {
     "data": {
      "text/plain": [
       "('POST',\n",
       " '/users_accounts/file-upload',\n",
       " '16/Apr/2019:193452+0000',\n",
       " 'HTTP/1.1',\n",
       " '201',\n",
       " '42',\n",
       " 'User-Agent: Mozilla/5.0 (X11; Fedora; Fedora; Linux x86_64) AppleWebKit/537.36 (KHTML, like Gecko) Chrome/73.0.3683.86 Safari/537.36',\n",
       " '97.105.19.58')"
      ]
     },
     "execution_count": 108,
     "metadata": {},
     "output_type": "execute_result"
    }
   ],
   "source": [
    "parse_logfile_line(log2)"
   ]
  },
  {
   "cell_type": "code",
   "execution_count": 109,
   "id": "abf2dd5e-757e-460a-9670-d2b04d694703",
   "metadata": {},
   "outputs": [
    {
     "data": {
      "text/plain": [
       "('GET',\n",
       " '/api/v1/items?page=3',\n",
       " '16/Apr/2019:193453+0000',\n",
       " 'HTTP/1.1',\n",
       " '429',\n",
       " '3561',\n",
       " 'python-requests/2.21.0',\n",
       " '97.105.19.58')"
      ]
     },
     "execution_count": 109,
     "metadata": {},
     "output_type": "execute_result"
    }
   ],
   "source": [
    "parse_logfile_line(log3)"
   ]
  },
  {
   "cell_type": "markdown",
   "id": "b1f98193-2001-462c-b79a-1de4b37e607a",
   "metadata": {},
   "source": [
    "## Bonus - You can find a list of words on your mac at /usr/share/dict/words.  Use this file to answer the following questions:"
   ]
  },
  {
   "cell_type": "code",
   "execution_count": 110,
   "id": "ef804fa8-a684-499e-9876-149038cdccdb",
   "metadata": {},
   "outputs": [],
   "source": [
    "import os"
   ]
  },
  {
   "cell_type": "code",
   "execution_count": 111,
   "id": "2af6e156-2694-476e-8cb2-9f122744157c",
   "metadata": {},
   "outputs": [],
   "source": [
    "# found the file\n",
    "filename = '/usr/share/dict/words'"
   ]
  },
  {
   "cell_type": "code",
   "execution_count": 147,
   "id": "bd92022f-3182-4131-9c46-88705c05138c",
   "metadata": {},
   "outputs": [],
   "source": [
    "# open and read the file\n",
    "with open(filename, mode='r') as f:\n",
    "    words = f.read()"
   ]
  },
  {
   "cell_type": "code",
   "execution_count": 148,
   "id": "7d0674ff-66af-4fac-832f-bf667451bde4",
   "metadata": {},
   "outputs": [],
   "source": [
    "# separate words into a list by finding all \\w characters in a row\n",
    "words_list = re.findall(r'\\w+', words)"
   ]
  },
  {
   "cell_type": "code",
   "execution_count": 149,
   "id": "07eb586d-c54c-4d8d-9d61-9f29c730359a",
   "metadata": {},
   "outputs": [
    {
     "data": {
      "text/plain": [
       "['zymotoxic',\n",
       " 'zymurgy',\n",
       " 'Zyrenian',\n",
       " 'Zyrian',\n",
       " 'Zyryan',\n",
       " 'zythem',\n",
       " 'Zythia',\n",
       " 'zythum',\n",
       " 'Zyzomys',\n",
       " 'Zyzzogeton']"
      ]
     },
     "execution_count": 149,
     "metadata": {},
     "output_type": "execute_result"
    }
   ],
   "source": [
    "words_list[-10:]"
   ]
  },
  {
   "cell_type": "code",
   "execution_count": 150,
   "id": "2050ef2a-9b9c-4ad2-9bc7-338b2a4f3629",
   "metadata": {
    "tags": []
   },
   "outputs": [
    {
     "data": {
      "text/plain": [
       "235978"
      ]
     },
     "execution_count": 150,
     "metadata": {},
     "output_type": "execute_result"
    }
   ],
   "source": [
    "# how many words are there\n",
    "len(words_list)"
   ]
  },
  {
   "cell_type": "markdown",
   "id": "00e87646-c6a6-41b6-a45a-8421586a8f14",
   "metadata": {},
   "source": [
    "## Bonus 1: How many words have at least 3 vowels?"
   ]
  },
  {
   "cell_type": "code",
   "execution_count": 151,
   "id": "4efebef9-e8e1-4cd8-bf13-e9684c6d4c13",
   "metadata": {},
   "outputs": [
    {
     "data": {
      "text/plain": [
       "191423"
      ]
     },
     "execution_count": 151,
     "metadata": {},
     "output_type": "execute_result"
    }
   ],
   "source": [
    "word_count = 0\n",
    "for word in words_list:\n",
    "    counter = 0\n",
    "    for c in word:\n",
    "        counter += is_vowel(c)\n",
    "    if counter >=3: word_count += 1\n",
    "word_count"
   ]
  },
  {
   "cell_type": "markdown",
   "id": "810ced9b-5c45-44a8-b650-548411db9228",
   "metadata": {},
   "source": [
    "## Bonus 2: How many words have at least 3 vowels in a row?"
   ]
  },
  {
   "cell_type": "code",
   "execution_count": 159,
   "id": "124a3abb-146d-4144-848b-cadb38d4e1ae",
   "metadata": {},
   "outputs": [
    {
     "data": {
      "text/plain": [
       "['A', 'a', 'aa', 'aal', 'aalii']"
      ]
     },
     "execution_count": 159,
     "metadata": {},
     "output_type": "execute_result"
    }
   ],
   "source": [
    "words_list[:5]"
   ]
  },
  {
   "cell_type": "code",
   "execution_count": 158,
   "id": "75ec7107-ad99-4fdb-9806-bf6cf31598c2",
   "metadata": {},
   "outputs": [
    {
     "data": {
      "text/plain": [
       "6183"
      ]
     },
     "execution_count": 158,
     "metadata": {},
     "output_type": "execute_result"
    }
   ],
   "source": [
    "three_in_a_row_count = 0\n",
    "regexp = r'[aeiouAEIOU]{3,}'\n",
    "for word in words_list:\n",
    "    if re.search(regexp, word): three_in_a_row_count += 1\n",
    "\n",
    "three_in_a_row_count"
   ]
  },
  {
   "cell_type": "markdown",
   "id": "6d8cfd10-af47-4840-8dd6-25020769b8cf",
   "metadata": {},
   "source": [
    "## Bonus 3: How many words have at least 4 consonants in a row?"
   ]
  },
  {
   "cell_type": "code",
   "execution_count": 170,
   "id": "8620add6-0b92-40ad-84c1-eedd8f905719",
   "metadata": {},
   "outputs": [
    {
     "data": {
      "text/plain": [
       "['tchl']"
      ]
     },
     "execution_count": 170,
     "metadata": {},
     "output_type": "execute_result"
    }
   ],
   "source": [
    "# testing\n",
    "temp1 = 'Pitchlike'\n",
    "temp2 = 'after'\n",
    "regexp = r'[^aeiouAEIOU\\s\\.]{4,}'\n",
    "re.findall(regexp, temp1)"
   ]
  },
  {
   "cell_type": "code",
   "execution_count": 171,
   "id": "36adc8c3-1d2f-420b-bf13-4fb263b7c2cf",
   "metadata": {},
   "outputs": [
    {
     "data": {
      "text/plain": [
       "19241"
      ]
     },
     "execution_count": 171,
     "metadata": {},
     "output_type": "execute_result"
    }
   ],
   "source": [
    "# answer\n",
    "four_c_in_a_row = 0\n",
    "regexp = r'[^aeiouAEIOU]{4,}'\n",
    "for word in words_list:\n",
    "    if re.search(regexp, word): four_c_in_a_row += 1\n",
    "\n",
    "four_c_in_a_row"
   ]
  },
  {
   "cell_type": "markdown",
   "id": "3ccabfde-f6d0-4c1b-baf9-e311fa70f71d",
   "metadata": {},
   "source": [
    "## Bonus 4: How many words start and end with the same letter?"
   ]
  },
  {
   "cell_type": "code",
   "execution_count": 172,
   "id": "57e8db65-4e5b-4c43-a05e-fdfbd4339595",
   "metadata": {},
   "outputs": [
    {
     "data": {
      "text/plain": [
       "9973"
      ]
     },
     "execution_count": 172,
     "metadata": {},
     "output_type": "execute_result"
    }
   ],
   "source": [
    "start_end_count = 0\n",
    "for word in words_list:\n",
    "    if word[0] == word[-1]: start_end_count += 1\n",
    "    \n",
    "start_end_count"
   ]
  },
  {
   "cell_type": "markdown",
   "id": "2b03d198-494f-474c-888a-23db1f86e97d",
   "metadata": {},
   "source": [
    "## Bonus 5: How many words start and end with a vowel?"
   ]
  },
  {
   "cell_type": "code",
   "execution_count": 186,
   "id": "6364f45c-ff18-40e1-a880-b19b4dc76371",
   "metadata": {},
   "outputs": [
    {
     "data": {
      "text/plain": [
       "[]"
      ]
     },
     "execution_count": 186,
     "metadata": {},
     "output_type": "execute_result"
    }
   ],
   "source": [
    "# testing\n",
    "temp1 = 'aether'\n",
    "temp2 = 'abba'\n",
    "temp3 = 'I'\n",
    "regexp = r'[aeiouAEIOU]\\w*[aeiouAEIOU]\\b'\n",
    "re.findall(regexp, temp3)"
   ]
  },
  {
   "cell_type": "code",
   "execution_count": 1,
   "id": "2e7531fc-8532-496b-b91a-9ad19afea6c0",
   "metadata": {},
   "outputs": [
    {
     "ename": "NameError",
     "evalue": "name 're' is not defined",
     "output_type": "error",
     "traceback": [
      "\u001b[0;31m---------------------------------------------------------------------------\u001b[0m",
      "\u001b[0;31mNameError\u001b[0m                                 Traceback (most recent call last)",
      "Input \u001b[0;32mIn [1]\u001b[0m, in \u001b[0;36m<cell line: 6>\u001b[0;34m()\u001b[0m\n\u001b[1;32m      4\u001b[0m temp3 \u001b[38;5;241m=\u001b[39m \u001b[38;5;124m'\u001b[39m\u001b[38;5;124mI\u001b[39m\u001b[38;5;124m'\u001b[39m\n\u001b[1;32m      5\u001b[0m regexp \u001b[38;5;241m=\u001b[39m \u001b[38;5;124mr\u001b[39m\u001b[38;5;124m'\u001b[39m\u001b[38;5;124m\\\u001b[39m\u001b[38;5;124mb[aeiouAEIOU]\u001b[39m\u001b[38;5;124m\\\u001b[39m\u001b[38;5;124mb\u001b[39m\u001b[38;5;124m'\u001b[39m\n\u001b[0;32m----> 6\u001b[0m \u001b[43mre\u001b[49m\u001b[38;5;241m.\u001b[39mfindall(regexp, temp2)\n",
      "\u001b[0;31mNameError\u001b[0m: name 're' is not defined"
     ]
    }
   ],
   "source": [
    "# testing\n",
    "temp1 = 'aether'\n",
    "temp2 = 'abba'\n",
    "temp3 = 'I'\n",
    "regexp = r'\\b[aeiouAEIOU]\\b'\n",
    "re.findall(regexp, temp2)"
   ]
  },
  {
   "cell_type": "code",
   "execution_count": 190,
   "id": "17df100f-cea2-4710-8eb9-06ce57704f7a",
   "metadata": {},
   "outputs": [
    {
     "data": {
      "text/plain": [
       "61316"
      ]
     },
     "execution_count": 190,
     "metadata": {},
     "output_type": "execute_result"
    }
   ],
   "source": [
    "start_end_vowel_count = 0\n",
    "for word in words_list:\n",
    "    if (re.search(r'[aeiouAEIOU]\\w*[aeiouAEIOU]\\b', word)) or (re.search(r'\\b[aeiouAEIOU]\\b', word)):\n",
    "        start_end_vowel_count += 1\n",
    "start_end_vowel_count"
   ]
  },
  {
   "cell_type": "code",
   "execution_count": null,
   "id": "e8408db8-c46c-49bd-a75b-d968ce28b7c7",
   "metadata": {},
   "outputs": [],
   "source": []
  }
 ],
 "metadata": {
  "kernelspec": {
   "display_name": "Python 3 (ipykernel)",
   "language": "python",
   "name": "python3"
  },
  "language_info": {
   "codemirror_mode": {
    "name": "ipython",
    "version": 3
   },
   "file_extension": ".py",
   "mimetype": "text/x-python",
   "name": "python",
   "nbconvert_exporter": "python",
   "pygments_lexer": "ipython3",
   "version": "3.9.13"
  }
 },
 "nbformat": 4,
 "nbformat_minor": 5
}
