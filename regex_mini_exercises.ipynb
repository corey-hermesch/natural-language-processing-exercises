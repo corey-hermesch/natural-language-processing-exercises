{
 "cells": [
  {
   "cell_type": "markdown",
   "id": "607114a4-e9e9-4a99-aa18-270f1203788b",
   "metadata": {},
   "source": [
    "# Mini Exercises w/ Regular Expression (regex)"
   ]
  },
  {
   "cell_type": "code",
   "execution_count": 1,
   "id": "641d90f8-23e9-4d44-9d0f-faee5f91f12f",
   "metadata": {},
   "outputs": [],
   "source": [
    "import re"
   ]
  },
  {
   "cell_type": "code",
   "execution_count": 2,
   "id": "ab75af72-50e1-4446-ab0c-a4cb0416b106",
   "metadata": {},
   "outputs": [],
   "source": [
    "subject = 'c 1'"
   ]
  },
  {
   "cell_type": "code",
   "execution_count": 4,
   "id": "f7da7751-2e94-4f76-a6e4-69c40319837c",
   "metadata": {},
   "outputs": [
    {
     "data": {
      "text/plain": [
       "['c 1']"
      ]
     },
     "execution_count": 4,
     "metadata": {},
     "output_type": "execute_result"
    }
   ],
   "source": [
    "regexp = r'...'\n",
    "re.findall(regexp, subject)"
   ]
  },
  {
   "cell_type": "code",
   "execution_count": 5,
   "id": "70162be1-8534-468d-a14b-ba04e6062034",
   "metadata": {},
   "outputs": [
    {
     "data": {
      "text/plain": [
       "['c 1']"
      ]
     },
     "execution_count": 5,
     "metadata": {},
     "output_type": "execute_result"
    }
   ],
   "source": [
    "regexp = r'\\w\\s\\w'\n",
    "re.findall(regexp, subject)"
   ]
  },
  {
   "cell_type": "code",
   "execution_count": 6,
   "id": "3b9a0213-7465-449c-b890-ef3ea968e082",
   "metadata": {},
   "outputs": [
    {
     "data": {
      "text/plain": [
       "['c 1']"
      ]
     },
     "execution_count": 6,
     "metadata": {},
     "output_type": "execute_result"
    }
   ],
   "source": [
    "regexp = r'\\D\\D\\d'\n",
    "re.findall(regexp, subject)"
   ]
  },
  {
   "cell_type": "code",
   "execution_count": 7,
   "id": "ee6b7ad3-84bc-4663-bb80-2df4dbfd0f4a",
   "metadata": {},
   "outputs": [
    {
     "data": {
      "text/plain": [
       "['c 1']"
      ]
     },
     "execution_count": 7,
     "metadata": {},
     "output_type": "execute_result"
    }
   ],
   "source": [
    "regexp = r'\\w\\W\\w'\n",
    "re.findall(regexp, subject)"
   ]
  },
  {
   "cell_type": "code",
   "execution_count": 8,
   "id": "e42636b9-dd1e-438a-b96a-5623e3e8ceff",
   "metadata": {},
   "outputs": [
    {
     "data": {
      "text/plain": [
       "['c 1']"
      ]
     },
     "execution_count": 8,
     "metadata": {},
     "output_type": "execute_result"
    }
   ],
   "source": [
    "regexp = r'\\D\\s\\d'\n",
    "re.findall(regexp, subject)"
   ]
  },
  {
   "cell_type": "code",
   "execution_count": 11,
   "id": "08de52dc-7b85-4233-8beb-4b672afbfb18",
   "metadata": {},
   "outputs": [
    {
     "data": {
      "text/plain": [
       "'c 1'"
      ]
     },
     "execution_count": 11,
     "metadata": {},
     "output_type": "execute_result"
    }
   ],
   "source": [
    "l = list(subject)\n",
    "n=''\n",
    "for c in l:\n",
    "    n+=c\n",
    "n"
   ]
  },
  {
   "cell_type": "code",
   "execution_count": null,
   "id": "1939971a-4933-46dc-a5ba-293ce164b793",
   "metadata": {},
   "outputs": [],
   "source": []
  },
  {
   "cell_type": "markdown",
   "id": "64a15e3d-4382-4df5-900a-f1ed038897bc",
   "metadata": {},
   "source": [
    "# Mini exercise 2"
   ]
  },
  {
   "cell_type": "code",
   "execution_count": null,
   "id": "ddbfb543-57f3-43ca-a578-42cfb1c26e78",
   "metadata": {},
   "outputs": [],
   "source": []
  },
  {
   "cell_type": "code",
   "execution_count": 13,
   "id": "370cf0d2-4c12-4204-8bdf-5a870a5da1a1",
   "metadata": {},
   "outputs": [
    {
     "data": {
      "text/plain": [
       "'Codeup, founded in 2014, is located at 600 Navarro St. Suite 350, San Antonio, TX 78230. tagline: \"launch your career in tech!\" You can find us online at http://codeup.com and our alumni portal is located at https://alumni.codeup.comand \"codeup is a great school\"!'"
      ]
     },
     "execution_count": 13,
     "metadata": {},
     "output_type": "execute_result"
    }
   ],
   "source": [
    "subject = '''\n",
    "Codeup, founded in 2014, is located at 600 Navarro St. \n",
    "Suite 350, San Antonio, TX 78230. \n",
    "tagline: \"launch your career in tech!\" \n",
    "You can find us online at http://codeup.com \n",
    "and our alumni portal is located at https://alumni.codeup.com\n",
    "and \"codeup is a great school\"!\n",
    "'''\n",
    "\n",
    "subject = subject.replace('\\n','')\n",
    "subject"
   ]
  },
  {
   "cell_type": "code",
   "execution_count": 37,
   "id": "43ec64d9-25ac-40bb-a65c-6c4ce757ffe1",
   "metadata": {},
   "outputs": [
    {
     "data": {
      "text/plain": [
       "['2014', '600', '350', '78230']"
      ]
     },
     "execution_count": 37,
     "metadata": {},
     "output_type": "execute_result"
    }
   ],
   "source": [
    "# 1. find all the numbers\n",
    "regexp = r'\\d+'\n",
    "re.findall(regexp, subject)"
   ]
  },
  {
   "cell_type": "code",
   "execution_count": 16,
   "id": "57869894-a30e-4f18-b731-f76e22626161",
   "metadata": {},
   "outputs": [
    {
     "data": {
      "text/plain": [
       "['78230']"
      ]
     },
     "execution_count": 16,
     "metadata": {},
     "output_type": "execute_result"
    }
   ],
   "source": [
    "#2. find the number that has exactly 5 digits\n",
    "regexp = r'\\d{5}'\n",
    "re.findall(regexp, subject)"
   ]
  },
  {
   "cell_type": "code",
   "execution_count": 17,
   "id": "da176ea9-ed40-4cf2-ae8a-9f657e609821",
   "metadata": {},
   "outputs": [
    {
     "data": {
      "text/plain": [
       "['2014', '78230']"
      ]
     },
     "execution_count": 17,
     "metadata": {},
     "output_type": "execute_result"
    }
   ],
   "source": [
    "#3. find the numbers that have 4 or more digits\n",
    "regexp = r'\\d{4}\\d*'\n",
    "re.findall(regexp, subject)"
   ]
  },
  {
   "cell_type": "code",
   "execution_count": 38,
   "id": "e1f79e0f-ed95-44f0-8cdf-6c88e081d671",
   "metadata": {},
   "outputs": [
    {
     "data": {
      "text/plain": [
       "['2014', '78230']"
      ]
     },
     "execution_count": 38,
     "metadata": {},
     "output_type": "execute_result"
    }
   ],
   "source": [
    "#3. find the numbers that have 4 or more digits\n",
    "regexp = r'\\d{4,}'\n",
    "re.findall(regexp, subject)"
   ]
  },
  {
   "cell_type": "code",
   "execution_count": 23,
   "id": "514aa4f2-9460-415b-ade7-7aa8875abe62",
   "metadata": {},
   "outputs": [
    {
     "data": {
      "text/plain": [
       "['\"launch your career in tech!\"', '\"codeup is a great school\"']"
      ]
     },
     "execution_count": 23,
     "metadata": {},
     "output_type": "execute_result"
    }
   ],
   "source": [
    "#4. find the sentences contained in quotes\n",
    "regexp = r'\".+?\"'\n",
    "re.findall(regexp, subject)"
   ]
  },
  {
   "cell_type": "code",
   "execution_count": 24,
   "id": "f860be46-e55e-496a-8392-5524c5c79ee0",
   "metadata": {},
   "outputs": [
    {
     "data": {
      "text/plain": [
       "['launch your career in tech!', 'codeup is a great school']"
      ]
     },
     "execution_count": 24,
     "metadata": {},
     "output_type": "execute_result"
    }
   ],
   "source": [
    "#4. find the sentences contained in quotes (but not the quotes)\n",
    "regexp = r'\"(.+?)\"'\n",
    "re.findall(regexp, subject)"
   ]
  },
  {
   "cell_type": "code",
   "execution_count": 26,
   "id": "91b92f85-ce49-44f2-b2fc-77d58306fa75",
   "metadata": {},
   "outputs": [
    {
     "data": {
      "text/plain": [
       "['http://', 'https://']"
      ]
     },
     "execution_count": 26,
     "metadata": {},
     "output_type": "execute_result"
    }
   ],
   "source": [
    "#5. find http:// or https://\n",
    "regexp = r'http.*?//'\n",
    "re.findall(regexp, subject)"
   ]
  },
  {
   "cell_type": "code",
   "execution_count": 40,
   "id": "82b9d308-872d-46a4-aa5e-9fcb2e59496f",
   "metadata": {},
   "outputs": [
    {
     "data": {
      "text/plain": [
       "['http://', 'https://']"
      ]
     },
     "execution_count": 40,
     "metadata": {},
     "output_type": "execute_result"
    }
   ],
   "source": [
    "#5 using a | (bitwise or)\n",
    "regexp = r'http://|https://'\n",
    "re.findall(regexp, subject)"
   ]
  },
  {
   "cell_type": "code",
   "execution_count": 42,
   "id": "2e02ad81-eaf7-4efd-963d-e661be59f7b6",
   "metadata": {},
   "outputs": [
    {
     "data": {
      "text/plain": [
       "['http://', 'https://']"
      ]
     },
     "execution_count": 42,
     "metadata": {},
     "output_type": "execute_result"
    }
   ],
   "source": [
    "# best answer - make the s optional with a ?\n",
    "regexp = r'https?://'\n",
    "re.findall(regexp, subject)\n",
    "# OR\n",
    "regexp = r'https*://'\n",
    "re.findall(regexp, subject)"
   ]
  },
  {
   "cell_type": "code",
   "execution_count": 27,
   "id": "600657e3-0028-41d2-8065-a176ad8a5b5d",
   "metadata": {},
   "outputs": [],
   "source": [
    "text = \" this 'is a string with single quotes' how you like me now? \""
   ]
  },
  {
   "cell_type": "code",
   "execution_count": 34,
   "id": "eefe9e4f-4b55-4783-928e-169d219ec0d5",
   "metadata": {},
   "outputs": [
    {
     "data": {
      "text/plain": [
       "['is a string with single quotes']"
      ]
     },
     "execution_count": 34,
     "metadata": {},
     "output_type": "execute_result"
    }
   ],
   "source": [
    "regexp = r\"'(.+?)'\"\n",
    "re.findall(regexp, text)"
   ]
  },
  {
   "cell_type": "code",
   "execution_count": 36,
   "id": "b9799470-0d0a-45b8-b3af-4f92a5fff5ca",
   "metadata": {},
   "outputs": [
    {
     "data": {
      "text/plain": [
       "['is a string with single quotes']"
      ]
     },
     "execution_count": 36,
     "metadata": {},
     "output_type": "execute_result"
    }
   ],
   "source": [
    "regexp = r'\\'(.+?)\\''\n",
    "re.findall(regexp, text)"
   ]
  },
  {
   "cell_type": "code",
   "execution_count": 43,
   "id": "dea3e3dc-2656-40bb-a7a1-9256bb3b6cee",
   "metadata": {},
   "outputs": [
    {
     "data": {
      "text/plain": [
       "'Codeup, founded in 2014, is located at 600 Navarro St. Suite 350, San Antonio, TX 78230. tagline: \"launch your career in tech!\" You can find us online at http://codeup.com and our alumni portal is located at https://alumni.codeup.comand \"codeup is a great school\"!'"
      ]
     },
     "execution_count": 43,
     "metadata": {},
     "output_type": "execute_result"
    }
   ],
   "source": [
    "subject"
   ]
  },
  {
   "cell_type": "code",
   "execution_count": null,
   "id": "dede8430-35c1-415f-a138-da11efaf69ff",
   "metadata": {},
   "outputs": [],
   "source": []
  },
  {
   "cell_type": "markdown",
   "id": "ba0923d1-4b8a-41ed-9ffa-43954912b45d",
   "metadata": {},
   "source": [
    "# Mini Exercise 3"
   ]
  },
  {
   "cell_type": "code",
   "execution_count": 61,
   "id": "ff3040a3-665b-4cbc-9143-00165a0f9620",
   "metadata": {},
   "outputs": [
    {
     "data": {
      "text/plain": [
       "'Codeup, founded in 2014, is located at 600 Navarro St. Suite 350, San Antonio, TX 78230. tagline: \"launch your career in tech!\" You can find us online at http://codeup.com and our alumni portal is located at https://alumni.codeup.comand \"codeup is a great school\"!'"
      ]
     },
     "execution_count": 61,
     "metadata": {},
     "output_type": "execute_result"
    }
   ],
   "source": [
    "subject"
   ]
  },
  {
   "cell_type": "code",
   "execution_count": 45,
   "id": "afb01315-46a9-4d2d-8b74-d299d3117f7a",
   "metadata": {},
   "outputs": [
    {
     "data": {
      "text/plain": [
       "['2', '0', '4', '6', '0', '0', '0', '8', '2', '0']"
      ]
     },
     "execution_count": 45,
     "metadata": {},
     "output_type": "execute_result"
    }
   ],
   "source": [
    "# 1. Find any even digits regradles if it is a part of a bigger number)\n",
    "regexp = r'[02468]'\n",
    "re.findall(regexp, subject)"
   ]
  },
  {
   "cell_type": "code",
   "execution_count": 46,
   "id": "caac1389-9698-4784-aef0-11fc066081f3",
   "metadata": {},
   "outputs": [
    {
     "data": {
      "text/plain": [
       "['2014', '600', '350', '78230']"
      ]
     },
     "execution_count": 46,
     "metadata": {},
     "output_type": "execute_result"
    }
   ],
   "source": [
    "#2. Find entire numbers that are even\n",
    "regexp = r'\\d*[02468]\\b'\n",
    "re.findall(regexp, subject)"
   ]
  },
  {
   "cell_type": "code",
   "execution_count": 63,
   "id": "0a55d497-e1ac-4255-910b-26edabecb8a0",
   "metadata": {},
   "outputs": [
    {
     "data": {
      "text/plain": [
       "['35']"
      ]
     },
     "execution_count": 63,
     "metadata": {},
     "output_type": "execute_result"
    }
   ],
   "source": [
    "# 3. find 2 or more odd digits in a row\n",
    "regexp = r'[13579]{2,}'\n",
    "re.findall(regexp, subject)"
   ]
  },
  {
   "cell_type": "code",
   "execution_count": 48,
   "id": "43e7f18f-e095-4803-b1e3-98691afca92b",
   "metadata": {},
   "outputs": [
    {
     "data": {
      "text/plain": [
       "['C', 'N', 'S', 'S', 'S', 'A', 'T', 'X', 'Y']"
      ]
     },
     "execution_count": 48,
     "metadata": {},
     "output_type": "execute_result"
    }
   ],
   "source": [
    "#4. Find all capital letters\n",
    "regexp = r'[A-Z]'\n",
    "re.findall(regexp, subject)"
   ]
  },
  {
   "cell_type": "code",
   "execution_count": 64,
   "id": "3310806e-5749-437e-975d-406ba3f6aaf9",
   "metadata": {
    "collapsed": true,
    "jupyter": {
     "outputs_hidden": true
    },
    "scrolled": true,
    "tags": []
   },
   "outputs": [
    {
     "data": {
      "text/plain": [
       "['C',\n",
       " 'o',\n",
       " 'd',\n",
       " 'e',\n",
       " 'u',\n",
       " 'p',\n",
       " 'f',\n",
       " 'o',\n",
       " 'u',\n",
       " 'n',\n",
       " 'd',\n",
       " 'e',\n",
       " 'd',\n",
       " 'i',\n",
       " 'n',\n",
       " '2',\n",
       " '1',\n",
       " '4',\n",
       " 'i',\n",
       " 's',\n",
       " 'l',\n",
       " 'o',\n",
       " 'c',\n",
       " 'a',\n",
       " 't',\n",
       " 'e',\n",
       " 'd',\n",
       " 'a',\n",
       " 't',\n",
       " '6',\n",
       " 'N',\n",
       " 'a',\n",
       " 'v',\n",
       " 'a',\n",
       " 'r',\n",
       " 'r',\n",
       " 'o',\n",
       " 'S',\n",
       " 't',\n",
       " 'S',\n",
       " 'u',\n",
       " 'i',\n",
       " 't',\n",
       " 'e',\n",
       " '3',\n",
       " '5',\n",
       " 'S',\n",
       " 'a',\n",
       " 'n',\n",
       " 'A',\n",
       " 'n',\n",
       " 't',\n",
       " 'o',\n",
       " 'n',\n",
       " 'i',\n",
       " 'o',\n",
       " 'T',\n",
       " 'X',\n",
       " '7',\n",
       " '8',\n",
       " '2',\n",
       " '3',\n",
       " 't',\n",
       " 'a',\n",
       " 'g',\n",
       " 'l',\n",
       " 'i',\n",
       " 'n',\n",
       " 'e',\n",
       " 'l',\n",
       " 'a',\n",
       " 'u',\n",
       " 'n',\n",
       " 'c',\n",
       " 'h',\n",
       " 'y',\n",
       " 'o',\n",
       " 'u',\n",
       " 'r',\n",
       " 'c',\n",
       " 'a',\n",
       " 'r',\n",
       " 'e',\n",
       " 'e',\n",
       " 'r',\n",
       " 'i',\n",
       " 'n',\n",
       " 't',\n",
       " 'e',\n",
       " 'c',\n",
       " 'h',\n",
       " 'Y',\n",
       " 'o',\n",
       " 'u',\n",
       " 'c',\n",
       " 'a',\n",
       " 'n',\n",
       " 'f',\n",
       " 'i',\n",
       " 'n',\n",
       " 'd',\n",
       " 'u',\n",
       " 's',\n",
       " 'o',\n",
       " 'n',\n",
       " 'l',\n",
       " 'i',\n",
       " 'n',\n",
       " 'e',\n",
       " 'a',\n",
       " 't',\n",
       " 'h',\n",
       " 't',\n",
       " 't',\n",
       " 'p',\n",
       " 'c',\n",
       " 'o',\n",
       " 'd',\n",
       " 'e',\n",
       " 'u',\n",
       " 'p',\n",
       " 'c',\n",
       " 'o',\n",
       " 'm',\n",
       " 'a',\n",
       " 'n',\n",
       " 'd',\n",
       " 'o',\n",
       " 'u',\n",
       " 'r',\n",
       " 'a',\n",
       " 'l',\n",
       " 'u',\n",
       " 'm',\n",
       " 'n',\n",
       " 'i',\n",
       " 'p',\n",
       " 'o',\n",
       " 'r',\n",
       " 't',\n",
       " 'a',\n",
       " 'l',\n",
       " 'i',\n",
       " 's',\n",
       " 'l',\n",
       " 'o',\n",
       " 'c',\n",
       " 'a',\n",
       " 't',\n",
       " 'e',\n",
       " 'd',\n",
       " 'a',\n",
       " 't',\n",
       " 'h',\n",
       " 't',\n",
       " 't',\n",
       " 'p',\n",
       " 's',\n",
       " 'a',\n",
       " 'l',\n",
       " 'u',\n",
       " 'm',\n",
       " 'n',\n",
       " 'i',\n",
       " 'c',\n",
       " 'o',\n",
       " 'd',\n",
       " 'e',\n",
       " 'u',\n",
       " 'p',\n",
       " 'c',\n",
       " 'o',\n",
       " 'm',\n",
       " 'a',\n",
       " 'n',\n",
       " 'd',\n",
       " 'c',\n",
       " 'o',\n",
       " 'd',\n",
       " 'e',\n",
       " 'u',\n",
       " 'p',\n",
       " 'i',\n",
       " 's',\n",
       " 'a',\n",
       " 'g',\n",
       " 'r',\n",
       " 'e',\n",
       " 'a',\n",
       " 't',\n",
       " 's',\n",
       " 'c',\n",
       " 'h',\n",
       " 'o',\n",
       " 'o',\n",
       " 'l']"
      ]
     },
     "execution_count": 64,
     "metadata": {},
     "output_type": "execute_result"
    }
   ],
   "source": [
    "# can do more than one range inside []\n",
    "regexp = r'[A-z1-9]'\n",
    "re.findall(regexp, subject)"
   ]
  },
  {
   "cell_type": "code",
   "execution_count": 50,
   "id": "6f8bd263-faec-48ee-a0fc-e17cf314debe",
   "metadata": {},
   "outputs": [
    {
     "data": {
      "text/plain": [
       "['Codeup', 'Navarro', 'St', 'Suite', 'San', 'Antonio', 'TX', 'You']"
      ]
     },
     "execution_count": 50,
     "metadata": {},
     "output_type": "execute_result"
    }
   ],
   "source": [
    "#5. Find all words that start with a capital letter\n",
    "regexp = r'[A-Z]\\w*'\n",
    "re.findall(regexp, subject)"
   ]
  },
  {
   "cell_type": "markdown",
   "id": "fc40984e-4df1-42f3-8d59-685da8abf62b",
   "metadata": {},
   "source": [
    "# Character order\n",
    "Character order\n",
    "\n",
    "ASCII-code order is also called ASCIIbetical order.[31] Collation of data is sometimes done in this order rather than \"standard\" alphabetical order (collating sequence). The main deviations in ASCII order are:\n",
    "\n",
    "    All uppercase come before lowercase letters; for example, \"Z\" precedes \"a\"\n",
    "    Digits and many punctuation marks come before letters\n",
    "    \n",
    "Source wikipedia"
   ]
  },
  {
   "cell_type": "code",
   "execution_count": 58,
   "id": "ff2dbaf2-152c-4f6d-ace0-2c6bab2ac1df",
   "metadata": {},
   "outputs": [],
   "source": [
    "text2 = 'This is a string with word-letter combinations W12, x34, a12b'"
   ]
  },
  {
   "cell_type": "code",
   "execution_count": 60,
   "id": "c5fc9ea6-d6ad-403a-bf78-ed564bbfa61c",
   "metadata": {},
   "outputs": [
    {
     "data": {
      "text/plain": [
       "['This',\n",
       " 'is',\n",
       " 'a',\n",
       " 'string',\n",
       " 'with',\n",
       " 'word-letter',\n",
       " 'combinations',\n",
       " 'W12',\n",
       " 'x34',\n",
       " 'a12b']"
      ]
     },
     "execution_count": 60,
     "metadata": {},
     "output_type": "execute_result"
    }
   ],
   "source": [
    "regexp = r'[0-z|-]+'\n",
    "re.findall(regexp, text2)"
   ]
  },
  {
   "cell_type": "code",
   "execution_count": null,
   "id": "05d939c9-8196-4cc5-b7da-aab1f922835c",
   "metadata": {},
   "outputs": [],
   "source": []
  }
 ],
 "metadata": {
  "kernelspec": {
   "display_name": "Python 3 (ipykernel)",
   "language": "python",
   "name": "python3"
  },
  "language_info": {
   "codemirror_mode": {
    "name": "ipython",
    "version": 3
   },
   "file_extension": ".py",
   "mimetype": "text/x-python",
   "name": "python",
   "nbconvert_exporter": "python",
   "pygments_lexer": "ipython3",
   "version": "3.9.13"
  }
 },
 "nbformat": 4,
 "nbformat_minor": 5
}
